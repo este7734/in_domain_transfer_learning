{
  "nbformat": 4,
  "nbformat_minor": 0,
  "metadata": {
    "colab": {
      "name": "Classifier.ipynb",
      "provenance": [],
      "collapsed_sections": [
        "nnXfr5UgtaB5"
      ],
      "toc_visible": true,
      "machine_shape": "hm",
      "mount_file_id": "17OO5X1r-Xv8KJ5LY8qISLYFFktvg7JPE",
      "authorship_tag": "ABX9TyNlqGJt73KU7jbJRCMeETm7",
      "include_colab_link": true
    },
    "kernelspec": {
      "name": "python3",
      "display_name": "Python 3"
    },
    "accelerator": "GPU"
  },
  "cells": [
    {
      "cell_type": "markdown",
      "metadata": {
        "id": "view-in-github",
        "colab_type": "text"
      },
      "source": [
        "<a href=\"https://colab.research.google.com/github/este7734/in_domain_transfer_learning/blob/master/Classifier.ipynb\" target=\"_parent\"><img src=\"https://colab.research.google.com/assets/colab-badge.svg\" alt=\"Open In Colab\"/></a>"
      ]
    },
    {
      "cell_type": "markdown",
      "metadata": {
        "id": "xmL08Z4HDoss",
        "colab_type": "text"
      },
      "source": [
        "### Import Dependencies"
      ]
    },
    {
      "cell_type": "code",
      "metadata": {
        "colab_type": "code",
        "id": "WZnAHGETHu7e",
        "colab": {}
      },
      "source": [
        "import tensorflow as tf\n",
        "from tensorflow.keras import layers\n",
        "import tensorflow_hub as hub\n",
        "import matplotlib.pylab as plt\n",
        "\n",
        "# For generating image file tensors to run test data through model \n",
        "from keras.preprocessing.image import ImageDataGenerator\n",
        "import numpy as np\n",
        "\n",
        "# To parse file names for tensor generations\n",
        "# and help count files in each directory\n",
        "import glob\n",
        "\n",
        "# For manipulating file paths\n",
        "import os\n",
        "\n",
        "# To the trianed models to the local machine\n",
        "import shutil\n",
        "\n",
        "# To add colored text to your print outs\n",
        "from termcolor import colored\n",
        "\n",
        "# To get python version number that you're running\n",
        "from platform import python_version\n",
        "\n",
        "# To save the final model with a time stamp\n",
        "import time\n",
        "\n",
        "# To calculated confusion matrix and MCC for predictions\n",
        "from sklearn.metrics import confusion_matrix, matthews_corrcoef\n",
        "import math"
      ],
      "execution_count": null,
      "outputs": []
    },
    {
      "cell_type": "code",
      "metadata": {
        "colab_type": "code",
        "id": "AGKNVItmpc2z",
        "colab": {}
      },
      "source": [
        "import logging\n",
        "logger = tf.get_logger()\n",
        "logger.setLevel(logging.ERROR)"
      ],
      "execution_count": null,
      "outputs": []
    },
    {
      "cell_type": "code",
      "metadata": {
        "id": "O3PC4rqxjnBU",
        "colab_type": "code",
        "colab": {}
      },
      "source": [
        "# Mount Google Drive to pull trained models\n",
        "from google.colab import drive\n",
        "drive.mount('/content/drive')"
      ],
      "execution_count": null,
      "outputs": []
    },
    {
      "cell_type": "markdown",
      "metadata": {
        "id": "dMZUqBVPyckY",
        "colab_type": "text"
      },
      "source": [
        "## Copy data sets from Google Drive to the local instance\n",
        "Need to Import PyDrive to authorize Colab to your Google Drive Folder\n",
        "\n",
        "---\n",
        "\n",
        "\n",
        "*PyDrive is a wrapper library of google-api-python-client that simplifies many common Google Drive API tasks. For this exercise, this allows you to authorize (allows Google Cloud SDK to edit/modify files in your Google Drive) COLAB to access your Google Drive and makes some common tasks such as content fetching very easy.*"
      ]
    },
    {
      "cell_type": "markdown",
      "metadata": {
        "colab_type": "text",
        "id": "1xH-W7HhBI7E"
      },
      "source": [
        "Note: This The solution utilizes Google Drive API (official doc) for proper authorization.\n",
        "\n",
        "\n",
        "---\n",
        "\n",
        "\n",
        "**Steps:**\n",
        "1.   Save your `test data zip` file to Google Drive - you should have that since you're already using Colab\n",
        "2.   Right click on it, \"Get shareable link\", copy the part between `/d/` and `/view?...` - the file id assigned by Google Drive.\n",
        "    *   In this example: `https://drive.google.com/file/d/1U3owkzT6AvLewTaOWfgwV__BXHDxehDS/view?usp=sharing` \n",
        "    *   your file ID is: `1U3owkzT6AvLewTaOWfgwV__BXHDxehDS`\n",
        "\n",
        "3.   Navigate to the training data link: and download the training data to the local instance\n",
        "4.   Add and run the following code snippets to your Colab notebook:\n",
        "\n",
        "---\n",
        "\n",
        "\n",
        "\n",
        "\n",
        "\n"
      ]
    },
    {
      "cell_type": "code",
      "metadata": {
        "colab_type": "code",
        "id": "m5d5udV0BI7E",
        "colab": {}
      },
      "source": [
        "# Import package to use Google Drive API - not installed in Colab VM by default\n",
        "from pydrive.auth import GoogleAuth\n",
        "from pydrive.auth import GoogleAuth\n",
        "from pydrive.drive import GoogleDrive\n",
        "# Other necessary packages\n",
        "from google.colab import auth\n",
        "from oauth2client.client import GoogleCredentials\n",
        "from tensorflow.keras.callbacks import ModelCheckpoint"
      ],
      "execution_count": null,
      "outputs": []
    },
    {
      "cell_type": "code",
      "metadata": {
        "colab_type": "code",
        "id": "zEMf1KB0BI7G",
        "colab": {}
      },
      "source": [
        "# Follow prompt in the authorization process\n",
        "\n",
        "auth.authenticate_user()\n",
        "gauth = GoogleAuth()\n",
        "gauth.credentials = GoogleCredentials.get_application_default()\n",
        "drive = GoogleDrive(gauth)"
      ],
      "execution_count": null,
      "outputs": []
    },
    {
      "cell_type": "markdown",
      "metadata": {
        "colab_type": "text",
        "id": "niEZlwrO8Wzg"
      },
      "source": [
        "## Load Test Data"
      ]
    },
    {
      "cell_type": "code",
      "metadata": {
        "colab_type": "code",
        "id": "JEORMS8C8Wzh",
        "colab": {}
      },
      "source": [
        "# load test data set to your local intance by pulling it from your Google Drive\n",
        "# to get your file ID from the shareable link in Google Drive, see notes above\n",
        "\n",
        "#file_id_test =  '1lFhuYctXmB1kqBGVHPY2REyWFTQrmHuT'  \n",
        "#file_name_test = 'storage_tank_vs_helo_test.zip'  # Change this to your file   \n",
        "\n",
        "#file_id_test =  '1c99d_D3zNB9xNjMKY_7TlDevIu8d3z2F'  \n",
        "#file_name_test = 'Combine_tunnel_test.zip'  # Change this to your file \n",
        "\n",
        "#file_id_test =  '12adH2oV_oigI7LjVvJFgTh9u6_sieLdb'  \n",
        "#file_name_test = 'Combine_storage_tank_test.zip'  # Change this to your file \n",
        "\n",
        "file_id_test =  '1Jfio4ePyDpWAqG8yZNos42UoWDP68ba9'  \n",
        "file_name_test = 'Combine_oil_gas_fac_test.zip'  # Change this to your file      \n",
        "\n",
        "#file_id_test =  '1dQ5GREFcqjvNMmn6y1GFfOUiLMe03kyV'  \n",
        "#file_name_test = 'Combined_helo_test.zip'  # Change this to your file                               \n",
        "                                                    \n",
        "your_file = drive.CreateFile({\"id\": file_id_test})\n",
        "your_file.GetContentFile(file_name_test)          # Save the file to Colab VM"
      ],
      "execution_count": null,
      "outputs": []
    },
    {
      "cell_type": "code",
      "metadata": {
        "id": "OyFb_vAH9Zfj",
        "colab_type": "code",
        "colab": {}
      },
      "source": [
        "# Unzip Test files\n",
        "\n",
        "!unzip {file_name_test}\n",
        "print(f'---- {file_name_test} unzipped ----')\n",
        "#Verify that all the necessary python files and training data files are in your local instance\n",
        "%ls"
      ],
      "execution_count": null,
      "outputs": []
    },
    {
      "cell_type": "code",
      "metadata": {
        "colab_type": "code",
        "id": "Uh_VbhED8Wzn",
        "colab": {}
      },
      "source": [
        "# Instantiate test file path for runing predictions\n",
        "base = '/content'\n",
        "test_path = os.path.join(base, file_name_test.split('.')[0])\n",
        "\n",
        "# Generate list of images files and count them\n",
        "# Image totals are used in setting steps per epoch\n",
        "test_files = glob.glob(test_path + '/*/*.jpg')\n",
        "test_image_count = len(test_files)\n",
        "print(f'Total test images: {test_image_count}')"
      ],
      "execution_count": null,
      "outputs": []
    },
    {
      "cell_type": "markdown",
      "metadata": {
        "id": "1ezKefD9AcVu",
        "colab_type": "text"
      },
      "source": [
        "## Generate Test Set Tensors"
      ]
    },
    {
      "cell_type": "code",
      "metadata": {
        "id": "wNRQmbgcrMPQ",
        "colab_type": "code",
        "colab": {}
      },
      "source": [
        "test_datagen = ImageDataGenerator( \n",
        "        rescale=1./255)"
      ],
      "execution_count": null,
      "outputs": []
    },
    {
      "cell_type": "code",
      "metadata": {
        "id": "xSf6p2yQq3RE",
        "colab_type": "code",
        "colab": {}
      },
      "source": [
        "# Generate Test Set tensor to run predictions\n",
        "IMG_RES = 224\n",
        "\n",
        "print('Test Set:')\n",
        "test_set = test_datagen.flow_from_directory(\n",
        "         test_path,\n",
        "         shuffle=False,\n",
        "         target_size=(IMG_RES,IMG_RES),\n",
        "         class_mode='binary')  "
      ],
      "execution_count": null,
      "outputs": []
    },
    {
      "cell_type": "markdown",
      "metadata": {
        "colab_type": "text",
        "id": "dbvtZduCPGcC"
      },
      "source": [
        "## Reload Previously Trained Model\n",
        "\n",
        "---\n",
        "\n"
      ]
    },
    {
      "cell_type": "code",
      "metadata": {
        "colab_type": "code",
        "cellView": "both",
        "id": "2AYaMTBOPGcI",
        "colab": {}
      },
      "source": [
        "#Enable Google SDK access to your Google Drive to pull in trained models\n",
        "# Follow prompt in the authorization process\n",
        "\n",
        "auth.authenticate_user()\n",
        "gauth = GoogleAuth()\n",
        "gauth.credentials = GoogleCredentials.get_application_default()\n",
        "drive = GoogleDrive(gauth)"
      ],
      "execution_count": null,
      "outputs": []
    },
    {
      "cell_type": "code",
      "metadata": {
        "colab_type": "code",
        "cellView": "both",
        "id": "Mfb3PUICPGcN",
        "colab": {}
      },
      "source": [
        "# Reload previously trained model\n",
        "# Enter the path and filename for the trained model here\n",
        "\n",
        "\n",
        "#export_path_keras = /content/drive/My Drive/Colab Notebooks/Thesis Resources/Training_Sessions/trained_models/1594484954_Combine_tunnelnew_tunnel_4_h5_model.h5 \n",
        "#export_path_keras = /content/drive/My Drive/Colab Notebooks/Thesis Resources/Training_Sessions/trained_models/1594485272_Combine_tunnel_new_tunnel_30_h5_model.h5 \n",
        "#export_path_keras = /content/drive/My Drive/Colab Notebooks/Thesis Resources/Training_Sessions/trained_models/1594485317_Combine_tunnel_new_tunnel_35__h5_model.h5\n",
        "#export_path_keras = /content/drive/My Drive/Colab Notebooks/Thesis Resources/Training_Sessions/trained_models/1594485612_Combine_tunnel_new_tunnel_40__h5_model.h5 \n",
        "\n",
        "#export_path_keras = '/content/drive/My Drive/Colab Notebooks/Thesis Resources/Training_Sessions/trained_models/1594419823_Combine_oil_gas_fac4_epochs_h5_model.h5'\n",
        "#export_path_keras = '/content/drive/My Drive/Colab Notebooks/Thesis Resources/Training_Sessions/trained_models/1594413959_Combine_oil_gas_fac_30_epochs_h5_model.h5'\n",
        "#export_path_keras = '/content/drive/My Drive/Colab Notebooks/Thesis Resources/Training_Sessions/trained_models/1594421785_Combine_oil_gas_fac_35_epoch_h5_model.h5'\n",
        "#export_path_keras = '/content/drive/My Drive/Colab Notebooks/Thesis Resources/Training_Sessions/trained_models/1594421120_Combine_oil_gas_fac40_epoch_h5_model.h5'\n",
        "\n",
        "#export_path_keras = '/content/drive/My Drive/Colab Notebooks/Thesis Resources/Training_Sessions/trained_models/1594425002_Combined_helo_4_Epoch_h5_model.h5'\n",
        "#export_path_keras = '/content/drive/My Drive/Colab Notebooks/Thesis Resources/Training_Sessions/trained_models/1594425319_Combined_helo_30_Epoch_h5_model.h5'\n",
        "#export_path_keras = '/content/drive/My Drive/Colab Notebooks/Thesis Resources/Training_Sessions/trained_models/1594424719_Combined_helo_35_epoch_h5_model.h5'\n",
        "#export_path_keras = '/content/drive/My Drive/Colab Notebooks/Thesis Resources/Training_Sessions/trained_models/1594424503_Combine_tunnel_40_epoch_h5_model.h5'\n",
        "\n",
        "# Copy trained model to local instance\n",
        "export_path_keras = shutil.copyfile(export_path_keras, os.path.join('/content/' + export_path_keras.split('/')[-1]))\n",
        "print(export_path_keras)"
      ],
      "execution_count": null,
      "outputs": []
    },
    {
      "cell_type": "code",
      "metadata": {
        "colab_type": "code",
        "id": "RQd4Y9_kPGcR",
        "colab": {
          "base_uri": "https://localhost:8080/",
          "height": 212
        },
        "outputId": "d43a7c2c-4700-4c0e-bee6-d9a79fa6e252"
      },
      "source": [
        "reloaded = tf.keras.models.load_model(\n",
        "  export_path_keras, \n",
        "  # `custom_objects` tells keras how to load a `hub.KerasLayer`\n",
        "  custom_objects={'KerasLayer': hub.KerasLayer})\n",
        "\n",
        "reloaded.summary()"
      ],
      "execution_count": null,
      "outputs": [
        {
          "output_type": "stream",
          "text": [
            "Model: \"sequential\"\n",
            "_________________________________________________________________\n",
            "Layer (type)                 Output Shape              Param #   \n",
            "=================================================================\n",
            "keras_layer (KerasLayer)     (None, 2048)              23588821  \n",
            "_________________________________________________________________\n",
            "dense (Dense)                (None, 2)                 4098      \n",
            "=================================================================\n",
            "Total params: 23,592,919\n",
            "Trainable params: 4,098\n",
            "Non-trainable params: 23,588,821\n",
            "_________________________________________________________________\n"
          ],
          "name": "stdout"
        }
      ]
    },
    {
      "cell_type": "markdown",
      "metadata": {
        "id": "ve5UuDy2Mtja",
        "colab_type": "text"
      },
      "source": [
        "## Run Predictions on Test Set\n",
        "\n",
        "---\n",
        "\n"
      ]
    },
    {
      "cell_type": "code",
      "metadata": {
        "id": "wemhRvUBpo_N",
        "colab_type": "code",
        "colab": {}
      },
      "source": [
        "# Run predictions on entire test set\n",
        "result = reloaded.predict(test_set)\n",
        "result = np.argmax(result, axis=-1)\n",
        "result = result.tolist()"
      ],
      "execution_count": null,
      "outputs": []
    },
    {
      "cell_type": "code",
      "metadata": {
        "id": "fHZ5QOIE2WOe",
        "colab_type": "code",
        "colab": {}
      },
      "source": [
        "# Generate test data labels to compare to predictions\n",
        "labels = []\n",
        "\n",
        "for path in test_files:\n",
        "  label = path.split('/')[-2]\n",
        "  if label == test_files[0].split('/')[-2]:\n",
        "    label_class = 0\n",
        "  else:\n",
        "    label_class = 1\n",
        "  labels.append(label_class)\n",
        "\n",
        "print(f'Labels: {labels}')\n",
        "print(f'Predictions: {result}')\n",
        "\n",
        "# Extract classes from test_set tensor for labelling predictions below\n",
        "# using .class_indices\n",
        "classes_dict = test_set.class_indices\n",
        "print(f'\\nclasses_dict = {classes_dict}')\n",
        "classes_list = list(classes_dict)\n",
        "print(f'\\nclasses_list: {classes_list}')"
      ],
      "execution_count": null,
      "outputs": []
    },
    {
      "cell_type": "markdown",
      "metadata": {
        "id": "QEHLR2GPbuP4",
        "colab_type": "text"
      },
      "source": [
        "## MCC Calculation\n",
        "\n",
        "---\n",
        "\n",
        "\n",
        "\n",
        "\n",
        "\n",
        "\n",
        "[Check this article for MCC description](https://towardsdatascience.com/the-best-classification-metric-youve-never-heard-of-the-matthews-correlation-coefficient-3bf50a2f3e9a)"
      ]
    },
    {
      "cell_type": "code",
      "metadata": {
        "colab_type": "code",
        "id": "0gqsKolw83gf",
        "colab": {}
      },
      "source": [
        "# Extract values from Confusion Matrix and print Confusion Matrix\n",
        "TN, FP, FN, TP = confusion_matrix(labels, result).ravel()\n",
        "print(f'{classes_list[0]} | {classes_list[1]}')\n",
        "print('='*20)\n",
        "print(f'TP: {TP} | FP: {FP}')\n",
        "print(f'FN: {FN}  | TN: {TN}')\n",
        "\n",
        "# Print MCC\n",
        "MCC = round(matthews_corrcoef(labels, result), 3)\n",
        "print('-'*20)\n",
        "print(f'\\nMCC: {MCC}\\n')\n",
        "\n",
        "# Calculate Classifier accruacy metric for the target class\n",
        "class_acc = round((TP + TN)/(TP + FP + FN + TN), 3)*100\n",
        "print('-'*25)\n",
        "print(f'Classifier Accuracy:  {class_acc}%')\n",
        "\n",
        "x = 0\n",
        "for lab in labels:\n",
        "  if lab == 0:\n",
        "    x += 1\n",
        "y = len(labels) - x\n",
        "\n",
        "print('-'*25)\n",
        "print(f'{classes_list[0]} images: {x}')\n",
        "print(f'{classes_list[1]} images: {y}')"
      ],
      "execution_count": null,
      "outputs": []
    },
    {
      "cell_type": "markdown",
      "metadata": {
        "id": "8wSkyztGl791",
        "colab_type": "text"
      },
      "source": [
        "![alt text](https://miro.medium.com/max/1400/1*8E2rPn_ccOqGuPYj1gBTAg.png\n",
        ")"
      ]
    }
  ]
}