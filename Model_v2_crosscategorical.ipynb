{
  "nbformat": 4,
  "nbformat_minor": 0,
  "metadata": {
    "colab": {
      "name": "Model_v2_crosscategorical.ipynb",
      "provenance": [],
      "collapsed_sections": [
        "aP7gEV84aHdv",
        "nnXfr5UgtaB5",
        "NUGIJm4pMkAv",
        "EyeHz3mTFla6",
        "Nt74CvsnV98p",
        "b2XTOinrWTEg"
      ],
      "machine_shape": "hm",
      "mount_file_id": "17OO5X1r-Xv8KJ5LY8qISLYFFktvg7JPE",
      "authorship_tag": "ABX9TyNwOVDZZv2RH6Hzj1H0IMs+",
      "include_colab_link": true
    },
    "kernelspec": {
      "name": "python3",
      "display_name": "Python 3"
    },
    "accelerator": "GPU"
  },
  "cells": [
    {
      "cell_type": "markdown",
      "metadata": {
        "id": "view-in-github",
        "colab_type": "text"
      },
      "source": [
        "<a href=\"https://colab.research.google.com/github/este7734/in_domain_transfer_learning/blob/master/Model_v2_crosscategorical.ipynb\" target=\"_parent\"><img src=\"https://colab.research.google.com/assets/colab-badge.svg\" alt=\"Open In Colab\"/></a>"
      ]
    },
    {
      "cell_type": "markdown",
      "metadata": {
        "id": "xmL08Z4HDoss",
        "colab_type": "text"
      },
      "source": [
        "### Import Dependencies"
      ]
    },
    {
      "cell_type": "code",
      "metadata": {
        "colab_type": "code",
        "id": "WZnAHGETHu7e",
        "colab": {}
      },
      "source": [
        "import tensorflow as tf\n",
        "import matplotlib.pylab as plt\n",
        "\n",
        "import tensorflow_hub as hub\n",
        "#import tensorflow_datasets as tfds\n",
        "\n",
        "from tensorflow.keras import layers\n",
        "import numpy as np\n",
        "\n",
        "# To parse file names for tensor generations\n",
        "# and help count files in each directory\n",
        "import glob\n",
        "# To move files into new folder structure\n",
        "import shutil\n",
        "# For manipulating file paths\n",
        "import os\n",
        "\n",
        "# To add colored text to your print outs\n",
        "from termcolor import colored\n",
        "\n",
        "# To get python version number that you're running\n",
        "from platform import python_version\n",
        "\n",
        "# To save the final model with a time stamp\n",
        "import time"
      ],
      "execution_count": 1,
      "outputs": []
    },
    {
      "cell_type": "code",
      "metadata": {
        "colab_type": "code",
        "id": "AGKNVItmpc2z",
        "colab": {}
      },
      "source": [
        "import logging\n",
        "logger = tf.get_logger()\n",
        "logger.setLevel(logging.ERROR)"
      ],
      "execution_count": 2,
      "outputs": []
    },
    {
      "cell_type": "code",
      "metadata": {
        "id": "Vj9n8tWd-qII",
        "colab_type": "code",
        "cellView": "form",
        "colab": {}
      },
      "source": [
        "#@title Only Required For Large Image Files\n",
        "from PIL import Image\n",
        "# Increase the max pixel limit to avoid getting a DecompressionBombWarning from\n",
        "# PIL and prevent the warning from interupting the training epochs\n",
        "Image.MAX_IMAGE_PIXELS = 1024 * 1024 * 1024 //5"
      ],
      "execution_count": null,
      "outputs": []
    },
    {
      "cell_type": "code",
      "metadata": {
        "id": "O3PC4rqxjnBU",
        "colab_type": "code",
        "colab": {
          "base_uri": "https://localhost:8080/",
          "height": 118
        },
        "outputId": "33ba6c1e-776b-4aea-deae-39a668b8c1fa"
      },
      "source": [
        "from google.colab import drive\n",
        "drive.mount('/content/drive')"
      ],
      "execution_count": 3,
      "outputs": [
        {
          "output_type": "stream",
          "text": [
            "Go to this URL in a browser: https://accounts.google.com/o/oauth2/auth?client_id=947318989803-6bn6qk8qdgf4n4g3pfee6491hc0brc4i.apps.googleusercontent.com&redirect_uri=urn%3aietf%3awg%3aoauth%3a2.0%3aoob&response_type=code&scope=email%20https%3a%2f%2fwww.googleapis.com%2fauth%2fdocs.test%20https%3a%2f%2fwww.googleapis.com%2fauth%2fdrive%20https%3a%2f%2fwww.googleapis.com%2fauth%2fdrive.photos.readonly%20https%3a%2f%2fwww.googleapis.com%2fauth%2fpeopleapi.readonly\n",
            "\n",
            "Enter your authorization code:\n",
            "··········\n",
            "Mounted at /content/drive\n"
          ],
          "name": "stdout"
        }
      ]
    },
    {
      "cell_type": "markdown",
      "metadata": {
        "id": "aP7gEV84aHdv",
        "colab_type": "text"
      },
      "source": [
        "## Query System Specs\n",
        "\n",
        "---\n",
        "\n"
      ]
    },
    {
      "cell_type": "code",
      "metadata": {
        "id": "VOdoG7MFhUGX",
        "colab_type": "code",
        "cellView": "form",
        "colab": {}
      },
      "source": [
        "#@title Retrieve Hardware, OS, and Software Specs\n",
        "\n",
        "print(\"\\n--------Software---------\")\n",
        "print('Python', python_version())\n",
        "print(\"\\n--------Libraries---------\")\n",
        "print('TensorFlow' , tf.__version__)\n",
        "print('TensorFlow Hub' , hub.__version__)\n",
        "# print('Keras v' , layers.__version__)\n",
        "#print('Glob', glob.__version__)\n",
        "#print('Shutil', shutil.__version__)\n",
        "print('matplotlib.pylab', plt.__version__)\n",
        "print('Numpy', np.__version__)\n",
        "print('PIL', PIL.__version__)\n",
        "\n",
        "print(\"\\n--------Operating System------------------------\")\n",
        "!cat /etc/os-release\n",
        "print(\"\\n--------CPU Specs------------------------\")\n",
        "!lscpu\n",
        "\n",
        "print(\"\\n--------GPU Specs------------------------\")\n",
        "gpu_info = !nvidia-smi\n",
        "gpu_info = '\\n'.join(gpu_info)\n",
        "if gpu_info.find('failed') >= 0:\n",
        "  print('Select the Runtime → \"Change runtime type\" menu to enable a GPU accelerator, ')\n",
        "  print('and then re-execute this cell.')\n",
        "else:\n",
        "  print(gpu_info)\n",
        "\n",
        "from psutil import virtual_memory\n",
        "ram_gb = virtual_memory().total / 1e9\n",
        "print('\\nYour runtime has {:.1f} gigabytes of available RAM\\n'.format(ram_gb))\n"
      ],
      "execution_count": null,
      "outputs": []
    },
    {
      "cell_type": "markdown",
      "metadata": {
        "id": "dMZUqBVPyckY",
        "colab_type": "text"
      },
      "source": [
        "## Copy data sets from Google Drive to the local instance\n",
        "Need to Import PyDrive to authorize Colab to your Google Drive Folder\n",
        "\n",
        "---\n",
        "\n",
        "\n",
        "*PyDrive is a wrapper library of google-api-python-client that simplifies many common Google Drive API tasks. For this exercise, this allows you to authorize (allows Google Cloud SDK to edit/modify files in your Google Drive) COLAB to access your Google Drive and makes some common tasks such as content fetching very easy.*"
      ]
    },
    {
      "cell_type": "markdown",
      "metadata": {
        "colab_type": "text",
        "id": "1xH-W7HhBI7E"
      },
      "source": [
        "Note: This The solution utilizes Google Drive API (official doc) for proper authorization.\n",
        "\n",
        "\n",
        "---\n",
        "\n",
        "\n",
        "**Steps:**\n",
        "1.   Save your `test_set.zip` file to Google Drive - you should have that since you're already using Colab\n",
        "2.   Right click on it, \"Get shareable link\", copy the part between `/d/` and `/view?...` - the file id assigned by Google Drive.\n",
        "    *   In this example: `https://drive.google.com/file/d/1U3owkzT6AvLewTaOWfgwV__BXHDxehDS/view?usp=sharing` \n",
        "    *   your file ID is: `1U3owkzT6AvLewTaOWfgwV__BXHDxehDS`\n",
        "\n",
        "3.   Navigate to the training data link: and download the training data to the local instance\n",
        "4.   Add and run the following code snippets to your Colab notebook:\n",
        "\n",
        "---\n",
        "\n",
        "\n",
        "\n",
        "\n",
        "\n"
      ]
    },
    {
      "cell_type": "code",
      "metadata": {
        "colab_type": "code",
        "id": "m5d5udV0BI7E",
        "colab": {}
      },
      "source": [
        "# Import package to use Google Drive API - not installed in Colab VM by default\n",
        "from pydrive.auth import GoogleAuth\n",
        "from pydrive.auth import GoogleAuth\n",
        "from pydrive.drive import GoogleDrive\n",
        "# Other necessary packages\n",
        "from google.colab import auth\n",
        "from oauth2client.client import GoogleCredentials\n",
        "from tensorflow.keras.callbacks import ModelCheckpoint"
      ],
      "execution_count": 4,
      "outputs": []
    },
    {
      "cell_type": "markdown",
      "metadata": {
        "id": "cOh9CopK9amR",
        "colab_type": "text"
      },
      "source": [
        "## Load Training Data"
      ]
    },
    {
      "cell_type": "code",
      "metadata": {
        "colab_type": "code",
        "id": "zEMf1KB0BI7G",
        "colab": {}
      },
      "source": [
        "# Follow prompt in the authorization process\n",
        "\n",
        "auth.authenticate_user()\n",
        "gauth = GoogleAuth()\n",
        "gauth.credentials = GoogleCredentials.get_application_default()\n",
        "drive = GoogleDrive(gauth)"
      ],
      "execution_count": 5,
      "outputs": []
    },
    {
      "cell_type": "code",
      "metadata": {
        "colab_type": "code",
        "id": "HsfJtkYIBI7K",
        "colab": {}
      },
      "source": [
        "# load training data set to your local intance by pulling it from your Google Drive\n",
        "# to get your file ID from the shareable link in Google Drive, see notes above\n",
        "\n",
        "file_id =  '1QUX8zZmCOFTH5X2cZX6sHs1gJJi-OfsX'  \n",
        "file_name = 'storage_tank_vs_helo.zip'  # Change this to your file\n",
        "\n",
        "#file_id =  '1G064PUIaElOpoDQQ_H0ta24tyIVKndbE'  \n",
        "#file_name = 'Combine_tunnel.zip'  # Change this to your file  \n",
        "\n",
        "#file_id =  '1Pg-mK7AY3dATEgfpFcFNXHS9uPus6m9o'  \n",
        "#file_name = 'Combined_storage_tank.zip'  # Change this to your file  \n",
        "\n",
        "#file_id =  ''  \n",
        "#file_name = 'Combined_oil_or_gas_fac.zip'  # Change this to your file       \n",
        "\n",
        "#file_id =  '1o2QB2ylUzzI0k_BdUzr3k_emE3vCl_RI'  \n",
        "#file_name = 'Combined_helo.zip'  # Change this to your file                               \n",
        "                                                    \n",
        "your_file = drive.CreateFile({\"id\": file_id})\n",
        "your_file.GetContentFile(file_name)          # Save the file to Colab VM"
      ],
      "execution_count": null,
      "outputs": []
    },
    {
      "cell_type": "markdown",
      "metadata": {
        "colab_type": "text",
        "id": "niEZlwrO8Wzg"
      },
      "source": [
        "## Load Test Data"
      ]
    },
    {
      "cell_type": "code",
      "metadata": {
        "colab_type": "code",
        "id": "JEORMS8C8Wzh",
        "colab": {}
      },
      "source": [
        "# load test data set to your local intance by pulling it from your Google Drive\n",
        "# to get your file ID from the shareable link in Google Drive, see notes above\n",
        "\n",
        "file_id_test =  '1lFhuYctXmB1kqBGVHPY2REyWFTQrmHuT'  \n",
        "file_name_test = 'storage_tank_vs_helo_test.zip'  # Change this to your file   \n",
        "\n",
        "#file_id_test =  '1c99d_D3zNB9xNjMKY_7TlDevIu8d3z2F'  \n",
        "#file_name_test = 'Combine_tunnel_test.zip'  # Change this to your file \n",
        "\n",
        "#file_id_test =  '12adH2oV_oigI7LjVvJFgTh9u6_sieLdb'  \n",
        "#file_name_test = 'Combined_storage_tank_test.zip'  # Change this to your file      \n",
        "\n",
        "#file_id_test =  ''  \n",
        "#file_name_test = 'Combined_oil_or_gas_fac_test.zip'  # Change this to your file      \n",
        "\n",
        "#file_id =  '1dQ5GREFcqjvNMmn6y1GFfOUiLMe03kyV'  \n",
        "#file_name_test = 'Combined_helo_test.zip'  # Change this to your file                               \n",
        "                                                    \n",
        "your_file = drive.CreateFile({\"id\": file_id_test})\n",
        "your_file.GetContentFile(file_name_test)          # Save the file to Colab VM"
      ],
      "execution_count": 6,
      "outputs": []
    },
    {
      "cell_type": "code",
      "metadata": {
        "id": "OyFb_vAH9Zfj",
        "colab_type": "code",
        "colab": {
          "base_uri": "https://localhost:8080/",
          "height": 1000
        },
        "outputId": "7291aea6-06d3-4372-b6ce-f985718d1976"
      },
      "source": [
        "# Unzip Training, Validation, and Test files\n",
        "#!unzip {file_name} \n",
        "!unzip {file_name_test} \n",
        "#Verify that all the necessary python files and training data files are in your local instance\n",
        "%ls"
      ],
      "execution_count": 7,
      "outputs": [
        {
          "output_type": "stream",
          "text": [
            "Archive:  storage_tank_vs_helo_test.zip\n",
            "   creating: storage_tank_vs_helo_test/\n",
            "  inflating: storage_tank_vs_helo_test/.DS_Store  \n",
            "  inflating: __MACOSX/storage_tank_vs_helo_test/._.DS_Store  \n",
            "   creating: storage_tank_vs_helo_test/tst_storage_tank/\n",
            "   creating: storage_tank_vs_helo_test/tst_helipad/\n",
            "  inflating: storage_tank_vs_helo_test/tst_storage_tank/c_t_0010215_1_rgb.jpg  \n",
            "  inflating: storage_tank_vs_helo_test/tst_storage_tank/c_t_0006176_7_rgb.jpg  \n",
            "  inflating: storage_tank_vs_helo_test/tst_storage_tank/c_t_0009552_2_rgb.jpg  \n",
            "  inflating: storage_tank_vs_helo_test/tst_storage_tank/c_t_0003744_3_rgb.jpg  \n",
            "  inflating: storage_tank_vs_helo_test/tst_storage_tank/c_t_0000750_7_rgb.jpg  \n",
            "  inflating: storage_tank_vs_helo_test/tst_storage_tank/c_t_0000034_9_rgb.jpg  \n",
            "  inflating: storage_tank_vs_helo_test/tst_storage_tank/c_t_0007229_2_rgb.jpg  \n",
            "  inflating: storage_tank_vs_helo_test/tst_storage_tank/c_t_0005551_5_rgb.jpg  \n",
            "  inflating: storage_tank_vs_helo_test/tst_storage_tank/c_t_0003360_1_rgb.jpg  \n",
            "  inflating: storage_tank_vs_helo_test/tst_storage_tank/c_t_0004434_3_rgb.jpg  \n",
            "  inflating: storage_tank_vs_helo_test/tst_storage_tank/c_t_0011517_2_rgb.jpg  \n",
            "  inflating: storage_tank_vs_helo_test/tst_storage_tank/c_t_0004488_4_rgb.jpg  \n",
            "  inflating: storage_tank_vs_helo_test/tst_storage_tank/c_t_0010186_0_rgb.jpg  \n",
            "  inflating: storage_tank_vs_helo_test/tst_storage_tank/c_t_0002480_9_rgb.jpg  \n",
            "  inflating: storage_tank_vs_helo_test/tst_storage_tank/c_t_0002495_3_rgb.jpg  \n",
            "  inflating: storage_tank_vs_helo_test/tst_storage_tank/c_t_0000301_2_rgb.jpg  \n",
            "  inflating: storage_tank_vs_helo_test/tst_storage_tank/c_t_0000630_5_rgb.jpg  \n",
            "  inflating: storage_tank_vs_helo_test/tst_storage_tank/c_t_0007923_4_rgb.jpg  \n",
            "  inflating: storage_tank_vs_helo_test/tst_storage_tank/c_t_0003993_4_rgb.jpg  \n",
            "  inflating: storage_tank_vs_helo_test/tst_storage_tank/c_t_0010696_3_rgb.jpg  \n",
            "  inflating: storage_tank_vs_helo_test/tst_storage_tank/c_t_0007216_9_rgb.jpg  \n",
            "  inflating: storage_tank_vs_helo_test/tst_storage_tank/c_t_0008529_0_rgb.jpg  \n",
            "  inflating: storage_tank_vs_helo_test/tst_storage_tank/c_t_0007197_0_rgb.jpg  \n",
            "  inflating: storage_tank_vs_helo_test/tst_storage_tank/c_t_0009936_1_rgb.jpg  \n",
            "  inflating: storage_tank_vs_helo_test/tst_storage_tank/c_t_0011492_9_rgb.jpg  \n",
            "  inflating: storage_tank_vs_helo_test/tst_storage_tank/c_t_0000553_7_rgb.jpg  \n",
            "  inflating: storage_tank_vs_helo_test/tst_storage_tank/c_t_0001440_2_rgb.jpg  \n",
            "  inflating: storage_tank_vs_helo_test/tst_storage_tank/c_t_0010833_1_rgb.jpg  \n",
            "  inflating: storage_tank_vs_helo_test/tst_storage_tank/c_t_0005245_0_rgb.jpg  \n",
            "  inflating: storage_tank_vs_helo_test/tst_storage_tank/c_t_0003463_0_rgb.jpg  \n",
            "  inflating: storage_tank_vs_helo_test/tst_storage_tank/c_t_0003415_3_rgb.jpg  \n",
            "  inflating: storage_tank_vs_helo_test/tst_storage_tank/c_t_0001410_3_rgb.jpg  \n",
            "  inflating: storage_tank_vs_helo_test/tst_storage_tank/c_t_0001038_2_rgb.jpg  \n",
            "  inflating: storage_tank_vs_helo_test/tst_storage_tank/c_t_0000365_9_rgb.jpg  \n",
            "  inflating: storage_tank_vs_helo_test/tst_storage_tank/c_t_0004446_6_rgb.jpg  \n",
            "  inflating: storage_tank_vs_helo_test/tst_storage_tank/c_t_0010385_0_rgb.jpg  \n",
            "  inflating: storage_tank_vs_helo_test/tst_storage_tank/c_t_0005542_7_rgb.jpg  \n",
            "  inflating: storage_tank_vs_helo_test/tst_storage_tank/c_t_0003863_8_rgb.jpg  \n",
            "  inflating: storage_tank_vs_helo_test/tst_storage_tank/c_t_0001042_2_rgb.jpg  \n",
            "  inflating: storage_tank_vs_helo_test/tst_storage_tank/c_t_0001797_2_rgb.jpg  \n",
            "  inflating: storage_tank_vs_helo_test/tst_storage_tank/c_t_0006760_3_rgb.jpg  \n",
            "  inflating: storage_tank_vs_helo_test/tst_storage_tank/c_t_0008221_0_rgb.jpg  \n",
            "  inflating: storage_tank_vs_helo_test/tst_storage_tank/c_t_0006829_1_rgb.jpg  \n",
            "  inflating: storage_tank_vs_helo_test/tst_storage_tank/c_t_0011672_1_rgb.jpg  \n",
            "  inflating: storage_tank_vs_helo_test/tst_storage_tank/c_t_0008870_0_rgb.jpg  \n",
            "  inflating: storage_tank_vs_helo_test/tst_storage_tank/c_t_0002480_0_rgb.jpg  \n",
            "  inflating: storage_tank_vs_helo_test/tst_storage_tank/c_t_0008867_4_rgb.jpg  \n",
            "  inflating: storage_tank_vs_helo_test/tst_storage_tank/c_t_0009494_3_rgb.jpg  \n",
            "  inflating: storage_tank_vs_helo_test/tst_storage_tank/c_t_0002924_3_rgb.jpg  \n",
            "  inflating: storage_tank_vs_helo_test/tst_storage_tank/c_t_0000139_6_rgb.jpg  \n",
            "  inflating: storage_tank_vs_helo_test/tst_storage_tank/c_t_0008985_0_rgb.jpg  \n",
            "  inflating: storage_tank_vs_helo_test/tst_storage_tank/c_t_0008068_5_rgb.jpg  \n",
            "  inflating: storage_tank_vs_helo_test/tst_storage_tank/c_t_0008676_4_rgb.jpg  \n",
            "  inflating: storage_tank_vs_helo_test/tst_storage_tank/c_t_0007216_0_rgb.jpg  \n",
            "  inflating: storage_tank_vs_helo_test/tst_storage_tank/c_t_0003746_4_rgb.jpg  \n",
            "  inflating: storage_tank_vs_helo_test/tst_storage_tank/c_t_0006480_4_rgb.jpg  \n",
            "  inflating: storage_tank_vs_helo_test/tst_storage_tank/c_t_0011372_0_rgb.jpg  \n",
            "  inflating: storage_tank_vs_helo_test/tst_storage_tank/c_t_0000329_4_rgb.jpg  \n",
            "  inflating: storage_tank_vs_helo_test/tst_storage_tank/c_t_0002659_2_rgb.jpg  \n",
            "  inflating: storage_tank_vs_helo_test/tst_storage_tank/c_t_0002844_1_rgb.jpg  \n",
            "  inflating: storage_tank_vs_helo_test/tst_storage_tank/c_t_0011560_2_rgb.jpg  \n",
            "  inflating: storage_tank_vs_helo_test/tst_storage_tank/c_t_0005829_5_rgb.jpg  \n",
            "  inflating: storage_tank_vs_helo_test/tst_storage_tank/c_t_0003719_2_rgb.jpg  \n",
            "  inflating: storage_tank_vs_helo_test/tst_storage_tank/c_t_0010507_5_rgb.jpg  \n",
            "  inflating: storage_tank_vs_helo_test/tst_storage_tank/c_t_0003005_2_rgb.jpg  \n",
            "  inflating: storage_tank_vs_helo_test/tst_storage_tank/c_t_0002617_8_rgb.jpg  \n",
            "  inflating: storage_tank_vs_helo_test/tst_storage_tank/c_t_0010833_8_rgb.jpg  \n",
            "  inflating: storage_tank_vs_helo_test/tst_storage_tank/c_t_0000788_2_rgb.jpg  \n",
            "  inflating: storage_tank_vs_helo_test/tst_storage_tank/c_t_0010668_4_rgb.jpg  \n",
            "  inflating: storage_tank_vs_helo_test/tst_storage_tank/c_t_0008735_8_rgb.jpg  \n",
            "  inflating: storage_tank_vs_helo_test/tst_storage_tank/c_t_0006539_0_rgb.jpg  \n",
            "  inflating: storage_tank_vs_helo_test/tst_storage_tank/c_t_0009843_0_rgb.jpg  \n",
            "  inflating: storage_tank_vs_helo_test/tst_storage_tank/c_t_0010895_2_rgb.jpg  \n",
            "  inflating: storage_tank_vs_helo_test/tst_storage_tank/c_t_0011471_1_rgb.jpg  \n",
            "  inflating: storage_tank_vs_helo_test/tst_storage_tank/c_t_0003863_1_rgb.jpg  \n",
            "  inflating: storage_tank_vs_helo_test/tst_storage_tank/c_t_0003310_3_rgb.jpg  \n",
            "  inflating: storage_tank_vs_helo_test/tst_storage_tank/c_t_0008221_9_rgb.jpg  \n",
            "  inflating: storage_tank_vs_helo_test/tst_storage_tank/c_t_0002111_5_rgb.jpg  \n",
            "  inflating: storage_tank_vs_helo_test/tst_storage_tank/c_t_0010474_5_rgb.jpg  \n",
            "  inflating: storage_tank_vs_helo_test/tst_storage_tank/c_t_0008863_2_rgb.jpg  \n",
            "  inflating: storage_tank_vs_helo_test/tst_storage_tank/c_t_0007197_9_rgb.jpg  \n",
            "  inflating: storage_tank_vs_helo_test/tst_storage_tank/c_t_0004475_7_rgb.jpg  \n",
            "  inflating: storage_tank_vs_helo_test/tst_storage_tank/c_t_0009936_8_rgb.jpg  \n",
            "  inflating: storage_tank_vs_helo_test/tst_storage_tank/c_t_0008519_5_rgb.jpg  \n",
            "  inflating: storage_tank_vs_helo_test/tst_storage_tank/c_t_0002703_7_rgb.jpg  \n",
            "  inflating: storage_tank_vs_helo_test/tst_storage_tank/c_t_0011492_0_rgb.jpg  \n",
            "  inflating: storage_tank_vs_helo_test/tst_storage_tank/c_t_0001557_0_rgb.jpg  \n",
            "  inflating: storage_tank_vs_helo_test/tst_storage_tank/c_t_0004074_3_rgb.jpg  \n",
            "  inflating: storage_tank_vs_helo_test/tst_storage_tank/c_t_0005591_3_rgb.jpg  \n",
            "  inflating: storage_tank_vs_helo_test/tst_storage_tank/c_t_0008985_1_rgb.jpg  \n",
            "  inflating: storage_tank_vs_helo_test/tst_storage_tank/c_t_0000139_7_rgb.jpg  \n",
            "  inflating: storage_tank_vs_helo_test/tst_storage_tank/c_t_0007216_1_rgb.jpg  \n",
            "  inflating: storage_tank_vs_helo_test/tst_storage_tank/c_t_0008676_5_rgb.jpg  \n",
            "  inflating: storage_tank_vs_helo_test/tst_storage_tank/c_t_0008068_4_rgb.jpg  \n",
            "  inflating: storage_tank_vs_helo_test/tst_storage_tank/c_t_0008870_1_rgb.jpg  \n",
            "  inflating: storage_tank_vs_helo_test/tst_storage_tank/c_t_0011672_0_rgb.jpg  \n",
            "  inflating: storage_tank_vs_helo_test/tst_storage_tank/c_t_0006829_0_rgb.jpg  \n",
            "  inflating: storage_tank_vs_helo_test/tst_storage_tank/c_t_0002924_2_rgb.jpg  \n",
            "  inflating: storage_tank_vs_helo_test/tst_storage_tank/c_t_0009494_2_rgb.jpg  \n",
            "  inflating: storage_tank_vs_helo_test/tst_storage_tank/c_t_0002270_8_rgb.jpg  \n",
            "  inflating: storage_tank_vs_helo_test/tst_storage_tank/c_t_0008867_5_rgb.jpg  \n",
            "  inflating: storage_tank_vs_helo_test/tst_storage_tank/c_t_0002480_1_rgb.jpg  \n",
            "  inflating: storage_tank_vs_helo_test/tst_storage_tank/c_t_0002844_0_rgb.jpg  \n",
            "  inflating: storage_tank_vs_helo_test/tst_storage_tank/c_t_0000034_1_rgb.jpg  \n",
            "  inflating: storage_tank_vs_helo_test/tst_storage_tank/c_t_0010507_4_rgb.jpg  \n",
            "  inflating: storage_tank_vs_helo_test/tst_storage_tank/c_t_0005829_4_rgb.jpg  \n",
            "  inflating: storage_tank_vs_helo_test/tst_storage_tank/c_t_0011560_3_rgb.jpg  \n",
            "  inflating: storage_tank_vs_helo_test/tst_storage_tank/c_t_0006480_5_rgb.jpg  \n",
            "  inflating: storage_tank_vs_helo_test/tst_storage_tank/c_t_0007230_3_rgb.jpg  \n",
            "  inflating: storage_tank_vs_helo_test/tst_storage_tank/c_t_0000329_5_rgb.jpg  \n",
            "  inflating: storage_tank_vs_helo_test/tst_storage_tank/c_t_0011372_1_rgb.jpg  \n",
            "  inflating: storage_tank_vs_helo_test/tst_storage_tank/c_t_0007251_4_rgb.jpg  \n",
            "  inflating: storage_tank_vs_helo_test/tst_storage_tank/c_t_0000365_1_rgb.jpg  \n",
            "  inflating: storage_tank_vs_helo_test/tst_storage_tank/c_t_0010895_3_rgb.jpg  \n",
            "  inflating: storage_tank_vs_helo_test/tst_storage_tank/c_t_0009843_1_rgb.jpg  \n",
            "  inflating: storage_tank_vs_helo_test/tst_storage_tank/c_t_0008221_8_rgb.jpg  \n",
            "  inflating: storage_tank_vs_helo_test/tst_storage_tank/c_t_0003863_0_rgb.jpg  \n",
            "  inflating: storage_tank_vs_helo_test/tst_storage_tank/c_t_0011471_0_rgb.jpg  \n",
            "  inflating: storage_tank_vs_helo_test/tst_storage_tank/c_t_0000788_3_rgb.jpg  \n",
            "  inflating: storage_tank_vs_helo_test/tst_storage_tank/c_t_0010833_9_rgb.jpg  \n",
            "  inflating: storage_tank_vs_helo_test/tst_storage_tank/c_t_0006539_1_rgb.jpg  \n",
            "  inflating: storage_tank_vs_helo_test/tst_storage_tank/c_t_0004074_2_rgb.jpg  \n",
            "  inflating: storage_tank_vs_helo_test/tst_storage_tank/c_t_0001557_1_rgb.jpg  \n",
            "  inflating: storage_tank_vs_helo_test/tst_storage_tank/c_t_0005591_2_rgb.jpg  \n",
            "  inflating: storage_tank_vs_helo_test/tst_storage_tank/c_t_0003671_4_rgb.jpg  \n",
            "  inflating: storage_tank_vs_helo_test/tst_storage_tank/c_t_0009744_0_rgb.jpg  \n",
            "  inflating: storage_tank_vs_helo_test/tst_storage_tank/c_t_0008863_3_rgb.jpg  \n",
            "  inflating: storage_tank_vs_helo_test/tst_storage_tank/c_t_0010474_4_rgb.jpg  \n",
            "  inflating: storage_tank_vs_helo_test/tst_storage_tank/c_t_0008519_4_rgb.jpg  \n",
            "  inflating: storage_tank_vs_helo_test/tst_storage_tank/c_t_0009936_9_rgb.jpg  \n",
            "  inflating: storage_tank_vs_helo_test/tst_storage_tank/c_t_0004475_6_rgb.jpg  \n",
            "  inflating: storage_tank_vs_helo_test/tst_storage_tank/c_t_0007229_3_rgb.jpg  \n",
            "  inflating: storage_tank_vs_helo_test/tst_storage_tank/c_t_0000034_8_rgb.jpg  \n",
            "  inflating: storage_tank_vs_helo_test/tst_storage_tank/c_t_0004434_2_rgb.jpg  \n",
            "  inflating: storage_tank_vs_helo_test/tst_storage_tank/c_t_0003360_0_rgb.jpg  \n",
            "  inflating: storage_tank_vs_helo_test/tst_storage_tank/c_t_0005551_4_rgb.jpg  \n",
            "  inflating: storage_tank_vs_helo_test/tst_storage_tank/c_t_0009552_3_rgb.jpg  \n",
            "  inflating: storage_tank_vs_helo_test/tst_storage_tank/c_t_0006176_6_rgb.jpg  \n",
            "  inflating: storage_tank_vs_helo_test/tst_storage_tank/c_t_0010215_0_rgb.jpg  \n",
            "  inflating: storage_tank_vs_helo_test/tst_storage_tank/c_t_0003744_2_rgb.jpg  \n",
            "  inflating: storage_tank_vs_helo_test/tst_storage_tank/c_t_0000750_6_rgb.jpg  \n",
            "  inflating: storage_tank_vs_helo_test/tst_storage_tank/c_t_0006371_0_rgb.jpg  \n",
            "  inflating: storage_tank_vs_helo_test/tst_storage_tank/c_t_0007923_5_rgb.jpg  \n",
            "  inflating: storage_tank_vs_helo_test/tst_storage_tank/c_t_0000630_4_rgb.jpg  \n",
            "  inflating: storage_tank_vs_helo_test/tst_storage_tank/c_t_0007216_8_rgb.jpg  \n",
            "  inflating: storage_tank_vs_helo_test/tst_storage_tank/c_t_0001546_4_rgb.jpg  \n",
            "  inflating: storage_tank_vs_helo_test/tst_storage_tank/c_t_0003993_5_rgb.jpg  \n",
            "  inflating: storage_tank_vs_helo_test/tst_storage_tank/c_t_0000010_4_rgb.jpg  \n",
            "  inflating: storage_tank_vs_helo_test/tst_storage_tank/c_t_0011517_3_rgb.jpg  \n",
            "  inflating: storage_tank_vs_helo_test/tst_storage_tank/c_t_0000301_3_rgb.jpg  \n",
            "  inflating: storage_tank_vs_helo_test/tst_storage_tank/c_t_0002270_1_rgb.jpg  \n",
            "  inflating: storage_tank_vs_helo_test/tst_storage_tank/c_t_0002495_2_rgb.jpg  \n",
            "  inflating: storage_tank_vs_helo_test/tst_storage_tank/c_t_0002480_8_rgb.jpg  \n",
            "  inflating: storage_tank_vs_helo_test/tst_storage_tank/c_t_0004488_5_rgb.jpg  \n",
            "  inflating: storage_tank_vs_helo_test/tst_storage_tank/c_t_0011492_8_rgb.jpg  \n",
            "  inflating: storage_tank_vs_helo_test/tst_storage_tank/c_t_0000553_6_rgb.jpg  \n",
            "  inflating: storage_tank_vs_helo_test/tst_storage_tank/c_t_0008529_1_rgb.jpg  \n",
            "  inflating: storage_tank_vs_helo_test/tst_storage_tank/c_t_0009936_0_rgb.jpg  \n",
            "  inflating: storage_tank_vs_helo_test/tst_storage_tank/c_t_0007197_1_rgb.jpg  \n",
            "  inflating: storage_tank_vs_helo_test/tst_storage_tank/c_t_0010385_1_rgb.jpg  \n",
            "  inflating: storage_tank_vs_helo_test/tst_storage_tank/c_t_0004446_7_rgb.jpg  \n",
            "  inflating: storage_tank_vs_helo_test/tst_storage_tank/c_t_0000365_8_rgb.jpg  \n",
            "  inflating: storage_tank_vs_helo_test/tst_storage_tank/c_t_0006760_2_rgb.jpg  \n",
            "  inflating: storage_tank_vs_helo_test/tst_storage_tank/c_t_0001797_3_rgb.jpg  \n",
            "  inflating: storage_tank_vs_helo_test/tst_storage_tank/c_t_0003863_9_rgb.jpg  \n",
            "  inflating: storage_tank_vs_helo_test/tst_storage_tank/c_t_0001042_3_rgb.jpg  \n",
            "  inflating: storage_tank_vs_helo_test/tst_storage_tank/c_t_0008265_0_rgb.jpg  \n",
            "  inflating: storage_tank_vs_helo_test/tst_storage_tank/c_t_0002617_0_rgb.jpg  \n",
            "  inflating: storage_tank_vs_helo_test/tst_storage_tank/c_t_0010833_0_rgb.jpg  \n",
            "  inflating: storage_tank_vs_helo_test/tst_storage_tank/c_t_0001038_3_rgb.jpg  \n",
            "  inflating: storage_tank_vs_helo_test/tst_storage_tank/c_t_0008735_0_rgb.jpg  \n",
            "  inflating: storage_tank_vs_helo_test/tst_storage_tank/c_t_0003463_1_rgb.jpg  \n",
            "  inflating: storage_tank_vs_helo_test/tst_storage_tank/c_t_0000780_4_rgb.jpg  \n",
            "  inflating: storage_tank_vs_helo_test/tst_storage_tank/c_t_0011560_1_rgb.jpg  \n",
            "  inflating: storage_tank_vs_helo_test/tst_storage_tank/c_t_0010507_6_rgb.jpg  \n",
            "  inflating: storage_tank_vs_helo_test/tst_storage_tank/c_t_0003719_1_rgb.jpg  \n",
            "  inflating: storage_tank_vs_helo_test/tst_storage_tank/c_t_0004434_9_rgb.jpg  \n",
            "  inflating: storage_tank_vs_helo_test/tst_storage_tank/c_t_0003005_1_rgb.jpg  \n",
            "  inflating: storage_tank_vs_helo_test/tst_storage_tank/c_t_0007809_0_rgb.jpg  \n",
            "  inflating: storage_tank_vs_helo_test/tst_storage_tank/c_t_0000034_3_rgb.jpg  \n",
            "  inflating: storage_tank_vs_helo_test/tst_storage_tank/c_t_0008593_5_rgb.jpg  \n",
            "  inflating: storage_tank_vs_helo_test/tst_storage_tank/c_t_0009355_0_rgb.jpg  \n",
            "  inflating: storage_tank_vs_helo_test/tst_storage_tank/c_t_0002659_1_rgb.jpg  \n",
            "  inflating: storage_tank_vs_helo_test/tst_storage_tank/c_t_0002544_5_rgb.jpg  \n",
            "  inflating: storage_tank_vs_helo_test/tst_storage_tank/c_t_0006334_0_rgb.jpg  \n",
            "  inflating: storage_tank_vs_helo_test/tst_storage_tank/c_t_0000329_7_rgb.jpg  \n",
            "  inflating: storage_tank_vs_helo_test/tst_storage_tank/c_t_0007230_1_rgb.jpg  \n",
            "  inflating: storage_tank_vs_helo_test/tst_storage_tank/c_t_0006480_7_rgb.jpg  \n",
            "  inflating: storage_tank_vs_helo_test/tst_storage_tank/c_t_0008068_6_rgb.jpg  \n",
            "  inflating: storage_tank_vs_helo_test/tst_storage_tank/c_t_0007216_3_rgb.jpg  \n",
            "  inflating: storage_tank_vs_helo_test/tst_storage_tank/c_t_0000139_5_rgb.jpg  \n",
            "  inflating: storage_tank_vs_helo_test/tst_storage_tank/c_t_0008867_7_rgb.jpg  \n",
            "  inflating: storage_tank_vs_helo_test/tst_storage_tank/c_t_0002480_3_rgb.jpg  \n",
            "  inflating: storage_tank_vs_helo_test/tst_storage_tank/c_t_0002495_9_rgb.jpg  \n",
            "  inflating: storage_tank_vs_helo_test/tst_storage_tank/c_t_0010058_1_rgb.jpg  \n",
            "  inflating: storage_tank_vs_helo_test/tst_storage_tank/c_t_0009494_0_rgb.jpg  \n",
            "  inflating: storage_tank_vs_helo_test/tst_storage_tank/c_t_0002924_0_rgb.jpg  \n",
            "  inflating: storage_tank_vs_helo_test/tst_storage_tank/c_t_0000301_8_rgb.jpg  \n",
            "  inflating: storage_tank_vs_helo_test/tst_storage_tank/c_t_0011530_0_rgb.jpg  \n",
            "  inflating: storage_tank_vs_helo_test/tst_storage_tank/c_t_0006829_2_rgb.jpg  \n",
            "  inflating: storage_tank_vs_helo_test/tst_storage_tank/c_t_0011476_0_rgb.jpg  \n",
            "  inflating: storage_tank_vs_helo_test/tst_storage_tank/c_t_0011672_2_rgb.jpg  \n",
            "  inflating: storage_tank_vs_helo_test/tst_storage_tank/c_t_0002791_4_rgb.jpg  \n",
            "  inflating: storage_tank_vs_helo_test/tst_storage_tank/c_t_0005591_0_rgb.jpg  \n",
            "  inflating: storage_tank_vs_helo_test/tst_storage_tank/c_t_0002839_0_rgb.jpg  \n",
            "  inflating: storage_tank_vs_helo_test/tst_storage_tank/c_t_0002703_4_rgb.jpg  \n",
            "  inflating: storage_tank_vs_helo_test/tst_storage_tank/c_t_0001557_3_rgb.jpg  \n",
            "  inflating: storage_tank_vs_helo_test/tst_storage_tank/c_t_0011492_3_rgb.jpg  \n",
            "  inflating: storage_tank_vs_helo_test/tst_storage_tank/c_t_0004074_0_rgb.jpg  \n",
            "  inflating: storage_tank_vs_helo_test/tst_storage_tank/c_t_0004475_4_rgb.jpg  \n",
            "  inflating: storage_tank_vs_helo_test/tst_storage_tank/c_t_0002111_6_rgb.jpg  \n",
            "  inflating: storage_tank_vs_helo_test/tst_storage_tank/c_t_0010474_6_rgb.jpg  \n",
            "  inflating: storage_tank_vs_helo_test/tst_storage_tank/c_t_0001042_8_rgb.jpg  \n",
            "  inflating: storage_tank_vs_helo_test/tst_storage_tank/c_t_0003863_2_rgb.jpg  \n",
            "  inflating: storage_tank_vs_helo_test/tst_storage_tank/c_t_0011471_2_rgb.jpg  \n",
            "  inflating: storage_tank_vs_helo_test/tst_storage_tank/c_t_0003310_0_rgb.jpg  \n",
            "  inflating: storage_tank_vs_helo_test/tst_storage_tank/c_t_0007550_9_rgb.jpg  \n",
            "  inflating: storage_tank_vs_helo_test/tst_storage_tank/c_t_0000365_3_rgb.jpg  \n",
            "  inflating: storage_tank_vs_helo_test/tst_storage_tank/c_t_0010895_1_rgb.jpg  \n",
            "  inflating: storage_tank_vs_helo_test/tst_storage_tank/c_t_0001410_9_rgb.jpg  \n",
            "  inflating: storage_tank_vs_helo_test/tst_storage_tank/c_t_0003415_9_rgb.jpg  \n",
            "  inflating: storage_tank_vs_helo_test/tst_storage_tank/c_t_0000788_1_rgb.jpg  \n",
            "  inflating: storage_tank_vs_helo_test/tst_storage_tank/c_t_0003993_7_rgb.jpg  \n",
            "  inflating: storage_tank_vs_helo_test/tst_storage_tank/c_t_0000630_6_rgb.jpg  \n",
            "  inflating: storage_tank_vs_helo_test/tst_storage_tank/c_t_0007923_7_rgb.jpg  \n",
            "  inflating: storage_tank_vs_helo_test/tst_storage_tank/c_t_0006371_2_rgb.jpg  \n",
            "  inflating: storage_tank_vs_helo_test/tst_storage_tank/c_t_0004488_7_rgb.jpg  \n",
            "  inflating: storage_tank_vs_helo_test/tst_storage_tank/c_t_0002270_3_rgb.jpg  \n",
            "  inflating: storage_tank_vs_helo_test/tst_storage_tank/c_t_0000301_1_rgb.jpg  \n",
            "  inflating: storage_tank_vs_helo_test/tst_storage_tank/c_t_0011517_1_rgb.jpg  \n",
            "  inflating: storage_tank_vs_helo_test/tst_storage_tank/c_t_0000010_6_rgb.jpg  \n",
            "  inflating: storage_tank_vs_helo_test/tst_storage_tank/c_t_0005551_6_rgb.jpg  \n",
            "  inflating: storage_tank_vs_helo_test/tst_storage_tank/c_t_0003360_2_rgb.jpg  \n",
            "  inflating: storage_tank_vs_helo_test/tst_storage_tank/c_t_0003719_8_rgb.jpg  \n",
            "  inflating: storage_tank_vs_helo_test/tst_storage_tank/c_t_0004434_0_rgb.jpg  \n",
            "  inflating: storage_tank_vs_helo_test/tst_storage_tank/c_t_0007229_1_rgb.jpg  \n",
            "  inflating: storage_tank_vs_helo_test/tst_storage_tank/c_t_0000750_4_rgb.jpg  \n",
            "  inflating: storage_tank_vs_helo_test/tst_storage_tank/c_t_0003744_0_rgb.jpg  \n",
            "  inflating: storage_tank_vs_helo_test/tst_storage_tank/c_t_0007230_8_rgb.jpg  \n",
            "  inflating: storage_tank_vs_helo_test/tst_storage_tank/c_t_0009552_1_rgb.jpg  \n",
            "  inflating: storage_tank_vs_helo_test/tst_storage_tank/c_t_0006176_4_rgb.jpg  \n",
            "  inflating: storage_tank_vs_helo_test/tst_storage_tank/c_t_0001756_4_rgb.jpg  \n",
            "  inflating: storage_tank_vs_helo_test/tst_storage_tank/c_t_0001042_1_rgb.jpg  \n",
            "  inflating: storage_tank_vs_helo_test/tst_storage_tank/c_t_0005542_4_rgb.jpg  \n",
            "  inflating: storage_tank_vs_helo_test/tst_storage_tank/c_t_0001797_1_rgb.jpg  \n",
            "  inflating: storage_tank_vs_helo_test/tst_storage_tank/c_t_0006760_0_rgb.jpg  \n",
            "  inflating: storage_tank_vs_helo_test/tst_storage_tank/c_t_0008221_3_rgb.jpg  \n",
            "  inflating: storage_tank_vs_helo_test/tst_storage_tank/c_t_0002375_0_rgb.jpg  \n",
            "  inflating: storage_tank_vs_helo_test/tst_storage_tank/c_t_0004446_5_rgb.jpg  \n",
            "  inflating: storage_tank_vs_helo_test/tst_storage_tank/c_t_0010385_3_rgb.jpg  \n",
            "  inflating: storage_tank_vs_helo_test/tst_storage_tank/c_t_0001038_1_rgb.jpg  \n",
            "  inflating: storage_tank_vs_helo_test/tst_storage_tank/c_t_0003415_0_rgb.jpg  \n",
            "  inflating: storage_tank_vs_helo_test/tst_storage_tank/c_t_0011200_0_rgb.jpg  \n",
            "  inflating: storage_tank_vs_helo_test/tst_storage_tank/c_t_0010833_2_rgb.jpg  \n",
            "  inflating: storage_tank_vs_helo_test/tst_storage_tank/c_t_0002617_2_rgb.jpg  \n",
            "  inflating: storage_tank_vs_helo_test/tst_storage_tank/c_t_0002249_0_rgb.jpg  \n",
            "  inflating: storage_tank_vs_helo_test/tst_storage_tank/c_t_0000788_8_rgb.jpg  \n",
            "  inflating: storage_tank_vs_helo_test/tst_storage_tank/c_t_0005591_9_rgb.jpg  \n",
            "  inflating: storage_tank_vs_helo_test/tst_storage_tank/c_t_0000553_4_rgb.jpg  \n",
            "  inflating: storage_tank_vs_helo_test/tst_storage_tank/c_t_0007197_3_rgb.jpg  \n",
            "  inflating: storage_tank_vs_helo_test/tst_storage_tank/c_t_0009936_2_rgb.jpg  \n",
            "  inflating: storage_tank_vs_helo_test/tst_storage_tank/c_t_0008769_0_rgb.jpg  \n",
            "  inflating: storage_tank_vs_helo_test/tst_storage_tank/c_t_0008844_0_rgb.jpg  \n",
            "  inflating: storage_tank_vs_helo_test/tst_storage_tank/c_t_0000301_0_rgb.jpg  \n",
            "  inflating: storage_tank_vs_helo_test/tst_storage_tank/c_t_0002495_1_rgb.jpg  \n",
            "  inflating: storage_tank_vs_helo_test/tst_storage_tank/c_t_0002270_2_rgb.jpg  \n",
            "  inflating: storage_tank_vs_helo_test/tst_storage_tank/c_t_0004488_6_rgb.jpg  \n",
            "  inflating: storage_tank_vs_helo_test/tst_storage_tank/c_t_0000010_7_rgb.jpg  \n",
            "  inflating: storage_tank_vs_helo_test/tst_storage_tank/c_t_0011517_0_rgb.jpg  \n",
            "  inflating: storage_tank_vs_helo_test/tst_storage_tank/c_t_0003993_6_rgb.jpg  \n",
            "  inflating: storage_tank_vs_helo_test/tst_storage_tank/c_t_0010696_1_rgb.jpg  \n",
            "  inflating: storage_tank_vs_helo_test/tst_storage_tank/c_t_0006371_3_rgb.jpg  \n",
            "  inflating: storage_tank_vs_helo_test/tst_storage_tank/c_t_0007923_6_rgb.jpg  \n",
            "  inflating: storage_tank_vs_helo_test/tst_storage_tank/c_t_0000750_5_rgb.jpg  \n",
            "  inflating: storage_tank_vs_helo_test/tst_storage_tank/c_t_0003744_1_rgb.jpg  \n",
            "  inflating: storage_tank_vs_helo_test/tst_storage_tank/c_t_0001756_5_rgb.jpg  \n",
            "  inflating: storage_tank_vs_helo_test/tst_storage_tank/c_t_0006176_5_rgb.jpg  \n",
            "  inflating: storage_tank_vs_helo_test/tst_storage_tank/c_t_0009552_0_rgb.jpg  \n",
            "  inflating: storage_tank_vs_helo_test/tst_storage_tank/c_t_0004434_1_rgb.jpg  \n",
            "  inflating: storage_tank_vs_helo_test/tst_storage_tank/c_t_0003360_3_rgb.jpg  \n",
            "  inflating: storage_tank_vs_helo_test/tst_storage_tank/c_t_0005551_7_rgb.jpg  \n",
            "  inflating: storage_tank_vs_helo_test/tst_storage_tank/c_t_0007229_0_rgb.jpg  \n",
            "  inflating: storage_tank_vs_helo_test/tst_storage_tank/c_t_0003415_1_rgb.jpg  \n",
            "  inflating: storage_tank_vs_helo_test/tst_storage_tank/c_t_0001038_0_rgb.jpg  \n",
            "  inflating: storage_tank_vs_helo_test/tst_storage_tank/c_t_0000788_9_rgb.jpg  \n",
            "  inflating: storage_tank_vs_helo_test/tst_storage_tank/c_t_0010833_3_rgb.jpg  \n",
            "  inflating: storage_tank_vs_helo_test/tst_storage_tank/c_t_0008221_2_rgb.jpg  \n",
            "  inflating: storage_tank_vs_helo_test/tst_storage_tank/c_t_0001797_0_rgb.jpg  \n",
            "  inflating: storage_tank_vs_helo_test/tst_storage_tank/c_t_0001042_0_rgb.jpg  \n",
            "  inflating: storage_tank_vs_helo_test/tst_storage_tank/c_t_0005542_5_rgb.jpg  \n",
            "  inflating: storage_tank_vs_helo_test/tst_storage_tank/c_t_0010385_2_rgb.jpg  \n",
            "  inflating: storage_tank_vs_helo_test/tst_storage_tank/c_t_0004446_4_rgb.jpg  \n",
            "  inflating: storage_tank_vs_helo_test/tst_storage_tank/c_t_0009936_3_rgb.jpg  \n",
            "  inflating: storage_tank_vs_helo_test/tst_storage_tank/c_t_0007197_2_rgb.jpg  \n",
            "  inflating: storage_tank_vs_helo_test/tst_storage_tank/c_t_0008529_2_rgb.jpg  \n",
            "  inflating: storage_tank_vs_helo_test/tst_storage_tank/c_t_0005591_8_rgb.jpg  \n",
            "  inflating: storage_tank_vs_helo_test/tst_storage_tank/c_t_0000553_5_rgb.jpg  \n",
            "  inflating: storage_tank_vs_helo_test/tst_storage_tank/c_t_0001440_0_rgb.jpg  \n",
            "  inflating: storage_tank_vs_helo_test/tst_storage_tank/c_t_0007930_4_rgb.jpg  \n",
            "  inflating: storage_tank_vs_helo_test/tst_storage_tank/c_t_0000329_6_rgb.jpg  \n",
            "  inflating: storage_tank_vs_helo_test/tst_storage_tank/c_t_0006334_1_rgb.jpg  \n",
            "  inflating: storage_tank_vs_helo_test/tst_storage_tank/c_t_0002544_4_rgb.jpg  \n",
            "  inflating: storage_tank_vs_helo_test/tst_storage_tank/c_t_0011372_2_rgb.jpg  \n",
            "  inflating: storage_tank_vs_helo_test/tst_storage_tank/c_t_0006480_6_rgb.jpg  \n",
            "  inflating: storage_tank_vs_helo_test/tst_storage_tank/c_t_0007230_0_rgb.jpg  \n",
            "  inflating: storage_tank_vs_helo_test/tst_storage_tank/c_t_0003005_0_rgb.jpg  \n",
            "  inflating: storage_tank_vs_helo_test/tst_storage_tank/c_t_0004434_8_rgb.jpg  \n",
            "  inflating: storage_tank_vs_helo_test/tst_storage_tank/c_t_0003719_0_rgb.jpg  \n",
            "  inflating: storage_tank_vs_helo_test/tst_storage_tank/c_t_0010507_7_rgb.jpg  \n",
            "  inflating: storage_tank_vs_helo_test/tst_storage_tank/c_t_0011560_0_rgb.jpg  \n",
            "  inflating: storage_tank_vs_helo_test/tst_storage_tank/c_t_0000780_5_rgb.jpg  \n",
            "  inflating: storage_tank_vs_helo_test/tst_storage_tank/c_t_0009355_1_rgb.jpg  \n",
            "  inflating: storage_tank_vs_helo_test/tst_storage_tank/c_t_0008593_4_rgb.jpg  \n",
            "  inflating: storage_tank_vs_helo_test/tst_storage_tank/c_t_0000034_2_rgb.jpg  \n",
            "  inflating: storage_tank_vs_helo_test/tst_storage_tank/c_t_0000301_9_rgb.jpg  \n",
            "  inflating: storage_tank_vs_helo_test/tst_storage_tank/c_t_0002924_1_rgb.jpg  \n",
            "  inflating: storage_tank_vs_helo_test/tst_storage_tank/c_t_0009494_1_rgb.jpg  \n",
            "  inflating: storage_tank_vs_helo_test/tst_storage_tank/c_t_0002495_8_rgb.jpg  \n",
            "  inflating: storage_tank_vs_helo_test/tst_storage_tank/c_t_0002480_2_rgb.jpg  \n",
            "  inflating: storage_tank_vs_helo_test/tst_storage_tank/c_t_0008867_6_rgb.jpg  \n",
            "  inflating: storage_tank_vs_helo_test/tst_storage_tank/c_t_0008870_2_rgb.jpg  \n",
            "  inflating: storage_tank_vs_helo_test/tst_storage_tank/c_t_0011672_3_rgb.jpg  \n",
            "  inflating: storage_tank_vs_helo_test/tst_storage_tank/c_t_0011517_9_rgb.jpg  \n",
            "  inflating: storage_tank_vs_helo_test/tst_storage_tank/c_t_0011530_1_rgb.jpg  \n",
            "  inflating: storage_tank_vs_helo_test/tst_storage_tank/c_t_0009915_4_rgb.jpg  \n",
            "  inflating: storage_tank_vs_helo_test/tst_storage_tank/c_t_0007216_2_rgb.jpg  \n",
            "  inflating: storage_tank_vs_helo_test/tst_storage_tank/c_t_0008676_6_rgb.jpg  \n",
            "  inflating: storage_tank_vs_helo_test/tst_storage_tank/c_t_0008068_7_rgb.jpg  \n",
            "  inflating: storage_tank_vs_helo_test/tst_storage_tank/c_t_0003631_0_rgb.jpg  \n",
            "  inflating: storage_tank_vs_helo_test/tst_storage_tank/c_t_0000139_4_rgb.jpg  \n",
            "  inflating: storage_tank_vs_helo_test/tst_storage_tank/c_t_0004475_5_rgb.jpg  \n",
            "  inflating: storage_tank_vs_helo_test/tst_storage_tank/c_t_0010474_7_rgb.jpg  \n",
            "  inflating: storage_tank_vs_helo_test/tst_storage_tank/c_t_0002111_7_rgb.jpg  \n",
            "  inflating: storage_tank_vs_helo_test/tst_storage_tank/c_t_0002839_1_rgb.jpg  \n",
            "  inflating: storage_tank_vs_helo_test/tst_storage_tank/c_t_0005591_1_rgb.jpg  \n",
            "  inflating: storage_tank_vs_helo_test/tst_storage_tank/c_t_0004074_1_rgb.jpg  \n",
            "  inflating: storage_tank_vs_helo_test/tst_storage_tank/c_t_0011492_2_rgb.jpg  \n",
            "  inflating: storage_tank_vs_helo_test/tst_storage_tank/c_t_0001557_2_rgb.jpg  \n",
            "  inflating: storage_tank_vs_helo_test/tst_storage_tank/c_t_0002703_5_rgb.jpg  \n",
            "  inflating: storage_tank_vs_helo_test/tst_storage_tank/c_t_0003415_8_rgb.jpg  \n",
            "  inflating: storage_tank_vs_helo_test/tst_storage_tank/c_t_0008287_1_rgb.jpg  \n",
            "  inflating: storage_tank_vs_helo_test/tst_storage_tank/c_t_0000788_0_rgb.jpg  \n",
            "  inflating: storage_tank_vs_helo_test/tst_storage_tank/c_t_0008918_5_rgb.jpg  \n",
            "  inflating: storage_tank_vs_helo_test/tst_storage_tank/c_t_0003310_1_rgb.jpg  \n",
            "  inflating: storage_tank_vs_helo_test/tst_storage_tank/c_t_0011471_3_rgb.jpg  \n",
            "  inflating: storage_tank_vs_helo_test/tst_storage_tank/c_t_0001042_9_rgb.jpg  \n",
            "  inflating: storage_tank_vs_helo_test/tst_storage_tank/c_t_0003863_3_rgb.jpg  \n",
            "  inflating: storage_tank_vs_helo_test/tst_storage_tank/c_t_0010895_0_rgb.jpg  \n",
            "  inflating: storage_tank_vs_helo_test/tst_storage_tank/c_t_0000365_2_rgb.jpg  \n",
            "  inflating: storage_tank_vs_helo_test/tst_storage_tank/c_t_0007550_8_rgb.jpg  \n",
            "  inflating: storage_tank_vs_helo_test/tst_storage_tank/c_t_0010474_2_rgb.jpg  \n",
            "  inflating: storage_tank_vs_helo_test/tst_storage_tank/c_t_0008863_5_rgb.jpg  \n",
            "  inflating: storage_tank_vs_helo_test/tst_storage_tank/c_t_0002111_2_rgb.jpg  \n",
            "  inflating: storage_tank_vs_helo_test/tst_storage_tank/c_t_0008519_2_rgb.jpg  \n",
            "  inflating: storage_tank_vs_helo_test/tst_storage_tank/c_t_0004475_0_rgb.jpg  \n",
            "  inflating: storage_tank_vs_helo_test/tst_storage_tank/c_t_0006646_0_rgb.jpg  \n",
            "  inflating: storage_tank_vs_helo_test/tst_storage_tank/c_t_0006540_3_rgb.jpg  \n",
            "  inflating: storage_tank_vs_helo_test/tst_storage_tank/c_t_0011492_7_rgb.jpg  \n",
            "  inflating: storage_tank_vs_helo_test/tst_storage_tank/c_t_0000553_9_rgb.jpg  \n",
            "  inflating: storage_tank_vs_helo_test/tst_storage_tank/c_t_0001557_7_rgb.jpg  \n",
            "  inflating: storage_tank_vs_helo_test/tst_storage_tank/c_t_0009557_0_rgb.jpg  \n",
            "  inflating: storage_tank_vs_helo_test/tst_storage_tank/c_t_0004074_4_rgb.jpg  \n",
            "  inflating: storage_tank_vs_helo_test/tst_storage_tank/c_t_0002703_0_rgb.jpg  \n",
            "  inflating: storage_tank_vs_helo_test/tst_storage_tank/c_t_0000929_1_rgb.jpg  \n",
            "  inflating: storage_tank_vs_helo_test/tst_storage_tank/c_t_0006112_2_rgb.jpg  \n",
            "  inflating: storage_tank_vs_helo_test/tst_storage_tank/c_t_0005591_4_rgb.jpg  \n",
            "  inflating: storage_tank_vs_helo_test/tst_storage_tank/c_t_0003671_2_rgb.jpg  \n",
            "  inflating: storage_tank_vs_helo_test/tst_storage_tank/c_t_0011350_3_rgb.jpg  \n",
            "  inflating: storage_tank_vs_helo_test/tst_storage_tank/c_t_0008773_0_rgb.jpg  \n",
            "  inflating: storage_tank_vs_helo_test/tst_storage_tank/c_t_0000788_5_rgb.jpg  \n",
            "  inflating: storage_tank_vs_helo_test/tst_storage_tank/c_t_0010668_3_rgb.jpg  \n",
            "  inflating: storage_tank_vs_helo_test/tst_storage_tank/c_t_0004446_8_rgb.jpg  \n",
            "  inflating: storage_tank_vs_helo_test/tst_storage_tank/c_t_0000365_7_rgb.jpg  \n",
            "  inflating: storage_tank_vs_helo_test/tst_storage_tank/c_t_0003519_1_rgb.jpg  \n",
            "  inflating: storage_tank_vs_helo_test/tst_storage_tank/c_t_0003310_4_rgb.jpg  \n",
            "  inflating: storage_tank_vs_helo_test/tst_storage_tank/c_t_0010208_0_rgb.jpg  \n",
            "  inflating: storage_tank_vs_helo_test/tst_storage_tank/c_t_0003863_6_rgb.jpg  \n",
            "  inflating: storage_tank_vs_helo_test/tst_storage_tank/c_t_0003746_3_rgb.jpg  \n",
            "  inflating: storage_tank_vs_helo_test/tst_storage_tank/c_t_0006480_3_rgb.jpg  \n",
            "  inflating: storage_tank_vs_helo_test/tst_storage_tank/c_t_0007230_5_rgb.jpg  \n",
            "  inflating: storage_tank_vs_helo_test/tst_storage_tank/c_t_0000329_3_rgb.jpg  \n",
            "  inflating: storage_tank_vs_helo_test/tst_storage_tank/c_t_0010409_0_rgb.jpg  \n",
            "  inflating: storage_tank_vs_helo_test/tst_storage_tank/c_t_0002544_1_rgb.jpg  \n",
            "  inflating: storage_tank_vs_helo_test/tst_storage_tank/c_t_0007251_2_rgb.jpg  \n",
            "  inflating: storage_tank_vs_helo_test/tst_storage_tank/c_t_0008593_1_rgb.jpg  \n",
            "  inflating: storage_tank_vs_helo_test/tst_storage_tank/c_t_0001899_2_rgb.jpg  \n",
            "  inflating: storage_tank_vs_helo_test/tst_storage_tank/c_t_0006673_0_rgb.jpg  \n",
            "  inflating: storage_tank_vs_helo_test/tst_storage_tank/c_t_0000034_7_rgb.jpg  \n",
            "  inflating: storage_tank_vs_helo_test/tst_storage_tank/c_t_0005829_2_rgb.jpg  \n",
            "  inflating: storage_tank_vs_helo_test/tst_storage_tank/c_t_0010507_2_rgb.jpg  \n",
            "  inflating: storage_tank_vs_helo_test/tst_storage_tank/c_t_0010405_3_rgb.jpg  \n",
            "  inflating: storage_tank_vs_helo_test/tst_storage_tank/c_t_0000780_0_rgb.jpg  \n",
            "  inflating: storage_tank_vs_helo_test/tst_storage_tank/c_t_0002791_0_rgb.jpg  \n",
            "  inflating: storage_tank_vs_helo_test/tst_storage_tank/c_t_0009915_1_rgb.jpg  \n",
            "  inflating: storage_tank_vs_helo_test/tst_storage_tank/c_t_0002924_4_rgb.jpg  \n",
            "  inflating: storage_tank_vs_helo_test/tst_storage_tank/c_t_0002480_7_rgb.jpg  \n",
            "  inflating: storage_tank_vs_helo_test/tst_storage_tank/c_t_0000139_1_rgb.jpg  \n",
            "  inflating: storage_tank_vs_helo_test/tst_storage_tank/c_t_0007216_7_rgb.jpg  \n",
            "  inflating: storage_tank_vs_helo_test/tst_storage_tank/c_t_0002617_6_rgb.jpg  \n",
            "  inflating: storage_tank_vs_helo_test/tst_storage_tank/c_t_0003415_4_rgb.jpg  \n",
            "  inflating: storage_tank_vs_helo_test/tst_storage_tank/c_t_0008735_6_rgb.jpg  \n",
            "  inflating: storage_tank_vs_helo_test/tst_storage_tank/c_t_0001410_4_rgb.jpg  \n",
            "  inflating: storage_tank_vs_helo_test/tst_storage_tank/c_t_0001038_5_rgb.jpg  \n",
            "  inflating: storage_tank_vs_helo_test/tst_storage_tank/c_t_0010313_1_rgb.jpg  \n",
            "  inflating: storage_tank_vs_helo_test/tst_storage_tank/c_t_0002992_1_rgb.jpg  \n",
            "  inflating: storage_tank_vs_helo_test/tst_storage_tank/c_t_0004446_1_rgb.jpg  \n",
            "  inflating: storage_tank_vs_helo_test/tst_storage_tank/c_t_0001820_0_rgb.jpg  \n",
            "  inflating: storage_tank_vs_helo_test/tst_storage_tank/c_t_0008221_7_rgb.jpg  \n",
            "  inflating: storage_tank_vs_helo_test/tst_storage_tank/c_t_0002350_2_rgb.jpg  \n",
            "  inflating: storage_tank_vs_helo_test/tst_storage_tank/c_t_0001042_5_rgb.jpg  \n",
            "  inflating: storage_tank_vs_helo_test/tst_storage_tank/c_t_0006760_4_rgb.jpg  \n",
            "  inflating: storage_tank_vs_helo_test/tst_storage_tank/c_t_0001797_5_rgb.jpg  \n",
            "  inflating: storage_tank_vs_helo_test/tst_storage_tank/c_t_0009936_6_rgb.jpg  \n",
            "  inflating: storage_tank_vs_helo_test/tst_storage_tank/c_t_0001088_1_rgb.jpg  \n",
            "  inflating: storage_tank_vs_helo_test/tst_storage_tank/c_t_0004475_9_rgb.jpg  \n",
            "  inflating: storage_tank_vs_helo_test/tst_storage_tank/c_t_0000765_0_rgb.jpg  \n",
            "  inflating: storage_tank_vs_helo_test/tst_storage_tank/c_t_0002650_3_rgb.jpg  \n",
            "  inflating: storage_tank_vs_helo_test/tst_storage_tank/c_t_0000553_0_rgb.jpg  \n",
            "  inflating: storage_tank_vs_helo_test/tst_storage_tank/c_t_0002703_9_rgb.jpg  \n",
            "  inflating: storage_tank_vs_helo_test/tst_storage_tank/c_t_0011490_0_rgb.jpg  \n",
            "  inflating: storage_tank_vs_helo_test/tst_storage_tank/c_t_0011517_5_rgb.jpg  \n",
            "  inflating: storage_tank_vs_helo_test/tst_storage_tank/c_t_0000010_2_rgb.jpg  \n",
            "  inflating: storage_tank_vs_helo_test/tst_storage_tank/c_t_0000301_5_rgb.jpg  \n",
            "  inflating: storage_tank_vs_helo_test/tst_storage_tank/c_t_0004488_3_rgb.jpg  \n",
            "  inflating: storage_tank_vs_helo_test/tst_storage_tank/c_t_0002495_4_rgb.jpg  \n",
            "  inflating: storage_tank_vs_helo_test/tst_storage_tank/c_t_0002270_7_rgb.jpg  \n",
            "  inflating: storage_tank_vs_helo_test/tst_storage_tank/c_t_0000630_2_rgb.jpg  \n",
            "  inflating: storage_tank_vs_helo_test/tst_storage_tank/c_t_0007923_3_rgb.jpg  \n",
            "  inflating: storage_tank_vs_helo_test/tst_storage_tank/c_t_0000139_8_rgb.jpg  \n",
            "  inflating: storage_tank_vs_helo_test/tst_storage_tank/c_t_0004013_2_rgb.jpg  \n",
            "  inflating: storage_tank_vs_helo_test/tst_storage_tank/c_t_0001546_2_rgb.jpg  \n",
            "  inflating: storage_tank_vs_helo_test/tst_storage_tank/c_t_0003993_3_rgb.jpg  \n",
            "  inflating: storage_tank_vs_helo_test/tst_storage_tank/c_t_0010696_4_rgb.jpg  \n",
            "  inflating: storage_tank_vs_helo_test/tst_storage_tank/c_t_0006176_0_rgb.jpg  \n",
            "  inflating: storage_tank_vs_helo_test/tst_storage_tank/c_t_0009552_5_rgb.jpg  \n",
            "  inflating: storage_tank_vs_helo_test/tst_storage_tank/c_t_0001756_0_rgb.jpg  \n",
            "  inflating: storage_tank_vs_helo_test/tst_storage_tank/c_t_0003744_4_rgb.jpg  \n",
            "  inflating: storage_tank_vs_helo_test/tst_storage_tank/c_t_0000750_0_rgb.jpg  \n",
            "  inflating: storage_tank_vs_helo_test/tst_storage_tank/c_t_0008261_0_rgb.jpg  \n",
            "  inflating: storage_tank_vs_helo_test/tst_storage_tank/c_t_0004434_4_rgb.jpg  \n",
            "  inflating: storage_tank_vs_helo_test/tst_storage_tank/c_t_0009161_3_rgb.jpg  \n",
            "  inflating: storage_tank_vs_helo_test/tst_storage_tank/c_t_0010662_1_rgb.jpg  \n",
            "  inflating: storage_tank_vs_helo_test/tst_storage_tank/c_t_0005551_2_rgb.jpg  \n",
            "  inflating: storage_tank_vs_helo_test/tst_storage_tank/c_t_0009153_1_rgb.jpg  \n",
            "  inflating: storage_tank_vs_helo_test/tst_storage_tank/c_t_0004446_0_rgb.jpg  \n",
            "  inflating: storage_tank_vs_helo_test/tst_storage_tank/c_t_0007550_5_rgb.jpg  \n",
            "  inflating: storage_tank_vs_helo_test/tst_storage_tank/c_t_0006760_5_rgb.jpg  \n",
            "  inflating: storage_tank_vs_helo_test/tst_storage_tank/c_t_0005542_1_rgb.jpg  \n",
            "  inflating: storage_tank_vs_helo_test/tst_storage_tank/c_t_0001042_4_rgb.jpg  \n",
            "  inflating: storage_tank_vs_helo_test/tst_storage_tank/c_t_0008221_6_rgb.jpg  \n",
            "  inflating: storage_tank_vs_helo_test/tst_storage_tank/c_t_0010833_7_rgb.jpg  \n",
            "  inflating: storage_tank_vs_helo_test/tst_storage_tank/c_t_0002992_0_rgb.jpg  \n",
            "  inflating: storage_tank_vs_helo_test/tst_storage_tank/c_t_0010313_0_rgb.jpg  \n",
            "  inflating: storage_tank_vs_helo_test/tst_storage_tank/c_t_0001410_5_rgb.jpg  \n",
            "  inflating: storage_tank_vs_helo_test/tst_storage_tank/c_t_0001038_4_rgb.jpg  \n",
            "  inflating: storage_tank_vs_helo_test/tst_storage_tank/c_t_0008735_7_rgb.jpg  \n",
            "  inflating: storage_tank_vs_helo_test/tst_storage_tank/c_t_0003415_5_rgb.jpg  \n",
            "  inflating: storage_tank_vs_helo_test/tst_storage_tank/c_t_0002703_8_rgb.jpg  \n",
            "  inflating: storage_tank_vs_helo_test/tst_storage_tank/c_t_0002650_2_rgb.jpg  \n",
            "  inflating: storage_tank_vs_helo_test/tst_storage_tank/c_t_0000553_1_rgb.jpg  \n",
            "  inflating: storage_tank_vs_helo_test/tst_storage_tank/c_t_0000765_1_rgb.jpg  \n",
            "  inflating: storage_tank_vs_helo_test/tst_storage_tank/c_t_0011490_1_rgb.jpg  \n",
            "  inflating: storage_tank_vs_helo_test/tst_storage_tank/c_t_0003582_6_rgb.jpg  \n",
            "  inflating: storage_tank_vs_helo_test/tst_storage_tank/c_t_0007197_6_rgb.jpg  \n",
            "  inflating: storage_tank_vs_helo_test/tst_storage_tank/c_t_0004475_8_rgb.jpg  \n",
            "  inflating: storage_tank_vs_helo_test/tst_storage_tank/c_t_0001088_0_rgb.jpg  \n",
            "  inflating: storage_tank_vs_helo_test/tst_storage_tank/c_t_0009936_7_rgb.jpg  \n",
            "  inflating: storage_tank_vs_helo_test/tst_storage_tank/c_t_0000139_9_rgb.jpg  \n",
            "  inflating: storage_tank_vs_helo_test/tst_storage_tank/c_t_0007923_2_rgb.jpg  \n",
            "  inflating: storage_tank_vs_helo_test/tst_storage_tank/c_t_0000630_3_rgb.jpg  \n",
            "  inflating: storage_tank_vs_helo_test/tst_storage_tank/c_t_0011853_2_rgb.jpg  \n",
            "  inflating: storage_tank_vs_helo_test/tst_storage_tank/c_t_0003993_2_rgb.jpg  \n",
            "  inflating: storage_tank_vs_helo_test/tst_storage_tank/c_t_0001546_3_rgb.jpg  \n",
            "  inflating: storage_tank_vs_helo_test/tst_storage_tank/c_t_0000010_3_rgb.jpg  \n",
            "  inflating: storage_tank_vs_helo_test/tst_storage_tank/c_t_0011517_4_rgb.jpg  \n",
            "  inflating: storage_tank_vs_helo_test/tst_storage_tank/c_t_0002270_6_rgb.jpg  \n",
            "  inflating: storage_tank_vs_helo_test/tst_storage_tank/c_t_0002495_5_rgb.jpg  \n",
            "  inflating: storage_tank_vs_helo_test/tst_storage_tank/c_t_0010186_6_rgb.jpg  \n",
            "  inflating: storage_tank_vs_helo_test/tst_storage_tank/c_t_0004488_2_rgb.jpg  \n",
            "  inflating: storage_tank_vs_helo_test/tst_storage_tank/c_t_0000301_4_rgb.jpg  \n",
            "  inflating: storage_tank_vs_helo_test/tst_storage_tank/c_t_0009153_0_rgb.jpg  \n",
            "  inflating: storage_tank_vs_helo_test/tst_storage_tank/c_t_0005551_3_rgb.jpg  \n",
            "  inflating: storage_tank_vs_helo_test/tst_storage_tank/c_t_0010662_0_rgb.jpg  \n",
            "  inflating: storage_tank_vs_helo_test/tst_storage_tank/c_t_0009161_2_rgb.jpg  \n",
            "  inflating: storage_tank_vs_helo_test/tst_storage_tank/c_t_0004434_5_rgb.jpg  \n",
            "  inflating: storage_tank_vs_helo_test/tst_storage_tank/c_t_0001756_1_rgb.jpg  \n",
            "  inflating: storage_tank_vs_helo_test/tst_storage_tank/c_t_0009552_4_rgb.jpg  \n",
            "  inflating: storage_tank_vs_helo_test/tst_storage_tank/c_t_0006176_1_rgb.jpg  \n",
            "  inflating: storage_tank_vs_helo_test/tst_storage_tank/c_t_0000929_0_rgb.jpg  \n",
            "  inflating: storage_tank_vs_helo_test/tst_storage_tank/c_t_0002703_1_rgb.jpg  \n",
            "  inflating: storage_tank_vs_helo_test/tst_storage_tank/c_t_0004074_5_rgb.jpg  \n",
            "  inflating: storage_tank_vs_helo_test/tst_storage_tank/c_t_0009557_1_rgb.jpg  \n",
            "  inflating: storage_tank_vs_helo_test/tst_storage_tank/c_t_0001557_6_rgb.jpg  \n",
            "  inflating: storage_tank_vs_helo_test/tst_storage_tank/c_t_0011492_6_rgb.jpg  \n",
            "  inflating: storage_tank_vs_helo_test/tst_storage_tank/c_t_0000553_8_rgb.jpg  \n",
            "  inflating: storage_tank_vs_helo_test/tst_storage_tank/c_t_0003671_3_rgb.jpg  \n",
            "  inflating: storage_tank_vs_helo_test/tst_storage_tank/c_t_0005591_5_rgb.jpg  \n",
            "  inflating: storage_tank_vs_helo_test/tst_storage_tank/c_t_0011350_2_rgb.jpg  \n",
            "  inflating: storage_tank_vs_helo_test/tst_storage_tank/c_t_0002111_3_rgb.jpg  \n",
            "  inflating: storage_tank_vs_helo_test/tst_storage_tank/c_t_0008863_4_rgb.jpg  \n",
            "  inflating: storage_tank_vs_helo_test/tst_storage_tank/c_t_0010474_3_rgb.jpg  \n",
            "  inflating: storage_tank_vs_helo_test/tst_storage_tank/c_t_0006540_2_rgb.jpg  \n",
            "  inflating: storage_tank_vs_helo_test/tst_storage_tank/c_t_0004475_1_rgb.jpg  \n",
            "  inflating: storage_tank_vs_helo_test/tst_storage_tank/c_t_0008519_3_rgb.jpg  \n",
            "  inflating: storage_tank_vs_helo_test/tst_storage_tank/c_t_0003519_0_rgb.jpg  \n",
            "  inflating: storage_tank_vs_helo_test/tst_storage_tank/c_t_0000365_6_rgb.jpg  \n",
            "  inflating: storage_tank_vs_helo_test/tst_storage_tank/c_t_0010895_4_rgb.jpg  \n",
            "  inflating: storage_tank_vs_helo_test/tst_storage_tank/c_t_0004446_9_rgb.jpg  \n",
            "  inflating: storage_tank_vs_helo_test/tst_storage_tank/c_t_0005542_8_rgb.jpg  \n",
            "  inflating: storage_tank_vs_helo_test/tst_storage_tank/c_t_0003863_7_rgb.jpg  \n",
            "  inflating: storage_tank_vs_helo_test/tst_storage_tank/c_t_0003310_5_rgb.jpg  \n",
            "  inflating: storage_tank_vs_helo_test/tst_storage_tank/c_t_0008918_1_rgb.jpg  \n",
            "  inflating: storage_tank_vs_helo_test/tst_storage_tank/c_t_0000788_4_rgb.jpg  \n",
            "  inflating: storage_tank_vs_helo_test/tst_storage_tank/c_t_0010668_2_rgb.jpg  \n",
            "  inflating: storage_tank_vs_helo_test/tst_storage_tank/c_t_0000238_1_rgb.jpg  \n",
            "  inflating: storage_tank_vs_helo_test/tst_storage_tank/c_t_0000034_6_rgb.jpg  \n",
            "  inflating: storage_tank_vs_helo_test/tst_storage_tank/c_t_0008593_0_rgb.jpg  \n",
            "  inflating: storage_tank_vs_helo_test/tst_storage_tank/c_t_0011560_4_rgb.jpg  \n",
            "  inflating: storage_tank_vs_helo_test/tst_storage_tank/c_t_0000780_1_rgb.jpg  \n",
            "  inflating: storage_tank_vs_helo_test/tst_storage_tank/c_t_0010507_3_rgb.jpg  \n",
            "  inflating: storage_tank_vs_helo_test/tst_storage_tank/c_t_0003719_4_rgb.jpg  \n",
            "  inflating: storage_tank_vs_helo_test/tst_storage_tank/c_t_0010405_2_rgb.jpg  \n",
            "  inflating: storage_tank_vs_helo_test/tst_storage_tank/c_t_0006480_2_rgb.jpg  \n",
            "  inflating: storage_tank_vs_helo_test/tst_storage_tank/c_t_0006176_8_rgb.jpg  \n",
            "  inflating: storage_tank_vs_helo_test/tst_storage_tank/c_t_0003746_2_rgb.jpg  \n",
            "  inflating: storage_tank_vs_helo_test/tst_storage_tank/c_t_0000750_8_rgb.jpg  \n",
            "  inflating: storage_tank_vs_helo_test/tst_storage_tank/c_t_0002544_0_rgb.jpg  \n",
            "  inflating: storage_tank_vs_helo_test/tst_storage_tank/c_t_0007251_3_rgb.jpg  \n",
            "  inflating: storage_tank_vs_helo_test/tst_storage_tank/c_t_0000329_2_rgb.jpg  \n",
            "  inflating: storage_tank_vs_helo_test/tst_storage_tank/c_t_0010409_1_rgb.jpg  \n",
            "  inflating: storage_tank_vs_helo_test/tst_storage_tank/c_t_0000139_0_rgb.jpg  \n",
            "  inflating: storage_tank_vs_helo_test/tst_storage_tank/c_t_0007216_6_rgb.jpg  \n",
            "  inflating: storage_tank_vs_helo_test/tst_storage_tank/c_t_0009915_0_rgb.jpg  \n",
            "  inflating: storage_tank_vs_helo_test/tst_storage_tank/c_t_0008867_2_rgb.jpg  \n",
            "  inflating: storage_tank_vs_helo_test/tst_storage_tank/c_t_0002480_6_rgb.jpg  \n",
            "  inflating: storage_tank_vs_helo_test/tst_storage_tank/c_t_0002924_5_rgb.jpg  \n",
            "  inflating: storage_tank_vs_helo_test/tst_storage_tank/c_t_0000553_3_rgb.jpg  \n",
            "  inflating: storage_tank_vs_helo_test/tst_storage_tank/c_t_0002650_0_rgb.jpg  \n",
            "  inflating: storage_tank_vs_helo_test/tst_storage_tank/c_t_0007930_2_rgb.jpg  \n",
            "  inflating: storage_tank_vs_helo_test/tst_storage_tank/c_t_0008222_0_rgb.jpg  \n",
            "  inflating: storage_tank_vs_helo_test/tst_storage_tank/c_t_0009936_5_rgb.jpg  \n",
            "  inflating: storage_tank_vs_helo_test/tst_storage_tank/c_t_0007197_4_rgb.jpg  \n",
            "  inflating: storage_tank_vs_helo_test/tst_storage_tank/c_t_0003582_4_rgb.jpg  \n",
            "  inflating: storage_tank_vs_helo_test/tst_storage_tank/c_t_0008221_4_rgb.jpg  \n",
            "  inflating: storage_tank_vs_helo_test/tst_storage_tank/c_t_0001042_6_rgb.jpg  \n",
            "  inflating: storage_tank_vs_helo_test/tst_storage_tank/c_t_0005542_3_rgb.jpg  \n",
            "  inflating: storage_tank_vs_helo_test/tst_storage_tank/c_t_0002350_1_rgb.jpg  \n",
            "  inflating: storage_tank_vs_helo_test/tst_storage_tank/c_t_0006760_7_rgb.jpg  \n",
            "  inflating: storage_tank_vs_helo_test/tst_storage_tank/c_t_0001797_6_rgb.jpg  \n",
            "  inflating: storage_tank_vs_helo_test/tst_storage_tank/c_t_0010385_4_rgb.jpg  \n",
            "  inflating: storage_tank_vs_helo_test/tst_storage_tank/c_t_0007550_7_rgb.jpg  \n",
            "  inflating: storage_tank_vs_helo_test/tst_storage_tank/c_t_0001410_7_rgb.jpg  \n",
            "  inflating: storage_tank_vs_helo_test/tst_storage_tank/c_t_0003415_7_rgb.jpg  \n",
            "  inflating: storage_tank_vs_helo_test/tst_storage_tank/c_t_0010313_2_rgb.jpg  \n",
            "  inflating: storage_tank_vs_helo_test/tst_storage_tank/c_t_0002992_2_rgb.jpg  \n",
            "  inflating: storage_tank_vs_helo_test/tst_storage_tank/c_t_0010860_0_rgb.jpg  \n",
            "  inflating: storage_tank_vs_helo_test/tst_storage_tank/c_t_0000575_1_rgb.jpg  \n",
            "  inflating: storage_tank_vs_helo_test/tst_storage_tank/c_t_0010833_5_rgb.jpg  \n",
            "  inflating: storage_tank_vs_helo_test/tst_storage_tank/c_t_0002617_5_rgb.jpg  \n",
            "  inflating: storage_tank_vs_helo_test/tst_storage_tank/c_t_0004434_7_rgb.jpg  \n",
            "  inflating: storage_tank_vs_helo_test/tst_storage_tank/c_t_0009161_0_rgb.jpg  \n",
            "  inflating: storage_tank_vs_helo_test/tst_storage_tank/c_t_0010662_2_rgb.jpg  \n",
            "  inflating: storage_tank_vs_helo_test/tst_storage_tank/c_t_0003360_5_rgb.jpg  \n",
            "  inflating: storage_tank_vs_helo_test/tst_storage_tank/c_t_0008123_1_rgb.jpg  \n",
            "  inflating: storage_tank_vs_helo_test/tst_storage_tank/c_t_0006176_3_rgb.jpg  \n",
            "  inflating: storage_tank_vs_helo_test/tst_storage_tank/c_t_0006480_9_rgb.jpg  \n",
            "  inflating: storage_tank_vs_helo_test/tst_storage_tank/c_t_0001756_3_rgb.jpg  \n",
            "  inflating: storage_tank_vs_helo_test/tst_storage_tank/c_t_0004013_1_rgb.jpg  \n",
            "  inflating: storage_tank_vs_helo_test/tst_storage_tank/c_t_0001546_1_rgb.jpg  \n",
            "  inflating: storage_tank_vs_helo_test/tst_storage_tank/c_t_0003993_0_rgb.jpg  \n",
            "  inflating: storage_tank_vs_helo_test/tst_storage_tank/c_t_0011853_0_rgb.jpg  \n",
            "  inflating: storage_tank_vs_helo_test/tst_storage_tank/c_t_0000630_1_rgb.jpg  \n",
            "  inflating: storage_tank_vs_helo_test/tst_storage_tank/c_t_0007923_0_rgb.jpg  \n",
            "  inflating: storage_tank_vs_helo_test/tst_storage_tank/c_t_0000301_6_rgb.jpg  \n",
            "  inflating: storage_tank_vs_helo_test/tst_storage_tank/c_t_0004488_0_rgb.jpg  \n",
            "  inflating: storage_tank_vs_helo_test/tst_storage_tank/c_t_0008867_9_rgb.jpg  \n",
            "  inflating: storage_tank_vs_helo_test/tst_storage_tank/c_t_0002270_4_rgb.jpg  \n",
            "  inflating: storage_tank_vs_helo_test/tst_storage_tank/c_t_0002495_7_rgb.jpg  \n",
            "  inflating: storage_tank_vs_helo_test/tst_storage_tank/c_t_0010158_0_rgb.jpg  \n",
            "  inflating: storage_tank_vs_helo_test/tst_storage_tank/c_t_0000010_1_rgb.jpg  \n",
            "  inflating: storage_tank_vs_helo_test/tst_storage_tank/c_t_0007622_0_rgb.jpg  \n",
            "  inflating: storage_tank_vs_helo_test/tst_storage_tank/c_t_0000002_0_rgb.jpg  \n",
            "  inflating: storage_tank_vs_helo_test/tst_storage_tank/c_t_0003863_5_rgb.jpg  \n",
            "  inflating: storage_tank_vs_helo_test/tst_storage_tank/c_t_0011471_5_rgb.jpg  \n",
            "  inflating: storage_tank_vs_helo_test/tst_storage_tank/c_t_0000365_4_rgb.jpg  \n",
            "  inflating: storage_tank_vs_helo_test/tst_storage_tank/c_t_0010895_6_rgb.jpg  \n",
            "  inflating: storage_tank_vs_helo_test/tst_storage_tank/c_t_0003519_2_rgb.jpg  \n",
            "  inflating: storage_tank_vs_helo_test/tst_storage_tank/c_t_0010668_0_rgb.jpg  \n",
            "  inflating: storage_tank_vs_helo_test/tst_storage_tank/c_t_0008918_3_rgb.jpg  \n",
            "  inflating: storage_tank_vs_helo_test/tst_storage_tank/c_t_0006112_1_rgb.jpg  \n",
            "  inflating: storage_tank_vs_helo_test/tst_storage_tank/c_t_0003403_0_rgb.jpg  \n",
            "  inflating: storage_tank_vs_helo_test/tst_storage_tank/c_t_0011350_0_rgb.jpg  \n",
            "  inflating: storage_tank_vs_helo_test/tst_storage_tank/c_t_0005591_7_rgb.jpg  \n",
            "  inflating: storage_tank_vs_helo_test/tst_storage_tank/c_t_0003671_1_rgb.jpg  \n",
            "  inflating: storage_tank_vs_helo_test/tst_storage_tank/c_t_0001557_4_rgb.jpg  \n",
            "  inflating: storage_tank_vs_helo_test/tst_storage_tank/c_t_0011492_4_rgb.jpg  \n",
            "  inflating: storage_tank_vs_helo_test/tst_storage_tank/c_t_0009557_3_rgb.jpg  \n",
            "  inflating: storage_tank_vs_helo_test/tst_storage_tank/c_t_0002703_3_rgb.jpg  \n",
            "  inflating: storage_tank_vs_helo_test/tst_storage_tank/c_t_0000929_2_rgb.jpg  \n",
            "  inflating: storage_tank_vs_helo_test/tst_storage_tank/c_t_0008519_1_rgb.jpg  \n",
            "  inflating: storage_tank_vs_helo_test/tst_storage_tank/c_t_0004475_3_rgb.jpg  \n",
            "  inflating: storage_tank_vs_helo_test/tst_storage_tank/c_t_0006540_0_rgb.jpg  \n",
            "  inflating: storage_tank_vs_helo_test/tst_storage_tank/c_t_0010474_1_rgb.jpg  \n",
            "  inflating: storage_tank_vs_helo_test/tst_storage_tank/c_t_0007216_4_rgb.jpg  \n",
            "  inflating: storage_tank_vs_helo_test/tst_storage_tank/c_t_0008068_1_rgb.jpg  \n",
            "  inflating: storage_tank_vs_helo_test/tst_storage_tank/c_t_0004943_0_rgb.jpg  \n",
            "  inflating: storage_tank_vs_helo_test/tst_storage_tank/c_t_0008676_0_rgb.jpg  \n",
            "  inflating: storage_tank_vs_helo_test/tst_storage_tank/c_t_0004344_0_rgb.jpg  \n",
            "  inflating: storage_tank_vs_helo_test/tst_storage_tank/c_t_0000139_2_rgb.jpg  \n",
            "  inflating: storage_tank_vs_helo_test/tst_storage_tank/c_t_0010231_0_rgb.jpg  \n",
            "  inflating: storage_tank_vs_helo_test/tst_storage_tank/c_t_0002924_7_rgb.jpg  \n",
            "  inflating: storage_tank_vs_helo_test/tst_storage_tank/c_t_0008867_0_rgb.jpg  \n",
            "  inflating: storage_tank_vs_helo_test/tst_storage_tank/c_t_0002480_4_rgb.jpg  \n",
            "  inflating: storage_tank_vs_helo_test/tst_storage_tank/c_t_0004488_9_rgb.jpg  \n",
            "  inflating: storage_tank_vs_helo_test/tst_storage_tank/c_t_0001341_0_rgb.jpg  \n",
            "  inflating: storage_tank_vs_helo_test/tst_storage_tank/c_t_0011672_5_rgb.jpg  \n",
            "  inflating: storage_tank_vs_helo_test/tst_storage_tank/c_t_0002791_3_rgb.jpg  \n",
            "  inflating: storage_tank_vs_helo_test/tst_storage_tank/c_t_0009915_2_rgb.jpg  \n",
            "  inflating: storage_tank_vs_helo_test/tst_storage_tank/c_t_0000010_8_rgb.jpg  \n",
            "  inflating: storage_tank_vs_helo_test/tst_storage_tank/c_t_0010405_0_rgb.jpg  \n",
            "  inflating: storage_tank_vs_helo_test/tst_storage_tank/c_t_0010507_1_rgb.jpg  \n",
            "  inflating: storage_tank_vs_helo_test/tst_storage_tank/c_t_0003719_6_rgb.jpg  \n",
            "  inflating: storage_tank_vs_helo_test/tst_storage_tank/c_t_0005829_1_rgb.jpg  \n",
            "  inflating: storage_tank_vs_helo_test/tst_storage_tank/c_t_0000165_0_rgb.jpg  \n",
            "  inflating: storage_tank_vs_helo_test/tst_storage_tank/c_t_0000780_3_rgb.jpg  \n",
            "  inflating: storage_tank_vs_helo_test/tst_storage_tank/c_t_0008593_2_rgb.jpg  \n",
            "  inflating: storage_tank_vs_helo_test/tst_storage_tank/c_t_0001899_1_rgb.jpg  \n",
            "  inflating: storage_tank_vs_helo_test/tst_storage_tank/c_t_0000034_4_rgb.jpg  \n",
            "  inflating: storage_tank_vs_helo_test/tst_storage_tank/c_t_0006334_7_rgb.jpg  \n",
            "  inflating: storage_tank_vs_helo_test/tst_storage_tank/c_t_0010409_3_rgb.jpg  \n",
            "  inflating: storage_tank_vs_helo_test/tst_storage_tank/c_t_0000329_0_rgb.jpg  \n",
            "  inflating: storage_tank_vs_helo_test/tst_storage_tank/c_t_0007251_1_rgb.jpg  \n",
            "  inflating: storage_tank_vs_helo_test/tst_storage_tank/c_t_0002544_2_rgb.jpg  \n",
            "  inflating: storage_tank_vs_helo_test/tst_storage_tank/c_t_0003746_0_rgb.jpg  \n",
            "  inflating: storage_tank_vs_helo_test/tst_storage_tank/c_t_0006480_0_rgb.jpg  \n",
            "  inflating: storage_tank_vs_helo_test/tst_storage_tank/c_t_0007230_6_rgb.jpg  \n",
            "  inflating: storage_tank_vs_helo_test/tst_storage_tank/c_t_0010668_1_rgb.jpg  \n",
            "  inflating: storage_tank_vs_helo_test/tst_storage_tank/c_t_0008918_2_rgb.jpg  \n",
            "  inflating: storage_tank_vs_helo_test/tst_storage_tank/c_t_0000788_7_rgb.jpg  \n",
            "  inflating: storage_tank_vs_helo_test/tst_storage_tank/c_t_0011471_4_rgb.jpg  \n",
            "  inflating: storage_tank_vs_helo_test/tst_storage_tank/c_t_0003863_4_rgb.jpg  \n",
            "  inflating: storage_tank_vs_helo_test/tst_storage_tank/c_t_0003310_6_rgb.jpg  \n",
            "  inflating: storage_tank_vs_helo_test/tst_storage_tank/c_t_0010895_7_rgb.jpg  \n",
            "  inflating: storage_tank_vs_helo_test/tst_storage_tank/c_t_0006540_1_rgb.jpg  \n",
            "  inflating: storage_tank_vs_helo_test/tst_storage_tank/c_t_0002111_0_rgb.jpg  \n",
            "  inflating: storage_tank_vs_helo_test/tst_storage_tank/c_t_0010474_0_rgb.jpg  \n",
            "  inflating: storage_tank_vs_helo_test/tst_storage_tank/c_t_0011350_1_rgb.jpg  \n",
            "  inflating: storage_tank_vs_helo_test/tst_storage_tank/c_t_0003671_0_rgb.jpg  \n",
            "  inflating: storage_tank_vs_helo_test/tst_storage_tank/c_t_0003403_1_rgb.jpg  \n",
            "  inflating: storage_tank_vs_helo_test/tst_storage_tank/c_t_0006112_0_rgb.jpg  \n",
            "  inflating: storage_tank_vs_helo_test/tst_storage_tank/c_t_0000929_3_rgb.jpg  \n",
            "  inflating: storage_tank_vs_helo_test/tst_storage_tank/c_t_0002703_2_rgb.jpg  \n",
            "  inflating: storage_tank_vs_helo_test/tst_storage_tank/c_t_0009557_2_rgb.jpg  \n",
            "  inflating: storage_tank_vs_helo_test/tst_storage_tank/c_t_0011492_5_rgb.jpg  \n",
            "  inflating: storage_tank_vs_helo_test/tst_storage_tank/c_t_0001557_5_rgb.jpg  \n",
            "  inflating: storage_tank_vs_helo_test/tst_storage_tank/c_t_0001341_1_rgb.jpg  \n",
            "  inflating: storage_tank_vs_helo_test/tst_storage_tank/c_t_0004488_8_rgb.jpg  \n",
            "  inflating: storage_tank_vs_helo_test/tst_storage_tank/c_t_0002480_5_rgb.jpg  \n",
            "  inflating: storage_tank_vs_helo_test/tst_storage_tank/c_t_0008867_1_rgb.jpg  \n",
            "  inflating: storage_tank_vs_helo_test/tst_storage_tank/c_t_0002924_6_rgb.jpg  \n",
            "  inflating: storage_tank_vs_helo_test/tst_storage_tank/c_t_0009915_3_rgb.jpg  \n",
            "  inflating: storage_tank_vs_helo_test/tst_storage_tank/c_t_0002791_2_rgb.jpg  \n",
            "  inflating: storage_tank_vs_helo_test/tst_storage_tank/c_t_0011672_4_rgb.jpg  \n",
            "  inflating: storage_tank_vs_helo_test/tst_storage_tank/c_t_0008542_0_rgb.jpg  \n",
            "  inflating: storage_tank_vs_helo_test/tst_storage_tank/c_t_0004943_1_rgb.jpg  \n",
            "  inflating: storage_tank_vs_helo_test/tst_storage_tank/c_t_0007216_5_rgb.jpg  \n",
            "  inflating: storage_tank_vs_helo_test/tst_storage_tank/c_t_0010231_1_rgb.jpg  \n",
            "  inflating: storage_tank_vs_helo_test/tst_storage_tank/c_t_0000139_3_rgb.jpg  \n",
            "  inflating: storage_tank_vs_helo_test/tst_storage_tank/c_t_0007251_0_rgb.jpg  \n",
            "  inflating: storage_tank_vs_helo_test/tst_storage_tank/c_t_0002544_3_rgb.jpg  \n",
            "  inflating: storage_tank_vs_helo_test/tst_storage_tank/c_t_0010409_2_rgb.jpg  \n",
            "  inflating: storage_tank_vs_helo_test/tst_storage_tank/c_t_0000329_1_rgb.jpg  \n",
            "  inflating: storage_tank_vs_helo_test/tst_storage_tank/c_t_0006334_6_rgb.jpg  \n",
            "  inflating: storage_tank_vs_helo_test/tst_storage_tank/c_t_0007230_7_rgb.jpg  \n",
            "  inflating: storage_tank_vs_helo_test/tst_storage_tank/c_t_0006480_1_rgb.jpg  \n",
            "  inflating: storage_tank_vs_helo_test/tst_storage_tank/c_t_0005551_9_rgb.jpg  \n",
            "  inflating: storage_tank_vs_helo_test/tst_storage_tank/c_t_0000780_2_rgb.jpg  \n",
            "  inflating: storage_tank_vs_helo_test/tst_storage_tank/c_t_0005829_0_rgb.jpg  \n",
            "  inflating: storage_tank_vs_helo_test/tst_storage_tank/c_t_0010405_1_rgb.jpg  \n",
            "  inflating: storage_tank_vs_helo_test/tst_storage_tank/c_t_0010507_0_rgb.jpg  \n",
            "  inflating: storage_tank_vs_helo_test/tst_storage_tank/c_t_0000034_5_rgb.jpg  \n",
            "  inflating: storage_tank_vs_helo_test/tst_storage_tank/c_t_0001899_0_rgb.jpg  \n",
            "  inflating: storage_tank_vs_helo_test/tst_storage_tank/c_t_0009936_4_rgb.jpg  \n",
            "  inflating: storage_tank_vs_helo_test/tst_storage_tank/c_t_0008222_1_rgb.jpg  \n",
            "  inflating: storage_tank_vs_helo_test/tst_storage_tank/c_t_0002111_9_rgb.jpg  \n",
            "  inflating: storage_tank_vs_helo_test/tst_storage_tank/c_t_0003582_5_rgb.jpg  \n",
            "  inflating: storage_tank_vs_helo_test/tst_storage_tank/c_t_0007930_3_rgb.jpg  \n",
            "  inflating: storage_tank_vs_helo_test/tst_storage_tank/c_t_0000553_2_rgb.jpg  \n",
            "  inflating: storage_tank_vs_helo_test/tst_storage_tank/c_t_0002650_1_rgb.jpg  \n",
            "  inflating: storage_tank_vs_helo_test/tst_storage_tank/c_t_0000765_2_rgb.jpg  \n",
            "  inflating: storage_tank_vs_helo_test/tst_storage_tank/c_t_0010668_8_rgb.jpg  \n",
            "  inflating: storage_tank_vs_helo_test/tst_storage_tank/c_t_0010860_1_rgb.jpg  \n",
            "  inflating: storage_tank_vs_helo_test/tst_storage_tank/c_t_0008735_4_rgb.jpg  \n",
            "  inflating: storage_tank_vs_helo_test/tst_storage_tank/c_t_0003415_6_rgb.jpg  \n",
            "  inflating: storage_tank_vs_helo_test/tst_storage_tank/c_t_0001410_6_rgb.jpg  \n",
            "  inflating: storage_tank_vs_helo_test/tst_storage_tank/c_t_0010833_4_rgb.jpg  \n",
            "  inflating: storage_tank_vs_helo_test/tst_storage_tank/c_t_0006760_6_rgb.jpg  \n",
            "  inflating: storage_tank_vs_helo_test/tst_storage_tank/c_t_0002350_0_rgb.jpg  \n",
            "  inflating: storage_tank_vs_helo_test/tst_storage_tank/c_t_0001042_7_rgb.jpg  \n",
            "  inflating: storage_tank_vs_helo_test/tst_storage_tank/c_t_0005542_2_rgb.jpg  \n",
            "  inflating: storage_tank_vs_helo_test/tst_storage_tank/c_t_0008221_5_rgb.jpg  \n",
            "  inflating: storage_tank_vs_helo_test/tst_storage_tank/c_t_0007550_6_rgb.jpg  \n",
            "  inflating: storage_tank_vs_helo_test/tst_storage_tank/c_t_0000750_2_rgb.jpg  \n",
            "  inflating: storage_tank_vs_helo_test/tst_storage_tank/c_t_0000329_8_rgb.jpg  \n",
            "  inflating: storage_tank_vs_helo_test/tst_storage_tank/c_t_0004231_0_rgb.jpg  \n",
            "  inflating: storage_tank_vs_helo_test/tst_storage_tank/c_t_0001756_2_rgb.jpg  \n",
            "  inflating: storage_tank_vs_helo_test/tst_storage_tank/c_t_0006480_8_rgb.jpg  \n",
            "  inflating: storage_tank_vs_helo_test/tst_storage_tank/c_t_0003360_4_rgb.jpg  \n",
            "  inflating: storage_tank_vs_helo_test/tst_storage_tank/c_t_0010662_3_rgb.jpg  \n",
            "  inflating: storage_tank_vs_helo_test/tst_storage_tank/c_t_0009161_1_rgb.jpg  \n",
            "  inflating: storage_tank_vs_helo_test/tst_storage_tank/c_t_0004434_6_rgb.jpg  \n",
            "  inflating: storage_tank_vs_helo_test/tst_storage_tank/c_t_0008123_0_rgb.jpg  \n",
            "  inflating: storage_tank_vs_helo_test/tst_storage_tank/c_t_0002495_6_rgb.jpg  \n",
            "  inflating: storage_tank_vs_helo_test/tst_storage_tank/c_t_0008867_8_rgb.jpg  \n",
            "  inflating: storage_tank_vs_helo_test/tst_storage_tank/c_t_0004488_1_rgb.jpg  \n",
            "  inflating: storage_tank_vs_helo_test/tst_storage_tank/c_t_0000301_7_rgb.jpg  \n",
            "  inflating: storage_tank_vs_helo_test/tst_storage_tank/c_t_0011853_1_rgb.jpg  \n",
            "  inflating: storage_tank_vs_helo_test/tst_storage_tank/c_t_0003993_1_rgb.jpg  \n",
            "  inflating: storage_tank_vs_helo_test/tst_storage_tank/c_t_0001546_0_rgb.jpg  \n",
            "  inflating: storage_tank_vs_helo_test/tst_storage_tank/c_t_0004013_0_rgb.jpg  \n",
            "  inflating: storage_tank_vs_helo_test/tst_storage_tank/c_t_0007923_1_rgb.jpg  \n",
            "  inflating: storage_tank_vs_helo_test/tst_storage_tank/c_t_0000630_0_rgb.jpg  \n",
            "  inflating: storage_tank_vs_helo_test/tst_storage_tank/c_t_0006371_4_rgb.jpg  \n",
            "  inflating: storage_tank_vs_helo_test/tst_helipad/c_t_0000775_1_rgb.jpg  \n",
            "  inflating: storage_tank_vs_helo_test/tst_helipad/c_t_0000554_5_rgb.jpg  \n",
            "  inflating: storage_tank_vs_helo_test/tst_helipad/c_t_0008652_1_rgb.jpg  \n",
            "  inflating: storage_tank_vs_helo_test/tst_helipad/c_t_0007988_7_rgb.jpg  \n",
            "  inflating: storage_tank_vs_helo_test/tst_helipad/c_t_0003732_0_rgb.jpg  \n",
            "  inflating: storage_tank_vs_helo_test/tst_helipad/c_t_0007718_5_rgb.jpg  \n",
            "  inflating: storage_tank_vs_helo_test/tst_helipad/c_t_0009931_3_rgb.jpg  \n",
            "  inflating: storage_tank_vs_helo_test/tst_helipad/c_t_0004109_7_rgb.jpg  \n",
            "  inflating: storage_tank_vs_helo_test/tst_helipad/c_t_0007437_3_rgb.jpg  \n",
            "  inflating: storage_tank_vs_helo_test/tst_helipad/c_t_0009132_1_rgb.jpg  \n",
            "  inflating: storage_tank_vs_helo_test/tst_helipad/c_t_0000040_4_rgb.jpg  \n",
            "  inflating: storage_tank_vs_helo_test/tst_helipad/c_t_0011880_9_rgb.jpg  \n",
            "  inflating: storage_tank_vs_helo_test/tst_helipad/c_t_0001926_0_rgb.jpg  \n",
            "  inflating: storage_tank_vs_helo_test/tst_helipad/c_t_0011197_4_rgb.jpg  \n",
            "  inflating: storage_tank_vs_helo_test/tst_helipad/c_t_0007885_1_rgb.jpg  \n",
            "  inflating: storage_tank_vs_helo_test/tst_helipad/c_t_0001162_7_rgb.jpg  \n",
            "  inflating: storage_tank_vs_helo_test/tst_helipad/c_t_0004190_6_rgb.jpg  \n",
            "  inflating: storage_tank_vs_helo_test/tst_helipad/c_t_0009195_1_rgb.jpg  \n",
            "  inflating: storage_tank_vs_helo_test/tst_helipad/c_t_0000380_0_rgb.jpg  \n",
            "  inflating: storage_tank_vs_helo_test/tst_helipad/c_t_0005090_1_rgb.jpg  \n",
            "  inflating: storage_tank_vs_helo_test/tst_helipad/c_t_0001404_3_rgb.jpg  \n",
            "  inflating: storage_tank_vs_helo_test/tst_helipad/c_t_0001774_3_rgb.jpg  \n",
            "  inflating: storage_tank_vs_helo_test/tst_helipad/c_t_0011054_0_rgb.jpg  \n",
            "  inflating: storage_tank_vs_helo_test/tst_helipad/c_t_0008765_0_rgb.jpg  \n",
            "  inflating: storage_tank_vs_helo_test/tst_helipad/c_t_0006107_6_rgb.jpg  \n",
            "  inflating: storage_tank_vs_helo_test/tst_helipad/c_t_0002732_8_rgb.jpg  \n",
            "  inflating: storage_tank_vs_helo_test/tst_helipad/c_t_0003994_6_rgb.jpg  \n",
            "  inflating: storage_tank_vs_helo_test/tst_helipad/c_t_0011493_3_rgb.jpg  \n",
            "  inflating: storage_tank_vs_helo_test/tst_helipad/c_t_0006943_1_rgb.jpg  \n",
            "  inflating: storage_tank_vs_helo_test/tst_helipad/c_t_0007850_4_rgb.jpg  \n",
            "  inflating: storage_tank_vs_helo_test/tst_helipad/c_t_0009422_6_rgb.jpg  \n",
            "  inflating: storage_tank_vs_helo_test/tst_helipad/c_t_0005413_3_rgb.jpg  \n",
            "  inflating: storage_tank_vs_helo_test/tst_helipad/c_t_0004368_4_rgb.jpg  \n",
            "  inflating: storage_tank_vs_helo_test/tst_helipad/c_t_0002143_3_rgb.jpg  \n",
            "  inflating: storage_tank_vs_helo_test/tst_helipad/c_t_0008945_6_rgb.jpg  \n",
            "  inflating: storage_tank_vs_helo_test/tst_helipad/c_t_0007673_6_rgb.jpg  \n",
            "  inflating: storage_tank_vs_helo_test/tst_helipad/c_t_0005754_4_rgb.jpg  \n",
            "  inflating: storage_tank_vs_helo_test/tst_helipad/c_t_0010333_5_rgb.jpg  \n",
            "  inflating: storage_tank_vs_helo_test/tst_helipad/c_t_0001896_2_rgb.jpg  \n",
            "  inflating: storage_tank_vs_helo_test/tst_helipad/c_t_0000380_9_rgb.jpg  \n",
            "  inflating: storage_tank_vs_helo_test/tst_helipad/c_t_0007681_2_rgb.jpg  \n",
            "  inflating: storage_tank_vs_helo_test/tst_helipad/c_t_0001451_7_rgb.jpg  \n",
            "  inflating: storage_tank_vs_helo_test/tst_helipad/c_t_0009195_8_rgb.jpg  \n",
            "  inflating: storage_tank_vs_helo_test/tst_helipad/c_t_0009096_3_rgb.jpg  \n",
            "  inflating: storage_tank_vs_helo_test/tst_helipad/c_t_0009269_3_rgb.jpg  \n",
            "  inflating: storage_tank_vs_helo_test/tst_helipad/c_t_0010244_3_rgb.jpg  \n",
            "  inflating: storage_tank_vs_helo_test/tst_helipad/c_t_0004989_0_rgb.jpg  \n",
            "  inflating: storage_tank_vs_helo_test/tst_helipad/c_t_0004088_3_rgb.jpg  \n",
            "  inflating: storage_tank_vs_helo_test/tst_helipad/c_t_0003732_9_rgb.jpg  \n",
            "  inflating: storage_tank_vs_helo_test/tst_helipad/c_t_0007910_5_rgb.jpg  \n",
            "  inflating: storage_tank_vs_helo_test/tst_helipad/c_t_0009132_8_rgb.jpg  \n",
            "  inflating: storage_tank_vs_helo_test/tst_helipad/c_t_0008376_5_rgb.jpg  \n",
            "  inflating: storage_tank_vs_helo_test/tst_helipad/c_t_0009582_2_rgb.jpg  \n",
            "  inflating: storage_tank_vs_helo_test/tst_helipad/c_t_0003681_6_rgb.jpg  \n",
            "  inflating: storage_tank_vs_helo_test/tst_helipad/c_t_0011849_0_rgb.jpg  \n",
            "  inflating: storage_tank_vs_helo_test/tst_helipad/c_t_0011654_3_rgb.jpg  \n",
            "  inflating: storage_tank_vs_helo_test/tst_helipad/c_t_0011880_0_rgb.jpg  \n",
            "  inflating: storage_tank_vs_helo_test/tst_helipad/c_t_0008072_8_rgb.jpg  \n",
            "  inflating: storage_tank_vs_helo_test/tst_helipad/c_t_0006424_0_rgb.jpg  \n",
            "  inflating: storage_tank_vs_helo_test/tst_helipad/c_t_0007329_4_rgb.jpg  \n",
            "  inflating: storage_tank_vs_helo_test/tst_helipad/c_t_0002732_1_rgb.jpg  \n",
            "  inflating: storage_tank_vs_helo_test/tst_helipad/c_t_0004288_7_rgb.jpg  \n",
            "  inflating: storage_tank_vs_helo_test/tst_helipad/c_t_0006943_8_rgb.jpg  \n",
            "  inflating: storage_tank_vs_helo_test/tst_helipad/c_t_0001645_3_rgb.jpg  \n",
            "  inflating: storage_tank_vs_helo_test/tst_helipad/c_t_0002694_4_rgb.jpg  \n",
            "  inflating: storage_tank_vs_helo_test/tst_helipad/c_t_0004706_3_rgb.jpg  \n",
            "  inflating: storage_tank_vs_helo_test/tst_helipad/c_t_0005090_8_rgb.jpg  \n",
            "  inflating: storage_tank_vs_helo_test/tst_helipad/c_t_0011806_0_rgb.jpg  \n",
            "  inflating: storage_tank_vs_helo_test/tst_helipad/c_t_0008765_9_rgb.jpg  \n",
            "  inflating: storage_tank_vs_helo_test/tst_helipad/c_t_0003995_5_rgb.jpg  \n",
            "  inflating: storage_tank_vs_helo_test/tst_helipad/c_t_0009195_9_rgb.jpg  \n",
            "  inflating: storage_tank_vs_helo_test/tst_helipad/c_t_0001451_6_rgb.jpg  \n",
            "  inflating: storage_tank_vs_helo_test/tst_helipad/c_t_0007681_3_rgb.jpg  \n",
            "  inflating: storage_tank_vs_helo_test/tst_helipad/c_t_0009356_6_rgb.jpg  \n",
            "  inflating: storage_tank_vs_helo_test/tst_helipad/c_t_0005754_5_rgb.jpg  \n",
            "  inflating: storage_tank_vs_helo_test/tst_helipad/c_t_0008376_4_rgb.jpg  \n",
            "  inflating: storage_tank_vs_helo_test/tst_helipad/c_t_0009132_9_rgb.jpg  \n",
            "  inflating: storage_tank_vs_helo_test/tst_helipad/c_t_0007329_5_rgb.jpg  \n",
            "  inflating: storage_tank_vs_helo_test/tst_helipad/c_t_0006424_1_rgb.jpg  \n",
            "  inflating: storage_tank_vs_helo_test/tst_helipad/c_t_0008072_9_rgb.jpg  \n",
            "  inflating: storage_tank_vs_helo_test/tst_helipad/c_t_0011880_1_rgb.jpg  \n",
            "  inflating: storage_tank_vs_helo_test/tst_helipad/c_t_0011654_2_rgb.jpg  \n",
            "  inflating: storage_tank_vs_helo_test/tst_helipad/c_t_0011849_1_rgb.jpg  \n",
            "  inflating: storage_tank_vs_helo_test/tst_helipad/c_t_0010244_2_rgb.jpg  \n",
            "  inflating: storage_tank_vs_helo_test/tst_helipad/c_t_0009269_2_rgb.jpg  \n",
            "  inflating: storage_tank_vs_helo_test/tst_helipad/c_t_0009096_2_rgb.jpg  \n",
            "  inflating: storage_tank_vs_helo_test/tst_helipad/c_t_0007935_2_rgb.jpg  \n",
            "  inflating: storage_tank_vs_helo_test/tst_helipad/c_t_0003732_8_rgb.jpg  \n",
            "  inflating: storage_tank_vs_helo_test/tst_helipad/c_t_0007910_4_rgb.jpg  \n",
            "  inflating: storage_tank_vs_helo_test/tst_helipad/c_t_0004989_1_rgb.jpg  \n",
            "  inflating: storage_tank_vs_helo_test/tst_helipad/c_t_0007196_2_rgb.jpg  \n",
            "  inflating: storage_tank_vs_helo_test/tst_helipad/c_t_0004706_2_rgb.jpg  \n",
            "  inflating: storage_tank_vs_helo_test/tst_helipad/c_t_0009680_6_rgb.jpg  \n",
            "  inflating: storage_tank_vs_helo_test/tst_helipad/c_t_0002694_5_rgb.jpg  \n",
            "  inflating: storage_tank_vs_helo_test/tst_helipad/c_t_0004288_6_rgb.jpg  \n",
            "  inflating: storage_tank_vs_helo_test/tst_helipad/c_t_0002732_0_rgb.jpg  \n",
            "  inflating: storage_tank_vs_helo_test/tst_helipad/c_t_0000501_0_rgb.jpg  \n",
            "  inflating: storage_tank_vs_helo_test/tst_helipad/c_t_0001645_2_rgb.jpg  \n",
            "  inflating: storage_tank_vs_helo_test/tst_helipad/c_t_0006943_9_rgb.jpg  \n",
            "  inflating: storage_tank_vs_helo_test/tst_helipad/c_t_0008765_8_rgb.jpg  \n",
            "  inflating: storage_tank_vs_helo_test/tst_helipad/c_t_0011806_1_rgb.jpg  \n",
            "  inflating: storage_tank_vs_helo_test/tst_helipad/c_t_0004357_7_rgb.jpg  \n",
            "  inflating: storage_tank_vs_helo_test/tst_helipad/c_t_0003995_4_rgb.jpg  \n",
            "  inflating: storage_tank_vs_helo_test/tst_helipad/c_t_0009132_0_rgb.jpg  \n",
            "  inflating: storage_tank_vs_helo_test/tst_helipad/c_t_0004039_5_rgb.jpg  \n",
            "  inflating: storage_tank_vs_helo_test/tst_helipad/c_t_0004109_6_rgb.jpg  \n",
            "  inflating: storage_tank_vs_helo_test/tst_helipad/c_t_0007437_2_rgb.jpg  \n",
            "  inflating: storage_tank_vs_helo_test/tst_helipad/c_t_0006424_8_rgb.jpg  \n",
            "  inflating: storage_tank_vs_helo_test/tst_helipad/c_t_0011880_8_rgb.jpg  \n",
            "  inflating: storage_tank_vs_helo_test/tst_helipad/c_t_0008072_0_rgb.jpg  \n",
            "  inflating: storage_tank_vs_helo_test/tst_helipad/c_t_0000040_5_rgb.jpg  \n",
            "  inflating: storage_tank_vs_helo_test/tst_helipad/c_t_0006597_7_rgb.jpg  \n",
            "  inflating: storage_tank_vs_helo_test/tst_helipad/c_t_0000775_0_rgb.jpg  \n",
            "  inflating: storage_tank_vs_helo_test/tst_helipad/c_t_0003732_1_rgb.jpg  \n",
            "  inflating: storage_tank_vs_helo_test/tst_helipad/c_t_0007988_6_rgb.jpg  \n",
            "  inflating: storage_tank_vs_helo_test/tst_helipad/c_t_0008652_0_rgb.jpg  \n",
            "  inflating: storage_tank_vs_helo_test/tst_helipad/c_t_0005824_4_rgb.jpg  \n",
            "  inflating: storage_tank_vs_helo_test/tst_helipad/c_t_0000380_1_rgb.jpg  \n",
            "  inflating: storage_tank_vs_helo_test/tst_helipad/c_t_0004190_7_rgb.jpg  \n",
            "  inflating: storage_tank_vs_helo_test/tst_helipad/c_t_0001162_6_rgb.jpg  \n",
            "  inflating: storage_tank_vs_helo_test/tst_helipad/c_t_0011197_5_rgb.jpg  \n",
            "  inflating: storage_tank_vs_helo_test/tst_helipad/c_t_0008765_1_rgb.jpg  \n",
            "  inflating: storage_tank_vs_helo_test/tst_helipad/c_t_0001774_2_rgb.jpg  \n",
            "  inflating: storage_tank_vs_helo_test/tst_helipad/c_t_0011054_1_rgb.jpg  \n",
            "  inflating: storage_tank_vs_helo_test/tst_helipad/c_t_0001404_2_rgb.jpg  \n",
            "  inflating: storage_tank_vs_helo_test/tst_helipad/c_t_0011226_0_rgb.jpg  \n",
            "  inflating: storage_tank_vs_helo_test/tst_helipad/c_t_0006107_7_rgb.jpg  \n",
            "  inflating: storage_tank_vs_helo_test/tst_helipad/c_t_0010689_3_rgb.jpg  \n",
            "  inflating: storage_tank_vs_helo_test/tst_helipad/c_t_0005090_0_rgb.jpg  \n",
            "  inflating: storage_tank_vs_helo_test/tst_helipad/c_t_0008945_7_rgb.jpg  \n",
            "  inflating: storage_tank_vs_helo_test/tst_helipad/c_t_0004368_5_rgb.jpg  \n",
            "  inflating: storage_tank_vs_helo_test/tst_helipad/c_t_0002143_2_rgb.jpg  \n",
            "  inflating: storage_tank_vs_helo_test/tst_helipad/c_t_0010641_9_rgb.jpg  \n",
            "  inflating: storage_tank_vs_helo_test/tst_helipad/c_t_0005413_2_rgb.jpg  \n",
            "  inflating: storage_tank_vs_helo_test/tst_helipad/c_t_0007673_7_rgb.jpg  \n",
            "  inflating: storage_tank_vs_helo_test/tst_helipad/c_t_0003994_7_rgb.jpg  \n",
            "  inflating: storage_tank_vs_helo_test/tst_helipad/c_t_0007803_0_rgb.jpg  \n",
            "  inflating: storage_tank_vs_helo_test/tst_helipad/c_t_0002732_9_rgb.jpg  \n",
            "  inflating: storage_tank_vs_helo_test/tst_helipad/c_t_0009422_7_rgb.jpg  \n",
            "  inflating: storage_tank_vs_helo_test/tst_helipad/c_t_0007850_5_rgb.jpg  \n",
            "  inflating: storage_tank_vs_helo_test/tst_helipad/c_t_0006943_0_rgb.jpg  \n",
            "  inflating: storage_tank_vs_helo_test/tst_helipad/c_t_0011493_2_rgb.jpg  \n",
            "  inflating: storage_tank_vs_helo_test/tst_helipad/c_t_0010482_6_rgb.jpg  \n",
            "  inflating: storage_tank_vs_helo_test/tst_helipad/c_t_0011654_0_rgb.jpg  \n",
            "  inflating: storage_tank_vs_helo_test/tst_helipad/c_t_0011880_3_rgb.jpg  \n",
            "  inflating: storage_tank_vs_helo_test/tst_helipad/c_t_0007329_7_rgb.jpg  \n",
            "  inflating: storage_tank_vs_helo_test/tst_helipad/c_t_0004989_3_rgb.jpg  \n",
            "  inflating: storage_tank_vs_helo_test/tst_helipad/c_t_0004088_0_rgb.jpg  \n",
            "  inflating: storage_tank_vs_helo_test/tst_helipad/c_t_0006044_0_rgb.jpg  \n",
            "  inflating: storage_tank_vs_helo_test/tst_helipad/c_t_0007910_6_rgb.jpg  \n",
            "  inflating: storage_tank_vs_helo_test/tst_helipad/c_t_0009096_0_rgb.jpg  \n",
            "  inflating: storage_tank_vs_helo_test/tst_helipad/c_t_0010244_0_rgb.jpg  \n",
            "  inflating: storage_tank_vs_helo_test/tst_helipad/c_t_0009269_0_rgb.jpg  \n",
            "  inflating: storage_tank_vs_helo_test/tst_helipad/c_t_0007681_1_rgb.jpg  \n",
            "  inflating: storage_tank_vs_helo_test/tst_helipad/c_t_0001451_4_rgb.jpg  \n",
            "  inflating: storage_tank_vs_helo_test/tst_helipad/c_t_0010333_6_rgb.jpg  \n",
            "  inflating: storage_tank_vs_helo_test/tst_helipad/c_t_0001896_1_rgb.jpg  \n",
            "  inflating: storage_tank_vs_helo_test/tst_helipad/c_t_0005754_7_rgb.jpg  \n",
            "  inflating: storage_tank_vs_helo_test/tst_helipad/c_t_0009356_4_rgb.jpg  \n",
            "  inflating: storage_tank_vs_helo_test/tst_helipad/c_t_0006247_0_rgb.jpg  \n",
            "  inflating: storage_tank_vs_helo_test/tst_helipad/c_t_0001774_9_rgb.jpg  \n",
            "  inflating: storage_tank_vs_helo_test/tst_helipad/c_t_0011457_0_rgb.jpg  \n",
            "  inflating: storage_tank_vs_helo_test/tst_helipad/c_t_0002694_7_rgb.jpg  \n",
            "  inflating: storage_tank_vs_helo_test/tst_helipad/c_t_0009680_4_rgb.jpg  \n",
            "  inflating: storage_tank_vs_helo_test/tst_helipad/c_t_0001398_1_rgb.jpg  \n",
            "  inflating: storage_tank_vs_helo_test/tst_helipad/c_t_0004706_0_rgb.jpg  \n",
            "  inflating: storage_tank_vs_helo_test/tst_helipad/c_t_0005413_9_rgb.jpg  \n",
            "  inflating: storage_tank_vs_helo_test/tst_helipad/c_t_0010641_2_rgb.jpg  \n",
            "  inflating: storage_tank_vs_helo_test/tst_helipad/c_t_0007196_0_rgb.jpg  \n",
            "  inflating: storage_tank_vs_helo_test/tst_helipad/c_t_0000552_7_rgb.jpg  \n",
            "  inflating: storage_tank_vs_helo_test/tst_helipad/c_t_0002732_2_rgb.jpg  \n",
            "  inflating: storage_tank_vs_helo_test/tst_helipad/c_t_0004288_4_rgb.jpg  \n",
            "  inflating: storage_tank_vs_helo_test/tst_helipad/c_t_0000196_0_rgb.jpg  \n",
            "  inflating: storage_tank_vs_helo_test/tst_helipad/c_t_0005340_0_rgb.jpg  \n",
            "  inflating: storage_tank_vs_helo_test/tst_helipad/c_t_0009195_2_rgb.jpg  \n",
            "  inflating: storage_tank_vs_helo_test/tst_helipad/c_t_0005824_6_rgb.jpg  \n",
            "  inflating: storage_tank_vs_helo_test/tst_helipad/c_t_0005211_4_rgb.jpg  \n",
            "  inflating: storage_tank_vs_helo_test/tst_helipad/c_t_0004190_5_rgb.jpg  \n",
            "  inflating: storage_tank_vs_helo_test/tst_helipad/c_t_0001014_8_rgb.jpg  \n",
            "  inflating: storage_tank_vs_helo_test/tst_helipad/c_t_0008683_1_rgb.jpg  \n",
            "  inflating: storage_tank_vs_helo_test/tst_helipad/c_t_0011654_9_rgb.jpg  \n",
            "  inflating: storage_tank_vs_helo_test/tst_helipad/c_t_0001926_3_rgb.jpg  \n",
            "  inflating: storage_tank_vs_helo_test/tst_helipad/c_t_0007437_0_rgb.jpg  \n",
            "  inflating: storage_tank_vs_helo_test/tst_helipad/c_t_0004109_4_rgb.jpg  \n",
            "  inflating: storage_tank_vs_helo_test/tst_helipad/c_t_0009132_2_rgb.jpg  \n",
            "  inflating: storage_tank_vs_helo_test/tst_helipad/c_t_0009582_8_rgb.jpg  \n",
            "  inflating: storage_tank_vs_helo_test/tst_helipad/c_t_0001788_0_rgb.jpg  \n",
            "  inflating: storage_tank_vs_helo_test/tst_helipad/c_t_0007988_4_rgb.jpg  \n",
            "  inflating: storage_tank_vs_helo_test/tst_helipad/c_t_0007718_6_rgb.jpg  \n",
            "  inflating: storage_tank_vs_helo_test/tst_helipad/c_t_0003732_3_rgb.jpg  \n",
            "  inflating: storage_tank_vs_helo_test/tst_helipad/c_t_0010244_9_rgb.jpg  \n",
            "  inflating: storage_tank_vs_helo_test/tst_helipad/c_t_0000775_2_rgb.jpg  \n",
            "  inflating: storage_tank_vs_helo_test/tst_helipad/c_t_0009269_9_rgb.jpg  \n",
            "  inflating: storage_tank_vs_helo_test/tst_helipad/c_t_0007673_5_rgb.jpg  \n",
            "  inflating: storage_tank_vs_helo_test/tst_helipad/c_t_0008945_5_rgb.jpg  \n",
            "  inflating: storage_tank_vs_helo_test/tst_helipad/c_t_0002143_0_rgb.jpg  \n",
            "  inflating: storage_tank_vs_helo_test/tst_helipad/c_t_0004368_7_rgb.jpg  \n",
            "  inflating: storage_tank_vs_helo_test/tst_helipad/c_t_0011493_0_rgb.jpg  \n",
            "  inflating: storage_tank_vs_helo_test/tst_helipad/c_t_0010482_4_rgb.jpg  \n",
            "  inflating: storage_tank_vs_helo_test/tst_helipad/c_t_0006943_2_rgb.jpg  \n",
            "  inflating: storage_tank_vs_helo_test/tst_helipad/c_t_0005538_4_rgb.jpg  \n",
            "  inflating: storage_tank_vs_helo_test/tst_helipad/c_t_0009422_5_rgb.jpg  \n",
            "  inflating: storage_tank_vs_helo_test/tst_helipad/c_t_0006107_5_rgb.jpg  \n",
            "  inflating: storage_tank_vs_helo_test/tst_helipad/c_t_0001404_0_rgb.jpg  \n",
            "  inflating: storage_tank_vs_helo_test/tst_helipad/c_t_0011054_3_rgb.jpg  \n",
            "  inflating: storage_tank_vs_helo_test/tst_helipad/c_t_0001774_0_rgb.jpg  \n",
            "  inflating: storage_tank_vs_helo_test/tst_helipad/c_t_0008765_3_rgb.jpg  \n",
            "  inflating: storage_tank_vs_helo_test/tst_helipad/c_t_0010689_1_rgb.jpg  \n",
            "  inflating: storage_tank_vs_helo_test/tst_helipad/c_t_0002988_8_rgb.jpg  \n",
            "  inflating: storage_tank_vs_helo_test/tst_helipad/c_t_0000014_0_rgb.jpg  \n",
            "  inflating: storage_tank_vs_helo_test/tst_helipad/c_t_0007128_0_rgb.jpg  \n",
            "  inflating: storage_tank_vs_helo_test/tst_helipad/c_t_0001162_5_rgb.jpg  \n",
            "  inflating: storage_tank_vs_helo_test/tst_helipad/c_t_0004190_4_rgb.jpg  \n",
            "  inflating: storage_tank_vs_helo_test/tst_helipad/c_t_0011197_6_rgb.jpg  \n",
            "  inflating: storage_tank_vs_helo_test/tst_helipad/c_t_0008683_0_rgb.jpg  \n",
            "  inflating: storage_tank_vs_helo_test/tst_helipad/c_t_0004396_8_rgb.jpg  \n",
            "  inflating: storage_tank_vs_helo_test/tst_helipad/c_t_0000380_2_rgb.jpg  \n",
            "  inflating: storage_tank_vs_helo_test/tst_helipad/c_t_0005211_5_rgb.jpg  \n",
            "  inflating: storage_tank_vs_helo_test/tst_helipad/c_t_0007718_7_rgb.jpg  \n",
            "  inflating: storage_tank_vs_helo_test/tst_helipad/c_t_0003732_2_rgb.jpg  \n",
            "  inflating: storage_tank_vs_helo_test/tst_helipad/c_t_0008652_3_rgb.jpg  \n",
            "  inflating: storage_tank_vs_helo_test/tst_helipad/c_t_0007988_5_rgb.jpg  \n",
            "  inflating: storage_tank_vs_helo_test/tst_helipad/c_t_0000554_7_rgb.jpg  \n",
            "  inflating: storage_tank_vs_helo_test/tst_helipad/c_t_0006597_4_rgb.jpg  \n",
            "  inflating: storage_tank_vs_helo_test/tst_helipad/c_t_0010244_8_rgb.jpg  \n",
            "  inflating: storage_tank_vs_helo_test/tst_helipad/c_t_0008835_0_rgb.jpg  \n",
            "  inflating: storage_tank_vs_helo_test/tst_helipad/c_t_0011654_8_rgb.jpg  \n",
            "  inflating: storage_tank_vs_helo_test/tst_helipad/c_t_0000040_6_rgb.jpg  \n",
            "  inflating: storage_tank_vs_helo_test/tst_helipad/c_t_0009582_9_rgb.jpg  \n",
            "  inflating: storage_tank_vs_helo_test/tst_helipad/c_t_0004039_6_rgb.jpg  \n",
            "  inflating: storage_tank_vs_helo_test/tst_helipad/c_t_0009132_3_rgb.jpg  \n",
            "  inflating: storage_tank_vs_helo_test/tst_helipad/c_t_0007437_1_rgb.jpg  \n",
            "  inflating: storage_tank_vs_helo_test/tst_helipad/c_t_0009422_4_rgb.jpg  \n",
            "  inflating: storage_tank_vs_helo_test/tst_helipad/c_t_0006943_3_rgb.jpg  \n",
            "  inflating: storage_tank_vs_helo_test/tst_helipad/c_t_0010482_5_rgb.jpg  \n",
            "  inflating: storage_tank_vs_helo_test/tst_helipad/c_t_0003994_4_rgb.jpg  \n",
            "  inflating: storage_tank_vs_helo_test/tst_helipad/c_t_0007673_4_rgb.jpg  \n",
            "  inflating: storage_tank_vs_helo_test/tst_helipad/c_t_0004368_6_rgb.jpg  \n",
            "  inflating: storage_tank_vs_helo_test/tst_helipad/c_t_0008945_4_rgb.jpg  \n",
            "  inflating: storage_tank_vs_helo_test/tst_helipad/c_t_0005413_1_rgb.jpg  \n",
            "  inflating: storage_tank_vs_helo_test/tst_helipad/c_t_0002988_9_rgb.jpg  \n",
            "  inflating: storage_tank_vs_helo_test/tst_helipad/c_t_0010689_0_rgb.jpg  \n",
            "  inflating: storage_tank_vs_helo_test/tst_helipad/c_t_0006107_4_rgb.jpg  \n",
            "  inflating: storage_tank_vs_helo_test/tst_helipad/c_t_0008765_2_rgb.jpg  \n",
            "  inflating: storage_tank_vs_helo_test/tst_helipad/c_t_0011054_2_rgb.jpg  \n",
            "  inflating: storage_tank_vs_helo_test/tst_helipad/c_t_0001774_1_rgb.jpg  \n",
            "  inflating: storage_tank_vs_helo_test/tst_helipad/c_t_0001404_1_rgb.jpg  \n",
            "  inflating: storage_tank_vs_helo_test/tst_helipad/c_t_0007910_7_rgb.jpg  \n",
            "  inflating: storage_tank_vs_helo_test/tst_helipad/c_t_0006044_1_rgb.jpg  \n",
            "  inflating: storage_tank_vs_helo_test/tst_helipad/c_t_0004088_1_rgb.jpg  \n",
            "  inflating: storage_tank_vs_helo_test/tst_helipad/c_t_0011198_8_rgb.jpg  \n",
            "  inflating: storage_tank_vs_helo_test/tst_helipad/c_t_0004989_2_rgb.jpg  \n",
            "  inflating: storage_tank_vs_helo_test/tst_helipad/c_t_0009269_1_rgb.jpg  \n",
            "  inflating: storage_tank_vs_helo_test/tst_helipad/c_t_0010244_1_rgb.jpg  \n",
            "  inflating: storage_tank_vs_helo_test/tst_helipad/c_t_0009096_1_rgb.jpg  \n",
            "  inflating: storage_tank_vs_helo_test/tst_helipad/c_t_0007935_1_rgb.jpg  \n",
            "  inflating: storage_tank_vs_helo_test/tst_helipad/c_t_0007329_6_rgb.jpg  \n",
            "  inflating: storage_tank_vs_helo_test/tst_helipad/c_t_0011654_1_rgb.jpg  \n",
            "  inflating: storage_tank_vs_helo_test/tst_helipad/c_t_0011849_2_rgb.jpg  \n",
            "  inflating: storage_tank_vs_helo_test/tst_helipad/c_t_0007437_8_rgb.jpg  \n",
            "  inflating: storage_tank_vs_helo_test/tst_helipad/c_t_0009133_0_rgb.jpg  \n",
            "  inflating: storage_tank_vs_helo_test/tst_helipad/c_t_0004396_1_rgb.jpg  \n",
            "  inflating: storage_tank_vs_helo_test/tst_helipad/c_t_0009356_5_rgb.jpg  \n",
            "  inflating: storage_tank_vs_helo_test/tst_helipad/c_t_0001451_5_rgb.jpg  \n",
            "  inflating: storage_tank_vs_helo_test/tst_helipad/c_t_0007681_0_rgb.jpg  \n",
            "  inflating: storage_tank_vs_helo_test/tst_helipad/c_t_0001896_0_rgb.jpg  \n",
            "  inflating: storage_tank_vs_helo_test/tst_helipad/c_t_0010333_7_rgb.jpg  \n",
            "  inflating: storage_tank_vs_helo_test/tst_helipad/c_t_0011457_1_rgb.jpg  \n",
            "  inflating: storage_tank_vs_helo_test/tst_helipad/c_t_0003995_7_rgb.jpg  \n",
            "  inflating: storage_tank_vs_helo_test/tst_helipad/c_t_0004357_4_rgb.jpg  \n",
            "  inflating: storage_tank_vs_helo_test/tst_helipad/c_t_0010690_0_rgb.jpg  \n",
            "  inflating: storage_tank_vs_helo_test/tst_helipad/c_t_0001774_8_rgb.jpg  \n",
            "  inflating: storage_tank_vs_helo_test/tst_helipad/c_t_0008672_0_rgb.jpg  \n",
            "  inflating: storage_tank_vs_helo_test/tst_helipad/c_t_0006247_1_rgb.jpg  \n",
            "  inflating: storage_tank_vs_helo_test/tst_helipad/c_t_0000552_6_rgb.jpg  \n",
            "  inflating: storage_tank_vs_helo_test/tst_helipad/c_t_0001645_1_rgb.jpg  \n",
            "  inflating: storage_tank_vs_helo_test/tst_helipad/c_t_0011493_8_rgb.jpg  \n",
            "  inflating: storage_tank_vs_helo_test/tst_helipad/c_t_0004448_0_rgb.jpg  \n",
            "  inflating: storage_tank_vs_helo_test/tst_helipad/c_t_0000577_0_rgb.jpg  \n",
            "  inflating: storage_tank_vs_helo_test/tst_helipad/c_t_0004288_5_rgb.jpg  \n",
            "  inflating: storage_tank_vs_helo_test/tst_helipad/c_t_0002732_3_rgb.jpg  \n",
            "  inflating: storage_tank_vs_helo_test/tst_helipad/c_t_0004706_1_rgb.jpg  \n",
            "  inflating: storage_tank_vs_helo_test/tst_helipad/c_t_0009680_5_rgb.jpg  \n",
            "  inflating: storage_tank_vs_helo_test/tst_helipad/c_t_0002694_6_rgb.jpg  \n",
            "  inflating: storage_tank_vs_helo_test/tst_helipad/c_t_0010641_3_rgb.jpg  \n",
            "  inflating: storage_tank_vs_helo_test/tst_helipad/c_t_0007196_1_rgb.jpg  \n",
            "  inflating: storage_tank_vs_helo_test/tst_helipad/c_t_0002143_8_rgb.jpg  \n",
            "  inflating: storage_tank_vs_helo_test/tst_helipad/c_t_0007741_0_rgb.jpg  \n",
            "  inflating: storage_tank_vs_helo_test/tst_helipad/c_t_0009301_3_rgb.jpg  \n",
            "  inflating: storage_tank_vs_helo_test/tst_helipad/c_t_0006107_8_rgb.jpg  \n",
            "  inflating: storage_tank_vs_helo_test/tst_helipad/c_t_0004357_1_rgb.jpg  \n",
            "  inflating: storage_tank_vs_helo_test/tst_helipad/c_t_0003995_2_rgb.jpg  \n",
            "  inflating: storage_tank_vs_helo_test/tst_helipad/c_t_0003994_8_rgb.jpg  \n",
            "  inflating: storage_tank_vs_helo_test/tst_helipad/c_t_0002732_6_rgb.jpg  \n",
            "  inflating: storage_tank_vs_helo_test/tst_helipad/c_t_0009422_8_rgb.jpg  \n",
            "  inflating: storage_tank_vs_helo_test/tst_helipad/c_t_0010482_9_rgb.jpg  \n",
            "  inflating: storage_tank_vs_helo_test/tst_helipad/c_t_0001645_4_rgb.jpg  \n",
            "  inflating: storage_tank_vs_helo_test/tst_helipad/c_t_0008945_8_rgb.jpg  \n",
            "  inflating: storage_tank_vs_helo_test/tst_helipad/c_t_0008860_1_rgb.jpg  \n",
            "  inflating: storage_tank_vs_helo_test/tst_helipad/c_t_0004706_4_rgb.jpg  \n",
            "  inflating: storage_tank_vs_helo_test/tst_helipad/c_t_0009409_3_rgb.jpg  \n",
            "  inflating: storage_tank_vs_helo_test/tst_helipad/c_t_0007673_8_rgb.jpg  \n",
            "  inflating: storage_tank_vs_helo_test/tst_helipad/c_t_0002694_3_rgb.jpg  \n",
            "  inflating: storage_tank_vs_helo_test/tst_helipad/c_t_0009096_4_rgb.jpg  \n",
            "  inflating: storage_tank_vs_helo_test/tst_helipad/c_t_0009269_4_rgb.jpg  \n",
            "  inflating: storage_tank_vs_helo_test/tst_helipad/c_t_0001560_9_rgb.jpg  \n",
            "  inflating: storage_tank_vs_helo_test/tst_helipad/c_t_0006597_8_rgb.jpg  \n",
            "  inflating: storage_tank_vs_helo_test/tst_helipad/c_t_0010244_4_rgb.jpg  \n",
            "  inflating: storage_tank_vs_helo_test/tst_helipad/c_t_0004088_4_rgb.jpg  \n",
            "  inflating: storage_tank_vs_helo_test/tst_helipad/c_t_0008376_2_rgb.jpg  \n",
            "  inflating: storage_tank_vs_helo_test/tst_helipad/c_t_0006424_7_rgb.jpg  \n",
            "  inflating: storage_tank_vs_helo_test/tst_helipad/c_t_0007329_3_rgb.jpg  \n",
            "  inflating: storage_tank_vs_helo_test/tst_helipad/c_t_0011880_7_rgb.jpg  \n",
            "  inflating: storage_tank_vs_helo_test/tst_helipad/c_t_0011654_4_rgb.jpg  \n",
            "  inflating: storage_tank_vs_helo_test/tst_helipad/c_t_0005754_3_rgb.jpg  \n",
            "  inflating: storage_tank_vs_helo_test/tst_helipad/c_t_0009356_0_rgb.jpg  \n",
            "  inflating: storage_tank_vs_helo_test/tst_helipad/c_t_0001014_5_rgb.jpg  \n",
            "  inflating: storage_tank_vs_helo_test/tst_helipad/c_t_0004190_8_rgb.jpg  \n",
            "  inflating: storage_tank_vs_helo_test/tst_helipad/c_t_0000985_0_rgb.jpg  \n",
            "  inflating: storage_tank_vs_helo_test/tst_helipad/c_t_0010333_2_rgb.jpg  \n",
            "  inflating: storage_tank_vs_helo_test/tst_helipad/c_t_0005211_9_rgb.jpg  \n",
            "  inflating: storage_tank_vs_helo_test/tst_helipad/c_t_0004971_1_rgb.jpg  \n",
            "  inflating: storage_tank_vs_helo_test/tst_helipad/c_t_0001451_0_rgb.jpg  \n",
            "  inflating: storage_tank_vs_helo_test/tst_helipad/c_t_0004288_9_rgb.jpg  \n",
            "  inflating: storage_tank_vs_helo_test/tst_helipad/c_t_0003994_1_rgb.jpg  \n",
            "  inflating: storage_tank_vs_helo_test/tst_helipad/c_t_0009422_1_rgb.jpg  \n",
            "  inflating: storage_tank_vs_helo_test/tst_helipad/c_t_0005538_0_rgb.jpg  \n",
            "  inflating: storage_tank_vs_helo_test/tst_helipad/c_t_0010482_0_rgb.jpg  \n",
            "  inflating: storage_tank_vs_helo_test/tst_helipad/c_t_0011493_4_rgb.jpg  \n",
            "  inflating: storage_tank_vs_helo_test/tst_helipad/c_t_0006943_6_rgb.jpg  \n",
            "  inflating: storage_tank_vs_helo_test/tst_helipad/c_t_0007850_3_rgb.jpg  \n",
            "  inflating: storage_tank_vs_helo_test/tst_helipad/c_t_0002143_4_rgb.jpg  \n",
            "  inflating: storage_tank_vs_helo_test/tst_helipad/c_t_0005413_4_rgb.jpg  \n",
            "  inflating: storage_tank_vs_helo_test/tst_helipad/c_t_0007673_1_rgb.jpg  \n",
            "  inflating: storage_tank_vs_helo_test/tst_helipad/c_t_0003933_1_rgb.jpg  \n",
            "  inflating: storage_tank_vs_helo_test/tst_helipad/c_t_0001774_4_rgb.jpg  \n",
            "  inflating: storage_tank_vs_helo_test/tst_helipad/c_t_0008765_7_rgb.jpg  \n",
            "  inflating: storage_tank_vs_helo_test/tst_helipad/c_t_0001404_4_rgb.jpg  \n",
            "  inflating: storage_tank_vs_helo_test/tst_helipad/c_t_0006107_1_rgb.jpg  \n",
            "  inflating: storage_tank_vs_helo_test/tst_helipad/c_t_0009356_9_rgb.jpg  \n",
            "  inflating: storage_tank_vs_helo_test/tst_helipad/c_t_0002926_3_rgb.jpg  \n",
            "  inflating: storage_tank_vs_helo_test/tst_helipad/c_t_0011197_3_rgb.jpg  \n",
            "  inflating: storage_tank_vs_helo_test/tst_helipad/c_t_0004190_1_rgb.jpg  \n",
            "  inflating: storage_tank_vs_helo_test/tst_helipad/c_t_0002545_2_rgb.jpg  \n",
            "  inflating: storage_tank_vs_helo_test/tst_helipad/c_t_0005211_0_rgb.jpg  \n",
            "  inflating: storage_tank_vs_helo_test/tst_helipad/c_t_0006917_1_rgb.jpg  \n",
            "  inflating: storage_tank_vs_helo_test/tst_helipad/c_t_0009195_6_rgb.jpg  \n",
            "  inflating: storage_tank_vs_helo_test/tst_helipad/c_t_0000380_7_rgb.jpg  \n",
            "  inflating: storage_tank_vs_helo_test/tst_helipad/c_t_0003732_7_rgb.jpg  \n",
            "  inflating: storage_tank_vs_helo_test/tst_helipad/c_t_0007718_2_rgb.jpg  \n",
            "  inflating: storage_tank_vs_helo_test/tst_helipad/c_t_0007988_0_rgb.jpg  \n",
            "  inflating: storage_tank_vs_helo_test/tst_helipad/c_t_0003681_8_rgb.jpg  \n",
            "  inflating: storage_tank_vs_helo_test/tst_helipad/c_t_0009931_4_rgb.jpg  \n",
            "  inflating: storage_tank_vs_helo_test/tst_helipad/c_t_0004109_0_rgb.jpg  \n",
            "  inflating: storage_tank_vs_helo_test/tst_helipad/c_t_0007437_4_rgb.jpg  \n",
            "  inflating: storage_tank_vs_helo_test/tst_helipad/c_t_0009132_6_rgb.jpg  \n",
            "  inflating: storage_tank_vs_helo_test/tst_helipad/c_t_0004039_3_rgb.jpg  \n",
            "  inflating: storage_tank_vs_helo_test/tst_helipad/c_t_0001926_7_rgb.jpg  \n",
            "  inflating: storage_tank_vs_helo_test/tst_helipad/c_t_0010614_2_rgb.jpg  \n",
            "  inflating: storage_tank_vs_helo_test/tst_helipad/c_t_0010348_1_rgb.jpg  \n",
            "  inflating: storage_tank_vs_helo_test/tst_helipad/c_t_0004368_2_rgb.jpg  \n",
            "  inflating: storage_tank_vs_helo_test/tst_helipad/c_t_0002143_5_rgb.jpg  \n",
            "  inflating: storage_tank_vs_helo_test/tst_helipad/c_t_0007673_0_rgb.jpg  \n",
            "  inflating: storage_tank_vs_helo_test/tst_helipad/c_t_0003994_0_rgb.jpg  \n",
            "  inflating: storage_tank_vs_helo_test/tst_helipad/c_t_0004288_8_rgb.jpg  \n",
            "  inflating: storage_tank_vs_helo_test/tst_helipad/c_t_0007850_2_rgb.jpg  \n",
            "  inflating: storage_tank_vs_helo_test/tst_helipad/c_t_0006943_7_rgb.jpg  \n",
            "  inflating: storage_tank_vs_helo_test/tst_helipad/c_t_0005538_1_rgb.jpg  \n",
            "  inflating: storage_tank_vs_helo_test/tst_helipad/c_t_0009422_0_rgb.jpg  \n",
            "  inflating: storage_tank_vs_helo_test/tst_helipad/c_t_0008765_6_rgb.jpg  \n",
            "  inflating: storage_tank_vs_helo_test/tst_helipad/c_t_0004357_9_rgb.jpg  \n",
            "  inflating: storage_tank_vs_helo_test/tst_helipad/c_t_0003933_0_rgb.jpg  \n",
            "  inflating: storage_tank_vs_helo_test/tst_helipad/c_t_0005824_3_rgb.jpg  \n",
            "  inflating: storage_tank_vs_helo_test/tst_helipad/c_t_0000380_6_rgb.jpg  \n",
            "  inflating: storage_tank_vs_helo_test/tst_helipad/c_t_0009195_7_rgb.jpg  \n",
            "  inflating: storage_tank_vs_helo_test/tst_helipad/c_t_0004971_9_rgb.jpg  \n",
            "  inflating: storage_tank_vs_helo_test/tst_helipad/c_t_0001451_8_rgb.jpg  \n",
            "  inflating: storage_tank_vs_helo_test/tst_helipad/c_t_0006917_0_rgb.jpg  \n",
            "  inflating: storage_tank_vs_helo_test/tst_helipad/c_t_0002926_2_rgb.jpg  \n",
            "  inflating: storage_tank_vs_helo_test/tst_helipad/c_t_0009356_8_rgb.jpg  \n",
            "  inflating: storage_tank_vs_helo_test/tst_helipad/c_t_0004190_0_rgb.jpg  \n",
            "  inflating: storage_tank_vs_helo_test/tst_helipad/c_t_0006358_2_rgb.jpg  \n",
            "  inflating: storage_tank_vs_helo_test/tst_helipad/c_t_0001162_1_rgb.jpg  \n",
            "  inflating: storage_tank_vs_helo_test/tst_helipad/c_t_0011197_2_rgb.jpg  \n",
            "  inflating: storage_tank_vs_helo_test/tst_helipad/c_t_0009132_7_rgb.jpg  \n",
            "  inflating: storage_tank_vs_helo_test/tst_helipad/c_t_0004039_2_rgb.jpg  \n",
            "  inflating: storage_tank_vs_helo_test/tst_helipad/c_t_0004109_1_rgb.jpg  \n",
            "  inflating: storage_tank_vs_helo_test/tst_helipad/c_t_0007437_5_rgb.jpg  \n",
            "  inflating: storage_tank_vs_helo_test/tst_helipad/c_t_0009931_5_rgb.jpg  \n",
            "  inflating: storage_tank_vs_helo_test/tst_helipad/c_t_0003681_9_rgb.jpg  \n",
            "  inflating: storage_tank_vs_helo_test/tst_helipad/c_t_0009255_3_rgb.jpg  \n",
            "  inflating: storage_tank_vs_helo_test/tst_helipad/c_t_0008072_7_rgb.jpg  \n",
            "  inflating: storage_tank_vs_helo_test/tst_helipad/c_t_0010614_3_rgb.jpg  \n",
            "  inflating: storage_tank_vs_helo_test/tst_helipad/c_t_0001926_6_rgb.jpg  \n",
            "  inflating: storage_tank_vs_helo_test/tst_helipad/c_t_0007988_1_rgb.jpg  \n",
            "  inflating: storage_tank_vs_helo_test/tst_helipad/c_t_0011198_5_rgb.jpg  \n",
            "  inflating: storage_tank_vs_helo_test/tst_helipad/c_t_0000554_3_rgb.jpg  \n",
            "  inflating: storage_tank_vs_helo_test/tst_helipad/c_t_0003732_6_rgb.jpg  \n",
            "  inflating: storage_tank_vs_helo_test/tst_helipad/c_t_0007718_3_rgb.jpg  \n",
            "  inflating: storage_tank_vs_helo_test/tst_helipad/c_t_0000894_2_rgb.jpg  \n",
            "  inflating: storage_tank_vs_helo_test/tst_helipad/c_t_0009301_2_rgb.jpg  \n",
            "  inflating: storage_tank_vs_helo_test/tst_helipad/c_t_0003365_2_rgb.jpg  \n",
            "  inflating: storage_tank_vs_helo_test/tst_helipad/c_t_0008945_9_rgb.jpg  \n",
            "  inflating: storage_tank_vs_helo_test/tst_helipad/c_t_0009680_1_rgb.jpg  \n",
            "  inflating: storage_tank_vs_helo_test/tst_helipad/c_t_0002694_2_rgb.jpg  \n",
            "  inflating: storage_tank_vs_helo_test/tst_helipad/c_t_0007673_9_rgb.jpg  \n",
            "  inflating: storage_tank_vs_helo_test/tst_helipad/c_t_0009409_2_rgb.jpg  \n",
            "  inflating: storage_tank_vs_helo_test/tst_helipad/c_t_0002732_7_rgb.jpg  \n",
            "  inflating: storage_tank_vs_helo_test/tst_helipad/c_t_0003994_9_rgb.jpg  \n",
            "  inflating: storage_tank_vs_helo_test/tst_helipad/c_t_0001645_5_rgb.jpg  \n",
            "  inflating: storage_tank_vs_helo_test/tst_helipad/c_t_0010482_8_rgb.jpg  \n",
            "  inflating: storage_tank_vs_helo_test/tst_helipad/c_t_0009422_9_rgb.jpg  \n",
            "  inflating: storage_tank_vs_helo_test/tst_helipad/c_t_0003681_0_rgb.jpg  \n",
            "  inflating: storage_tank_vs_helo_test/tst_helipad/c_t_0008376_3_rgb.jpg  \n",
            "  inflating: storage_tank_vs_helo_test/tst_helipad/c_t_0011654_5_rgb.jpg  \n",
            "  inflating: storage_tank_vs_helo_test/tst_helipad/c_t_0011880_6_rgb.jpg  \n",
            "  inflating: storage_tank_vs_helo_test/tst_helipad/c_t_0007329_2_rgb.jpg  \n",
            "  inflating: storage_tank_vs_helo_test/tst_helipad/c_t_0007935_5_rgb.jpg  \n",
            "  inflating: storage_tank_vs_helo_test/tst_helipad/c_t_0010244_5_rgb.jpg  \n",
            "  inflating: storage_tank_vs_helo_test/tst_helipad/c_t_0009269_5_rgb.jpg  \n",
            "  inflating: storage_tank_vs_helo_test/tst_helipad/c_t_0009096_5_rgb.jpg  \n",
            "  inflating: storage_tank_vs_helo_test/tst_helipad/c_t_0005211_8_rgb.jpg  \n",
            "  inflating: storage_tank_vs_helo_test/tst_helipad/c_t_0010333_3_rgb.jpg  \n",
            "  inflating: storage_tank_vs_helo_test/tst_helipad/c_t_0004971_0_rgb.jpg  \n",
            "  inflating: storage_tank_vs_helo_test/tst_helipad/c_t_0001451_1_rgb.jpg  \n",
            "  inflating: storage_tank_vs_helo_test/tst_helipad/c_t_0004396_5_rgb.jpg  \n",
            "  inflating: storage_tank_vs_helo_test/tst_helipad/c_t_0009356_1_rgb.jpg  \n",
            "  inflating: storage_tank_vs_helo_test/tst_helipad/c_t_0005754_2_rgb.jpg  \n",
            "  inflating: storage_tank_vs_helo_test/tst_helipad/c_t_0004190_9_rgb.jpg  \n",
            "  inflating: storage_tank_vs_helo_test/tst_helipad/c_t_0003995_8_rgb.jpg  \n",
            "  inflating: storage_tank_vs_helo_test/tst_helipad/c_t_0008765_4_rgb.jpg  \n",
            "  inflating: storage_tank_vs_helo_test/tst_helipad/c_t_0000356_5_rgb.jpg  \n",
            "  inflating: storage_tank_vs_helo_test/tst_helipad/c_t_0005090_5_rgb.jpg  \n",
            "  inflating: storage_tank_vs_helo_test/tst_helipad/c_t_0007673_2_rgb.jpg  \n",
            "  inflating: storage_tank_vs_helo_test/tst_helipad/c_t_0002143_7_rgb.jpg  \n",
            "  inflating: storage_tank_vs_helo_test/tst_helipad/c_t_0004368_0_rgb.jpg  \n",
            "  inflating: storage_tank_vs_helo_test/tst_helipad/c_t_0001317_0_rgb.jpg  \n",
            "  inflating: storage_tank_vs_helo_test/tst_helipad/c_t_0005538_3_rgb.jpg  \n",
            "  inflating: storage_tank_vs_helo_test/tst_helipad/c_t_0009422_2_rgb.jpg  \n",
            "  inflating: storage_tank_vs_helo_test/tst_helipad/c_t_0011493_7_rgb.jpg  \n",
            "  inflating: storage_tank_vs_helo_test/tst_helipad/c_t_0010482_3_rgb.jpg  \n",
            "  inflating: storage_tank_vs_helo_test/tst_helipad/c_t_0007850_0_rgb.jpg  \n",
            "  inflating: storage_tank_vs_helo_test/tst_helipad/c_t_0006943_5_rgb.jpg  \n",
            "  inflating: storage_tank_vs_helo_test/tst_helipad/c_t_0001926_4_rgb.jpg  \n",
            "  inflating: storage_tank_vs_helo_test/tst_helipad/c_t_0010614_1_rgb.jpg  \n",
            "  inflating: storage_tank_vs_helo_test/tst_helipad/c_t_0008072_5_rgb.jpg  \n",
            "  inflating: storage_tank_vs_helo_test/tst_helipad/c_t_0010348_2_rgb.jpg  \n",
            "  inflating: storage_tank_vs_helo_test/tst_helipad/c_t_0000040_0_rgb.jpg  \n",
            "  inflating: storage_tank_vs_helo_test/tst_helipad/c_t_0009255_1_rgb.jpg  \n",
            "  inflating: storage_tank_vs_helo_test/tst_helipad/c_t_0007437_7_rgb.jpg  \n",
            "  inflating: storage_tank_vs_helo_test/tst_helipad/c_t_0004109_3_rgb.jpg  \n",
            "  inflating: storage_tank_vs_helo_test/tst_helipad/c_t_0001528_1_rgb.jpg  \n",
            "  inflating: storage_tank_vs_helo_test/tst_helipad/c_t_0004039_0_rgb.jpg  \n",
            "  inflating: storage_tank_vs_helo_test/tst_helipad/c_t_0009132_5_rgb.jpg  \n",
            "  inflating: storage_tank_vs_helo_test/tst_helipad/c_t_0007718_1_rgb.jpg  \n",
            "  inflating: storage_tank_vs_helo_test/tst_helipad/c_t_0007910_8_rgb.jpg  \n",
            "  inflating: storage_tank_vs_helo_test/tst_helipad/c_t_0007988_3_rgb.jpg  \n",
            "  inflating: storage_tank_vs_helo_test/tst_helipad/c_t_0006597_2_rgb.jpg  \n",
            "  inflating: storage_tank_vs_helo_test/tst_helipad/c_t_0009195_5_rgb.jpg  \n",
            "  inflating: storage_tank_vs_helo_test/tst_helipad/c_t_0000380_4_rgb.jpg  \n",
            "  inflating: storage_tank_vs_helo_test/tst_helipad/c_t_0002545_1_rgb.jpg  \n",
            "  inflating: storage_tank_vs_helo_test/tst_helipad/c_t_0005824_1_rgb.jpg  \n",
            "  inflating: storage_tank_vs_helo_test/tst_helipad/c_t_0005211_3_rgb.jpg  \n",
            "  inflating: storage_tank_vs_helo_test/tst_helipad/c_t_0011197_0_rgb.jpg  \n",
            "  inflating: storage_tank_vs_helo_test/tst_helipad/c_t_0006358_0_rgb.jpg  \n",
            "  inflating: storage_tank_vs_helo_test/tst_helipad/c_t_0004190_2_rgb.jpg  \n",
            "  inflating: storage_tank_vs_helo_test/tst_helipad/c_t_0001162_3_rgb.jpg  \n",
            "  inflating: storage_tank_vs_helo_test/tst_helipad/c_t_0003782_0_rgb.jpg  \n",
            "  inflating: storage_tank_vs_helo_test/tst_helipad/c_t_0002926_0_rgb.jpg  \n",
            "  inflating: storage_tank_vs_helo_test/tst_helipad/c_t_0009409_0_rgb.jpg  \n",
            "  inflating: storage_tank_vs_helo_test/tst_helipad/c_t_0002694_0_rgb.jpg  \n",
            "  inflating: storage_tank_vs_helo_test/tst_helipad/c_t_0009680_3_rgb.jpg  \n",
            "  inflating: storage_tank_vs_helo_test/tst_helipad/c_t_0004368_9_rgb.jpg  \n",
            "  inflating: storage_tank_vs_helo_test/tst_helipad/c_t_0008860_2_rgb.jpg  \n",
            "  inflating: storage_tank_vs_helo_test/tst_helipad/c_t_0004288_3_rgb.jpg  \n",
            "  inflating: storage_tank_vs_helo_test/tst_helipad/c_t_0002732_5_rgb.jpg  \n",
            "  inflating: storage_tank_vs_helo_test/tst_helipad/c_t_0003995_1_rgb.jpg  \n",
            "  inflating: storage_tank_vs_helo_test/tst_helipad/c_t_0000894_0_rgb.jpg  \n",
            "  inflating: storage_tank_vs_helo_test/tst_helipad/c_t_0009301_0_rgb.jpg  \n",
            "  inflating: storage_tank_vs_helo_test/tst_helipad/c_t_0001451_3_rgb.jpg  \n",
            "  inflating: storage_tank_vs_helo_test/tst_helipad/c_t_0004971_2_rgb.jpg  \n",
            "  inflating: storage_tank_vs_helo_test/tst_helipad/c_t_0005824_8_rgb.jpg  \n",
            "  inflating: storage_tank_vs_helo_test/tst_helipad/c_t_0010333_1_rgb.jpg  \n",
            "  inflating: storage_tank_vs_helo_test/tst_helipad/c_t_0000617_0_rgb.jpg  \n",
            "  inflating: storage_tank_vs_helo_test/tst_helipad/c_t_0000012_6_rgb.jpg  \n",
            "  inflating: storage_tank_vs_helo_test/tst_helipad/c_t_0005754_0_rgb.jpg  \n",
            "  inflating: storage_tank_vs_helo_test/tst_helipad/c_t_0004396_7_rgb.jpg  \n",
            "  inflating: storage_tank_vs_helo_test/tst_helipad/c_t_0007329_0_rgb.jpg  \n",
            "  inflating: storage_tank_vs_helo_test/tst_helipad/c_t_0011880_4_rgb.jpg  \n",
            "  inflating: storage_tank_vs_helo_test/tst_helipad/c_t_0011654_7_rgb.jpg  \n",
            "  inflating: storage_tank_vs_helo_test/tst_helipad/c_t_0000040_9_rgb.jpg  \n",
            "  inflating: storage_tank_vs_helo_test/tst_helipad/c_t_0009582_6_rgb.jpg  \n",
            "  inflating: storage_tank_vs_helo_test/tst_helipad/c_t_0008376_1_rgb.jpg  \n",
            "  inflating: storage_tank_vs_helo_test/tst_helipad/c_t_0004039_9_rgb.jpg  \n",
            "  inflating: storage_tank_vs_helo_test/tst_helipad/c_t_0007718_8_rgb.jpg  \n",
            "  inflating: storage_tank_vs_helo_test/tst_helipad/c_t_0010244_7_rgb.jpg  \n",
            "  inflating: storage_tank_vs_helo_test/tst_helipad/c_t_0011240_9_rgb.jpg  \n",
            "  inflating: storage_tank_vs_helo_test/tst_helipad/c_t_0009269_7_rgb.jpg  \n",
            "  inflating: storage_tank_vs_helo_test/tst_helipad/c_t_0002732_4_rgb.jpg  \n",
            "  inflating: storage_tank_vs_helo_test/tst_helipad/c_t_0011841_0_rgb.jpg  \n",
            "  inflating: storage_tank_vs_helo_test/tst_helipad/c_t_0004288_2_rgb.jpg  \n",
            "  inflating: storage_tank_vs_helo_test/tst_helipad/c_t_0009680_2_rgb.jpg  \n",
            "  inflating: storage_tank_vs_helo_test/tst_helipad/c_t_0002694_1_rgb.jpg  \n",
            "  inflating: storage_tank_vs_helo_test/tst_helipad/c_t_0009409_1_rgb.jpg  \n",
            "  inflating: storage_tank_vs_helo_test/tst_helipad/c_t_0003365_1_rgb.jpg  \n",
            "  inflating: storage_tank_vs_helo_test/tst_helipad/c_t_0009301_1_rgb.jpg  \n",
            "  inflating: storage_tank_vs_helo_test/tst_helipad/c_t_0001836_5_rgb.jpg  \n",
            "  inflating: storage_tank_vs_helo_test/tst_helipad/c_t_0003995_0_rgb.jpg  \n",
            "  inflating: storage_tank_vs_helo_test/tst_helipad/c_t_0000894_1_rgb.jpg  \n",
            "  inflating: storage_tank_vs_helo_test/tst_helipad/c_t_0000216_5_rgb.jpg  \n",
            "  inflating: storage_tank_vs_helo_test/tst_helipad/c_t_0000012_7_rgb.jpg  \n",
            "  inflating: storage_tank_vs_helo_test/tst_helipad/c_t_0004396_6_rgb.jpg  \n",
            "  inflating: storage_tank_vs_helo_test/tst_helipad/c_t_0005754_1_rgb.jpg  \n",
            "  inflating: storage_tank_vs_helo_test/tst_helipad/c_t_0005824_9_rgb.jpg  \n",
            "  inflating: storage_tank_vs_helo_test/tst_helipad/c_t_0010333_0_rgb.jpg  \n",
            "  inflating: storage_tank_vs_helo_test/tst_helipad/c_t_0000554_9_rgb.jpg  \n",
            "  inflating: storage_tank_vs_helo_test/tst_helipad/c_t_0007910_0_rgb.jpg  \n",
            "  inflating: storage_tank_vs_helo_test/tst_helipad/c_t_0007718_9_rgb.jpg  \n",
            "  inflating: storage_tank_vs_helo_test/tst_helipad/c_t_0007935_6_rgb.jpg  \n",
            "  inflating: storage_tank_vs_helo_test/tst_helipad/c_t_0011240_8_rgb.jpg  \n",
            "  inflating: storage_tank_vs_helo_test/tst_helipad/c_t_0009269_6_rgb.jpg  \n",
            "  inflating: storage_tank_vs_helo_test/tst_helipad/c_t_0010244_6_rgb.jpg  \n",
            "  inflating: storage_tank_vs_helo_test/tst_helipad/c_t_0000040_8_rgb.jpg  \n",
            "  inflating: storage_tank_vs_helo_test/tst_helipad/c_t_0011880_5_rgb.jpg  \n",
            "  inflating: storage_tank_vs_helo_test/tst_helipad/c_t_0007329_1_rgb.jpg  \n",
            "  inflating: storage_tank_vs_helo_test/tst_helipad/c_t_0003913_0_rgb.jpg  \n",
            "  inflating: storage_tank_vs_helo_test/tst_helipad/c_t_0004039_8_rgb.jpg  \n",
            "  inflating: storage_tank_vs_helo_test/tst_helipad/c_t_0003681_3_rgb.jpg  \n",
            "  inflating: storage_tank_vs_helo_test/tst_helipad/c_t_0008376_0_rgb.jpg  \n",
            "  inflating: storage_tank_vs_helo_test/tst_helipad/c_t_0000356_4_rgb.jpg  \n",
            "  inflating: storage_tank_vs_helo_test/tst_helipad/c_t_0008765_5_rgb.jpg  \n",
            "  inflating: storage_tank_vs_helo_test/tst_helipad/c_t_0006943_4_rgb.jpg  \n",
            "  inflating: storage_tank_vs_helo_test/tst_helipad/c_t_0007850_1_rgb.jpg  \n",
            "  inflating: storage_tank_vs_helo_test/tst_helipad/c_t_0009422_3_rgb.jpg  \n",
            "  inflating: storage_tank_vs_helo_test/tst_helipad/c_t_0005538_2_rgb.jpg  \n",
            "  inflating: storage_tank_vs_helo_test/tst_helipad/c_t_0003994_3_rgb.jpg  \n",
            "  inflating: storage_tank_vs_helo_test/tst_helipad/c_t_0007673_3_rgb.jpg  \n",
            "  inflating: storage_tank_vs_helo_test/tst_helipad/c_t_0002143_6_rgb.jpg  \n",
            "  inflating: storage_tank_vs_helo_test/tst_helipad/c_t_0004368_1_rgb.jpg  \n",
            "  inflating: storage_tank_vs_helo_test/tst_helipad/c_t_0008945_3_rgb.jpg  \n",
            "  inflating: storage_tank_vs_helo_test/tst_helipad/c_t_0007988_2_rgb.jpg  \n",
            "  inflating: storage_tank_vs_helo_test/tst_helipad/c_t_0007910_9_rgb.jpg  \n",
            "  inflating: storage_tank_vs_helo_test/tst_helipad/c_t_0007718_0_rgb.jpg  \n",
            "  inflating: storage_tank_vs_helo_test/tst_helipad/c_t_0003732_5_rgb.jpg  \n",
            "  inflating: storage_tank_vs_helo_test/tst_helipad/c_t_0001560_2_rgb.jpg  \n",
            "  inflating: storage_tank_vs_helo_test/tst_helipad/c_t_0009255_0_rgb.jpg  \n",
            "  inflating: storage_tank_vs_helo_test/tst_helipad/c_t_0000040_1_rgb.jpg  \n",
            "  inflating: storage_tank_vs_helo_test/tst_helipad/c_t_0010614_0_rgb.jpg  \n",
            "  inflating: storage_tank_vs_helo_test/tst_helipad/c_t_0007329_8_rgb.jpg  \n",
            "  inflating: storage_tank_vs_helo_test/tst_helipad/c_t_0001926_5_rgb.jpg  \n",
            "  inflating: storage_tank_vs_helo_test/tst_helipad/c_t_0004039_1_rgb.jpg  \n",
            "  inflating: storage_tank_vs_helo_test/tst_helipad/c_t_0009132_4_rgb.jpg  \n",
            "  inflating: storage_tank_vs_helo_test/tst_helipad/c_t_0001528_0_rgb.jpg  \n",
            "  inflating: storage_tank_vs_helo_test/tst_helipad/c_t_0009931_6_rgb.jpg  \n",
            "  inflating: storage_tank_vs_helo_test/tst_helipad/c_t_0007437_6_rgb.jpg  \n",
            "  inflating: storage_tank_vs_helo_test/tst_helipad/c_t_0004109_2_rgb.jpg  \n",
            "  inflating: storage_tank_vs_helo_test/tst_helipad/c_t_0001162_2_rgb.jpg  \n",
            "  inflating: storage_tank_vs_helo_test/tst_helipad/c_t_0003782_1_rgb.jpg  \n",
            "  inflating: storage_tank_vs_helo_test/tst_helipad/c_t_0004296_0_rgb.jpg  \n",
            "  inflating: storage_tank_vs_helo_test/tst_helipad/c_t_0004190_3_rgb.jpg  \n",
            "  inflating: storage_tank_vs_helo_test/tst_helipad/c_t_0006358_1_rgb.jpg  \n",
            "  inflating: storage_tank_vs_helo_test/tst_helipad/c_t_0011197_1_rgb.jpg  \n",
            "  inflating: storage_tank_vs_helo_test/tst_helipad/c_t_0002926_1_rgb.jpg  \n",
            "  inflating: storage_tank_vs_helo_test/tst_helipad/c_t_0005754_8_rgb.jpg  \n",
            "  inflating: storage_tank_vs_helo_test/tst_helipad/c_t_0000380_5_rgb.jpg  \n",
            "  inflating: storage_tank_vs_helo_test/tst_helipad/c_t_0005211_2_rgb.jpg  \n",
            "  inflating: storage_tank_vs_helo_test/tst_helipad/c_t_0002545_0_rgb.jpg  \n",
            "adc.json  \u001b[0m\u001b[01;34m__MACOSX\u001b[0m/     \u001b[01;34mstorage_tank_vs_helo_test\u001b[0m/\n",
            "\u001b[01;34mdrive\u001b[0m/    \u001b[01;34msample_data\u001b[0m/  storage_tank_vs_helo_test.zip\n"
          ],
          "name": "stdout"
        }
      ]
    },
    {
      "cell_type": "code",
      "metadata": {
        "colab_type": "code",
        "id": "Uh_VbhED8Wzn",
        "colab": {
          "base_uri": "https://localhost:8080/",
          "height": 33
        },
        "outputId": "c22eb406-8535-4166-ff9f-cf007179b2cc"
      },
      "source": [
        "# Instantiate test file path for runing predictions\n",
        "base = '/content'\n",
        "\n",
        "test_path = os.path.join(base, file_name_test.split('.')[0])\n",
        "\n",
        "# Generate list of images files and count them\n",
        "# Image totals are used in setting steps per epoch\n",
        "test_files = glob.glob(test_path + '/*/*.jpg')\n",
        "test_image_count = len(test_files)\n",
        "print(f'Total test images: {test_image_count}')"
      ],
      "execution_count": 10,
      "outputs": [
        {
          "output_type": "stream",
          "text": [
            "Total test images: 1290\n"
          ],
          "name": "stdout"
        }
      ]
    },
    {
      "cell_type": "markdown",
      "metadata": {
        "id": "c1WSLdnvs2rx",
        "colab_type": "text"
      },
      "source": [
        "##<font color=\"cyan\"> Establish Data Pipeline </font>\n",
        "\n",
        "\n",
        "---\n",
        "\n",
        "\n",
        "\n",
        "Got this from Medium article:\n",
        "https://towardsdatascience.com/tf-data-creating-data-input-pipelines-2913461078e2\n",
        "\n",
        "Stanford Tutorial:\n",
        "https://cs230.stanford.edu/blog/datapipeline/#building-an-image-data-pipeline\n",
        "\n",
        "---\n",
        "\n",
        "\n"
      ]
    },
    {
      "cell_type": "code",
      "metadata": {
        "id": "K7vP3DM3ZpkP",
        "colab_type": "code",
        "colab": {
          "base_uri": "https://localhost:8080/",
          "height": 33
        },
        "outputId": "aa07e69a-be2c-41a7-b9fc-314b42b554be"
      },
      "source": [
        "# Import keras and set image rescaling factor \n",
        "# this is without data augmentation\n",
        "from keras.preprocessing.image import ImageDataGenerator\n",
        "train_datagen = ImageDataGenerator( \n",
        "        rescale=1./255)\n",
        "\n",
        "val_datagen = ImageDataGenerator( \n",
        "        rescale=1./255)"
      ],
      "execution_count": null,
      "outputs": [
        {
          "output_type": "stream",
          "text": [
            "Using TensorFlow backend.\n"
          ],
          "name": "stderr"
        }
      ]
    },
    {
      "cell_type": "code",
      "metadata": {
        "id": "Ih53sDIwRT8G",
        "colab_type": "code",
        "colab": {
          "base_uri": "https://localhost:8080/",
          "height": 50
        },
        "outputId": "2d3bdbe6-e209-4f65-9853-9742e9f343de"
      },
      "source": [
        "# Instantiate training and validation file paths\n",
        "\n",
        "train_path = os.path.join(base, file_name.split('.')[0] + '/train')\n",
        "val_path = os.path.join(base, file_name.split('.')[0] + '/val')\n",
        "\n",
        "# Generate list of images files and count them\n",
        "# Image totals are used in setting steps per epoch\n",
        "train_files = glob.glob(train_path + '/*/*.jpg')\n",
        "train_image_count = len(train_files)\n",
        "print(f'Total training images: {train_image_count}')\n",
        "\n",
        "val_files = glob.glob(val_path + '/*/*.jpg')\n",
        "val_image_count = len(val_files)\n",
        "print(f'Total validation images: {val_image_count}')"
      ],
      "execution_count": null,
      "outputs": [
        {
          "output_type": "stream",
          "text": [
            "Total training images: 9139\n",
            "Total validation images: 2283\n"
          ],
          "name": "stdout"
        }
      ]
    },
    {
      "cell_type": "code",
      "metadata": {
        "id": "4TaIaRaeaoVN",
        "colab_type": "code",
        "colab": {
          "base_uri": "https://localhost:8080/",
          "height": 82
        },
        "outputId": "7d547bd7-bb6f-4d1c-86c6-dc038d822966"
      },
      "source": [
        "IMG_RES = 224\n",
        "BATCH_SIZE = 32\n",
        "\n",
        "print('Training Set:')\n",
        "train_set = train_datagen.flow_from_directory(\n",
        "         train_path,\n",
        "         shuffle=True,\n",
        "         target_size=(IMG_RES,IMG_RES),\n",
        "         batch_size=BATCH_SIZE,\n",
        "         class_mode='binary')  \n",
        "         #class_mode='categorical') \n",
        "\n",
        "classes = train_set.class_indices # captueres class indicies in a dictionary. For example: {'non_tgt': 0, 'oil_or_gas_fac': 1}\n",
        "\n",
        "print('Validation Set:')\n",
        "val_set = val_datagen.flow_from_directory(\n",
        "         val_path,\n",
        "         target_size=(IMG_RES,IMG_RES),\n",
        "         batch_size=BATCH_SIZE,\n",
        "         class_mode='binary')   \n",
        "         #class_mode='categorical')        "
      ],
      "execution_count": null,
      "outputs": [
        {
          "output_type": "stream",
          "text": [
            "Training Set:\n",
            "Found 9139 images belonging to 2 classes.\n",
            "Validation Set:\n",
            "Found 2283 images belonging to 2 classes.\n"
          ],
          "name": "stdout"
        }
      ]
    },
    {
      "cell_type": "markdown",
      "metadata": {
        "id": "nnXfr5UgtaB5",
        "colab_type": "text"
      },
      "source": [
        "## Plot Sample Images to verify status of Data Pipeline"
      ]
    },
    {
      "cell_type": "code",
      "metadata": {
        "id": "2gBoVfgTrENw",
        "colab_type": "code",
        "colab": {
          "base_uri": "https://localhost:8080/",
          "height": 268
        },
        "outputId": "9d9c4472-97dc-4509-d721-9174119eac79"
      },
      "source": [
        "# create a grid of 3*3 images to visualize some of the imgaes in dataset\n",
        "for i in range(0, 9):\n",
        "    plt.subplot(330 + 1+ i)\n",
        "    img = train_set[0][0][i]\n",
        "    plt.imshow(img)\n",
        "    \n",
        "# show the plot\n",
        "plt.show()"
      ],
      "execution_count": null,
      "outputs": [
        {
          "output_type": "display_data",
          "data": {
            "image/png": "[encoded data removed]",
            "text/plain": [
              "<Figure size 432x288 with 9 Axes>"
            ]
          },
          "metadata": {
            "tags": [],
            "needs_background": "light"
          }
        }
      ]
    },
    {
      "cell_type": "code",
      "metadata": {
        "colab_type": "code",
        "id": "GBYLOFgOXPJ9",
        "colab": {}
      },
      "source": [
        "# This function will plot images in the form of a grid with 1 row and 5 columns where images are placed in each column.\n",
        "def plotImages(images_arr):\n",
        "    fig, axes = plt.subplots(1, 5, figsize=(20,20))\n",
        "    axes = axes.flatten()\n",
        "    for img, ax in zip(images_arr, axes):\n",
        "        ax.imshow(img)\n",
        "    plt.tight_layout()\n",
        "    plt.show()"
      ],
      "execution_count": null,
      "outputs": []
    },
    {
      "cell_type": "code",
      "metadata": {
        "id": "vG8LV0Kabjxt",
        "colab_type": "code",
        "colab": {
          "base_uri": "https://localhost:8080/",
          "height": 300
        },
        "outputId": "be49f433-589e-42dc-b413-8ed74da04138"
      },
      "source": [
        "augmented_images = [train_set[0][0][0] for i in range(5)]\n",
        "plotImages(augmented_images)"
      ],
      "execution_count": null,
      "outputs": [
        {
          "output_type": "display_data",
          "data": {
            "image/png": "[encoded data removed]",
            "text/plain": [
              "<Figure size 1440x1440 with 5 Axes>"
            ]
          },
          "metadata": {
            "tags": [],
            "needs_background": "light"
          }
        }
      ]
    },
    {
      "cell_type": "markdown",
      "metadata": {
        "id": "yeSgrZWKLAHl",
        "colab_type": "text"
      },
      "source": [
        "# <font color='lightblue'> EuroSat Feature Extractor </font>"
      ]
    },
    {
      "cell_type": "markdown",
      "metadata": {
        "id": "vW3Qp-abL2jp",
        "colab_type": "text"
      },
      "source": [
        "Pull in Feature Extractor from TensorFlow Hub"
      ]
    },
    {
      "cell_type": "code",
      "metadata": {
        "colab_type": "code",
        "id": "xVs-yzXPD0gr",
        "colab": {}
      },
      "source": [
        "URL = \"https://tfhub.dev/google/remote_sensing/uc_merced-resnet50/1\"\n",
        "feature_extractor = hub.KerasLayer(URL,\n",
        "                                   input_shape=(IMG_RES, IMG_RES,3))"
      ],
      "execution_count": null,
      "outputs": []
    },
    {
      "cell_type": "markdown",
      "metadata": {
        "id": "onOfka5bLZql",
        "colab_type": "text"
      },
      "source": [
        "Freeze Variables in feature extractor layer so that only training only modifies the final classification layer."
      ]
    },
    {
      "cell_type": "code",
      "metadata": {
        "id": "QD2al5LKLV4g",
        "colab_type": "code",
        "colab": {}
      },
      "source": [
        "feature_extractor.trainable = False"
      ],
      "execution_count": null,
      "outputs": []
    },
    {
      "cell_type": "markdown",
      "metadata": {
        "id": "l_SpxZQEtGls",
        "colab_type": "text"
      },
      "source": [
        "### <font color='orange'> Double Object Training - Binary Classifier </font>\n",
        "\n",
        "\n",
        "\n"
      ]
    },
    {
      "cell_type": "markdown",
      "metadata": {
        "id": "oWmzdzBDLX2A",
        "colab_type": "text"
      },
      "source": [
        "Attach Classification Head\n",
        "Source: l06c01_tensorflow_hub_and_transfer_learning (2 x Classes: cats|dogs)\n",
        "\n",
        "https://colab.research.google.com/drive/1hPyFkWXN6hd_DIjG83b2Vfxfwua9Imho#scrollTo=mGcY27fY1q3Q\n",
        "\n",
        "<font color='skyblue'> **SparseCategoricalCrossentropy** </font>\n",
        "\n",
        "---\n"
      ]
    },
    {
      "cell_type": "code",
      "metadata": {
        "id": "0WCbSuSFLVUH",
        "colab_type": "code",
        "colab": {
          "base_uri": "https://localhost:8080/",
          "height": 212
        },
        "outputId": "2762144c-d546-4443-9d02-869299db8b94"
      },
      "source": [
        "model = tf.keras.Sequential([\n",
        "  feature_extractor,\n",
        "  layers.Dense(2, activation='softmax') ### added Softmax activation here in attempt get usable outputs for prediction below\n",
        "  #layers.Dense(2) \n",
        "])\n",
        "\n",
        "model.summary()"
      ],
      "execution_count": null,
      "outputs": [
        {
          "output_type": "stream",
          "text": [
            "Model: \"sequential\"\n",
            "_________________________________________________________________\n",
            "Layer (type)                 Output Shape              Param #   \n",
            "=================================================================\n",
            "keras_layer (KerasLayer)     (None, 2048)              23588821  \n",
            "_________________________________________________________________\n",
            "dense (Dense)                (None, 2)                 4098      \n",
            "=================================================================\n",
            "Total params: 23,592,919\n",
            "Trainable params: 4,098\n",
            "Non-trainable params: 23,588,821\n",
            "_________________________________________________________________\n"
          ],
          "name": "stdout"
        }
      ]
    },
    {
      "cell_type": "markdown",
      "metadata": {
        "id": "NAVL8LB2LSgp",
        "colab_type": "text"
      },
      "source": [
        "Compile the Model\n"
      ]
    },
    {
      "cell_type": "code",
      "metadata": {
        "id": "2YNQseMJdyxA",
        "colab_type": "code",
        "colab": {
          "base_uri": "https://localhost:8080/",
          "height": 33
        },
        "outputId": "2262817d-6acd-4034-b488-75f36955dcb7"
      },
      "source": [
        "len(train_set)"
      ],
      "execution_count": null,
      "outputs": [
        {
          "output_type": "execute_result",
          "data": {
            "text/plain": [
              "286"
            ]
          },
          "metadata": {
            "tags": []
          },
          "execution_count": 22
        }
      ]
    },
    {
      "cell_type": "code",
      "metadata": {
        "colab_type": "code",
        "id": "7Ac32HrJdzCW",
        "colab": {}
      },
      "source": [
        "model.compile(\n",
        "  optimizer='adam',\n",
        "  #loss='categorical_crossentropy',\n",
        "  loss=tf.keras.losses.SparseCategoricalCrossentropy(from_logits=True), \n",
        "  metrics=['accuracy'])"
      ],
      "execution_count": null,
      "outputs": []
    },
    {
      "cell_type": "markdown",
      "metadata": {
        "colab_type": "text",
        "id": "wyy_sc-GiUsL"
      },
      "source": [
        "Train the Model\n"
      ]
    },
    {
      "cell_type": "code",
      "metadata": {
        "colab_type": "code",
        "id": "HjAHpyBPVlow",
        "colab": {
          "base_uri": "https://localhost:8080/",
          "height": 992
        },
        "outputId": "a8ba1de1-2972-4c03-ad15-e97fa9f9b8be"
      },
      "source": [
        "# Without Callbacks - Runs Much faster\n",
        "#from tensorflow.keras.callbacks import ModelCheckpoint\n",
        "#filepath='/content/drive/My Drive/Colab Notebooks/Thesis Resources/Training_Sessions/weights_best.hdf5'\n",
        "#checkpoint = ModelCheckpoint(filepath, monitor='val_accuracy', verbose=1, save_best_only=True, mode='max')\n",
        "#callbacks_list = [checkpoint]\n",
        "\n",
        "EPOCHS = 30\n",
        "\n",
        "history = model.fit_generator(\n",
        "          train_set, \n",
        "          steps_per_epoch=int(np.ceil(train_image_count / float(BATCH_SIZE))),\n",
        "          #steps_per_epoch=train_image_count,\n",
        "          epochs=EPOCHS,\n",
        "          validation_data=val_set,\n",
        "          validation_steps=int(np.ceil(val_image_count / float(BATCH_SIZE)))\n",
        "          #validation_steps=val_image_count\n",
        ")         "
      ],
      "execution_count": null,
      "outputs": [
        {
          "output_type": "stream",
          "text": [
            "Epoch 1/30\n",
            "286/286 [==============================] - 21s 72ms/step - loss: 0.4303 - accuracy: 0.8831 - val_loss: 0.4039 - val_accuracy: 0.9093\n",
            "Epoch 2/30\n",
            "286/286 [==============================] - 20s 69ms/step - loss: 0.3975 - accuracy: 0.9147 - val_loss: 0.3893 - val_accuracy: 0.9220\n",
            "Epoch 3/30\n",
            "286/286 [==============================] - 20s 69ms/step - loss: 0.3876 - accuracy: 0.9269 - val_loss: 0.3875 - val_accuracy: 0.9233\n",
            "Epoch 4/30\n",
            "286/286 [==============================] - 20s 69ms/step - loss: 0.3830 - accuracy: 0.9307 - val_loss: 0.3822 - val_accuracy: 0.9299\n",
            "Epoch 5/30\n",
            "286/286 [==============================] - 20s 69ms/step - loss: 0.3761 - accuracy: 0.9396 - val_loss: 0.3840 - val_accuracy: 0.9273\n",
            "Epoch 6/30\n",
            "286/286 [==============================] - 20s 69ms/step - loss: 0.3729 - accuracy: 0.9432 - val_loss: 0.3806 - val_accuracy: 0.9308\n",
            "Epoch 7/30\n",
            "286/286 [==============================] - 20s 69ms/step - loss: 0.3704 - accuracy: 0.9468 - val_loss: 0.3787 - val_accuracy: 0.9339\n",
            "Epoch 8/30\n",
            "286/286 [==============================] - 20s 69ms/step - loss: 0.3685 - accuracy: 0.9475 - val_loss: 0.3769 - val_accuracy: 0.9352\n",
            "Epoch 9/30\n",
            "286/286 [==============================] - 20s 69ms/step - loss: 0.3661 - accuracy: 0.9501 - val_loss: 0.3819 - val_accuracy: 0.9286\n",
            "Epoch 10/30\n",
            "286/286 [==============================] - 20s 69ms/step - loss: 0.3638 - accuracy: 0.9534 - val_loss: 0.3762 - val_accuracy: 0.9352\n",
            "Epoch 11/30\n",
            "286/286 [==============================] - 20s 69ms/step - loss: 0.3625 - accuracy: 0.9543 - val_loss: 0.3765 - val_accuracy: 0.9365\n",
            "Epoch 12/30\n",
            "286/286 [==============================] - 20s 69ms/step - loss: 0.3609 - accuracy: 0.9572 - val_loss: 0.3750 - val_accuracy: 0.9382\n",
            "Epoch 13/30\n",
            "286/286 [==============================] - 20s 69ms/step - loss: 0.3603 - accuracy: 0.9569 - val_loss: 0.3781 - val_accuracy: 0.9365\n",
            "Epoch 14/30\n",
            "286/286 [==============================] - 20s 69ms/step - loss: 0.3584 - accuracy: 0.9590 - val_loss: 0.3764 - val_accuracy: 0.9352\n",
            "Epoch 15/30\n",
            "286/286 [==============================] - 20s 69ms/step - loss: 0.3574 - accuracy: 0.9598 - val_loss: 0.3736 - val_accuracy: 0.9378\n",
            "Epoch 16/30\n",
            "286/286 [==============================] - 20s 69ms/step - loss: 0.3561 - accuracy: 0.9594 - val_loss: 0.3777 - val_accuracy: 0.9334\n",
            "Epoch 17/30\n",
            "286/286 [==============================] - 20s 69ms/step - loss: 0.3549 - accuracy: 0.9633 - val_loss: 0.3727 - val_accuracy: 0.9387\n",
            "Epoch 18/30\n",
            "286/286 [==============================] - 20s 69ms/step - loss: 0.3540 - accuracy: 0.9643 - val_loss: 0.3733 - val_accuracy: 0.9413\n",
            "Epoch 19/30\n",
            "286/286 [==============================] - 20s 69ms/step - loss: 0.3542 - accuracy: 0.9632 - val_loss: 0.3753 - val_accuracy: 0.9374\n",
            "Epoch 20/30\n",
            "286/286 [==============================] - 20s 69ms/step - loss: 0.3529 - accuracy: 0.9652 - val_loss: 0.3740 - val_accuracy: 0.9352\n",
            "Epoch 21/30\n",
            "286/286 [==============================] - 20s 70ms/step - loss: 0.3520 - accuracy: 0.9660 - val_loss: 0.3746 - val_accuracy: 0.9369\n",
            "Epoch 22/30\n",
            "286/286 [==============================] - 20s 69ms/step - loss: 0.3513 - accuracy: 0.9663 - val_loss: 0.3749 - val_accuracy: 0.9356\n",
            "Epoch 23/30\n",
            "286/286 [==============================] - 20s 69ms/step - loss: 0.3506 - accuracy: 0.9671 - val_loss: 0.3723 - val_accuracy: 0.9391\n",
            "Epoch 24/30\n",
            "286/286 [==============================] - 20s 69ms/step - loss: 0.3498 - accuracy: 0.9685 - val_loss: 0.3751 - val_accuracy: 0.9360\n",
            "Epoch 25/30\n",
            "286/286 [==============================] - 20s 69ms/step - loss: 0.3495 - accuracy: 0.9682 - val_loss: 0.3725 - val_accuracy: 0.9400\n",
            "Epoch 26/30\n",
            "286/286 [==============================] - 20s 69ms/step - loss: 0.3488 - accuracy: 0.9697 - val_loss: 0.3760 - val_accuracy: 0.9369\n",
            "Epoch 27/30\n",
            "286/286 [==============================] - 20s 69ms/step - loss: 0.3488 - accuracy: 0.9687 - val_loss: 0.3721 - val_accuracy: 0.9387\n",
            "Epoch 28/30\n",
            "286/286 [==============================] - 20s 69ms/step - loss: 0.3469 - accuracy: 0.9717 - val_loss: 0.3758 - val_accuracy: 0.9378\n",
            "Epoch 29/30\n",
            "286/286 [==============================] - 20s 69ms/step - loss: 0.3467 - accuracy: 0.9711 - val_loss: 0.3730 - val_accuracy: 0.9382\n",
            "Epoch 30/30\n",
            "286/286 [==============================] - 20s 69ms/step - loss: 0.3467 - accuracy: 0.9709 - val_loss: 0.3723 - val_accuracy: 0.9374\n"
          ],
          "name": "stdout"
        }
      ]
    },
    {
      "cell_type": "code",
      "metadata": {
        "id": "NaMPWERntyzs",
        "colab_type": "code",
        "colab": {
          "base_uri": "https://localhost:8080/",
          "height": 588
        },
        "outputId": "e80bae80-224e-47b9-ee64-2937c1ee12a8"
      },
      "source": [
        "# Plotting the Loss and Classification Accuracy\n",
        "model.metrics_names\n",
        "print(history.history.keys())\n",
        "#  \"Accuracy\"\n",
        "plt.plot(history.history['accuracy'])\n",
        "plt.plot(history.history['val_accuracy'])\n",
        "plt.title('Model Accuracy')\n",
        "plt.ylabel('Accuracy')\n",
        "plt.xlabel('Epoch')\n",
        "plt.legend(['train', 'val'], loc='upper left')\n",
        "plt.show()\n",
        "\n",
        "# \"Loss\"\n",
        "plt.plot(history.history['loss'])\n",
        "plt.plot(history.history['val_loss'])\n",
        "plt.title('Model loss')\n",
        "plt.ylabel('Loss')\n",
        "plt.xlabel('Epoch')\n",
        "plt.legend(['train', 'val'], loc='upper left')\n",
        "plt.show()"
      ],
      "execution_count": null,
      "outputs": [
        {
          "output_type": "stream",
          "text": [
            "dict_keys(['loss', 'accuracy', 'val_loss', 'val_accuracy'])\n"
          ],
          "name": "stdout"
        },
        {
          "output_type": "display_data",
          "data": {
            "image/png": "[encoded data removed]",
            "text/plain": [
              "<Figure size 432x288 with 1 Axes>"
            ]
          },
          "metadata": {
            "tags": [],
            "needs_background": "light"
          }
        },
        {
          "output_type": "display_data",
          "data": {
            "image/png": "[encoded data removed]",
            "text/plain": [
              "<Figure size 432x288 with 1 Axes>"
            ]
          },
          "metadata": {
            "tags": [],
            "needs_background": "light"
          }
        }
      ]
    },
    {
      "cell_type": "markdown",
      "metadata": {
        "colab_type": "text",
        "id": "BqXs2mjnUF8_"
      },
      "source": [
        "## Part 3: Save Models and Reload\n",
        "\n",
        "---\n",
        "\n",
        "https://colab.research.google.com/github/tensorflow/examples/blob/master/courses/udacity_intro_to_tensorflow_for_deep_learning/l07c01_saving_and_loading_models.ipynb#scrollTo=tCnNWTkZ3Ckz\n",
        "\n",
        "\n"
      ]
    },
    {
      "cell_type": "markdown",
      "metadata": {
        "id": "8WAMMrwqRhk2",
        "colab_type": "text"
      },
      "source": [
        "To Save the best version of the model and recall it go here:\n",
        "\n",
        "https://classroom.udacity.com/courses/ud187/lessons/b091f1a2-1775-4f41-b63b-49ee3d4ec1a1/concepts/d6bd7497-7b20-4cf0-b1b3-314bf3d88fee"
      ]
    },
    {
      "cell_type": "markdown",
      "metadata": {
        "colab_type": "text",
        "id": "mmPQYQLx3cYq"
      },
      "source": [
        "Part 3: Save as Keras `.h5` model\n",
        "\n",
        "Now that we've trained the model,  we can save it as an HDF5 file, which is the format used by Keras. Our HDF5 file will have the extension '.h5', and it's name will correspond to the current time stamp."
      ]
    },
    {
      "cell_type": "code",
      "metadata": {
        "colab_type": "code",
        "id": "tCnNWTkZ3Ckz",
        "cellView": "form",
        "colab": {
          "base_uri": "https://localhost:8080/",
          "height": 245
        },
        "outputId": "8eb7f5c7-3f50-4560-bb66-9db13f89a54c"
      },
      "source": [
        "#@title Save Model\n",
        "\n",
        "t = time.time()\n",
        "model_name = input('Enter model name: ')\n",
        "# Extract name of original dataset from the training file path \n",
        "# to use in naming the saved model\n",
        "model_path = train_path.split('/')[-2]\n",
        "\n",
        "# Export the trained model and save it to local instance\n",
        "export_path_keras = f'{int(t)}_{model_path}_{model_name}_h5_model_.h5'\n",
        "#export_path_keras = \"{}_h5_model{}_{}.h5\".format(model_name, int(t), model_path) \n",
        "print(f'Model saved to local instance here: {export_path_keras}')\n",
        "# Save model\n",
        "model.save(export_path_keras)\n",
        "\n",
        "# Export the trained model and save it to Google Drive\n",
        "google_drive_path = '/content/drive/My Drive/Colab Notebooks/Thesis Resources/Training_Sessions/trained_models/' \n",
        "export_path_keras = f'{google_drive_path}{int(t)}_{model_path}{model_name}_h5_model.h5'\n",
        "print(f'Model saved to Google Drive here: {export_path_keras}')\n",
        "# Save model\n",
        "model.save(export_path_keras)\n",
        "print(f'Model saved here: {export_path_keras}')\n",
        "\n",
        "!ls"
      ],
      "execution_count": null,
      "outputs": [
        {
          "output_type": "stream",
          "text": [
            "Enter model name: _run_1_30epoch_\n",
            "Model saved to local instance here: 1594126297_storage_tank_vs_helo__run_1_30epoch__h5_model_.h5\n",
            "Model saved to Google Drive here: /content/drive/My Drive/Colab Notebooks/Thesis Resources/Training_Sessions/trained_models/1594126297_storage_tank_vs_helo_run_1_30epoch__h5_model.h5\n",
            "Model saved here: /content/drive/My Drive/Colab Notebooks/Thesis Resources/Training_Sessions/trained_models/1594126297_storage_tank_vs_helo_run_1_30epoch__h5_model.h5\n",
            "1594126297_storage_tank_vs_helo__run_1_30epoch__h5_model_.h5\n",
            "adc.json\n",
            "Combine_tunnel_test\n",
            "drive\n",
            "__MACOSX\n",
            "sample_data\n",
            "storage_tank_vs_helo\n",
            "storage_tank_vs_helo_test\n",
            "storage_tank_vs_helo_test.zip\n",
            "storage_tank_vs_helo.zip\n"
          ],
          "name": "stdout"
        }
      ]
    },
    {
      "cell_type": "markdown",
      "metadata": {
        "id": "O9OQEuMs4RDE",
        "colab_type": "text"
      },
      "source": [
        "Reload Previously Trained Model - <font color='orange'> Skip this code block using model trained during this session!!!</font>\n",
        "\n",
        "\n",
        "---\n",
        "\n"
      ]
    },
    {
      "cell_type": "code",
      "metadata": {
        "id": "QLtZuhf4SxEu",
        "colab_type": "code",
        "cellView": "both",
        "colab": {}
      },
      "source": [
        "#@title Open this to reload previously trained model (not during this session)\n",
        "# Follow prompt in the authorization process\n",
        "\n",
        "auth.authenticate_user()\n",
        "gauth = GoogleAuth()\n",
        "gauth.credentials = GoogleCredentials.get_application_default()\n",
        "drive = GoogleDrive(gauth)"
      ],
      "execution_count": null,
      "outputs": []
    },
    {
      "cell_type": "code",
      "metadata": {
        "id": "ZBTqW6VP4UdN",
        "colab_type": "code",
        "cellView": "both",
        "colab": {
          "base_uri": "https://localhost:8080/",
          "height": 33
        },
        "outputId": "39b2ef20-14a8-4561-f741-247554665d85"
      },
      "source": [
        "#@title Open this to reload previously trained model (not during this session)\n",
        "# Enter the path and filename for the trained model here\n",
        "export_path_keras = '/content/drive/My Drive/Colab Notebooks/Thesis Resources/Training_Sessions/trained_models/1594126297_storage_tank_vs_helo_run_1_30epoch__h5_model.h5'\n",
        "# Copy trained model to local instance\n",
        "export_path_keras = shutil.copyfile(export_path_keras, os.path.join('/content/' + export_path_keras.split('/')[-1]))\n",
        "print(export_path_keras)"
      ],
      "execution_count": 8,
      "outputs": [
        {
          "output_type": "stream",
          "text": [
            "/content/1594126297_storage_tank_vs_helo_run_1_30epoch__h5_model.h5\n"
          ],
          "name": "stdout"
        }
      ]
    },
    {
      "cell_type": "markdown",
      "metadata": {
        "id": "TlReey6Eo31L",
        "colab_type": "text"
      },
      "source": [
        ""
      ]
    },
    {
      "cell_type": "code",
      "metadata": {
        "id": "7tjQkZ2K6d4B",
        "colab_type": "code",
        "colab": {
          "base_uri": "https://localhost:8080/",
          "height": 212
        },
        "outputId": "02456db3-ae20-4cb6-b71a-b0b3afb805bb"
      },
      "source": [
        "reloaded = tf.keras.models.load_model(\n",
        "  export_path_keras, \n",
        "  # `custom_objects` tells keras how to load a `hub.KerasLayer`\n",
        "  custom_objects={'KerasLayer': hub.KerasLayer})\n",
        "\n",
        "reloaded.summary()"
      ],
      "execution_count": 9,
      "outputs": [
        {
          "output_type": "stream",
          "text": [
            "Model: \"sequential\"\n",
            "_________________________________________________________________\n",
            "Layer (type)                 Output Shape              Param #   \n",
            "=================================================================\n",
            "keras_layer (KerasLayer)     (None, 2048)              23588821  \n",
            "_________________________________________________________________\n",
            "dense (Dense)                (None, 2)                 4098      \n",
            "=================================================================\n",
            "Total params: 23,592,919\n",
            "Trainable params: 4,098\n",
            "Non-trainable params: 23,588,821\n",
            "_________________________________________________________________\n"
          ],
          "name": "stdout"
        }
      ]
    },
    {
      "cell_type": "markdown",
      "metadata": {
        "id": "ve5UuDy2Mtja",
        "colab_type": "text"
      },
      "source": [
        "## Run Predictions on Test Set\n",
        "\n",
        "---\n",
        "\n"
      ]
    },
    {
      "cell_type": "code",
      "metadata": {
        "colab_type": "code",
        "id": "6KK8vE9m6URM",
        "colab": {}
      },
      "source": [
        "from keras.preprocessing import image\n",
        "prediction_list = []\n",
        "\n",
        "for i in range(len(test_files)):\n",
        "  test_image = image.load_img(test_files[i], target_size= (IMG_RES, IMG_RES))\n",
        "  test_image = image.img_to_array(test_image)\n",
        "  test_image = np.expand_dims(test_image, axis = 0)\n",
        "  result = reloaded.predict(test_image) # there is something wrong with this... seems it isn't supposed to take one image at at time... needs an array\n",
        "  result = tf.squeeze(result).numpy() # removes the extra dimension in tensor (basically extracts the contents of result prediction tuple)\n",
        "  # Delete below if it doesn't work\n",
        "  result = np.argmax(result, axis=-1)\n",
        "  prediction_list.append(result)\n",
        "out_list = dict(zip(test_files, prediction_list))"
      ],
      "execution_count": null,
      "outputs": []
    },
    {
      "cell_type": "code",
      "metadata": {
        "id": "wNRQmbgcrMPQ",
        "colab_type": "code",
        "colab": {
          "base_uri": "https://localhost:8080/",
          "height": 33
        },
        "outputId": "133c967e-6c6f-4be2-8381-133ef4fa981b"
      },
      "source": [
        "from keras.preprocessing.image import ImageDataGenerator\n",
        "test_datagen = ImageDataGenerator( \n",
        "        rescale=1./255)"
      ],
      "execution_count": 14,
      "outputs": [
        {
          "output_type": "stream",
          "text": [
            "Using TensorFlow backend.\n"
          ],
          "name": "stderr"
        }
      ]
    },
    {
      "cell_type": "code",
      "metadata": {
        "id": "xSf6p2yQq3RE",
        "colab_type": "code",
        "colab": {
          "base_uri": "https://localhost:8080/",
          "height": 50
        },
        "outputId": "3615d500-20f6-4486-a976-b3ebe844f53e"
      },
      "source": [
        "# Generate Test Set tensor to run predictions\n",
        "\n",
        "IMG_RES = 224\n",
        "BATCH_SIZE = 32\n",
        "\n",
        "print('Test Set:')\n",
        "test_set = test_datagen.flow_from_directory(\n",
        "         test_path,\n",
        "         shuffle=False,\n",
        "         target_size=(IMG_RES,IMG_RES),\n",
        "         class_mode='binary')  "
      ],
      "execution_count": 80,
      "outputs": [
        {
          "output_type": "stream",
          "text": [
            "Test Set:\n",
            "Found 1290 images belonging to 2 classes.\n"
          ],
          "name": "stdout"
        }
      ]
    },
    {
      "cell_type": "code",
      "metadata": {
        "id": "wemhRvUBpo_N",
        "colab_type": "code",
        "colab": {}
      },
      "source": [
        "# Run predictions on entire test set\n",
        "result = reloaded.predict(test_set)\n",
        "result = np.argmax(result, axis=-1)\n",
        "result = result.tolist()"
      ],
      "execution_count": 91,
      "outputs": []
    },
    {
      "cell_type": "code",
      "metadata": {
        "id": "fHZ5QOIE2WOe",
        "colab_type": "code",
        "colab": {}
      },
      "source": [
        "labels = []\n",
        "\n",
        "for path in test_files:\n",
        "  label = path.split('/')[-2]\n",
        "  if label == test_files[0].split('/')[-2]:\n",
        "    label_class = 0\n",
        "  else:\n",
        "    label_class = 1\n",
        "  labels.append(label_class)"
      ],
      "execution_count": 92,
      "outputs": []
    },
    {
      "cell_type": "markdown",
      "metadata": {
        "id": "QEHLR2GPbuP4",
        "colab_type": "text"
      },
      "source": [
        "## MCC Calculation"
      ]
    },
    {
      "cell_type": "code",
      "metadata": {
        "id": "5uw1SHtDS8VW",
        "colab_type": "code",
        "colab": {}
      },
      "source": [
        "#Import the required functions\n",
        "from sklearn.metrics import confusion_matrix, matthews_corrcoef\n",
        "import math"
      ],
      "execution_count": 85,
      "outputs": []
    },
    {
      "cell_type": "code",
      "metadata": {
        "colab_type": "code",
        "id": "0gqsKolw83gf",
        "colab": {
          "base_uri": "https://localhost:8080/",
          "height": 131
        },
        "outputId": "5baf73fd-5945-4a7c-b1ec-e644c02242ab"
      },
      "source": [
        "matrix = confusion_matrix(labels, result)\n",
        "print(f'Confustion Matrix\\n {matrix}\\n')\n",
        "\n",
        "# Print MCC\n",
        "MCC = matthews_corrcoef(labels, result)\n",
        "print(f'\\nMCC:\\n{MCC}')"
      ],
      "execution_count": 93,
      "outputs": [
        {
          "output_type": "stream",
          "text": [
            "Confustion Matrix\n",
            " [[526  41]\n",
            " [ 88 635]]\n",
            "\n",
            "\n",
            "MCC:\n",
            "0.8009851341826008\n"
          ],
          "name": "stdout"
        }
      ]
    },
    {
      "cell_type": "code",
      "metadata": {
        "id": "HrjLCx1ok9Iu",
        "colab_type": "code",
        "colab": {
          "base_uri": "https://localhost:8080/",
          "height": 82
        },
        "outputId": "c44f7903-fe1c-4cba-c3a3-e602c6454007"
      },
      "source": [
        "TP = matrix[0][0]\n",
        "TN = matrix[1][1]\n",
        "FP = matrix[0][1]\n",
        "FN = matrix[1][0]\n",
        "print(f'Not_Tank | Tank')\n",
        "print('='*20)\n",
        "print(f'TP: {TP} | FP: {FP}')\n",
        "print(f'FN: {FN} | TN: {TN}')"
      ],
      "execution_count": 94,
      "outputs": [
        {
          "output_type": "stream",
          "text": [
            "Not_Tank | Tank\n",
            "====================\n",
            "TP: 526 | FP: 41\n",
            "FN: 88 | TN: 635\n"
          ],
          "name": "stdout"
        }
      ]
    },
    {
      "cell_type": "markdown",
      "metadata": {
        "id": "jW4Egaeipgi0",
        "colab_type": "text"
      },
      "source": [
        "Calculate MCC by hand"
      ]
    },
    {
      "cell_type": "markdown",
      "metadata": {
        "id": "8wSkyztGl791",
        "colab_type": "text"
      },
      "source": [
        "![alt text](https://miro.medium.com/max/1400/1*8E2rPn_ccOqGuPYj1gBTAg.png\n",
        ")"
      ]
    },
    {
      "cell_type": "code",
      "metadata": {
        "id": "YJo1rd7TnWTw",
        "colab_type": "code",
        "colab": {
          "base_uri": "https://localhost:8080/",
          "height": 33
        },
        "outputId": "8456a4a8-527f-4bfd-952d-a0523d8f2ce2"
      },
      "source": [
        "MCC_calc = (TP*TN - FP*FN)/(math.sqrt((TP+FP)*(TP+FN)*(TN+FP)*(TN+FN)))\n",
        "print(f'Difference between Sklearn MCC and manual MCC = {MCC_calc - MCC}')"
      ],
      "execution_count": 95,
      "outputs": [
        {
          "output_type": "stream",
          "text": [
            "Difference between Sklearn MCC and manual MCC = 0.0\n"
          ],
          "name": "stdout"
        }
      ]
    },
    {
      "cell_type": "markdown",
      "metadata": {
        "id": "EyeHz3mTFla6",
        "colab_type": "text"
      },
      "source": [
        "# Stats Tracker\n",
        "\n",
        "---\n",
        "\n"
      ]
    },
    {
      "cell_type": "code",
      "metadata": {
        "colab_type": "code",
        "id": "iVGGv-HM7YaI",
        "colab": {
          "base_uri": "https://localhost:8080/",
          "height": 105
        },
        "outputId": "a98a0ac9-b668-418d-f144-3f67c64a8645"
      },
      "source": [
        "tng_stats.drop_duplicates"
      ],
      "execution_count": null,
      "outputs": [
        {
          "output_type": "execute_result",
          "data": {
            "text/plain": [
              "<bound method DataFrame.drop_duplicates of    Unnamed: 0  batch  epochs  ...  tng_acc  val_acc  total_tng_time\n",
              "0           0    100      30  ...   0.2998   0.3327            4:15\n",
              "1           1    100      30  ...   0.2998   0.3327            4:15\n",
              "\n",
              "[2 rows x 8 columns]>"
            ]
          },
          "metadata": {
            "tags": []
          },
          "execution_count": 152
        }
      ]
    },
    {
      "cell_type": "code",
      "metadata": {
        "id": "cdxqEni2D4or",
        "colab_type": "code",
        "colab": {
          "base_uri": "https://localhost:8080/",
          "height": 34
        },
        "outputId": "3368d8ca-f4ee-480d-c7c0-9ffbdad834c5"
      },
      "source": [
        "import math\n",
        "\n",
        "tng_time = [5794, 351, 352, 351, 346, 354, 350, 357, 348, 360, 350, 354, 347, 351, 352, 354, 345, 361, 342, 369, 355, 347, 350, 354, 361, 346, 355,347]\n",
        "t_time = round(sum(tng_time)/60/60, 2)\n",
        "\n",
        "hr = math.floor(t_time)\n",
        "m = round((t_time - hr)*60)\n",
        "m = '%02d' % m\n",
        "\n",
        "train_time = str(hr) + ':' + m\n",
        "print(f'Total Training Time: {train_time}')"
      ],
      "execution_count": null,
      "outputs": [
        {
          "output_type": "stream",
          "text": [
            "Total Training Time: 4:15\n"
          ],
          "name": "stdout"
        }
      ]
    },
    {
      "cell_type": "code",
      "metadata": {
        "id": "F-Qrpw_C-nnC",
        "colab_type": "code",
        "colab": {
          "base_uri": "https://localhost:8080/",
          "height": 87
        },
        "outputId": "1d31d8d5-4dbc-4caa-a6e1-199ee54f4670"
      },
      "source": [
        "tng_loss = round(history.history['loss'][len(history.history)], 4)\n",
        "val_loss = round(history.history['val_loss'][len(history.history)], 4)\n",
        "\n",
        "print(f'Train Loss: {tng_loss}')\n",
        "print(f'Val Loss: {val_loss}')\n",
        "\n",
        "tng_acc = round(history.history['accuracy'][len(history.history)], 4)\n",
        "val_acc = round(history.history['val_accuracy'][len(history.history)], 4)\n",
        "\n",
        "print(f'Train Accuracy: {tng_acc}')\n",
        "print(f'Val Accuracy: {val_acc}')"
      ],
      "execution_count": null,
      "outputs": [
        {
          "output_type": "stream",
          "text": [
            "Train Loss: 0.5878\n",
            "Val Loss: 0.6212\n",
            "Train Accuracy: 0.2998\n",
            "Val Accuracy: 0.3327\n"
          ],
          "name": "stdout"
        }
      ]
    },
    {
      "cell_type": "code",
      "metadata": {
        "id": "S_UEgQeuNmsR",
        "colab_type": "code",
        "colab": {}
      },
      "source": [
        "import pandas as pd\n",
        "import numpy as np"
      ],
      "execution_count": null,
      "outputs": []
    },
    {
      "cell_type": "markdown",
      "metadata": {
        "id": "Ss4K9naZTEtS",
        "colab_type": "text"
      },
      "source": [
        "Export DF to CSV\n",
        "\n",
        "---\n",
        "https://towardsdatascience.com/how-to-export-pandas-dataframe-to-csv-2038e43d9c03\n",
        "\n",
        "`df.to_csv('file_name.csv')`\n",
        "\n",
        "`df.to_csv('file_name.csv', encoding='utf-8')`\n",
        "\n",
        "`df.to_csv('file_name.csv', index=False)` Example: `df.to_csv('C:/Users/abc/Desktop/file_name.csv')`\n"
      ]
    },
    {
      "cell_type": "markdown",
      "metadata": {
        "id": "Nt74CvsnV98p",
        "colab_type": "text"
      },
      "source": [
        "### Create the Training Stats Tracker"
      ]
    },
    {
      "cell_type": "code",
      "metadata": {
        "id": "BhgDdNfnNxrC",
        "colab_type": "code",
        "colab": {
          "base_uri": "https://localhost:8080/",
          "height": 77
        },
        "outputId": "b93ec1b6-37b8-4c91-84d6-1d25eeb30c73"
      },
      "source": [
        "testdf = pd.DataFrame(np.array([[BATCH_SIZE, EPOCHS, tng_loss, val_loss, tng_acc, val_acc, train_time]]), columns=['batch', 'epochs', 'tng_loss', 'test_loss', 'tng_acc', 'val_acc', 'total_tng_time'])\n",
        "testdf"
      ],
      "execution_count": null,
      "outputs": [
        {
          "output_type": "execute_result",
          "data": {
            "text/html": [
              "<div>\n",
              "<style scoped>\n",
              "    .dataframe tbody tr th:only-of-type {\n",
              "        vertical-align: middle;\n",
              "    }\n",
              "\n",
              "    .dataframe tbody tr th {\n",
              "        vertical-align: top;\n",
              "    }\n",
              "\n",
              "    .dataframe thead th {\n",
              "        text-align: right;\n",
              "    }\n",
              "</style>\n",
              "<table border=\"1\" class=\"dataframe\">\n",
              "  <thead>\n",
              "    <tr style=\"text-align: right;\">\n",
              "      <th></th>\n",
              "      <th>batch</th>\n",
              "      <th>epochs</th>\n",
              "      <th>tng_loss</th>\n",
              "      <th>test_loss</th>\n",
              "      <th>tng_acc</th>\n",
              "      <th>val_acc</th>\n",
              "      <th>total_tng_time</th>\n",
              "    </tr>\n",
              "  </thead>\n",
              "  <tbody>\n",
              "    <tr>\n",
              "      <th>0</th>\n",
              "      <td>100</td>\n",
              "      <td>30</td>\n",
              "      <td>0.5878</td>\n",
              "      <td>0.6212</td>\n",
              "      <td>0.2998</td>\n",
              "      <td>0.3327</td>\n",
              "      <td>4:15</td>\n",
              "    </tr>\n",
              "  </tbody>\n",
              "</table>\n",
              "</div>"
            ],
            "text/plain": [
              "  batch epochs tng_loss test_loss tng_acc val_acc total_tng_time\n",
              "0   100     30   0.5878    0.6212  0.2998  0.3327           4:15"
            ]
          },
          "metadata": {
            "tags": []
          },
          "execution_count": 134
        }
      ]
    },
    {
      "cell_type": "markdown",
      "metadata": {
        "id": "b2XTOinrWTEg",
        "colab_type": "text"
      },
      "source": [
        "### Add Stats to Training Tracker\n"
      ]
    },
    {
      "cell_type": "code",
      "metadata": {
        "id": "UjaGJeAFRxxi",
        "colab_type": "code",
        "colab": {
          "base_uri": "https://localhost:8080/",
          "height": 107
        },
        "outputId": "38566674-8930-4efc-eeaf-3208e580c503"
      },
      "source": [
        "testdf.loc[len(testdf)] = [BATCH_SIZE, EPOCHS, tng_loss, val_loss, tng_acc, val_acc, train_time]\n",
        "testdf"
      ],
      "execution_count": null,
      "outputs": [
        {
          "output_type": "execute_result",
          "data": {
            "text/html": [
              "<div>\n",
              "<style scoped>\n",
              "    .dataframe tbody tr th:only-of-type {\n",
              "        vertical-align: middle;\n",
              "    }\n",
              "\n",
              "    .dataframe tbody tr th {\n",
              "        vertical-align: top;\n",
              "    }\n",
              "\n",
              "    .dataframe thead th {\n",
              "        text-align: right;\n",
              "    }\n",
              "</style>\n",
              "<table border=\"1\" class=\"dataframe\">\n",
              "  <thead>\n",
              "    <tr style=\"text-align: right;\">\n",
              "      <th></th>\n",
              "      <th>batch</th>\n",
              "      <th>epochs</th>\n",
              "      <th>tng_loss</th>\n",
              "      <th>test_loss</th>\n",
              "      <th>tng_acc</th>\n",
              "      <th>val_acc</th>\n",
              "      <th>total_tng_time</th>\n",
              "    </tr>\n",
              "  </thead>\n",
              "  <tbody>\n",
              "    <tr>\n",
              "      <th>0</th>\n",
              "      <td>100</td>\n",
              "      <td>30</td>\n",
              "      <td>0.5878</td>\n",
              "      <td>0.6212</td>\n",
              "      <td>0.2998</td>\n",
              "      <td>0.3327</td>\n",
              "      <td>4:15</td>\n",
              "    </tr>\n",
              "    <tr>\n",
              "      <th>1</th>\n",
              "      <td>100</td>\n",
              "      <td>30</td>\n",
              "      <td>0.5878</td>\n",
              "      <td>0.6212</td>\n",
              "      <td>0.2998</td>\n",
              "      <td>0.3327</td>\n",
              "      <td>4:15</td>\n",
              "    </tr>\n",
              "  </tbody>\n",
              "</table>\n",
              "</div>"
            ],
            "text/plain": [
              "  batch epochs tng_loss test_loss tng_acc val_acc total_tng_time\n",
              "0   100     30   0.5878    0.6212  0.2998  0.3327           4:15\n",
              "1   100     30   0.5878    0.6212  0.2998  0.3327           4:15"
            ]
          },
          "metadata": {
            "tags": []
          },
          "execution_count": 135
        }
      ]
    },
    {
      "cell_type": "markdown",
      "metadata": {
        "id": "tY1iKaFtWidc",
        "colab_type": "text"
      },
      "source": [
        "Write Training Stats to Folder"
      ]
    },
    {
      "cell_type": "code",
      "metadata": {
        "id": "Rutl0mxcR-5g",
        "colab_type": "code",
        "colab": {}
      },
      "source": [
        "file_name = r'/content/drive/My Drive/Colab Notebooks/Thesis Resources/training_stats_Actual.csv'\n",
        "testdf.to_csv(file_name)"
      ],
      "execution_count": null,
      "outputs": []
    },
    {
      "cell_type": "markdown",
      "metadata": {
        "id": "E3OvZlYpWNr5",
        "colab_type": "text"
      },
      "source": [
        "Read In Trianing Tracker CSV"
      ]
    },
    {
      "cell_type": "code",
      "metadata": {
        "id": "toEYh21zUUia",
        "colab_type": "code",
        "colab": {
          "base_uri": "https://localhost:8080/",
          "height": 107
        },
        "outputId": "8e7479a3-2edc-49d5-a673-162d14dcd026"
      },
      "source": [
        "tng_stats = pd.read_csv(file_name)\n",
        "tng_stats "
      ],
      "execution_count": null,
      "outputs": [
        {
          "output_type": "execute_result",
          "data": {
            "text/html": [
              "<div>\n",
              "<style scoped>\n",
              "    .dataframe tbody tr th:only-of-type {\n",
              "        vertical-align: middle;\n",
              "    }\n",
              "\n",
              "    .dataframe tbody tr th {\n",
              "        vertical-align: top;\n",
              "    }\n",
              "\n",
              "    .dataframe thead th {\n",
              "        text-align: right;\n",
              "    }\n",
              "</style>\n",
              "<table border=\"1\" class=\"dataframe\">\n",
              "  <thead>\n",
              "    <tr style=\"text-align: right;\">\n",
              "      <th></th>\n",
              "      <th>Unnamed: 0</th>\n",
              "      <th>batch</th>\n",
              "      <th>epochs</th>\n",
              "      <th>tng_loss</th>\n",
              "      <th>test_loss</th>\n",
              "      <th>tng_acc</th>\n",
              "      <th>val_acc</th>\n",
              "      <th>total_tng_time</th>\n",
              "    </tr>\n",
              "  </thead>\n",
              "  <tbody>\n",
              "    <tr>\n",
              "      <th>0</th>\n",
              "      <td>0</td>\n",
              "      <td>100</td>\n",
              "      <td>30</td>\n",
              "      <td>0.5878</td>\n",
              "      <td>0.6212</td>\n",
              "      <td>0.2998</td>\n",
              "      <td>0.3327</td>\n",
              "      <td>4:15</td>\n",
              "    </tr>\n",
              "    <tr>\n",
              "      <th>1</th>\n",
              "      <td>1</td>\n",
              "      <td>100</td>\n",
              "      <td>30</td>\n",
              "      <td>0.5878</td>\n",
              "      <td>0.6212</td>\n",
              "      <td>0.2998</td>\n",
              "      <td>0.3327</td>\n",
              "      <td>4:15</td>\n",
              "    </tr>\n",
              "  </tbody>\n",
              "</table>\n",
              "</div>"
            ],
            "text/plain": [
              "   Unnamed: 0  batch  epochs  ...  tng_acc  val_acc  total_tng_time\n",
              "0           0    100      30  ...   0.2998   0.3327            4:15\n",
              "1           1    100      30  ...   0.2998   0.3327            4:15\n",
              "\n",
              "[2 rows x 8 columns]"
            ]
          },
          "metadata": {
            "tags": []
          },
          "execution_count": 151
        }
      ]
    },
    {
      "cell_type": "markdown",
      "metadata": {
        "id": "JHJP0Q_ROJqb",
        "colab_type": "text"
      },
      "source": [
        "# Creating Checkpoints and Loading the Saved Model\n",
        "\n",
        "---\n",
        "\n",
        "Look at 4th solution from the bottom for the code. Note: I attempted this on Bailey's CNN and it didn't seem to save the file anywhere: https://stackoverflow.com/questions/45393429/keras-how-to-save-model-and-continue-training\n",
        "\n",
        "Also from Udacity Lesson: https://colab.research.google.com/drive/134BrZg43NxOcaqn38RUXwdIuRH7ZAq6R (Search \"checkpoint)"
      ]
    },
    {
      "cell_type": "code",
      "metadata": {
        "id": "dnv7Na_cOJNl",
        "colab_type": "code",
        "cellView": "form",
        "colab": {}
      },
      "source": [
        "#@title May not have time for this - Delete\n",
        "from keras.callbacks import ModelCheckpoint\n",
        "\n",
        "# define the checkpoint\n",
        "filepath = \"Trained_Model.h5\"\n",
        "checkpoint = ModelCheckpoint(filepath, monitor='val_accuracy', verbose=1, save_best_only=True, mode='max')\n",
        "callbacks_list = [checkpoint]\n",
        "\n",
        "classifier.fit_generator(training_set, steps_per_epoch = train_number, epochs = 25, validation_data = test_set, validation_steps = test_number)\n",
        "classes = training_set.class_indices"
      ],
      "execution_count": null,
      "outputs": []
    }
  ]
}