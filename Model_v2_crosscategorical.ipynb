{
  "nbformat": 4,
  "nbformat_minor": 0,
  "metadata": {
    "colab": {
      "name": "Model_v2_crosscategorical.ipynb",
      "provenance": [],
      "collapsed_sections": [
        "aP7gEV84aHdv",
        "nnXfr5UgtaB5",
        "NUGIJm4pMkAv",
        "EyeHz3mTFla6",
        "Nt74CvsnV98p",
        "b2XTOinrWTEg"
      ],
      "machine_shape": "hm",
      "mount_file_id": "17OO5X1r-Xv8KJ5LY8qISLYFFktvg7JPE",
      "authorship_tag": "ABX9TyMZBPpCcyKfdcyGbng0xoxq",
      "include_colab_link": true
    },
    "kernelspec": {
      "name": "python3",
      "display_name": "Python 3"
    },
    "accelerator": "GPU"
  },
  "cells": [
    {
      "cell_type": "markdown",
      "metadata": {
        "id": "view-in-github",
        "colab_type": "text"
      },
      "source": [
        "<a href=\"https://colab.research.google.com/github/este7734/in_domain_transfer_learning/blob/master/Model_v2_crosscategorical.ipynb\" target=\"_parent\"><img src=\"https://colab.research.google.com/assets/colab-badge.svg\" alt=\"Open In Colab\"/></a>"
      ]
    },
    {
      "cell_type": "markdown",
      "metadata": {
        "id": "xmL08Z4HDoss",
        "colab_type": "text"
      },
      "source": [
        "### Import Dependencies"
      ]
    },
    {
      "cell_type": "code",
      "metadata": {
        "colab_type": "code",
        "id": "WZnAHGETHu7e",
        "colab": {}
      },
      "source": [
        "import tensorflow as tf\n",
        "import matplotlib.pylab as plt\n",
        "\n",
        "import tensorflow_hub as hub\n",
        "#import tensorflow_datasets as tfds\n",
        "\n",
        "from tensorflow.keras import layers\n",
        "import numpy as np\n",
        "\n",
        "# To parse file names for tensor generations\n",
        "# and help count files in each directory\n",
        "import glob\n",
        "# To move files into new folder structure\n",
        "import shutil\n",
        "# For manipulating file paths\n",
        "import os\n",
        "\n",
        "# To add colored text to your print outs\n",
        "from termcolor import colored\n",
        "\n",
        "# To get python version number that you're running\n",
        "from platform import python_version\n",
        "\n",
        "# To save the final model with a time stamp\n",
        "import time"
      ],
      "execution_count": 1,
      "outputs": []
    },
    {
      "cell_type": "code",
      "metadata": {
        "colab_type": "code",
        "id": "AGKNVItmpc2z",
        "colab": {}
      },
      "source": [
        "import logging\n",
        "logger = tf.get_logger()\n",
        "logger.setLevel(logging.ERROR)"
      ],
      "execution_count": 2,
      "outputs": []
    },
    {
      "cell_type": "code",
      "metadata": {
        "id": "Vj9n8tWd-qII",
        "colab_type": "code",
        "colab": {}
      },
      "source": [
        "from PIL import Image\n",
        "# Increase the max pixel limit to avoid getting a DecompressionBombWarning from\n",
        "# PIL and prevent the warning from interupting the training epochs\n",
        "Image.MAX_IMAGE_PIXELS = 1024 * 1024 * 1024 //5"
      ],
      "execution_count": 3,
      "outputs": []
    },
    {
      "cell_type": "code",
      "metadata": {
        "id": "O3PC4rqxjnBU",
        "colab_type": "code",
        "colab": {
          "base_uri": "https://localhost:8080/",
          "height": 118
        },
        "outputId": "07079db0-57cf-4afa-97e2-ff9e3e19b3cc"
      },
      "source": [
        "from google.colab import drive\n",
        "drive.mount('/content/drive')"
      ],
      "execution_count": 29,
      "outputs": [
        {
          "output_type": "stream",
          "text": [
            "Go to this URL in a browser: https://accounts.google.com/o/oauth2/auth?client_id=947318989803-6bn6qk8qdgf4n4g3pfee6491hc0brc4i.apps.googleusercontent.com&redirect_uri=urn%3aietf%3awg%3aoauth%3a2.0%3aoob&response_type=code&scope=email%20https%3a%2f%2fwww.googleapis.com%2fauth%2fdocs.test%20https%3a%2f%2fwww.googleapis.com%2fauth%2fdrive%20https%3a%2f%2fwww.googleapis.com%2fauth%2fdrive.photos.readonly%20https%3a%2f%2fwww.googleapis.com%2fauth%2fpeopleapi.readonly\n",
            "\n",
            "Enter your authorization code:\n",
            "··········\n",
            "Mounted at /content/drive\n"
          ],
          "name": "stdout"
        }
      ]
    },
    {
      "cell_type": "markdown",
      "metadata": {
        "id": "aP7gEV84aHdv",
        "colab_type": "text"
      },
      "source": [
        "## Query System Specs\n",
        "\n",
        "---\n",
        "\n"
      ]
    },
    {
      "cell_type": "code",
      "metadata": {
        "id": "VOdoG7MFhUGX",
        "colab_type": "code",
        "cellView": "form",
        "colab": {
          "base_uri": "https://localhost:8080/",
          "height": 1000
        },
        "outputId": "0d87bfa5-790b-4638-e414-9c8e0d9c6592"
      },
      "source": [
        "#@title Retrieve Hardware, OS, and Software Specs\n",
        "\n",
        "print(\"\\n--------Software---------\")\n",
        "print('Python', python_version())\n",
        "print(\"\\n--------Libraries---------\")\n",
        "print('TensorFlow' , tf.__version__)\n",
        "print('TensorFlow Hub' , hub.__version__)\n",
        "# print('Keras v' , layers.__version__)\n",
        "#print('Glob', glob.__version__)\n",
        "#print('Shutil', shutil.__version__)\n",
        "print('matplotlib.pylab', plt.__version__)\n",
        "print('Numpy', np.__version__)\n",
        "print('PIL', PIL.__version__)\n",
        "\n",
        "print(\"\\n--------Operating System------------------------\")\n",
        "!cat /etc/os-release\n",
        "print(\"\\n--------CPU Specs------------------------\")\n",
        "!lscpu\n",
        "\n",
        "print(\"\\n--------GPU Specs------------------------\")\n",
        "gpu_info = !nvidia-smi\n",
        "gpu_info = '\\n'.join(gpu_info)\n",
        "if gpu_info.find('failed') >= 0:\n",
        "  print('Select the Runtime → \"Change runtime type\" menu to enable a GPU accelerator, ')\n",
        "  print('and then re-execute this cell.')\n",
        "else:\n",
        "  print(gpu_info)\n",
        "\n",
        "from psutil import virtual_memory\n",
        "ram_gb = virtual_memory().total / 1e9\n",
        "print('\\nYour runtime has {:.1f} gigabytes of available RAM\\n'.format(ram_gb))\n"
      ],
      "execution_count": null,
      "outputs": [
        {
          "output_type": "stream",
          "text": [
            "\n",
            "--------Software---------\n",
            "Python 3.6.9\n",
            "\n",
            "--------Libraries---------\n",
            "TensorFlow 2.2.0-rc3\n",
            "TensorFlow Hub 0.8.0\n",
            "matplotlib.pylab 1.18.3\n",
            "Numpy 1.18.3\n",
            "\n",
            "--------Operating System------------------------\n",
            "NAME=\"Ubuntu\"\n",
            "VERSION=\"18.04.3 LTS (Bionic Beaver)\"\n",
            "ID=ubuntu\n",
            "ID_LIKE=debian\n",
            "PRETTY_NAME=\"Ubuntu 18.04.3 LTS\"\n",
            "VERSION_ID=\"18.04\"\n",
            "HOME_URL=\"https://www.ubuntu.com/\"\n",
            "SUPPORT_URL=\"https://help.ubuntu.com/\"\n",
            "BUG_REPORT_URL=\"https://bugs.launchpad.net/ubuntu/\"\n",
            "PRIVACY_POLICY_URL=\"https://www.ubuntu.com/legal/terms-and-policies/privacy-policy\"\n",
            "VERSION_CODENAME=bionic\n",
            "UBUNTU_CODENAME=bionic\n",
            "\n",
            "--------CPU Specs------------------------\n",
            "Architecture:        x86_64\n",
            "CPU op-mode(s):      32-bit, 64-bit\n",
            "Byte Order:          Little Endian\n",
            "CPU(s):              4\n",
            "On-line CPU(s) list: 0-3\n",
            "Thread(s) per core:  2\n",
            "Core(s) per socket:  2\n",
            "Socket(s):           1\n",
            "NUMA node(s):        1\n",
            "Vendor ID:           GenuineIntel\n",
            "CPU family:          6\n",
            "Model:               79\n",
            "Model name:          Intel(R) Xeon(R) CPU @ 2.20GHz\n",
            "Stepping:            0\n",
            "CPU MHz:             2200.000\n",
            "BogoMIPS:            4400.00\n",
            "Hypervisor vendor:   KVM\n",
            "Virtualization type: full\n",
            "L1d cache:           32K\n",
            "L1i cache:           32K\n",
            "L2 cache:            256K\n",
            "L3 cache:            56320K\n",
            "NUMA node0 CPU(s):   0-3\n",
            "Flags:               fpu vme de pse tsc msr pae mce cx8 apic sep mtrr pge mca cmov pat pse36 clflush mmx fxsr sse sse2 ss ht syscall nx pdpe1gb rdtscp lm constant_tsc rep_good nopl xtopology nonstop_tsc cpuid tsc_known_freq pni pclmulqdq ssse3 fma cx16 pcid sse4_1 sse4_2 x2apic movbe popcnt aes xsave avx f16c rdrand hypervisor lahf_lm abm 3dnowprefetch invpcid_single ssbd ibrs ibpb stibp fsgsbase tsc_adjust bmi1 hle avx2 smep bmi2 erms invpcid rtm rdseed adx smap xsaveopt arat md_clear arch_capabilities\n",
            "\n",
            "--------GPU Specs------------------------\n",
            "Mon May  4 22:38:15 2020       \n",
            "+-----------------------------------------------------------------------------+\n",
            "| NVIDIA-SMI 440.64.00    Driver Version: 418.67       CUDA Version: 10.1     |\n",
            "|-------------------------------+----------------------+----------------------+\n",
            "| GPU  Name        Persistence-M| Bus-Id        Disp.A | Volatile Uncorr. ECC |\n",
            "| Fan  Temp  Perf  Pwr:Usage/Cap|         Memory-Usage | GPU-Util  Compute M. |\n",
            "|===============================+======================+======================|\n",
            "|   0  Tesla P100-PCIE...  Off  | 00000000:00:04.0 Off |                    0 |\n",
            "| N/A   34C    P0    26W / 250W |      0MiB / 16280MiB |      0%      Default |\n",
            "+-------------------------------+----------------------+----------------------+\n",
            "                                                                               \n",
            "+-----------------------------------------------------------------------------+\n",
            "| Processes:                                                       GPU Memory |\n",
            "|  GPU       PID   Type   Process name                             Usage      |\n",
            "|=============================================================================|\n",
            "|  No running processes found                                                 |\n",
            "+-----------------------------------------------------------------------------+\n",
            "\n",
            "Your runtime has 27.4 gigabytes of available RAM\n",
            "\n"
          ],
          "name": "stdout"
        }
      ]
    },
    {
      "cell_type": "markdown",
      "metadata": {
        "id": "dMZUqBVPyckY",
        "colab_type": "text"
      },
      "source": [
        "## Copy data sets from Google Drive to the local instance\n",
        "Need to Import PyDrive to authorize Colab to your Google Drive Folder\n",
        "\n",
        "---\n",
        "\n",
        "\n",
        "*PyDrive is a wrapper library of google-api-python-client that simplifies many common Google Drive API tasks. For this exercise, this allows you to authorize (allows Google Cloud SDK to edit/modify files in your Google Drive) COLAB to access your Google Drive and makes some common tasks such as content fetching very easy.*"
      ]
    },
    {
      "cell_type": "markdown",
      "metadata": {
        "colab_type": "text",
        "id": "1xH-W7HhBI7E"
      },
      "source": [
        "Note: This The solution utilizes Google Drive API (official doc) for proper authorization.\n",
        "\n",
        "\n",
        "---\n",
        "\n",
        "\n",
        "**Steps:**\n",
        "1.   Save your `test_set.zip` file to Google Drive - you should have that since you're already using Colab\n",
        "2.   Right click on it, \"Get shareable link\", copy the part between `/d/` and `/view?...` - the file id assigned by Google Drive.\n",
        "    *   In this example: `https://drive.google.com/file/d/1U3owkzT6AvLewTaOWfgwV__BXHDxehDS/view?usp=sharing` \n",
        "    *   your file ID is: `1U3owkzT6AvLewTaOWfgwV__BXHDxehDS`\n",
        "\n",
        "3.   Navigate to the training data link: and download the training data to the local instance\n",
        "4.   Add and run the following code snippets to your Colab notebook:\n",
        "\n",
        "---\n",
        "\n",
        "\n",
        "\n",
        "\n",
        "\n"
      ]
    },
    {
      "cell_type": "code",
      "metadata": {
        "colab_type": "code",
        "id": "m5d5udV0BI7E",
        "colab": {}
      },
      "source": [
        "# Import package to use Google Drive API - not installed in Colab VM by default\n",
        "from pydrive.auth import GoogleAuth\n",
        "from pydrive.auth import GoogleAuth\n",
        "from pydrive.drive import GoogleDrive\n",
        "# Other necessary packages\n",
        "from google.colab import auth\n",
        "from oauth2client.client import GoogleCredentials\n",
        "from tensorflow.keras.callbacks import ModelCheckpoint"
      ],
      "execution_count": 4,
      "outputs": []
    },
    {
      "cell_type": "markdown",
      "metadata": {
        "id": "cOh9CopK9amR",
        "colab_type": "text"
      },
      "source": [
        "## Load Training Data"
      ]
    },
    {
      "cell_type": "code",
      "metadata": {
        "colab_type": "code",
        "id": "zEMf1KB0BI7G",
        "colab": {}
      },
      "source": [
        "# Follow prompt in the authorization process\n",
        "\n",
        "auth.authenticate_user()\n",
        "gauth = GoogleAuth()\n",
        "gauth.credentials = GoogleCredentials.get_application_default()\n",
        "drive = GoogleDrive(gauth)"
      ],
      "execution_count": 5,
      "outputs": []
    },
    {
      "cell_type": "code",
      "metadata": {
        "colab_type": "code",
        "id": "HsfJtkYIBI7K",
        "colab": {}
      },
      "source": [
        "# load training data set to your local intance by pulling it from your Google Drive\n",
        "# to get your file ID from the shareable link in Google Drive, see notes above\n",
        "\n",
        "file_id =  '1Pg-mK7AY3dATEgfpFcFNXHS9uPus6m9o'  \n",
        "file_name = 'Combined_storage_tank.zip'  # Change this to your file  \n",
        "\n",
        "#file_id =  ''  \n",
        "#file_name = 'Combined_oil_or_gas_fac.zip'  # Change this to your file       \n",
        "\n",
        "#file_id =  '1o2QB2ylUzzI0k_BdUzr3k_emE3vCl_RI'  \n",
        "#file_name = 'Combined_helo.zip'  # Change this to your file                               \n",
        "                                                    \n",
        "your_file = drive.CreateFile({\"id\": file_id})\n",
        "your_file.GetContentFile(file_name)          # Save the file to Colab VM"
      ],
      "execution_count": 8,
      "outputs": []
    },
    {
      "cell_type": "markdown",
      "metadata": {
        "colab_type": "text",
        "id": "niEZlwrO8Wzg"
      },
      "source": [
        "## Load Test Data"
      ]
    },
    {
      "cell_type": "code",
      "metadata": {
        "colab_type": "code",
        "id": "JEORMS8C8Wzh",
        "colab": {}
      },
      "source": [
        "# load test data set to your local intance by pulling it from your Google Drive\n",
        "# to get your file ID from the shareable link in Google Drive, see notes above\n",
        "\n",
        "file_id_test =  '12adH2oV_oigI7LjVvJFgTh9u6_sieLdb'  \n",
        "file_name_test = 'Combined_storage_tank_test.zip'  # Change this to your file      \n",
        "\n",
        "#file_id_test =  ''  \n",
        "#file_name_test = 'Combined_oil_or_gas_fac_test.zip'  # Change this to your file      \n",
        "\n",
        "#file_id =  '1dQ5GREFcqjvNMmn6y1GFfOUiLMe03kyV'  \n",
        "#file_name_test = 'Combined_helo_test.zip'  # Change this to your file                               \n",
        "                                                    \n",
        "your_file = drive.CreateFile({\"id\": file_id_test})\n",
        "your_file.GetContentFile(file_name_test)          # Save the file to Colab VM"
      ],
      "execution_count": null,
      "outputs": []
    },
    {
      "cell_type": "code",
      "metadata": {
        "id": "OyFb_vAH9Zfj",
        "colab_type": "code",
        "colab": {}
      },
      "source": [
        "# Unzip Training, Validation, and Test files\n",
        "!unzip {file_name} \n",
        "!unzip {file_name_test} \n",
        "#Verify that all the necessary python files and training data files are in your local instance\n",
        "%ls"
      ],
      "execution_count": null,
      "outputs": []
    },
    {
      "cell_type": "code",
      "metadata": {
        "colab_type": "code",
        "id": "Uh_VbhED8Wzn",
        "colab": {
          "base_uri": "https://localhost:8080/",
          "height": 33
        },
        "outputId": "ebef5849-e95b-42bc-d6e4-1f9abe301239"
      },
      "source": [
        "# Instantiate test file path for runing predictions\n",
        "test_path = '/content/Combine_storage_tank_test'\n",
        "\n",
        "#test_path = '/content/Combine_oil_or_gas_fac_test'\n",
        "\n",
        "#test_path = '/content/Combined_helo_test'\n",
        "\n",
        "# Generate list of images files and count them\n",
        "# Image totals are used in setting steps per epoch\n",
        "test_files = glob.glob(test_path + '/*/*.jpg')\n",
        "test_image_count = len(test_files)\n",
        "print(f'Total test images: {test_image_count}')"
      ],
      "execution_count": null,
      "outputs": [
        {
          "output_type": "stream",
          "text": [
            "Total test images: 1589\n"
          ],
          "name": "stdout"
        }
      ]
    },
    {
      "cell_type": "markdown",
      "metadata": {
        "id": "c1WSLdnvs2rx",
        "colab_type": "text"
      },
      "source": [
        "##<font color=\"cyan\"> Establish Data Pipeline </font>\n",
        "\n",
        "\n",
        "---\n",
        "\n",
        "\n",
        "\n",
        "Got this from Medium article:\n",
        "https://towardsdatascience.com/tf-data-creating-data-input-pipelines-2913461078e2\n",
        "\n",
        "Stanford Tutorial:\n",
        "https://cs230.stanford.edu/blog/datapipeline/#building-an-image-data-pipeline\n",
        "\n",
        "---\n",
        "\n",
        "\n"
      ]
    },
    {
      "cell_type": "code",
      "metadata": {
        "id": "K7vP3DM3ZpkP",
        "colab_type": "code",
        "colab": {
          "base_uri": "https://localhost:8080/",
          "height": 33
        },
        "outputId": "13482ae9-ec43-46e8-c4af-dd9aa9e3a43d"
      },
      "source": [
        "# Import keras and set image rescaling factor \n",
        "# this is without data augmentation\n",
        "from keras.preprocessing.image import ImageDataGenerator\n",
        "train_datagen = ImageDataGenerator( \n",
        "        rescale=1./255)\n",
        "\n",
        "val_datagen = ImageDataGenerator( \n",
        "        rescale=1./255)"
      ],
      "execution_count": 11,
      "outputs": [
        {
          "output_type": "stream",
          "text": [
            "Using TensorFlow backend.\n"
          ],
          "name": "stderr"
        }
      ]
    },
    {
      "cell_type": "code",
      "metadata": {
        "id": "Ih53sDIwRT8G",
        "colab_type": "code",
        "colab": {
          "base_uri": "https://localhost:8080/",
          "height": 50
        },
        "outputId": "261ff5f8-7915-40c0-e43f-c7041a897e93"
      },
      "source": [
        "# Instantiate training and validation file paths\n",
        "\n",
        "train_path = '/content/Combine_storage_tank/train'\n",
        "val_path =  '/content/Combine_storage_tank/val'\n",
        "\n",
        "#train_path = '/content/Combined_oil_or_gas_fac/train'\n",
        "#val_path =  '/content/Combined_oil_or_gas_fac/val'\n",
        "\n",
        "#file_id =  '1S32lbB3QIJzWgS07y81VJdzodRz06m9m'  \n",
        "#file_name = 'Combined_train_val_helo.zip'  # Change this to your file    \n",
        "\n",
        "#train_path = '/content/Combined_helo/train'\n",
        "#val_path =  '/content/Combined_helo/val'\n",
        "\n",
        "# Generate list of images files and count them\n",
        "# Image totals are used in setting steps per epoch\n",
        "train_files = glob.glob(train_path + '/*/*.jpg')\n",
        "train_image_count = len(train_files)\n",
        "print(f'Total training images: {train_image_count}')\n",
        "\n",
        "val_files = glob.glob(val_path + '/*/*.jpg')\n",
        "val_image_count = len(val_files)\n",
        "print(f'Total validation images: {val_image_count}')"
      ],
      "execution_count": 13,
      "outputs": [
        {
          "output_type": "stream",
          "text": [
            "Total training images: 10887\n",
            "Total validation images: 2721\n"
          ],
          "name": "stdout"
        }
      ]
    },
    {
      "cell_type": "code",
      "metadata": {
        "id": "4TaIaRaeaoVN",
        "colab_type": "code",
        "colab": {
          "base_uri": "https://localhost:8080/",
          "height": 82
        },
        "outputId": "071fb64a-5302-48c2-fd50-39ae2c8d9d0b"
      },
      "source": [
        "IMG_RES = 224\n",
        "BATCH_SIZE = 32\n",
        "\n",
        "print('Training Set:')\n",
        "train_set = train_datagen.flow_from_directory(\n",
        "         train_path,\n",
        "         shuffle=True,\n",
        "         target_size=(IMG_RES,IMG_RES),\n",
        "         batch_size=BATCH_SIZE,\n",
        "         class_mode='binary')  \n",
        "         #class_mode='categorical') \n",
        "\n",
        "classes = train_set.class_indices # captueres class indicies in a dictionary. For example: {'non_tgt': 0, 'oil_or_gas_fac': 1}\n",
        "\n",
        "print('Validation Set:')\n",
        "val_set = val_datagen.flow_from_directory(\n",
        "         val_path,\n",
        "         target_size=(IMG_RES,IMG_RES),\n",
        "         batch_size=BATCH_SIZE,\n",
        "         class_mode='binary')   \n",
        "         #class_mode='categorical')        "
      ],
      "execution_count": 14,
      "outputs": [
        {
          "output_type": "stream",
          "text": [
            "Training Set:\n",
            "Found 10887 images belonging to 2 classes.\n",
            "Validation Set:\n",
            "Found 8537 images belonging to 2 classes.\n"
          ],
          "name": "stdout"
        }
      ]
    },
    {
      "cell_type": "markdown",
      "metadata": {
        "id": "nnXfr5UgtaB5",
        "colab_type": "text"
      },
      "source": [
        "## Plot Sample Images to verify status of Data Pipeline"
      ]
    },
    {
      "cell_type": "code",
      "metadata": {
        "id": "2gBoVfgTrENw",
        "colab_type": "code",
        "colab": {
          "base_uri": "https://localhost:8080/",
          "height": 268
        },
        "outputId": "962a20d2-d060-4da0-83ea-227300155c7c"
      },
      "source": [
        "# create a grid of 3*3 images to visualize some of the imgaes in dataset\n",
        "for i in range(0, 9):\n",
        "    plt.subplot(330 + 1+ i)\n",
        "    img = train_set[0][0][i]\n",
        "    plt.imshow(img)\n",
        "    \n",
        "# show the plot\n",
        "plt.show()"
      ],
      "execution_count": 15,
      "outputs": [
        {
          "output_type": "display_data",
          "data": {
            "image/png": "[encoded data removed]",
            "text/plain": [
              "<Figure size 432x288 with 9 Axes>"
            ]
          },
          "metadata": {
            "tags": [],
            "needs_background": "light"
          }
        }
      ]
    },
    {
      "cell_type": "code",
      "metadata": {
        "colab_type": "code",
        "id": "GBYLOFgOXPJ9",
        "colab": {}
      },
      "source": [
        "# This function will plot images in the form of a grid with 1 row and 5 columns where images are placed in each column.\n",
        "def plotImages(images_arr):\n",
        "    fig, axes = plt.subplots(1, 5, figsize=(20,20))\n",
        "    axes = axes.flatten()\n",
        "    for img, ax in zip(images_arr, axes):\n",
        "        ax.imshow(img)\n",
        "    plt.tight_layout()\n",
        "    plt.show()"
      ],
      "execution_count": 16,
      "outputs": []
    },
    {
      "cell_type": "code",
      "metadata": {
        "id": "vG8LV0Kabjxt",
        "colab_type": "code",
        "colab": {
          "base_uri": "https://localhost:8080/",
          "height": 300
        },
        "outputId": "6dd071f7-a182-4daa-e1dc-96906a2d0196"
      },
      "source": [
        "augmented_images = [train_set[0][0][0] for i in range(5)]\n",
        "plotImages(augmented_images)"
      ],
      "execution_count": 17,
      "outputs": [
        {
          "output_type": "display_data",
          "data": {
            "image/png": "[encoded data removed]",
            "text/plain": [
              "<Figure size 1440x1440 with 5 Axes>"
            ]
          },
          "metadata": {
            "tags": [],
            "needs_background": "light"
          }
        }
      ]
    },
    {
      "cell_type": "markdown",
      "metadata": {
        "id": "yeSgrZWKLAHl",
        "colab_type": "text"
      },
      "source": [
        "# <font color='lightblue'> EuroSat Feature Extractor </font>"
      ]
    },
    {
      "cell_type": "markdown",
      "metadata": {
        "id": "vW3Qp-abL2jp",
        "colab_type": "text"
      },
      "source": [
        "Pull in Feature Extractor from TensorFlow Hub"
      ]
    },
    {
      "cell_type": "code",
      "metadata": {
        "colab_type": "code",
        "id": "xVs-yzXPD0gr",
        "colab": {}
      },
      "source": [
        "URL = \"https://tfhub.dev/google/remote_sensing/uc_merced-resnet50/1\"\n",
        "feature_extractor = hub.KerasLayer(URL,\n",
        "                                   input_shape=(IMG_RES, IMG_RES,3))"
      ],
      "execution_count": 18,
      "outputs": []
    },
    {
      "cell_type": "markdown",
      "metadata": {
        "id": "onOfka5bLZql",
        "colab_type": "text"
      },
      "source": [
        "Freeze Variables in feature extractor layer so that only training only modifies the final classification layer."
      ]
    },
    {
      "cell_type": "code",
      "metadata": {
        "id": "QD2al5LKLV4g",
        "colab_type": "code",
        "colab": {}
      },
      "source": [
        "feature_extractor.trainable = False"
      ],
      "execution_count": 19,
      "outputs": []
    },
    {
      "cell_type": "markdown",
      "metadata": {
        "id": "l_SpxZQEtGls",
        "colab_type": "text"
      },
      "source": [
        "### <font color='orange'> Double Object Training - Binary Classifier </font>\n",
        "\n",
        "\n",
        "\n"
      ]
    },
    {
      "cell_type": "markdown",
      "metadata": {
        "id": "oWmzdzBDLX2A",
        "colab_type": "text"
      },
      "source": [
        "Attach Classification Head\n",
        "Source: l06c01_tensorflow_hub_and_transfer_learning (2 x Classes: cats|dogs)\n",
        "\n",
        "https://colab.research.google.com/drive/1hPyFkWXN6hd_DIjG83b2Vfxfwua9Imho#scrollTo=mGcY27fY1q3Q\n",
        "\n",
        "<font color='skyblue'> **SparseCategoricalCrossentropy** </font>\n",
        "\n",
        "---\n"
      ]
    },
    {
      "cell_type": "code",
      "metadata": {
        "id": "0WCbSuSFLVUH",
        "colab_type": "code",
        "colab": {
          "base_uri": "https://localhost:8080/",
          "height": 212
        },
        "outputId": "f97cb33a-c684-4f63-e665-ab2ffd2d3b12"
      },
      "source": [
        "model = tf.keras.Sequential([\n",
        "  feature_extractor,\n",
        "  layers.Dense(2, activation='softmax') ### added Softmax activation here in attempt get usable outputs for prediction below\n",
        "  #layers.Dense(2) \n",
        "])\n",
        "\n",
        "model.summary()"
      ],
      "execution_count": 20,
      "outputs": [
        {
          "output_type": "stream",
          "text": [
            "Model: \"sequential\"\n",
            "_________________________________________________________________\n",
            "Layer (type)                 Output Shape              Param #   \n",
            "=================================================================\n",
            "keras_layer (KerasLayer)     (None, 2048)              23588821  \n",
            "_________________________________________________________________\n",
            "dense (Dense)                (None, 2)                 4098      \n",
            "=================================================================\n",
            "Total params: 23,592,919\n",
            "Trainable params: 4,098\n",
            "Non-trainable params: 23,588,821\n",
            "_________________________________________________________________\n"
          ],
          "name": "stdout"
        }
      ]
    },
    {
      "cell_type": "markdown",
      "metadata": {
        "id": "NAVL8LB2LSgp",
        "colab_type": "text"
      },
      "source": [
        "Compile the Model\n"
      ]
    },
    {
      "cell_type": "code",
      "metadata": {
        "id": "2YNQseMJdyxA",
        "colab_type": "code",
        "colab": {
          "base_uri": "https://localhost:8080/",
          "height": 33
        },
        "outputId": "b51ddd37-1e10-44eb-9c0a-39fa876f4979"
      },
      "source": [
        "len(train_set)"
      ],
      "execution_count": 21,
      "outputs": [
        {
          "output_type": "execute_result",
          "data": {
            "text/plain": [
              "341"
            ]
          },
          "metadata": {
            "tags": []
          },
          "execution_count": 21
        }
      ]
    },
    {
      "cell_type": "code",
      "metadata": {
        "colab_type": "code",
        "id": "7Ac32HrJdzCW",
        "colab": {}
      },
      "source": [
        "model.compile(\n",
        "  optimizer='adam',\n",
        "  #loss='categorical_crossentropy',\n",
        "  loss=tf.keras.losses.SparseCategoricalCrossentropy(from_logits=True), \n",
        "  metrics=['accuracy'])"
      ],
      "execution_count": 22,
      "outputs": []
    },
    {
      "cell_type": "markdown",
      "metadata": {
        "colab_type": "text",
        "id": "wyy_sc-GiUsL"
      },
      "source": [
        "Train the Model\n"
      ]
    },
    {
      "cell_type": "code",
      "metadata": {
        "id": "1QxJ3_Ym5V_F",
        "colab_type": "code",
        "colab": {
          "base_uri": "https://localhost:8080/",
          "height": 33
        },
        "outputId": "ed4f51cf-dda2-43fb-e45b-1a26b78950a5"
      },
      "source": [
        "print(val_image_count)"
      ],
      "execution_count": 23,
      "outputs": [
        {
          "output_type": "stream",
          "text": [
            "2721\n"
          ],
          "name": "stdout"
        }
      ]
    },
    {
      "cell_type": "code",
      "metadata": {
        "colab_type": "code",
        "id": "HjAHpyBPVlow",
        "colab": {
          "base_uri": "https://localhost:8080/",
          "height": 992
        },
        "outputId": "b4597df9-18da-4f22-a9b6-8826e719bc42"
      },
      "source": [
        "# Without Callbacks - Runs Much faster\n",
        "#from tensorflow.keras.callbacks import ModelCheckpoint\n",
        "#filepath='/content/drive/My Drive/Colab Notebooks/Thesis Resources/Training_Sessions/weights_best.hdf5'\n",
        "#checkpoint = ModelCheckpoint(filepath, monitor='val_accuracy', verbose=1, save_best_only=True, mode='max')\n",
        "#callbacks_list = [checkpoint]\n",
        "\n",
        "EPOCHS = 30\n",
        "\n",
        "history = model.fit_generator(\n",
        "          train_set, \n",
        "          steps_per_epoch=int(np.ceil(train_image_count / float(BATCH_SIZE))),\n",
        "          #steps_per_epoch=train_image_count,\n",
        "          epochs=EPOCHS,\n",
        "          validation_data=val_set,\n",
        "          validation_steps=int(np.ceil(val_image_count / float(BATCH_SIZE)))\n",
        "          #validation_steps=val_image_count\n",
        ")         "
      ],
      "execution_count": 24,
      "outputs": [
        {
          "output_type": "stream",
          "text": [
            "Epoch 1/30\n",
            "341/341 [==============================] - 57s 166ms/step - loss: 0.3853 - accuracy: 0.9277 - val_loss: 0.3920 - val_accuracy: 0.9226\n",
            "Epoch 2/30\n",
            "341/341 [==============================] - 52s 152ms/step - loss: 0.3666 - accuracy: 0.9454 - val_loss: 0.3536 - val_accuracy: 0.9571\n",
            "Epoch 3/30\n",
            "341/341 [==============================] - 54s 158ms/step - loss: 0.3604 - accuracy: 0.9522 - val_loss: 0.3440 - val_accuracy: 0.9680\n",
            "Epoch 4/30\n",
            "341/341 [==============================] - 51s 150ms/step - loss: 0.3580 - accuracy: 0.9544 - val_loss: 0.3470 - val_accuracy: 0.9662\n",
            "Epoch 5/30\n",
            "341/341 [==============================] - 52s 154ms/step - loss: 0.3543 - accuracy: 0.9589 - val_loss: 0.3484 - val_accuracy: 0.9644\n",
            "Epoch 6/30\n",
            "341/341 [==============================] - 49s 143ms/step - loss: 0.3530 - accuracy: 0.9601 - val_loss: 0.3454 - val_accuracy: 0.9709\n",
            "Epoch 7/30\n",
            "341/341 [==============================] - 53s 157ms/step - loss: 0.3497 - accuracy: 0.9646 - val_loss: 0.3439 - val_accuracy: 0.9706\n",
            "Epoch 8/30\n",
            "341/341 [==============================] - 54s 158ms/step - loss: 0.3491 - accuracy: 0.9647 - val_loss: 0.3396 - val_accuracy: 0.9731\n",
            "Epoch 9/30\n",
            "341/341 [==============================] - 48s 142ms/step - loss: 0.3479 - accuracy: 0.9665 - val_loss: 0.3398 - val_accuracy: 0.9742\n",
            "Epoch 10/30\n",
            "341/341 [==============================] - 52s 154ms/step - loss: 0.3455 - accuracy: 0.9699 - val_loss: 0.3415 - val_accuracy: 0.9724\n",
            "Epoch 11/30\n",
            "341/341 [==============================] - 51s 150ms/step - loss: 0.3442 - accuracy: 0.9711 - val_loss: 0.3603 - val_accuracy: 0.9520\n",
            "Epoch 12/30\n",
            "341/341 [==============================] - 53s 157ms/step - loss: 0.3458 - accuracy: 0.9697 - val_loss: 0.3434 - val_accuracy: 0.9735\n",
            "Epoch 13/30\n",
            "341/341 [==============================] - 53s 155ms/step - loss: 0.3429 - accuracy: 0.9719 - val_loss: 0.3441 - val_accuracy: 0.9695\n",
            "Epoch 14/30\n",
            "341/341 [==============================] - 53s 155ms/step - loss: 0.3421 - accuracy: 0.9722 - val_loss: 0.3552 - val_accuracy: 0.9589\n",
            "Epoch 15/30\n",
            "341/341 [==============================] - 53s 155ms/step - loss: 0.3408 - accuracy: 0.9746 - val_loss: 0.3381 - val_accuracy: 0.9760\n",
            "Epoch 16/30\n",
            "341/341 [==============================] - 55s 162ms/step - loss: 0.3412 - accuracy: 0.9739 - val_loss: 0.3421 - val_accuracy: 0.9717\n",
            "Epoch 17/30\n",
            "341/341 [==============================] - 49s 144ms/step - loss: 0.3396 - accuracy: 0.9761 - val_loss: 0.3406 - val_accuracy: 0.9775\n",
            "Epoch 18/30\n",
            "341/341 [==============================] - 49s 143ms/step - loss: 0.3393 - accuracy: 0.9758 - val_loss: 0.3452 - val_accuracy: 0.9702\n",
            "Epoch 19/30\n",
            "341/341 [==============================] - 51s 149ms/step - loss: 0.3375 - accuracy: 0.9791 - val_loss: 0.3485 - val_accuracy: 0.9655\n",
            "Epoch 20/30\n",
            "341/341 [==============================] - 50s 147ms/step - loss: 0.3380 - accuracy: 0.9782 - val_loss: 0.3418 - val_accuracy: 0.9727\n",
            "Epoch 21/30\n",
            "341/341 [==============================] - 51s 149ms/step - loss: 0.3374 - accuracy: 0.9784 - val_loss: 0.3380 - val_accuracy: 0.9767\n",
            "Epoch 22/30\n",
            "341/341 [==============================] - 52s 152ms/step - loss: 0.3368 - accuracy: 0.9792 - val_loss: 0.3364 - val_accuracy: 0.9767\n",
            "Epoch 23/30\n",
            "341/341 [==============================] - 53s 155ms/step - loss: 0.3361 - accuracy: 0.9801 - val_loss: 0.3370 - val_accuracy: 0.9782\n",
            "Epoch 24/30\n",
            "341/341 [==============================] - 53s 155ms/step - loss: 0.3358 - accuracy: 0.9803 - val_loss: 0.3363 - val_accuracy: 0.9760\n",
            "Epoch 25/30\n",
            "341/341 [==============================] - 49s 145ms/step - loss: 0.3358 - accuracy: 0.9802 - val_loss: 0.3375 - val_accuracy: 0.9764\n",
            "Epoch 26/30\n",
            "341/341 [==============================] - 49s 143ms/step - loss: 0.3357 - accuracy: 0.9801 - val_loss: 0.3363 - val_accuracy: 0.9800\n",
            "Epoch 27/30\n",
            "341/341 [==============================] - 48s 140ms/step - loss: 0.3343 - accuracy: 0.9814 - val_loss: 0.3425 - val_accuracy: 0.9727\n",
            "Epoch 28/30\n",
            "341/341 [==============================] - 52s 151ms/step - loss: 0.3345 - accuracy: 0.9817 - val_loss: 0.3414 - val_accuracy: 0.9738\n",
            "Epoch 29/30\n",
            "341/341 [==============================] - 50s 148ms/step - loss: 0.3342 - accuracy: 0.9818 - val_loss: 0.3409 - val_accuracy: 0.9746\n",
            "Epoch 30/30\n",
            "341/341 [==============================] - 52s 154ms/step - loss: 0.3336 - accuracy: 0.9828 - val_loss: 0.3351 - val_accuracy: 0.9786\n"
          ],
          "name": "stdout"
        }
      ]
    },
    {
      "cell_type": "code",
      "metadata": {
        "id": "NaMPWERntyzs",
        "colab_type": "code",
        "colab": {
          "base_uri": "https://localhost:8080/",
          "height": 588
        },
        "outputId": "5aff76d1-ccf2-4389-e455-4d0598c36271"
      },
      "source": [
        "# Plotting the Loss and Classification Accuracy\n",
        "model.metrics_names\n",
        "print(history.history.keys())\n",
        "#  \"Accuracy\"\n",
        "plt.plot(history.history['accuracy'])\n",
        "plt.plot(history.history['val_accuracy'])\n",
        "plt.title('Model Accuracy')\n",
        "plt.ylabel('Accuracy')\n",
        "plt.xlabel('Epoch')\n",
        "plt.legend(['train', 'val'], loc='upper left')\n",
        "plt.show()\n",
        "\n",
        "# \"Loss\"\n",
        "plt.plot(history.history['loss'])\n",
        "plt.plot(history.history['val_loss'])\n",
        "plt.title('Model loss')\n",
        "plt.ylabel('Loss')\n",
        "plt.xlabel('Epoch')\n",
        "plt.legend(['train', 'val'], loc='upper left')\n",
        "plt.show()"
      ],
      "execution_count": 25,
      "outputs": [
        {
          "output_type": "stream",
          "text": [
            "dict_keys(['loss', 'accuracy', 'val_loss', 'val_accuracy'])\n"
          ],
          "name": "stdout"
        },
        {
          "output_type": "display_data",
          "data": {
            "image/png": "[encoded data removed]",
            "text/plain": [
              "<Figure size 432x288 with 1 Axes>"
            ]
          },
          "metadata": {
            "tags": [],
            "needs_background": "light"
          }
        },
        {
          "output_type": "display_data",
          "data": {
            "image/png": "[encoded data removed]",
            "text/plain": [
              "<Figure size 432x288 with 1 Axes>"
            ]
          },
          "metadata": {
            "tags": [],
            "needs_background": "light"
          }
        }
      ]
    },
    {
      "cell_type": "markdown",
      "metadata": {
        "colab_type": "text",
        "id": "BqXs2mjnUF8_"
      },
      "source": [
        "## Part 3: Save Models and Reload\n",
        "\n",
        "---\n",
        "\n",
        "https://colab.research.google.com/github/tensorflow/examples/blob/master/courses/udacity_intro_to_tensorflow_for_deep_learning/l07c01_saving_and_loading_models.ipynb#scrollTo=tCnNWTkZ3Ckz\n",
        "\n",
        "\n"
      ]
    },
    {
      "cell_type": "markdown",
      "metadata": {
        "id": "8WAMMrwqRhk2",
        "colab_type": "text"
      },
      "source": [
        "To Save the best version of the model and recall it go here:\n",
        "\n",
        "https://classroom.udacity.com/courses/ud187/lessons/b091f1a2-1775-4f41-b63b-49ee3d4ec1a1/concepts/d6bd7497-7b20-4cf0-b1b3-314bf3d88fee"
      ]
    },
    {
      "cell_type": "markdown",
      "metadata": {
        "colab_type": "text",
        "id": "mmPQYQLx3cYq"
      },
      "source": [
        "Part 3: Save as Keras `.h5` model\n",
        "\n",
        "Now that we've trained the model,  we can save it as an HDF5 file, which is the format used by Keras. Our HDF5 file will have the extension '.h5', and it's name will correspond to the current time stamp."
      ]
    },
    {
      "cell_type": "code",
      "metadata": {
        "colab_type": "code",
        "id": "tCnNWTkZ3Ckz",
        "colab": {
          "base_uri": "https://localhost:8080/",
          "height": 228
        },
        "cellView": "both",
        "outputId": "5475923e-4d1b-4dde-cccf-5304694134ca"
      },
      "source": [
        "#@title Save Model\n",
        "\n",
        "t = time.time()\n",
        "model_name = input('Enter model name: ')\n",
        "# Extract name of original dataset from the training file path \n",
        "# to use in naming the saved model\n",
        "model_path = train_path.split('/')[-2]\n",
        "\n",
        "# Export the trained model and save it to local instance\n",
        "export_path_keras = f'{int(t)}_{model_path}_{model_name}_h5_model_.h5'\n",
        "#export_path_keras = \"{}_h5_model{}_{}.h5\".format(model_name, int(t), model_path) \n",
        "print(f'Model saved to local instance here: {export_path_keras}')\n",
        "# Save model\n",
        "model.save(export_path_keras)\n",
        "\n",
        "# Export the trained model and save it to Google Drive\n",
        "google_drive_path = '/content/drive/My Drive/Colab Notebooks/Thesis Resources/Training_Sessions/trained_models/' \n",
        "export_path_keras = f'{google_drive_path}{int(t)}_{model_path}{model_name}_h5_model.h5'\n",
        "print(f'Model saved to Google Drive here: {export_path_keras}')\n",
        "# Save model\n",
        "model.save(export_path_keras)\n",
        "print(f'Model saved here: {export_path_keras}')\n",
        "\n",
        "!ls"
      ],
      "execution_count": 30,
      "outputs": [
        {
          "output_type": "stream",
          "text": [
            "Enter model name: Run_1_\n",
            "Model saved to local instance here: 1594079818_Combine_storage_tank_Run_1__h5_model_.h5\n",
            "Model saved to Google Drive here: /content/drive/My Drive/Colab Notebooks/Thesis Resources/Training_Sessions/trained_models/1594079818_Combine_storage_tankRun_1__h5_model.h5\n",
            "Model saved here: /content/drive/My Drive/Colab Notebooks/Thesis Resources/Training_Sessions/trained_models/1594079818_Combine_storage_tankRun_1__h5_model.h5\n",
            "1594079493_Combine_storage_tank_Storage_Tank_Model_v2_crosscategorical_h5_model_.h5\n",
            "1594079633_Combine_storage_tank_Storage_Tank_Model_v2_crosscategorical__h5_model_.h5\n",
            "1594079818_Combine_storage_tank_Run_1__h5_model_.h5\n",
            "adc.json\n",
            "Combined_storage_tank.zip\n",
            "Combine_storage_tank\n",
            "drive\n",
            "__MACOSX\n",
            "sample_data\n"
          ],
          "name": "stdout"
        }
      ]
    },
    {
      "cell_type": "markdown",
      "metadata": {
        "id": "O9OQEuMs4RDE",
        "colab_type": "text"
      },
      "source": [
        "Reload Previously Trained Model - <font color='orange'> Skip this code block using model trained during this session!!!</font>\n",
        "\n",
        "\n",
        "---\n",
        "\n"
      ]
    },
    {
      "cell_type": "code",
      "metadata": {
        "id": "QLtZuhf4SxEu",
        "colab_type": "code",
        "cellView": "form",
        "colab": {}
      },
      "source": [
        "#@title Open this to reload previously trained model (not during this session)\n",
        "# Follow prompt in the authorization process\n",
        "\n",
        "auth.authenticate_user()\n",
        "gauth = GoogleAuth()\n",
        "gauth.credentials = GoogleCredentials.get_application_default()\n",
        "drive = GoogleDrive(gauth)"
      ],
      "execution_count": null,
      "outputs": []
    },
    {
      "cell_type": "code",
      "metadata": {
        "id": "ZBTqW6VP4UdN",
        "colab_type": "code",
        "cellView": "form",
        "colab": {}
      },
      "source": [
        "#@title Open this to reload previously trained model (not during this session)\n",
        "# Enter the path and filename for the trained model here\n",
        "export_path_keras = '/content/drive/My Drive/Colab Notebooks/Thesis Resources/Training_Sessions/trained_models/Model_v2_success_1593962354_Combined_helo.h5'\n",
        "\n",
        "# Copy trained model to local instance\n",
        "export_path_keras = shutil.copyfile(export_path_keras, os.path.join('/content/' + export_path_keras.split('/')[-1]))\n",
        "print(export_path_keras)"
      ],
      "execution_count": null,
      "outputs": []
    },
    {
      "cell_type": "code",
      "metadata": {
        "id": "7tjQkZ2K6d4B",
        "colab_type": "code",
        "colab": {
          "base_uri": "https://localhost:8080/",
          "height": 212
        },
        "outputId": "e75f1380-c283-49e9-cbaa-c8870b52cc66"
      },
      "source": [
        "reloaded = tf.keras.models.load_model(\n",
        "  export_path_keras, \n",
        "  # `custom_objects` tells keras how to load a `hub.KerasLayer`\n",
        "  custom_objects={'KerasLayer': hub.KerasLayer})\n",
        "\n",
        "reloaded.summary()"
      ],
      "execution_count": 31,
      "outputs": [
        {
          "output_type": "stream",
          "text": [
            "Model: \"sequential\"\n",
            "_________________________________________________________________\n",
            "Layer (type)                 Output Shape              Param #   \n",
            "=================================================================\n",
            "keras_layer (KerasLayer)     (None, 2048)              23588821  \n",
            "_________________________________________________________________\n",
            "dense (Dense)                (None, 2)                 4098      \n",
            "=================================================================\n",
            "Total params: 23,592,919\n",
            "Trainable params: 4,098\n",
            "Non-trainable params: 23,588,821\n",
            "_________________________________________________________________\n"
          ],
          "name": "stdout"
        }
      ]
    },
    {
      "cell_type": "markdown",
      "metadata": {
        "id": "ve5UuDy2Mtja",
        "colab_type": "text"
      },
      "source": [
        "## Run Predictions on Test Set\n",
        "\n",
        "---\n",
        "\n"
      ]
    },
    {
      "cell_type": "code",
      "metadata": {
        "colab_type": "code",
        "id": "6KK8vE9m6URM",
        "colab": {}
      },
      "source": [
        "from keras.preprocessing import image\n",
        "prediction_list = []\n",
        "\n",
        "for i in range(len(test_files)):\n",
        "  test_image = image.load_img(test_files[i], target_size= (IMG_RES, IMG_RES))\n",
        "  test_image = image.img_to_array(test_image)\n",
        "  test_image = np.expand_dims(test_image, axis = 0)\n",
        "  result = reloaded.predict(test_image) # there is something wrong with this... seems it isn't supposed to take one image at at time... needs an array\n",
        "  result = tf.squeeze(result).numpy() # removes the extra dimension in tensor (basically extracts the contents of result prediction tuple)\n",
        "  # Delete below if it doesn't work\n",
        "  result = np.argmax(result, axis=-1)\n",
        "  prediction_list.append(result)\n",
        "out_list = dict(zip(test_files, prediction_list))"
      ],
      "execution_count": 43,
      "outputs": []
    },
    {
      "cell_type": "markdown",
      "metadata": {
        "id": "NUGIJm4pMkAv",
        "colab_type": "text"
      },
      "source": [
        "## Troubleshooting Predictions"
      ]
    },
    {
      "cell_type": "code",
      "metadata": {
        "colab_type": "code",
        "cellView": "both",
        "id": "wb7m0jk7C_ij",
        "colab": {
          "base_uri": "https://localhost:8080/",
          "height": 1000
        },
        "outputId": "448f5052-1bc4-4dc6-880c-4f3075dbd6ef"
      },
      "source": [
        "# Out_list with TF function and softmax activation on output layer\n",
        "out_list"
      ],
      "execution_count": 44,
      "outputs": [
        {
          "output_type": "execute_result",
          "data": {
            "text/plain": [
              "{'/content/Combine_storage_tank_test/tst_non_tgt/c_t_0009676_9_rgb.jpg': 0,\n",
              " '/content/Combine_storage_tank_test/tst_non_tgt/c_t_0004301_0_rgb.jpg': 0,\n",
              " '/content/Combine_storage_tank_test/tst_non_tgt/c_t_0002543_0_rgb.jpg': 0,\n",
              " '/content/Combine_storage_tank_test/tst_non_tgt/c_t_0011684_0_rgb.jpg': 0,\n",
              " '/content/Combine_storage_tank_test/tst_non_tgt/c_t_0006754_0_rgb.jpg': 0,\n",
              " '/content/Combine_storage_tank_test/tst_non_tgt/c_t_0009796_5_rgb.jpg': 0,\n",
              " '/content/Combine_storage_tank_test/tst_non_tgt/c_t_0009985_5_rgb.jpg': 0,\n",
              " '/content/Combine_storage_tank_test/tst_non_tgt/c_t_0006627_1_rgb.jpg': 0,\n",
              " '/content/Combine_storage_tank_test/tst_non_tgt/c_t_0000249_17_rgb.jpg': 0,\n",
              " '/content/Combine_storage_tank_test/tst_non_tgt/c_t_0009741_3_rgb.jpg': 0,\n",
              " '/content/Combine_storage_tank_test/tst_non_tgt/c_t_0007385_4_rgb.jpg': 0,\n",
              " '/content/Combine_storage_tank_test/tst_non_tgt/c_t_0003114_0_rgb.jpg': 0,\n",
              " '/content/Combine_storage_tank_test/tst_non_tgt/c_t_0000235_0_rgb.jpg': 0,\n",
              " '/content/Combine_storage_tank_test/tst_non_tgt/c_t_0011898_0_rgb.jpg': 0,\n",
              " '/content/Combine_storage_tank_test/tst_non_tgt/c_t_0009448_0_rgb.jpg': 0,\n",
              " '/content/Combine_storage_tank_test/tst_non_tgt/c_t_0010480_1_rgb.jpg': 0,\n",
              " '/content/Combine_storage_tank_test/tst_non_tgt/c_t_0004199_0_rgb.jpg': 0,\n",
              " '/content/Combine_storage_tank_test/tst_non_tgt/c_t_0000159_1_rgb.jpg': 0,\n",
              " '/content/Combine_storage_tank_test/tst_non_tgt/c_t_0004123_2_rgb.jpg': 0,\n",
              " '/content/Combine_storage_tank_test/tst_non_tgt/c_t_0011115_1_rgb.jpg': 0,\n",
              " '/content/Combine_storage_tank_test/tst_non_tgt/c_t_0010949_2_rgb.jpg': 0,\n",
              " '/content/Combine_storage_tank_test/tst_non_tgt/c_t_0008702_2_rgb.jpg': 0,\n",
              " '/content/Combine_storage_tank_test/tst_non_tgt/c_t_0011341_1_rgb.jpg': 0,\n",
              " '/content/Combine_storage_tank_test/tst_non_tgt/c_t_0003079_9_rgb.jpg': 0,\n",
              " '/content/Combine_storage_tank_test/tst_non_tgt/c_t_0009676_0_rgb.jpg': 0,\n",
              " '/content/Combine_storage_tank_test/tst_non_tgt/c_t_0011115_3_rgb.jpg': 0,\n",
              " '/content/Combine_storage_tank_test/tst_non_tgt/c_t_0005356_15_rgb.jpg': 0,\n",
              " '/content/Combine_storage_tank_test/tst_non_tgt/c_t_0008858_0_rgb.jpg': 0,\n",
              " '/content/Combine_storage_tank_test/tst_non_tgt/c_t_0011797_1_rgb.jpg': 0,\n",
              " '/content/Combine_storage_tank_test/tst_non_tgt/c_t_0009328_0_rgb.jpg': 0,\n",
              " '/content/Combine_storage_tank_test/tst_non_tgt/c_t_0000322_0_rgb.jpg': 0,\n",
              " '/content/Combine_storage_tank_test/tst_non_tgt/c_t_0008306_6_rgb.jpg': 0,\n",
              " '/content/Combine_storage_tank_test/tst_non_tgt/c_t_0004123_1_rgb.jpg': 0,\n",
              " '/content/Combine_storage_tank_test/tst_non_tgt/c_t_0000249_3_rgb.jpg': 0,\n",
              " '/content/Combine_storage_tank_test/tst_non_tgt/c_t_0010132_3_rgb.jpg': 0,\n",
              " '/content/Combine_storage_tank_test/tst_non_tgt/c_t_0008806_0_rgb.jpg': 0,\n",
              " '/content/Combine_storage_tank_test/tst_non_tgt/c_t_0007035_10_rgb.jpg': 0,\n",
              " '/content/Combine_storage_tank_test/tst_non_tgt/c_t_0009796_8_rgb.jpg': 0,\n",
              " '/content/Combine_storage_tank_test/tst_non_tgt/c_t_0005578_3_rgb.jpg': 0,\n",
              " '/content/Combine_storage_tank_test/tst_non_tgt/c_t_0001768_0_rgb.jpg': 0,\n",
              " '/content/Combine_storage_tank_test/tst_non_tgt/c_t_0010024_0_rgb.jpg': 0,\n",
              " '/content/Combine_storage_tank_test/tst_non_tgt/c_t_0009104_0_rgb.jpg': 0,\n",
              " '/content/Combine_storage_tank_test/tst_non_tgt/c_t_0000089_0_rgb.jpg': 0,\n",
              " '/content/Combine_storage_tank_test/tst_non_tgt/c_t_0007878_3_rgb.jpg': 0,\n",
              " '/content/Combine_storage_tank_test/tst_non_tgt/c_t_0009077_6_rgb.jpg': 0,\n",
              " '/content/Combine_storage_tank_test/tst_non_tgt/c_t_0005821_0_rgb.jpg': 0,\n",
              " '/content/Combine_storage_tank_test/tst_non_tgt/c_t_0003537_1_rgb.jpg': 0,\n",
              " '/content/Combine_storage_tank_test/tst_non_tgt/c_t_0008306_5_rgb.jpg': 0,\n",
              " '/content/Combine_storage_tank_test/tst_non_tgt/c_t_0003707_1_rgb.jpg': 0,\n",
              " '/content/Combine_storage_tank_test/tst_non_tgt/c_t_0007035_1_rgb.jpg': 0,\n",
              " '/content/Combine_storage_tank_test/tst_non_tgt/c_t_0010993_0_rgb.jpg': 0,\n",
              " '/content/Combine_storage_tank_test/tst_non_tgt/c_t_0001681_2_rgb.jpg': 0,\n",
              " '/content/Combine_storage_tank_test/tst_non_tgt/c_t_0007887_0_rgb.jpg': 0,\n",
              " '/content/Combine_storage_tank_test/tst_non_tgt/c_t_0006682_0_rgb.jpg': 0,\n",
              " '/content/Combine_storage_tank_test/tst_non_tgt/c_t_0002296_5_rgb.jpg': 0,\n",
              " '/content/Combine_storage_tank_test/tst_non_tgt/c_t_0010030_2_rgb.jpg': 0,\n",
              " '/content/Combine_storage_tank_test/tst_non_tgt/c_t_0004183_3_rgb.jpg': 0,\n",
              " '/content/Combine_storage_tank_test/tst_non_tgt/c_t_0000077_0_rgb.jpg': 0,\n",
              " '/content/Combine_storage_tank_test/tst_non_tgt/c_t_0001196_1_rgb.jpg': 0,\n",
              " '/content/Combine_storage_tank_test/tst_non_tgt/c_t_0009741_18_rgb.jpg': 0,\n",
              " '/content/Combine_storage_tank_test/tst_non_tgt/c_t_0006137_1_rgb.jpg': 0,\n",
              " '/content/Combine_storage_tank_test/tst_non_tgt/c_t_0011115_2_rgb.jpg': 0,\n",
              " '/content/Combine_storage_tank_test/tst_non_tgt/c_t_0008299_0_rgb.jpg': 0,\n",
              " '/content/Combine_storage_tank_test/tst_non_tgt/c_t_0007035_7_rgb.jpg': 0,\n",
              " '/content/Combine_storage_tank_test/tst_non_tgt/c_t_0008391_4_rgb.jpg': 0,\n",
              " '/content/Combine_storage_tank_test/tst_non_tgt/c_t_0005117_1_rgb.jpg': 0,\n",
              " '/content/Combine_storage_tank_test/tst_non_tgt/c_t_0011745_5_rgb.jpg': 0,\n",
              " '/content/Combine_storage_tank_test/tst_non_tgt/c_t_0006426_8_rgb.jpg': 0,\n",
              " '/content/Combine_storage_tank_test/tst_non_tgt/c_t_0004449_3_rgb.jpg': 0,\n",
              " '/content/Combine_storage_tank_test/tst_non_tgt/c_t_0009328_6_rgb.jpg': 0,\n",
              " '/content/Combine_storage_tank_test/tst_non_tgt/c_t_0006813_16_rgb.jpg': 0,\n",
              " '/content/Combine_storage_tank_test/tst_non_tgt/c_t_0003679_6_rgb.jpg': 0,\n",
              " '/content/Combine_storage_tank_test/tst_non_tgt/c_t_0000249_6_rgb.jpg': 0,\n",
              " '/content/Combine_storage_tank_test/tst_non_tgt/c_t_0002296_3_rgb.jpg': 0,\n",
              " '/content/Combine_storage_tank_test/tst_non_tgt/c_t_0005666_6_rgb.jpg': 0,\n",
              " '/content/Combine_storage_tank_test/tst_non_tgt/c_t_0005193_9_rgb.jpg': 0,\n",
              " '/content/Combine_storage_tank_test/tst_non_tgt/c_t_0009985_0_rgb.jpg': 0,\n",
              " '/content/Combine_storage_tank_test/tst_non_tgt/c_t_0010415_7_rgb.jpg': 0,\n",
              " '/content/Combine_storage_tank_test/tst_non_tgt/c_t_0009226_1_rgb.jpg': 0,\n",
              " '/content/Combine_storage_tank_test/tst_non_tgt/c_t_0002631_4_rgb.jpg': 0,\n",
              " '/content/Combine_storage_tank_test/tst_non_tgt/c_t_0002966_0_rgb.jpg': 0,\n",
              " '/content/Combine_storage_tank_test/tst_non_tgt/c_t_0008891_6_rgb.jpg': 0,\n",
              " '/content/Combine_storage_tank_test/tst_non_tgt/c_t_0006566_1_rgb.jpg': 0,\n",
              " '/content/Combine_storage_tank_test/tst_non_tgt/c_t_0001344_2_rgb.jpg': 0,\n",
              " '/content/Combine_storage_tank_test/tst_non_tgt/c_t_0009025_0_rgb.jpg': 0,\n",
              " '/content/Combine_storage_tank_test/tst_non_tgt/c_t_0003561_0_rgb.jpg': 0,\n",
              " '/content/Combine_storage_tank_test/tst_non_tgt/c_t_0010491_0_rgb.jpg': 0,\n",
              " '/content/Combine_storage_tank_test/tst_non_tgt/c_t_0002631_6_rgb.jpg': 0,\n",
              " '/content/Combine_storage_tank_test/tst_non_tgt/c_t_0002855_1_rgb.jpg': 0,\n",
              " '/content/Combine_storage_tank_test/tst_non_tgt/c_t_0004807_3_rgb.jpg': 0,\n",
              " '/content/Combine_storage_tank_test/tst_non_tgt/c_t_0002140_6_rgb.jpg': 0,\n",
              " '/content/Combine_storage_tank_test/tst_non_tgt/c_t_0006566_0_rgb.jpg': 0,\n",
              " '/content/Combine_storage_tank_test/tst_non_tgt/c_t_0007424_3_rgb.jpg': 0,\n",
              " '/content/Combine_storage_tank_test/tst_non_tgt/c_t_0004632_5_rgb.jpg': 0,\n",
              " '/content/Combine_storage_tank_test/tst_non_tgt/c_t_0007745_0_rgb.jpg': 0,\n",
              " '/content/Combine_storage_tank_test/tst_non_tgt/c_t_0010415_2_rgb.jpg': 0,\n",
              " '/content/Combine_storage_tank_test/tst_non_tgt/c_t_0009708_7_rgb.jpg': 0,\n",
              " '/content/Combine_storage_tank_test/tst_non_tgt/c_t_0008702_0_rgb.jpg': 0,\n",
              " '/content/Combine_storage_tank_test/tst_non_tgt/c_t_0009634_0_rgb.jpg': 0,\n",
              " '/content/Combine_storage_tank_test/tst_non_tgt/c_t_0004199_10_rgb.jpg': 0,\n",
              " '/content/Combine_storage_tank_test/tst_non_tgt/c_t_0004503_1_rgb.jpg': 0,\n",
              " '/content/Combine_storage_tank_test/tst_non_tgt/c_t_0005173_2_rgb.jpg': 0,\n",
              " '/content/Combine_storage_tank_test/tst_non_tgt/c_t_0011115_6_rgb.jpg': 0,\n",
              " '/content/Combine_storage_tank_test/tst_non_tgt/c_t_0004199_1_rgb.jpg': 0,\n",
              " '/content/Combine_storage_tank_test/tst_non_tgt/c_t_0011503_8_rgb.jpg': 0,\n",
              " '/content/Combine_storage_tank_test/tst_non_tgt/c_t_0009077_2_rgb.jpg': 0,\n",
              " '/content/Combine_storage_tank_test/tst_non_tgt/c_t_0000159_0_rgb.jpg': 0,\n",
              " '/content/Combine_storage_tank_test/tst_non_tgt/c_t_0003840_3_rgb.jpg': 0,\n",
              " '/content/Combine_storage_tank_test/tst_non_tgt/c_t_0010491_1_rgb.jpg': 0,\n",
              " '/content/Combine_storage_tank_test/tst_non_tgt/c_t_0008891_0_rgb.jpg': 0,\n",
              " '/content/Combine_storage_tank_test/tst_non_tgt/c_t_0005780_1_rgb.jpg': 0,\n",
              " '/content/Combine_storage_tank_test/tst_non_tgt/c_t_0005356_8_rgb.jpg': 0,\n",
              " '/content/Combine_storage_tank_test/tst_non_tgt/c_t_0006489_2_rgb.jpg': 0,\n",
              " '/content/Combine_storage_tank_test/tst_non_tgt/c_t_0010119_3_rgb.jpg': 0,\n",
              " '/content/Combine_storage_tank_test/tst_non_tgt/c_t_0005459_5_rgb.jpg': 0,\n",
              " '/content/Combine_storage_tank_test/tst_non_tgt/c_t_0009077_0_rgb.jpg': 0,\n",
              " '/content/Combine_storage_tank_test/tst_non_tgt/c_t_0001305_0_rgb.jpg': 0,\n",
              " '/content/Combine_storage_tank_test/tst_non_tgt/c_t_0006813_3_rgb.jpg': 0,\n",
              " '/content/Combine_storage_tank_test/tst_non_tgt/c_t_0011503_7_rgb.jpg': 0,\n",
              " '/content/Combine_storage_tank_test/tst_non_tgt/c_t_0004449_0_rgb.jpg': 0,\n",
              " '/content/Combine_storage_tank_test/tst_non_tgt/c_t_0005780_5_rgb.jpg': 0,\n",
              " '/content/Combine_storage_tank_test/tst_non_tgt/c_t_0002296_0_rgb.jpg': 0,\n",
              " '/content/Combine_storage_tank_test/tst_non_tgt/c_t_0003352_4_rgb.jpg': 0,\n",
              " '/content/Combine_storage_tank_test/tst_non_tgt/c_t_0002384_0_rgb.jpg': 0,\n",
              " '/content/Combine_storage_tank_test/tst_non_tgt/c_t_0010415_4_rgb.jpg': 0,\n",
              " '/content/Combine_storage_tank_test/tst_non_tgt/c_t_0000062_2_rgb.jpg': 0,\n",
              " '/content/Combine_storage_tank_test/tst_non_tgt/c_t_0005356_17_rgb.jpg': 0,\n",
              " '/content/Combine_storage_tank_test/tst_non_tgt/c_t_0002971_3_rgb.jpg': 0,\n",
              " '/content/Combine_storage_tank_test/tst_non_tgt/c_t_0007745_4_rgb.jpg': 0,\n",
              " '/content/Combine_storage_tank_test/tst_non_tgt/c_t_0010968_8_rgb.jpg': 0,\n",
              " '/content/Combine_storage_tank_test/tst_non_tgt/c_t_0010968_3_rgb.jpg': 0,\n",
              " '/content/Combine_storage_tank_test/tst_non_tgt/c_t_0005356_16_rgb.jpg': 0,\n",
              " '/content/Combine_storage_tank_test/tst_non_tgt/c_t_0007369_1_rgb.jpg': 0,\n",
              " '/content/Combine_storage_tank_test/tst_non_tgt/c_t_0006292_3_rgb.jpg': 0,\n",
              " '/content/Combine_storage_tank_test/tst_non_tgt/c_t_0010788_2_rgb.jpg': 0,\n",
              " '/content/Combine_storage_tank_test/tst_non_tgt/c_t_0007439_2_rgb.jpg': 0,\n",
              " '/content/Combine_storage_tank_test/tst_non_tgt/c_t_0004183_4_rgb.jpg': 0,\n",
              " '/content/Combine_storage_tank_test/tst_non_tgt/c_t_0002971_6_rgb.jpg': 0,\n",
              " '/content/Combine_storage_tank_test/tst_non_tgt/c_t_0009676_7_rgb.jpg': 0,\n",
              " '/content/Combine_storage_tank_test/tst_non_tgt/c_t_0002539_4_rgb.jpg': 0,\n",
              " '/content/Combine_storage_tank_test/tst_non_tgt/c_t_0009741_4_rgb.jpg': 0,\n",
              " '/content/Combine_storage_tank_test/tst_non_tgt/c_t_0011212_1_rgb.jpg': 0,\n",
              " '/content/Combine_storage_tank_test/tst_non_tgt/c_t_0010968_7_rgb.jpg': 0,\n",
              " '/content/Combine_storage_tank_test/tst_non_tgt/c_t_0005666_7_rgb.jpg': 0,\n",
              " '/content/Combine_storage_tank_test/tst_non_tgt/c_t_0003659_9_rgb.jpg': 0,\n",
              " '/content/Combine_storage_tank_test/tst_non_tgt/c_t_0003338_0_rgb.jpg': 0,\n",
              " '/content/Combine_storage_tank_test/tst_non_tgt/c_t_0006813_13_rgb.jpg': 0,\n",
              " '/content/Combine_storage_tank_test/tst_non_tgt/c_t_0002631_5_rgb.jpg': 0,\n",
              " '/content/Combine_storage_tank_test/tst_non_tgt/c_t_0008996_2_rgb.jpg': 0,\n",
              " '/content/Combine_storage_tank_test/tst_non_tgt/c_t_0007035_0_rgb.jpg': 0,\n",
              " '/content/Combine_storage_tank_test/tst_non_tgt/c_t_0011341_3_rgb.jpg': 0,\n",
              " '/content/Combine_storage_tank_test/tst_non_tgt/c_t_0005459_1_rgb.jpg': 0,\n",
              " '/content/Combine_storage_tank_test/tst_non_tgt/c_t_0011247_0_rgb.jpg': 0,\n",
              " '/content/Combine_storage_tank_test/tst_non_tgt/c_t_0008185_1_rgb.jpg': 0,\n",
              " '/content/Combine_storage_tank_test/tst_non_tgt/c_t_0002886_3_rgb.jpg': 0,\n",
              " '/content/Combine_storage_tank_test/tst_non_tgt/c_t_0002296_9_rgb.jpg': 0,\n",
              " '/content/Combine_storage_tank_test/tst_non_tgt/c_t_0009708_1_rgb.jpg': 0,\n",
              " '/content/Combine_storage_tank_test/tst_non_tgt/c_t_0007878_8_rgb.jpg': 0,\n",
              " '/content/Combine_storage_tank_test/tst_non_tgt/c_t_0007035_14_rgb.jpg': 0,\n",
              " '/content/Combine_storage_tank_test/tst_non_tgt/c_t_0007281_1_rgb.jpg': 0,\n",
              " '/content/Combine_storage_tank_test/tst_non_tgt/c_t_0009077_4_rgb.jpg': 0,\n",
              " '/content/Combine_storage_tank_test/tst_non_tgt/c_t_0003679_0_rgb.jpg': 0,\n",
              " '/content/Combine_storage_tank_test/tst_non_tgt/c_t_0008996_7_rgb.jpg': 0,\n",
              " '/content/Combine_storage_tank_test/tst_non_tgt/c_t_0011780_2_rgb.jpg': 0,\n",
              " '/content/Combine_storage_tank_test/tst_non_tgt/c_t_0007878_5_rgb.jpg': 0,\n",
              " '/content/Combine_storage_tank_test/tst_non_tgt/c_t_0004746_4_rgb.jpg': 0,\n",
              " '/content/Combine_storage_tank_test/tst_non_tgt/c_t_0009025_3_rgb.jpg': 0,\n",
              " '/content/Combine_storage_tank_test/tst_non_tgt/c_t_0009796_0_rgb.jpg': 0,\n",
              " '/content/Combine_storage_tank_test/tst_non_tgt/c_t_0009504_1_rgb.jpg': 0,\n",
              " '/content/Combine_storage_tank_test/tst_non_tgt/c_t_0009708_0_rgb.jpg': 0,\n",
              " '/content/Combine_storage_tank_test/tst_non_tgt/c_t_0007369_4_rgb.jpg': 0,\n",
              " '/content/Combine_storage_tank_test/tst_non_tgt/c_t_0002140_9_rgb.jpg': 0,\n",
              " '/content/Combine_storage_tank_test/tst_non_tgt/c_t_0008821_4_rgb.jpg': 0,\n",
              " '/content/Combine_storage_tank_test/tst_non_tgt/c_t_0005459_2_rgb.jpg': 0,\n",
              " '/content/Combine_storage_tank_test/tst_non_tgt/c_t_0008498_2_rgb.jpg': 0,\n",
              " '/content/Combine_storage_tank_test/tst_non_tgt/c_t_0009104_3_rgb.jpg': 0,\n",
              " '/content/Combine_storage_tank_test/tst_non_tgt/c_t_0000249_9_rgb.jpg': 0,\n",
              " '/content/Combine_storage_tank_test/tst_non_tgt/c_t_0011341_2_rgb.jpg': 0,\n",
              " '/content/Combine_storage_tank_test/tst_non_tgt/c_t_0011006_0_rgb.jpg': 0,\n",
              " '/content/Combine_storage_tank_test/tst_non_tgt/c_t_0008391_7_rgb.jpg': 0,\n",
              " '/content/Combine_storage_tank_test/tst_non_tgt/c_t_0001196_11_rgb.jpg': 0,\n",
              " '/content/Combine_storage_tank_test/tst_non_tgt/c_t_0003902_5_rgb.jpg': 0,\n",
              " '/content/Combine_storage_tank_test/tst_non_tgt/c_t_0007439_0_rgb.jpg': 0,\n",
              " '/content/Combine_storage_tank_test/tst_non_tgt/c_t_0011115_0_rgb.jpg': 0,\n",
              " '/content/Combine_storage_tank_test/tst_non_tgt/c_t_0002971_1_rgb.jpg': 0,\n",
              " '/content/Combine_storage_tank_test/tst_non_tgt/c_t_0007745_1_rgb.jpg': 0,\n",
              " '/content/Combine_storage_tank_test/tst_non_tgt/c_t_0008891_8_rgb.jpg': 0,\n",
              " '/content/Combine_storage_tank_test/tst_non_tgt/c_t_0007035_15_rgb.jpg': 0,\n",
              " '/content/Combine_storage_tank_test/tst_non_tgt/c_t_0009634_3_rgb.jpg': 0,\n",
              " '/content/Combine_storage_tank_test/tst_non_tgt/c_t_0006813_8_rgb.jpg': 0,\n",
              " '/content/Combine_storage_tank_test/tst_non_tgt/c_t_0010968_0_rgb.jpg': 0,\n",
              " '/content/Combine_storage_tank_test/tst_non_tgt/c_t_0009796_6_rgb.jpg': 0,\n",
              " '/content/Combine_storage_tank_test/tst_non_tgt/c_t_0006813_12_rgb.jpg': 0,\n",
              " '/content/Combine_storage_tank_test/tst_non_tgt/c_t_0000513_3_rgb.jpg': 0,\n",
              " '/content/Combine_storage_tank_test/tst_non_tgt/c_t_0006101_0_rgb.jpg': 0,\n",
              " '/content/Combine_storage_tank_test/tst_non_tgt/c_t_0007878_0_rgb.jpg': 0,\n",
              " '/content/Combine_storage_tank_test/tst_non_tgt/c_t_0002539_2_rgb.jpg': 0,\n",
              " '/content/Combine_storage_tank_test/tst_non_tgt/c_t_0002966_2_rgb.jpg': 0,\n",
              " '/content/Combine_storage_tank_test/tst_non_tgt/c_t_0003417_0_rgb.jpg': 0,\n",
              " '/content/Combine_storage_tank_test/tst_non_tgt/c_t_0009025_2_rgb.jpg': 0,\n",
              " '/content/Combine_storage_tank_test/tst_non_tgt/c_t_0000214_0_rgb.jpg': 0,\n",
              " '/content/Combine_storage_tank_test/tst_non_tgt/c_t_0005356_9_rgb.jpg': 0,\n",
              " '/content/Combine_storage_tank_test/tst_non_tgt/c_t_0009104_8_rgb.jpg': 0,\n",
              " '/content/Combine_storage_tank_test/tst_non_tgt/c_t_0009619_0_rgb.jpg': 0,\n",
              " '/content/Combine_storage_tank_test/tst_non_tgt/c_t_0005666_1_rgb.jpg': 0,\n",
              " '/content/Combine_storage_tank_test/tst_non_tgt/c_t_0007934_2_rgb.jpg': 0,\n",
              " '/content/Combine_storage_tank_test/tst_non_tgt/c_t_0003085_0_rgb.jpg': 0,\n",
              " '/content/Combine_storage_tank_test/tst_non_tgt/c_t_0009226_0_rgb.jpg': 0,\n",
              " '/content/Combine_storage_tank_test/tst_non_tgt/c_t_0006340_9_rgb.jpg': 0,\n",
              " '/content/Combine_storage_tank_test/tst_non_tgt/c_t_0009104_9_rgb.jpg': 0,\n",
              " '/content/Combine_storage_tank_test/tst_non_tgt/c_t_0003227_3_rgb.jpg': 0,\n",
              " '/content/Combine_storage_tank_test/tst_non_tgt/c_t_0009448_3_rgb.jpg': 0,\n",
              " '/content/Combine_storage_tank_test/tst_non_tgt/c_t_0009676_2_rgb.jpg': 0,\n",
              " '/content/Combine_storage_tank_test/tst_non_tgt/c_t_0009741_15_rgb.jpg': 0,\n",
              " '/content/Combine_storage_tank_test/tst_non_tgt/c_t_0010473_1_rgb.jpg': 0,\n",
              " '/content/Combine_storage_tank_test/tst_non_tgt/c_t_0009104_1_rgb.jpg': 0,\n",
              " '/content/Combine_storage_tank_test/tst_non_tgt/c_t_0005871_4_rgb.jpg': 0,\n",
              " '/content/Combine_storage_tank_test/tst_non_tgt/c_t_0009741_7_rgb.jpg': 0,\n",
              " '/content/Combine_storage_tank_test/tst_non_tgt/c_t_0010030_4_rgb.jpg': 0,\n",
              " '/content/Combine_storage_tank_test/tst_non_tgt/c_t_0007796_0_rgb.jpg': 0,\n",
              " '/content/Combine_storage_tank_test/tst_non_tgt/c_t_0009708_6_rgb.jpg': 0,\n",
              " '/content/Combine_storage_tank_test/tst_non_tgt/c_t_0011939_4_rgb.jpg': 0,\n",
              " '/content/Combine_storage_tank_test/tst_non_tgt/c_t_0001789_0_rgb.jpg': 0,\n",
              " '/content/Combine_storage_tank_test/tst_non_tgt/c_t_0002971_11_rgb.jpg': 0,\n",
              " '/content/Combine_storage_tank_test/tst_non_tgt/c_t_0004199_9_rgb.jpg': 0,\n",
              " '/content/Combine_storage_tank_test/tst_non_tgt/c_t_0005459_8_rgb.jpg': 0,\n",
              " '/content/Combine_storage_tank_test/tst_non_tgt/c_t_0002140_2_rgb.jpg': 0,\n",
              " '/content/Combine_storage_tank_test/tst_non_tgt/c_t_0005173_1_rgb.jpg': 0,\n",
              " '/content/Combine_storage_tank_test/tst_non_tgt/c_t_0009985_6_rgb.jpg': 0,\n",
              " '/content/Combine_storage_tank_test/tst_non_tgt/c_t_0000249_18_rgb.jpg': 0,\n",
              " '/content/Combine_storage_tank_test/tst_non_tgt/c_t_0000505_1_rgb.jpg': 0,\n",
              " '/content/Combine_storage_tank_test/tst_non_tgt/c_t_0009676_1_rgb.jpg': 0,\n",
              " '/content/Combine_storage_tank_test/tst_non_tgt/c_t_0007878_4_rgb.jpg': 0,\n",
              " '/content/Combine_storage_tank_test/tst_non_tgt/c_t_0009077_5_rgb.jpg': 0,\n",
              " '/content/Combine_storage_tank_test/tst_non_tgt/c_t_0007711_2_rgb.jpg': 0,\n",
              " '/content/Combine_storage_tank_test/tst_non_tgt/c_t_0001738_6_rgb.jpg': 0,\n",
              " '/content/Combine_storage_tank_test/tst_non_tgt/c_t_0003902_4_rgb.jpg': 0,\n",
              " '/content/Combine_storage_tank_test/tst_non_tgt/c_t_0001792_1_rgb.jpg': 0,\n",
              " '/content/Combine_storage_tank_test/tst_non_tgt/c_t_0009634_4_rgb.jpg': 0,\n",
              " '/content/Combine_storage_tank_test/tst_non_tgt/c_t_0009025_4_rgb.jpg': 0,\n",
              " '/content/Combine_storage_tank_test/tst_non_tgt/c_t_0011503_2_rgb.jpg': 0,\n",
              " '/content/Combine_storage_tank_test/tst_non_tgt/c_t_0003840_1_rgb.jpg': 0,\n",
              " '/content/Combine_storage_tank_test/tst_non_tgt/c_t_0003707_6_rgb.jpg': 0,\n",
              " '/content/Combine_storage_tank_test/tst_non_tgt/c_t_0000062_0_rgb.jpg': 0,\n",
              " '/content/Combine_storage_tank_test/tst_non_tgt/c_t_0002384_2_rgb.jpg': 0,\n",
              " '/content/Combine_storage_tank_test/tst_non_tgt/c_t_0011745_0_rgb.jpg': 0,\n",
              " '/content/Combine_storage_tank_test/tst_non_tgt/c_t_0004355_0_rgb.jpg': 0,\n",
              " '/content/Combine_storage_tank_test/tst_non_tgt/c_t_0006813_18_rgb.jpg': 0,\n",
              " '/content/Combine_storage_tank_test/tst_non_tgt/c_t_0001738_4_rgb.jpg': 0,\n",
              " '/content/Combine_storage_tank_test/tst_non_tgt/c_t_0008603_0_rgb.jpg': 0,\n",
              " '/content/Combine_storage_tank_test/tst_non_tgt/c_t_0008821_3_rgb.jpg': 0,\n",
              " '/content/Combine_storage_tank_test/tst_non_tgt/c_t_0011503_6_rgb.jpg': 0,\n",
              " '/content/Combine_storage_tank_test/tst_non_tgt/c_t_0008891_1_rgb.jpg': 0,\n",
              " '/content/Combine_storage_tank_test/tst_non_tgt/c_t_0007939_1_rgb.jpg': 0,\n",
              " '/content/Combine_storage_tank_test/tst_non_tgt/c_t_0003079_2_rgb.jpg': 0,\n",
              " '/content/Combine_storage_tank_test/tst_non_tgt/c_t_0007932_1_rgb.jpg': 0,\n",
              " '/content/Combine_storage_tank_test/tst_non_tgt/c_t_0009846_3_rgb.jpg': 0,\n",
              " '/content/Combine_storage_tank_test/tst_non_tgt/c_t_0005350_2_rgb.jpg': 0,\n",
              " '/content/Combine_storage_tank_test/tst_non_tgt/c_t_0008228_1_rgb.jpg': 0,\n",
              " '/content/Combine_storage_tank_test/tst_non_tgt/c_t_0001792_2_rgb.jpg': 0,\n",
              " '/content/Combine_storage_tank_test/tst_non_tgt/c_t_0005117_3_rgb.jpg': 0,\n",
              " '/content/Combine_storage_tank_test/tst_non_tgt/c_t_0007424_6_rgb.jpg': 0,\n",
              " '/content/Combine_storage_tank_test/tst_non_tgt/c_t_0001296_0_rgb.jpg': 0,\n",
              " '/content/Combine_storage_tank_test/tst_non_tgt/c_t_0009328_3_rgb.jpg': 0,\n",
              " '/content/Combine_storage_tank_test/tst_non_tgt/c_t_0007857_2_rgb.jpg': 0,\n",
              " '/content/Combine_storage_tank_test/tst_non_tgt/c_t_0006292_8_rgb.jpg': 0,\n",
              " '/content/Combine_storage_tank_test/tst_non_tgt/c_t_0007632_2_rgb.jpg': 0,\n",
              " '/content/Combine_storage_tank_test/tst_non_tgt/c_t_0010111_2_rgb.jpg': 0,\n",
              " '/content/Combine_storage_tank_test/tst_non_tgt/c_t_0002140_5_rgb.jpg': 0,\n",
              " '/content/Combine_storage_tank_test/tst_non_tgt/c_t_0009868_1_rgb.jpg': 0,\n",
              " '/content/Combine_storage_tank_test/tst_non_tgt/c_t_0000513_4_rgb.jpg': 0,\n",
              " '/content/Combine_storage_tank_test/tst_non_tgt/c_t_0009077_8_rgb.jpg': 0,\n",
              " '/content/Combine_storage_tank_test/tst_non_tgt/c_t_0004449_2_rgb.jpg': 0,\n",
              " '/content/Combine_storage_tank_test/tst_non_tgt/c_t_0005882_0_rgb.jpg': 0,\n",
              " '/content/Combine_storage_tank_test/tst_non_tgt/c_t_0007035_16_rgb.jpg': 0,\n",
              " '/content/Combine_storage_tank_test/tst_non_tgt/c_t_0007632_0_rgb.jpg': 0,\n",
              " '/content/Combine_storage_tank_test/tst_non_tgt/c_t_0011745_2_rgb.jpg': 0,\n",
              " '/content/Combine_storage_tank_test/tst_non_tgt/c_t_0000616_0_rgb.jpg': 0,\n",
              " '/content/Combine_storage_tank_test/tst_non_tgt/c_t_0007732_3_rgb.jpg': 0,\n",
              " '/content/Combine_storage_tank_test/tst_non_tgt/c_t_0001792_0_rgb.jpg': 0,\n",
              " '/content/Combine_storage_tank_test/tst_non_tgt/c_t_0001559_1_rgb.jpg': 0,\n",
              " '/content/Combine_storage_tank_test/tst_non_tgt/c_t_0001738_0_rgb.jpg': 0,\n",
              " '/content/Combine_storage_tank_test/tst_non_tgt/c_t_0009741_9_rgb.jpg': 0,\n",
              " '/content/Combine_storage_tank_test/tst_non_tgt/c_t_0008967_2_rgb.jpg': 0,\n",
              " '/content/Combine_storage_tank_test/tst_non_tgt/c_t_0000383_7_rgb.jpg': 0,\n",
              " '/content/Combine_storage_tank_test/tst_non_tgt/c_t_0002971_7_rgb.jpg': 0,\n",
              " '/content/Combine_storage_tank_test/tst_non_tgt/c_t_0001792_3_rgb.jpg': 0,\n",
              " '/content/Combine_storage_tank_test/tst_non_tgt/c_t_0004199_13_rgb.jpg': 0,\n",
              " '/content/Combine_storage_tank_test/tst_non_tgt/c_t_0007878_7_rgb.jpg': 0,\n",
              " '/content/Combine_storage_tank_test/tst_non_tgt/c_t_0004503_6_rgb.jpg': 0,\n",
              " '/content/Combine_storage_tank_test/tst_non_tgt/c_t_0001196_5_rgb.jpg': 0,\n",
              " '/content/Combine_storage_tank_test/tst_non_tgt/c_t_0009430_0_rgb.jpg': 0,\n",
              " '/content/Combine_storage_tank_test/tst_non_tgt/c_t_0000518_4_rgb.jpg': 0,\n",
              " '/content/Combine_storage_tank_test/tst_non_tgt/c_t_0009741_8_rgb.jpg': 0,\n",
              " '/content/Combine_storage_tank_test/tst_non_tgt/c_t_0003659_0_rgb.jpg': 0,\n",
              " '/content/Combine_storage_tank_test/tst_non_tgt/c_t_0009504_2_rgb.jpg': 0,\n",
              " '/content/Combine_storage_tank_test/tst_non_tgt/c_t_0008996_8_rgb.jpg': 0,\n",
              " '/content/Combine_storage_tank_test/tst_non_tgt/c_t_0005578_5_rgb.jpg': 0,\n",
              " '/content/Combine_storage_tank_test/tst_non_tgt/c_t_0002296_4_rgb.jpg': 0,\n",
              " '/content/Combine_storage_tank_test/tst_non_tgt/c_t_0001344_0_rgb.jpg': 0,\n",
              " '/content/Combine_storage_tank_test/tst_non_tgt/c_t_0007939_0_rgb.jpg': 0,\n",
              " '/content/Combine_storage_tank_test/tst_non_tgt/c_t_0004632_2_rgb.jpg': 0,\n",
              " '/content/Combine_storage_tank_test/tst_non_tgt/c_t_0008996_0_rgb.jpg': 0,\n",
              " '/content/Combine_storage_tank_test/tst_non_tgt/c_t_0002804_0_rgb.jpg': 0,\n",
              " '/content/Combine_storage_tank_test/tst_non_tgt/c_t_0006399_0_rgb.jpg': 0,\n",
              " '/content/Combine_storage_tank_test/tst_non_tgt/c_t_0005871_9_rgb.jpg': 0,\n",
              " '/content/Combine_storage_tank_test/tst_non_tgt/c_t_0005149_0_rgb.jpg': 0,\n",
              " '/content/Combine_storage_tank_test/tst_non_tgt/c_t_0004199_11_rgb.jpg': 0,\n",
              " '/content/Combine_storage_tank_test/tst_non_tgt/c_t_0007878_2_rgb.jpg': 0,\n",
              " '/content/Combine_storage_tank_test/tst_non_tgt/c_t_0003079_6_rgb.jpg': 0,\n",
              " '/content/Combine_storage_tank_test/tst_non_tgt/c_t_0004301_2_rgb.jpg': 0,\n",
              " '/content/Combine_storage_tank_test/tst_non_tgt/c_t_0005814_2_rgb.jpg': 0,\n",
              " '/content/Combine_storage_tank_test/tst_non_tgt/c_t_0007932_0_rgb.jpg': 0,\n",
              " '/content/Combine_storage_tank_test/tst_non_tgt/c_t_0006426_1_rgb.jpg': 0,\n",
              " '/content/Combine_storage_tank_test/tst_non_tgt/c_t_0002971_14_rgb.jpg': 0,\n",
              " '/content/Combine_storage_tank_test/tst_non_tgt/c_t_0005350_4_rgb.jpg': 0,\n",
              " '/content/Combine_storage_tank_test/tst_non_tgt/c_t_0008391_8_rgb.jpg': 0,\n",
              " '/content/Combine_storage_tank_test/tst_non_tgt/c_t_0001196_8_rgb.jpg': 0,\n",
              " '/content/Combine_storage_tank_test/tst_non_tgt/c_t_0008967_6_rgb.jpg': 0,\n",
              " '/content/Combine_storage_tank_test/tst_non_tgt/c_t_0009985_3_rgb.jpg': 0,\n",
              " '/content/Combine_storage_tank_test/tst_non_tgt/c_t_0004207_1_rgb.jpg': 0,\n",
              " '/content/Combine_storage_tank_test/tst_non_tgt/c_t_0005859_1_rgb.jpg': 0,\n",
              " '/content/Combine_storage_tank_test/tst_non_tgt/c_t_0005117_5_rgb.jpg': 0,\n",
              " '/content/Combine_storage_tank_test/tst_non_tgt/c_t_0003079_1_rgb.jpg': 0,\n",
              " '/content/Combine_storage_tank_test/tst_non_tgt/c_t_0004123_0_rgb.jpg': 0,\n",
              " '/content/Combine_storage_tank_test/tst_non_tgt/c_t_0007934_1_rgb.jpg': 0,\n",
              " '/content/Combine_storage_tank_test/tst_non_tgt/c_t_0009328_5_rgb.jpg': 0,\n",
              " '/content/Combine_storage_tank_test/tst_non_tgt/c_t_0010024_2_rgb.jpg': 0,\n",
              " '/content/Combine_storage_tank_test/tst_non_tgt/c_t_0005814_4_rgb.jpg': 0,\n",
              " '/content/Combine_storage_tank_test/tst_non_tgt/c_t_0008996_3_rgb.jpg': 0,\n",
              " '/content/Combine_storage_tank_test/tst_non_tgt/c_t_0009452_0_rgb.jpg': 0,\n",
              " '/content/Combine_storage_tank_test/tst_non_tgt/c_t_0011503_1_rgb.jpg': 0,\n",
              " '/content/Combine_storage_tank_test/tst_non_tgt/c_t_0010788_0_rgb.jpg': 0,\n",
              " '/content/Combine_storage_tank_test/tst_non_tgt/c_t_0000159_3_rgb.jpg': 0,\n",
              " '/content/Combine_storage_tank_test/tst_non_tgt/c_t_0007732_7_rgb.jpg': 0,\n",
              " '/content/Combine_storage_tank_test/tst_non_tgt/c_t_0000249_10_rgb.jpg': 0,\n",
              " '/content/Combine_storage_tank_test/tst_non_tgt/c_t_0001681_1_rgb.jpg': 0,\n",
              " '/content/Combine_storage_tank_test/tst_non_tgt/c_t_0005350_3_rgb.jpg': 0,\n",
              " '/content/Combine_storage_tank_test/tst_non_tgt/c_t_0008996_5_rgb.jpg': 0,\n",
              " '/content/Combine_storage_tank_test/tst_non_tgt/c_t_0006292_9_rgb.jpg': 0,\n",
              " '/content/Combine_storage_tank_test/tst_non_tgt/c_t_0005356_2_rgb.jpg': 0,\n",
              " '/content/Combine_storage_tank_test/tst_non_tgt/c_t_0009923_0_rgb.jpg': 0,\n",
              " '/content/Combine_storage_tank_test/tst_non_tgt/c_t_0003085_1_rgb.jpg': 0,\n",
              " '/content/Combine_storage_tank_test/tst_non_tgt/c_t_0009796_2_rgb.jpg': 0,\n",
              " '/content/Combine_storage_tank_test/tst_non_tgt/c_t_0004699_0_rgb.jpg': 0,\n",
              " '/content/Combine_storage_tank_test/tst_non_tgt/c_t_0008967_5_rgb.jpg': 0,\n",
              " '/content/Combine_storage_tank_test/tst_non_tgt/c_t_0001196_0_rgb.jpg': 0,\n",
              " '/content/Combine_storage_tank_test/tst_non_tgt/c_t_0011503_5_rgb.jpg': 0,\n",
              " '/content/Combine_storage_tank_test/tst_non_tgt/c_t_0004199_6_rgb.jpg': 0,\n",
              " '/content/Combine_storage_tank_test/tst_non_tgt/c_t_0001681_0_rgb.jpg': 0,\n",
              " '/content/Combine_storage_tank_test/tst_non_tgt/c_t_0004301_4_rgb.jpg': 0,\n",
              " '/content/Combine_storage_tank_test/tst_non_tgt/c_t_0010968_1_rgb.jpg': 0,\n",
              " '/content/Combine_storage_tank_test/tst_non_tgt/c_t_0000322_5_rgb.jpg': 0,\n",
              " '/content/Combine_storage_tank_test/tst_non_tgt/c_t_0008858_2_rgb.jpg': 0,\n",
              " '/content/Combine_storage_tank_test/tst_non_tgt/c_t_0005871_5_rgb.jpg': 0,\n",
              " '/content/Combine_storage_tank_test/tst_non_tgt/c_t_0002966_1_rgb.jpg': 0,\n",
              " '/content/Combine_storage_tank_test/tst_non_tgt/c_t_0011066_1_rgb.jpg': 0,\n",
              " '/content/Combine_storage_tank_test/tst_non_tgt/c_t_0006292_2_rgb.jpg': 0,\n",
              " '/content/Combine_storage_tank_test/tst_non_tgt/c_t_0007385_0_rgb.jpg': 0,\n",
              " '/content/Combine_storage_tank_test/tst_non_tgt/c_t_0000235_2_rgb.jpg': 0,\n",
              " '/content/Combine_storage_tank_test/tst_non_tgt/c_t_0001707_3_rgb.jpg': 0,\n",
              " '/content/Combine_storage_tank_test/tst_non_tgt/c_t_0010968_5_rgb.jpg': 0,\n",
              " '/content/Combine_storage_tank_test/tst_non_tgt/c_t_0005193_8_rgb.jpg': 0,\n",
              " '/content/Combine_storage_tank_test/tst_non_tgt/c_t_0005578_0_rgb.jpg': 0,\n",
              " '/content/Combine_storage_tank_test/tst_non_tgt/c_t_0003079_19_rgb.jpg': 0,\n",
              " '/content/Combine_storage_tank_test/tst_non_tgt/c_t_0003679_2_rgb.jpg': 0,\n",
              " '/content/Combine_storage_tank_test/tst_non_tgt/c_t_0006918_7_rgb.jpg': 0,\n",
              " '/content/Combine_storage_tank_test/tst_non_tgt/c_t_0011006_3_rgb.jpg': 0,\n",
              " '/content/Combine_storage_tank_test/tst_non_tgt/c_t_0000249_11_rgb.jpg': 0,\n",
              " '/content/Combine_storage_tank_test/tst_non_tgt/c_t_0001764_0_rgb.jpg': 0,\n",
              " '/content/Combine_storage_tank_test/tst_non_tgt/c_t_0011745_1_rgb.jpg': 0,\n",
              " '/content/Combine_storage_tank_test/tst_non_tgt/c_t_0011341_0_rgb.jpg': 0,\n",
              " '/content/Combine_storage_tank_test/tst_non_tgt/c_t_0002846_2_rgb.jpg': 0,\n",
              " '/content/Combine_storage_tank_test/tst_non_tgt/c_t_0002855_0_rgb.jpg': 0,\n",
              " '/content/Combine_storage_tank_test/tst_non_tgt/c_t_0006137_4_rgb.jpg': 0,\n",
              " '/content/Combine_storage_tank_test/tst_non_tgt/c_t_0006813_4_rgb.jpg': 0,\n",
              " '/content/Combine_storage_tank_test/tst_non_tgt/c_t_0009846_4_rgb.jpg': 0,\n",
              " '/content/Combine_storage_tank_test/tst_non_tgt/c_t_0005814_3_rgb.jpg': 0,\n",
              " '/content/Combine_storage_tank_test/tst_non_tgt/c_t_0003537_4_rgb.jpg': 0,\n",
              " '/content/Combine_storage_tank_test/tst_non_tgt/c_t_0007745_3_rgb.jpg': 0,\n",
              " '/content/Combine_storage_tank_test/tst_non_tgt/c_t_0000322_4_rgb.jpg': 0,\n",
              " '/content/Combine_storage_tank_test/tst_non_tgt/c_t_0009796_3_rgb.jpg': 0,\n",
              " '/content/Combine_storage_tank_test/tst_non_tgt/c_t_0005882_2_rgb.jpg': 0,\n",
              " '/content/Combine_storage_tank_test/tst_non_tgt/c_t_0008306_4_rgb.jpg': 0,\n",
              " '/content/Combine_storage_tank_test/tst_non_tgt/c_t_0009985_2_rgb.jpg': 0,\n",
              " '/content/Combine_storage_tank_test/tst_non_tgt/c_t_0010119_8_rgb.jpg': 0,\n",
              " '/content/Combine_storage_tank_test/tst_non_tgt/c_t_0010415_5_rgb.jpg': 0,\n",
              " '/content/Combine_storage_tank_test/tst_non_tgt/c_t_0011503_4_rgb.jpg': 0,\n",
              " '/content/Combine_storage_tank_test/tst_non_tgt/c_t_0009430_1_rgb.jpg': 0,\n",
              " '/content/Combine_storage_tank_test/tst_non_tgt/c_t_0008391_5_rgb.jpg': 0,\n",
              " '/content/Combine_storage_tank_test/tst_non_tgt/c_t_0005459_7_rgb.jpg': 0,\n",
              " '/content/Combine_storage_tank_test/tst_non_tgt/c_t_0008306_3_rgb.jpg': 0,\n",
              " '/content/Combine_storage_tank_test/tst_non_tgt/c_t_0009104_6_rgb.jpg': 0,\n",
              " '/content/Combine_storage_tank_test/tst_non_tgt/c_t_0000249_7_rgb.jpg': 0,\n",
              " '/content/Combine_storage_tank_test/tst_non_tgt/c_t_0003707_3_rgb.jpg': 0,\n",
              " '/content/Combine_storage_tank_test/tst_non_tgt/c_t_0003659_3_rgb.jpg': 0,\n",
              " '/content/Combine_storage_tank_test/tst_non_tgt/c_t_0010119_2_rgb.jpg': 0,\n",
              " '/content/Combine_storage_tank_test/tst_non_tgt/c_t_0009634_2_rgb.jpg': 0,\n",
              " '/content/Combine_storage_tank_test/tst_non_tgt/c_t_0000249_0_rgb.jpg': 0,\n",
              " '/content/Combine_storage_tank_test/tst_non_tgt/c_t_0003085_2_rgb.jpg': 0,\n",
              " '/content/Combine_storage_tank_test/tst_non_tgt/c_t_0008391_6_rgb.jpg': 0,\n",
              " '/content/Combine_storage_tank_test/tst_non_tgt/c_t_0005780_6_rgb.jpg': 0,\n",
              " '/content/Combine_storage_tank_test/tst_non_tgt/c_t_0009676_5_rgb.jpg': 0,\n",
              " '/content/Combine_storage_tank_test/tst_non_tgt/c_t_0011684_9_rgb.jpg': 0,\n",
              " '/content/Combine_storage_tank_test/tst_non_tgt/c_t_0006918_1_rgb.jpg': 0,\n",
              " '/content/Combine_storage_tank_test/tst_non_tgt/c_t_0005350_5_rgb.jpg': 0,\n",
              " '/content/Combine_storage_tank_test/tst_non_tgt/c_t_0011006_4_rgb.jpg': 0,\n",
              " '/content/Combine_storage_tank_test/tst_non_tgt/c_t_0001344_1_rgb.jpg': 0,\n",
              " '/content/Combine_storage_tank_test/tst_non_tgt/c_t_0004199_7_rgb.jpg': 0,\n",
              " '/content/Combine_storage_tank_test/tst_non_tgt/c_t_0010030_0_rgb.jpg': 0,\n",
              " '/content/Combine_storage_tank_test/tst_non_tgt/c_t_0005149_4_rgb.jpg': 0,\n",
              " '/content/Combine_storage_tank_test/tst_non_tgt/c_t_0004517_0_rgb.jpg': 0,\n",
              " '/content/Combine_storage_tank_test/tst_non_tgt/c_t_0004632_3_rgb.jpg': 0,\n",
              " '/content/Combine_storage_tank_test/tst_non_tgt/c_t_0004199_15_rgb.jpg': 0,\n",
              " '/content/Combine_storage_tank_test/tst_non_tgt/c_t_0011684_6_rgb.jpg': 0,\n",
              " '/content/Combine_storage_tank_test/tst_non_tgt/c_t_0010132_0_rgb.jpg': 0,\n",
              " '/content/Combine_storage_tank_test/tst_non_tgt/c_t_0003707_2_rgb.jpg': 0,\n",
              " '/content/Combine_storage_tank_test/tst_non_tgt/c_t_0010024_5_rgb.jpg': 0,\n",
              " '/content/Combine_storage_tank_test/tst_non_tgt/c_t_0011745_7_rgb.jpg': 0,\n",
              " '/content/Combine_storage_tank_test/tst_non_tgt/c_t_0010968_2_rgb.jpg': 0,\n",
              " '/content/Combine_storage_tank_test/tst_non_tgt/c_t_0003902_1_rgb.jpg': 0,\n",
              " '/content/Combine_storage_tank_test/tst_non_tgt/c_t_0009846_0_rgb.jpg': 0,\n",
              " '/content/Combine_storage_tank_test/tst_non_tgt/c_t_0007857_4_rgb.jpg': 0,\n",
              " '/content/Combine_storage_tank_test/tst_non_tgt/c_t_0003336_1_rgb.jpg': 0,\n",
              " '/content/Combine_storage_tank_test/tst_non_tgt/c_t_0008349_4_rgb.jpg': 0,\n",
              " '/content/Combine_storage_tank_test/tst_non_tgt/c_t_0006813_11_rgb.jpg': 0,\n",
              " '/content/Combine_storage_tank_test/tst_non_tgt/c_t_0005814_0_rgb.jpg': 0,\n",
              " '/content/Combine_storage_tank_test/tst_non_tgt/c_t_0004199_3_rgb.jpg': 0,\n",
              " '/content/Combine_storage_tank_test/tst_non_tgt/c_t_0002631_1_rgb.jpg': 0,\n",
              " '/content/Combine_storage_tank_test/tst_non_tgt/c_t_0004199_8_rgb.jpg': 0,\n",
              " '/content/Combine_storage_tank_test/tst_non_tgt/c_t_0004503_5_rgb.jpg': 0,\n",
              " '/content/Combine_storage_tank_test/tst_non_tgt/c_t_0002886_0_rgb.jpg': 0,\n",
              " '/content/Combine_storage_tank_test/tst_non_tgt/c_t_0005356_3_rgb.jpg': 0,\n",
              " '/content/Combine_storage_tank_test/tst_non_tgt/c_t_0007796_1_rgb.jpg': 0,\n",
              " '/content/Combine_storage_tank_test/tst_non_tgt/c_t_0011684_7_rgb.jpg': 0,\n",
              " '/content/Combine_storage_tank_test/tst_non_tgt/c_t_0006682_1_rgb.jpg': 0,\n",
              " '/content/Combine_storage_tank_test/tst_non_tgt/c_t_0011547_0_rgb.jpg': 0,\n",
              " '/content/Combine_storage_tank_test/tst_non_tgt/c_t_0011503_0_rgb.jpg': 0,\n",
              " '/content/Combine_storage_tank_test/tst_non_tgt/c_t_0011684_5_rgb.jpg': 0,\n",
              " '/content/Combine_storage_tank_test/tst_non_tgt/c_t_0005624_1_rgb.jpg': 0,\n",
              " '/content/Combine_storage_tank_test/tst_non_tgt/c_t_0003679_5_rgb.jpg': 0,\n",
              " '/content/Combine_storage_tank_test/tst_non_tgt/c_t_0005780_3_rgb.jpg': 0,\n",
              " '/content/Combine_storage_tank_test/tst_non_tgt/c_t_0000864_0_rgb.jpg': 0,\n",
              " '/content/Combine_storage_tank_test/tst_non_tgt/c_t_0007745_8_rgb.jpg': 0,\n",
              " '/content/Combine_storage_tank_test/tst_non_tgt/c_t_0004699_1_rgb.jpg': 0,\n",
              " '/content/Combine_storage_tank_test/tst_non_tgt/c_t_0010415_8_rgb.jpg': 0,\n",
              " '/content/Combine_storage_tank_test/tst_non_tgt/c_t_0010402_2_rgb.jpg': 0,\n",
              " '/content/Combine_storage_tank_test/tst_non_tgt/c_t_0005149_5_rgb.jpg': 0,\n",
              " '/content/Combine_storage_tank_test/tst_non_tgt/c_t_0008349_0_rgb.jpg': 0,\n",
              " '/content/Combine_storage_tank_test/tst_non_tgt/c_t_0008891_4_rgb.jpg': 0,\n",
              " '/content/Combine_storage_tank_test/tst_non_tgt/c_t_0009741_17_rgb.jpg': 0,\n",
              " '/content/Combine_storage_tank_test/tst_non_tgt/c_t_0001160_0_rgb.jpg': 0,\n",
              " '/content/Combine_storage_tank_test/tst_non_tgt/c_t_0003227_4_rgb.jpg': 0,\n",
              " '/content/Combine_storage_tank_test/tst_non_tgt/c_t_0005356_1_rgb.jpg': 0,\n",
              " '/content/Combine_storage_tank_test/tst_non_tgt/c_t_0007369_2_rgb.jpg': 0,\n",
              " '/content/Combine_storage_tank_test/tst_non_tgt/c_t_0002631_3_rgb.jpg': 0,\n",
              " '/content/Combine_storage_tank_test/tst_non_tgt/c_t_0005193_5_rgb.jpg': 0,\n",
              " '/content/Combine_storage_tank_test/tst_non_tgt/c_t_0003079_16_rgb.jpg': 0,\n",
              " '/content/Combine_storage_tank_test/tst_non_tgt/c_t_0007745_5_rgb.jpg': 0,\n",
              " '/content/Combine_storage_tank_test/tst_non_tgt/c_t_0005117_0_rgb.jpg': 0,\n",
              " '/content/Combine_storage_tank_test/tst_non_tgt/c_t_0006682_2_rgb.jpg': 0,\n",
              " '/content/Combine_storage_tank_test/tst_non_tgt/c_t_0007878_6_rgb.jpg': 0,\n",
              " '/content/Combine_storage_tank_test/tst_non_tgt/c_t_0004301_5_rgb.jpg': 0,\n",
              " '/content/Combine_storage_tank_test/tst_non_tgt/c_t_0006918_9_rgb.jpg': 0,\n",
              " '/content/Combine_storage_tank_test/tst_non_tgt/c_t_0005578_4_rgb.jpg': 0,\n",
              " '/content/Combine_storage_tank_test/tst_non_tgt/c_t_0009741_14_rgb.jpg': 0,\n",
              " '/content/Combine_storage_tank_test/tst_non_tgt/c_t_0005356_18_rgb.jpg': 0,\n",
              " '/content/Combine_storage_tank_test/tst_non_tgt/c_t_0005463_0_rgb.jpg': 0,\n",
              " '/content/Combine_storage_tank_test/tst_non_tgt/c_t_0003679_1_rgb.jpg': 0,\n",
              " '/content/Combine_storage_tank_test/tst_non_tgt/c_t_0008185_0_rgb.jpg': 0,\n",
              " '/content/Combine_storage_tank_test/tst_non_tgt/c_t_0008263_4_rgb.jpg': 0,\n",
              " '/content/Combine_storage_tank_test/tst_non_tgt/c_t_0004301_3_rgb.jpg': 0,\n",
              " '/content/Combine_storage_tank_test/tst_non_tgt/c_t_0005624_0_rgb.jpg': 0,\n",
              " '/content/Combine_storage_tank_test/tst_non_tgt/c_t_0009104_7_rgb.jpg': 0,\n",
              " '/content/Combine_storage_tank_test/tst_non_tgt/c_t_0008349_6_rgb.jpg': 0,\n",
              " '/content/Combine_storage_tank_test/tst_non_tgt/c_t_0000322_6_rgb.jpg': 0,\n",
              " '/content/Combine_storage_tank_test/tst_non_tgt/c_t_0011939_3_rgb.jpg': 0,\n",
              " '/content/Combine_storage_tank_test/tst_non_tgt/c_t_0003840_4_rgb.jpg': 0,\n",
              " '/content/Combine_storage_tank_test/tst_non_tgt/c_t_0000249_8_rgb.jpg': 0,\n",
              " '/content/Combine_storage_tank_test/tst_non_tgt/c_t_0000062_3_rgb.jpg': 0,\n",
              " '/content/Combine_storage_tank_test/tst_non_tgt/c_t_0005350_1_rgb.jpg': 0,\n",
              " '/content/Combine_storage_tank_test/tst_non_tgt/c_t_0002140_0_rgb.jpg': 0,\n",
              " '/content/Combine_storage_tank_test/tst_non_tgt/c_t_0011854_2_rgb.jpg': 0,\n",
              " '/content/Combine_storage_tank_test/tst_non_tgt/c_t_0007878_1_rgb.jpg': 0,\n",
              " '/content/Combine_storage_tank_test/tst_non_tgt/c_t_0001738_5_rgb.jpg': 0,\n",
              " '/content/Combine_storage_tank_test/tst_non_tgt/c_t_0006918_4_rgb.jpg': 0,\n",
              " '/content/Combine_storage_tank_test/tst_non_tgt/c_t_0009741_13_rgb.jpg': 0,\n",
              " '/content/Combine_storage_tank_test/tst_non_tgt/c_t_0003462_0_rgb.jpg': 0,\n",
              " '/content/Combine_storage_tank_test/tst_non_tgt/c_t_0002543_1_rgb.jpg': 0,\n",
              " '/content/Combine_storage_tank_test/tst_non_tgt/c_t_0005859_2_rgb.jpg': 0,\n",
              " '/content/Combine_storage_tank_test/tst_non_tgt/c_t_0000513_0_rgb.jpg': 0,\n",
              " '/content/Combine_storage_tank_test/tst_non_tgt/c_t_0011780_0_rgb.jpg': 0,\n",
              " '/content/Combine_storage_tank_test/tst_non_tgt/c_t_0011898_1_rgb.jpg': 0,\n",
              " '/content/Combine_storage_tank_test/tst_non_tgt/c_t_0006273_0_rgb.jpg': 0,\n",
              " '/content/Combine_storage_tank_test/tst_non_tgt/c_t_0009741_11_rgb.jpg': 0,\n",
              " '/content/Combine_storage_tank_test/tst_non_tgt/c_t_0007745_7_rgb.jpg': 0,\n",
              " '/content/Combine_storage_tank_test/tst_non_tgt/c_t_0011115_4_rgb.jpg': 0,\n",
              " '/content/Combine_storage_tank_test/tst_non_tgt/c_t_0010402_1_rgb.jpg': 0,\n",
              " '/content/Combine_storage_tank_test/tst_non_tgt/c_t_0010415_9_rgb.jpg': 0,\n",
              " '/content/Combine_storage_tank_test/tst_non_tgt/c_t_0000481_0_rgb.jpg': 0,\n",
              " '/content/Combine_storage_tank_test/tst_non_tgt/c_t_0011939_6_rgb.jpg': 0,\n",
              " '/content/Combine_storage_tank_test/tst_non_tgt/c_t_0008391_3_rgb.jpg': 0,\n",
              " '/content/Combine_storage_tank_test/tst_non_tgt/c_t_0005356_5_rgb.jpg': 0,\n",
              " '/content/Combine_storage_tank_test/tst_non_tgt/c_t_0007932_2_rgb.jpg': 0,\n",
              " '/content/Combine_storage_tank_test/tst_non_tgt/c_t_0009641_0_rgb.jpg': 0,\n",
              " '/content/Combine_storage_tank_test/tst_non_tgt/c_t_0000513_5_rgb.jpg': 0,\n",
              " '/content/Combine_storage_tank_test/tst_non_tgt/c_t_0009708_3_rgb.jpg': 0,\n",
              " '/content/Combine_storage_tank_test/tst_non_tgt/c_t_0007369_0_rgb.jpg': 0,\n",
              " '/content/Combine_storage_tank_test/tst_non_tgt/c_t_0010415_0_rgb.jpg': 0,\n",
              " '/content/Combine_storage_tank_test/tst_non_tgt/c_t_0011745_6_rgb.jpg': 0,\n",
              " '/content/Combine_storage_tank_test/tst_non_tgt/c_t_0007878_9_rgb.jpg': 0,\n",
              " '/content/Combine_storage_tank_test/tst_non_tgt/c_t_0004807_0_rgb.jpg': 0,\n",
              " '/content/Combine_storage_tank_test/tst_non_tgt/c_t_0002846_1_rgb.jpg': 0,\n",
              " '/content/Combine_storage_tank_test/tst_non_tgt/c_t_0007035_6_rgb.jpg': 0,\n",
              " '/content/Combine_storage_tank_test/tst_non_tgt/c_t_0008498_0_rgb.jpg': 0,\n",
              " '/content/Combine_storage_tank_test/tst_non_tgt/c_t_0005780_2_rgb.jpg': 0,\n",
              " '/content/Combine_storage_tank_test/tst_non_tgt/c_t_0007220_1_rgb.jpg': 0,\n",
              " '/content/Combine_storage_tank_test/tst_non_tgt/c_t_0011854_0_rgb.jpg': 0,\n",
              " '/content/Combine_storage_tank_test/tst_non_tgt/c_t_0000518_3_rgb.jpg': 0,\n",
              " '/content/Combine_storage_tank_test/tst_non_tgt/c_t_0009104_2_rgb.jpg': 0,\n",
              " '/content/Combine_storage_tank_test/tst_non_tgt/c_t_0001228_0_rgb.jpg': 0,\n",
              " '/content/Combine_storage_tank_test/tst_non_tgt/c_t_0011797_0_rgb.jpg': 0,\n",
              " '/content/Combine_storage_tank_test/tst_non_tgt/c_t_0003902_6_rgb.jpg': 0,\n",
              " '/content/Combine_storage_tank_test/tst_non_tgt/c_t_0008967_3_rgb.jpg': 0,\n",
              " '/content/Combine_storage_tank_test/tst_non_tgt/c_t_0002140_8_rgb.jpg': 0,\n",
              " '/content/Combine_storage_tank_test/tst_non_tgt/c_t_0006813_0_rgb.jpg': 0,\n",
              " '/content/Combine_storage_tank_test/tst_non_tgt/c_t_0004503_0_rgb.jpg': 0,\n",
              " '/content/Combine_storage_tank_test/tst_non_tgt/c_t_0007035_3_rgb.jpg': 0,\n",
              " '/content/Combine_storage_tank_test/tst_non_tgt/c_t_0008349_3_rgb.jpg': 0,\n",
              " '/content/Combine_storage_tank_test/tst_non_tgt/c_t_0007632_1_rgb.jpg': 0,\n",
              " '/content/Combine_storage_tank_test/tst_non_tgt/c_t_0009708_2_rgb.jpg': 0,\n",
              " '/content/Combine_storage_tank_test/tst_non_tgt/c_t_0002846_4_rgb.jpg': 0,\n",
              " '/content/Combine_storage_tank_test/tst_non_tgt/c_t_0003211_0_rgb.jpg': 0,\n",
              " '/content/Combine_storage_tank_test/tst_non_tgt/c_t_0004503_7_rgb.jpg': 0,\n",
              " '/content/Combine_storage_tank_test/tst_non_tgt/c_t_0008306_2_rgb.jpg': 0,\n",
              " '/content/Combine_storage_tank_test/tst_non_tgt/c_t_0010968_6_rgb.jpg': 0,\n",
              " '/content/Combine_storage_tank_test/tst_non_tgt/c_t_0000322_2_rgb.jpg': 0,\n",
              " '/content/Combine_storage_tank_test/tst_non_tgt/c_t_0010119_0_rgb.jpg': 0,\n",
              " '/content/Combine_storage_tank_test/tst_non_tgt/c_t_0011780_6_rgb.jpg': 0,\n",
              " '/content/Combine_storage_tank_test/tst_non_tgt/c_t_0007732_6_rgb.jpg': 0,\n",
              " '/content/Combine_storage_tank_test/tst_non_tgt/c_t_0003227_2_rgb.jpg': 0,\n",
              " '/content/Combine_storage_tank_test/tst_non_tgt/c_t_0002971_12_rgb.jpg': 0,\n",
              " '/content/Combine_storage_tank_test/tst_non_tgt/c_t_0009077_1_rgb.jpg': 0,\n",
              " '/content/Combine_storage_tank_test/tst_non_tgt/c_t_0009741_6_rgb.jpg': 0,\n",
              " '/content/Combine_storage_tank_test/tst_non_tgt/c_t_0002296_2_rgb.jpg': 0,\n",
              " '/content/Combine_storage_tank_test/tst_non_tgt/c_t_0000016_0_rgb.jpg': 0,\n",
              " '/content/Combine_storage_tank_test/tst_non_tgt/c_t_0008391_0_rgb.jpg': 0,\n",
              " '/content/Combine_storage_tank_test/tst_non_tgt/c_t_0005356_4_rgb.jpg': 0,\n",
              " '/content/Combine_storage_tank_test/tst_non_tgt/c_t_0003079_7_rgb.jpg': 0,\n",
              " '/content/Combine_storage_tank_test/tst_non_tgt/c_t_0001768_1_rgb.jpg': 0,\n",
              " '/content/Combine_storage_tank_test/tst_non_tgt/c_t_0007732_0_rgb.jpg': 0,\n",
              " '/content/Combine_storage_tank_test/tst_non_tgt/c_t_0011949_4_rgb.jpg': 0,\n",
              " '/content/Combine_storage_tank_test/tst_non_tgt/c_t_0010111_1_rgb.jpg': 0,\n",
              " '/content/Combine_storage_tank_test/tst_non_tgt/c_t_0007385_1_rgb.jpg': 0,\n",
              " '/content/Combine_storage_tank_test/tst_non_tgt/c_t_0003679_3_rgb.jpg': 0,\n",
              " '/content/Combine_storage_tank_test/tst_non_tgt/c_t_0011939_0_rgb.jpg': 0,\n",
              " '/content/Combine_storage_tank_test/tst_non_tgt/c_t_0000505_0_rgb.jpg': 0,\n",
              " '/content/Combine_storage_tank_test/tst_non_tgt/c_t_0005780_4_rgb.jpg': 0,\n",
              " '/content/Combine_storage_tank_test/tst_non_tgt/c_t_0005871_7_rgb.jpg': 0,\n",
              " '/content/Combine_storage_tank_test/tst_non_tgt/c_t_0005859_0_rgb.jpg': 0,\n",
              " '/content/Combine_storage_tank_test/tst_non_tgt/c_t_0006813_10_rgb.jpg': 0,\n",
              " '/content/Combine_storage_tank_test/tst_non_tgt/c_t_0007385_3_rgb.jpg': 0,\n",
              " '/content/Combine_storage_tank_test/tst_non_tgt/c_t_0006627_2_rgb.jpg': 0,\n",
              " '/content/Combine_storage_tank_test/tst_non_tgt/c_t_0007732_1_rgb.jpg': 0,\n",
              " '/content/Combine_storage_tank_test/tst_non_tgt/c_t_0006137_5_rgb.jpg': 0,\n",
              " '/content/Combine_storage_tank_test/tst_non_tgt/c_t_0010067_0_rgb.jpg': 0,\n",
              " '/content/Combine_storage_tank_test/tst_non_tgt/c_t_0008349_5_rgb.jpg': 0,\n",
              " '/content/Combine_storage_tank_test/tst_non_tgt/c_t_0009741_19_rgb.jpg': 0,\n",
              " '/content/Combine_storage_tank_test/tst_non_tgt/c_t_0004123_3_rgb.jpg': 0,\n",
              " '/content/Combine_storage_tank_test/tst_non_tgt/c_t_0001160_1_rgb.jpg': 0,\n",
              " '/content/Combine_storage_tank_test/tst_non_tgt/c_t_0005350_0_rgb.jpg': 0,\n",
              " '/content/Combine_storage_tank_test/tst_non_tgt/c_t_0008702_1_rgb.jpg': 0,\n",
              " '/content/Combine_storage_tank_test/tst_non_tgt/c_t_0000249_16_rgb.jpg': 0,\n",
              " '/content/Combine_storage_tank_test/tst_non_tgt/c_t_0011780_5_rgb.jpg': 0,\n",
              " '/content/Combine_storage_tank_test/tst_non_tgt/c_t_0003079_5_rgb.jpg': 0,\n",
              " '/content/Combine_storage_tank_test/tst_non_tgt/c_t_0011780_4_rgb.jpg': 0,\n",
              " '/content/Combine_storage_tank_test/tst_non_tgt/c_t_0004183_0_rgb.jpg': 0,\n",
              " '/content/Combine_storage_tank_test/tst_non_tgt/c_t_0011939_5_rgb.jpg': 0,\n",
              " '/content/Combine_storage_tank_test/tst_non_tgt/c_t_0009708_5_rgb.jpg': 0,\n",
              " '/content/Combine_storage_tank_test/tst_non_tgt/c_t_0006292_1_rgb.jpg': 0,\n",
              " '/content/Combine_storage_tank_test/tst_non_tgt/c_t_0011684_2_rgb.jpg': 0,\n",
              " '/content/Combine_storage_tank_test/tst_non_tgt/c_t_0010132_1_rgb.jpg': 0,\n",
              " '/content/Combine_storage_tank_test/tst_non_tgt/c_t_0008228_0_rgb.jpg': 0,\n",
              " '/content/Combine_storage_tank_test/tst_non_tgt/c_t_0000322_1_rgb.jpg': 0,\n",
              " '/content/Combine_storage_tank_test/tst_non_tgt/c_t_0000518_0_rgb.jpg': 0,\n",
              " '/content/Combine_storage_tank_test/tst_non_tgt/c_t_0003079_18_rgb.jpg': 0,\n",
              " '/content/Combine_storage_tank_test/tst_non_tgt/c_t_0007369_3_rgb.jpg': 0,\n",
              " '/content/Combine_storage_tank_test/tst_non_tgt/c_t_0000089_2_rgb.jpg': 0,\n",
              " '/content/Combine_storage_tank_test/tst_non_tgt/c_t_0007732_8_rgb.jpg': 0,\n",
              " '/content/Combine_storage_tank_test/tst_non_tgt/c_t_0004632_1_rgb.jpg': 0,\n",
              " '/content/Combine_storage_tank_test/tst_non_tgt/c_t_0006813_19_rgb.jpg': 0,\n",
              " '/content/Combine_storage_tank_test/tst_non_tgt/c_t_0002971_4_rgb.jpg': 0,\n",
              " '/content/Combine_storage_tank_test/tst_non_tgt/c_t_0006137_0_rgb.jpg': 0,\n",
              " '/content/Combine_storage_tank_test/tst_non_tgt/c_t_0011939_2_rgb.jpg': 0,\n",
              " '/content/Combine_storage_tank_test/tst_non_tgt/c_t_0005814_6_rgb.jpg': 0,\n",
              " '/content/Combine_storage_tank_test/tst_non_tgt/c_t_0008349_1_rgb.jpg': 0,\n",
              " '/content/Combine_storage_tank_test/tst_non_tgt/c_t_0009448_2_rgb.jpg': 0,\n",
              " '/content/Combine_storage_tank_test/tst_non_tgt/c_t_0000089_1_rgb.jpg': 0,\n",
              " '/content/Combine_storage_tank_test/tst_non_tgt/c_t_0008263_2_rgb.jpg': 0,\n",
              " '/content/Combine_storage_tank_test/tst_non_tgt/c_t_0004503_3_rgb.jpg': 0,\n",
              " '/content/Combine_storage_tank_test/tst_non_tgt/c_t_0008263_0_rgb.jpg': 0,\n",
              " '/content/Combine_storage_tank_test/tst_non_tgt/c_t_0006813_2_rgb.jpg': 0,\n",
              " '/content/Combine_storage_tank_test/tst_non_tgt/c_t_0005578_6_rgb.jpg': 0,\n",
              " '/content/Combine_storage_tank_test/tst_non_tgt/c_t_0011684_8_rgb.jpg': 0,\n",
              " '/content/Combine_storage_tank_test/tst_non_tgt/c_t_0008967_9_rgb.jpg': 0,\n",
              " '/content/Combine_storage_tank_test/tst_non_tgt/c_t_0008306_0_rgb.jpg': 0,\n",
              " '/content/Combine_storage_tank_test/tst_non_tgt/c_t_0010949_0_rgb.jpg': 0,\n",
              " '/content/Combine_storage_tank_test/tst_non_tgt/c_t_0009796_7_rgb.jpg': 0,\n",
              " '/content/Combine_storage_tank_test/tst_non_tgt/c_t_0002384_1_rgb.jpg': 0,\n",
              " '/content/Combine_storage_tank_test/tst_non_tgt/c_t_0009676_8_rgb.jpg': 0,\n",
              " '/content/Combine_storage_tank_test/tst_non_tgt/c_t_0000322_3_rgb.jpg': 0,\n",
              " '/content/Combine_storage_tank_test/tst_non_tgt/c_t_0009796_1_rgb.jpg': 0,\n",
              " '/content/Combine_storage_tank_test/tst_non_tgt/c_t_0007857_1_rgb.jpg': 0,\n",
              " '/content/Combine_storage_tank_test/tst_non_tgt/c_t_0001196_9_rgb.jpg': 0,\n",
              " '/content/Combine_storage_tank_test/tst_non_tgt/c_t_0005459_6_rgb.jpg': 0,\n",
              " '/content/Combine_storage_tank_test/tst_non_tgt/c_t_0009077_3_rgb.jpg': 0,\n",
              " '/content/Combine_storage_tank_test/tst_non_tgt/c_t_0009483_0_rgb.jpg': 0,\n",
              " '/content/Combine_storage_tank_test/tst_non_tgt/c_t_0006426_5_rgb.jpg': 0,\n",
              " '/content/Combine_storage_tank_test/tst_non_tgt/c_t_0005144_1_rgb.jpg': 0,\n",
              " '/content/Combine_storage_tank_test/tst_non_tgt/c_t_0006273_1_rgb.jpg': 0,\n",
              " '/content/Combine_storage_tank_test/tst_non_tgt/c_t_0011780_3_rgb.jpg': 0,\n",
              " '/content/Combine_storage_tank_test/tst_non_tgt/c_t_0001925_1_rgb.jpg': 0,\n",
              " '/content/Combine_storage_tank_test/tst_non_tgt/c_t_0007424_4_rgb.jpg': 0,\n",
              " '/content/Combine_storage_tank_test/tst_non_tgt/c_t_0007281_0_rgb.jpg': 0,\n",
              " '/content/Combine_storage_tank_test/tst_non_tgt/c_t_0005882_1_rgb.jpg': 0,\n",
              " '/content/Combine_storage_tank_test/tst_non_tgt/c_t_0010480_2_rgb.jpg': 0,\n",
              " '/content/Combine_storage_tank_test/tst_non_tgt/c_t_0002886_2_rgb.jpg': 0,\n",
              " '/content/Combine_storage_tank_test/tst_non_tgt/c_t_0008306_1_rgb.jpg': 0,\n",
              " '/content/Combine_storage_tank_test/tst_non_tgt/c_t_0003659_2_rgb.jpg': 0,\n",
              " '/content/Combine_storage_tank_test/tst_non_tgt/c_t_0005045_1_rgb.jpg': 0,\n",
              " '/content/Combine_storage_tank_test/tst_non_tgt/c_t_0006813_1_rgb.jpg': 0,\n",
              " '/content/Combine_storage_tank_test/tst_non_tgt/c_t_0005954_0_rgb.jpg': 0,\n",
              " '/content/Combine_storage_tank_test/tst_non_tgt/c_t_0009077_7_rgb.jpg': 0,\n",
              " '/content/Combine_storage_tank_test/tst_non_tgt/c_t_0000249_12_rgb.jpg': 0,\n",
              " '/content/Combine_storage_tank_test/tst_non_tgt/c_t_0004746_5_rgb.jpg': 0,\n",
              " '/content/Combine_storage_tank_test/tst_non_tgt/c_t_0010111_3_rgb.jpg': 0,\n",
              " '/content/Combine_storage_tank_test/tst_non_tgt/c_t_0006566_2_rgb.jpg': 0,\n",
              " '/content/Combine_storage_tank_test/tst_non_tgt/c_t_0008996_1_rgb.jpg': 0,\n",
              " '/content/Combine_storage_tank_test/tst_non_tgt/c_t_0004746_3_rgb.jpg': 0,\n",
              " '/content/Combine_storage_tank_test/tst_non_tgt/c_t_0002140_1_rgb.jpg': 0,\n",
              " '/content/Combine_storage_tank_test/tst_non_tgt/c_t_0004199_4_rgb.jpg': 0,\n",
              " '/content/Combine_storage_tank_test/tst_non_tgt/c_t_0004517_3_rgb.jpg': 0,\n",
              " '/content/Combine_storage_tank_test/tst_non_tgt/c_t_0010111_0_rgb.jpg': 0,\n",
              " '/content/Combine_storage_tank_test/tst_non_tgt/c_t_0004207_0_rgb.jpg': 0,\n",
              " '/content/Combine_storage_tank_test/tst_non_tgt/c_t_0001707_1_rgb.jpg': 0,\n",
              " '/content/Combine_storage_tank_test/tst_non_tgt/c_t_0008821_0_rgb.jpg': 0,\n",
              " '/content/Combine_storage_tank_test/tst_non_tgt/c_t_0009504_3_rgb.jpg': 0,\n",
              " '/content/Combine_storage_tank_test/tst_non_tgt/c_t_0003227_1_rgb.jpg': 0,\n",
              " '/content/Combine_storage_tank_test/tst_non_tgt/c_t_0006813_15_rgb.jpg': 0,\n",
              " '/content/Combine_storage_tank_test/tst_non_tgt/c_t_0009708_4_rgb.jpg': 0,\n",
              " '/content/Combine_storage_tank_test/tst_non_tgt/c_t_0002971_5_rgb.jpg': 0,\n",
              " '/content/Combine_storage_tank_test/tst_non_tgt/c_t_0003679_4_rgb.jpg': 0,\n",
              " '/content/Combine_storage_tank_test/tst_non_tgt/c_t_0008391_2_rgb.jpg': 0,\n",
              " '/content/Combine_storage_tank_test/tst_non_tgt/c_t_0004807_2_rgb.jpg': 0,\n",
              " '/content/Combine_storage_tank_test/tst_non_tgt/c_t_0003352_8_rgb.jpg': 0,\n",
              " '/content/Combine_storage_tank_test/tst_non_tgt/c_t_0004517_1_rgb.jpg': 0,\n",
              " '/content/Combine_storage_tank_test/tst_non_tgt/c_t_0009642_1_rgb.jpg': 0,\n",
              " '/content/Combine_storage_tank_test/tst_non_tgt/c_t_0005666_3_rgb.jpg': 0,\n",
              " '/content/Combine_storage_tank_test/tst_non_tgt/c_t_0001196_2_rgb.jpg': 0,\n",
              " '/content/Combine_storage_tank_test/tst_non_tgt/c_t_0011066_2_rgb.jpg': 0,\n",
              " '/content/Combine_storage_tank_test/tst_non_tgt/c_t_0008967_1_rgb.jpg': 0,\n",
              " '/content/Combine_storage_tank_test/tst_non_tgt/c_t_0011547_1_rgb.jpg': 0,\n",
              " '/content/Combine_storage_tank_test/tst_non_tgt/c_t_0005356_14_rgb.jpg': 0,\n",
              " '/content/Combine_storage_tank_test/tst_non_tgt/c_t_0002384_3_rgb.jpg': 0,\n",
              " '/content/Combine_storage_tank_test/tst_non_tgt/c_t_0007385_2_rgb.jpg': 0,\n",
              " '/content/Combine_storage_tank_test/tst_non_tgt/c_t_0011115_7_rgb.jpg': 0,\n",
              " '/content/Combine_storage_tank_test/tst_non_tgt/c_t_0010788_1_rgb.jpg': 0,\n",
              " '/content/Combine_storage_tank_test/tst_non_tgt/c_t_0003079_17_rgb.jpg': 0,\n",
              " '/content/Combine_storage_tank_test/tst_non_tgt/c_t_0003537_3_rgb.jpg': 0,\n",
              " '/content/Combine_storage_tank_test/tst_non_tgt/c_t_0010415_6_rgb.jpg': 0,\n",
              " '/content/Combine_storage_tank_test/tst_non_tgt/c_t_0003707_4_rgb.jpg': 0,\n",
              " '/content/Combine_storage_tank_test/tst_non_tgt/c_t_0004207_2_rgb.jpg': 0,\n",
              " '/content/Combine_storage_tank_test/tst_non_tgt/c_t_0005356_0_rgb.jpg': 0,\n",
              " '/content/Combine_storage_tank_test/tst_non_tgt/c_t_0009741_5_rgb.jpg': 0,\n",
              " '/content/Combine_storage_tank_test/tst_non_tgt/c_t_0011684_1_rgb.jpg': 0,\n",
              " '/content/Combine_storage_tank_test/tst_non_tgt/c_t_0007697_1_rgb.jpg': 0,\n",
              " '/content/Combine_storage_tank_test/tst_non_tgt/c_t_0005149_6_rgb.jpg': 0,\n",
              " '/content/Combine_storage_tank_test/tst_non_tgt/c_t_0003840_10_rgb.jpg': 0,\n",
              " '/content/Combine_storage_tank_test/tst_non_tgt/c_t_0006340_7_rgb.jpg': 0,\n",
              " '/content/Combine_storage_tank_test/tst_non_tgt/c_t_0011949_2_rgb.jpg': 0,\n",
              " '/content/Combine_storage_tank_test/tst_non_tgt/c_t_0004746_0_rgb.jpg': 0,\n",
              " '/content/Combine_storage_tank_test/tst_non_tgt/c_t_0008349_8_rgb.jpg': 0,\n",
              " '/content/Combine_storage_tank_test/tst_non_tgt/c_t_0010473_0_rgb.jpg': 0,\n",
              " '/content/Combine_storage_tank_test/tst_non_tgt/c_t_0001707_2_rgb.jpg': 0,\n",
              " '/content/Combine_storage_tank_test/tst_non_tgt/c_t_0006180_0_rgb.jpg': 0,\n",
              " '/content/Combine_storage_tank_test/tst_non_tgt/c_t_0011503_3_rgb.jpg': 0,\n",
              " '/content/Combine_storage_tank_test/tst_non_tgt/c_t_0008967_0_rgb.jpg': 0,\n",
              " '/content/Combine_storage_tank_test/tst_non_tgt/c_t_0003659_5_rgb.jpg': 0,\n",
              " '/content/Combine_storage_tank_test/tst_non_tgt/c_t_0010067_1_rgb.jpg': 0,\n",
              " '/content/Combine_storage_tank_test/tst_non_tgt/c_t_0002631_8_rgb.jpg': 0,\n",
              " '/content/Combine_storage_tank_test/tst_non_tgt/c_t_0001738_3_rgb.jpg': 0,\n",
              " '/content/Combine_storage_tank_test/tst_non_tgt/c_t_0011745_3_rgb.jpg': 0,\n",
              " '/content/Combine_storage_tank_test/tst_non_tgt/c_t_0002886_1_rgb.jpg': 0,\n",
              " '/content/Combine_storage_tank_test/tst_non_tgt/c_t_0006180_1_rgb.jpg': 0,\n",
              " '/content/Combine_storage_tank_test/tst_non_tgt/c_t_0005193_2_rgb.jpg': 0,\n",
              " '/content/Combine_storage_tank_test/tst_non_tgt/c_t_0010968_4_rgb.jpg': 0,\n",
              " '/content/Combine_storage_tank_test/tst_non_tgt/c_t_0011684_3_rgb.jpg': 0,\n",
              " '/content/Combine_storage_tank_test/tst_non_tgt/c_t_0007852_1_rgb.jpg': 0,\n",
              " '/content/Combine_storage_tank_test/tst_non_tgt/c_t_0000077_2_rgb.jpg': 0,\n",
              " '/content/Combine_storage_tank_test/tst_non_tgt/c_t_0006813_6_rgb.jpg': 0,\n",
              " '/content/Combine_storage_tank_test/tst_non_tgt/c_t_0011066_0_rgb.jpg': 0,\n",
              " '/content/Combine_storage_tank_test/tst_non_tgt/c_t_0007424_2_rgb.jpg': 0,\n",
              " '/content/Combine_storage_tank_test/tst_non_tgt/c_t_0005144_0_rgb.jpg': 0,\n",
              " '/content/Combine_storage_tank_test/tst_non_tgt/c_t_0003079_3_rgb.jpg': 0,\n",
              " '/content/Combine_storage_tank_test/tst_non_tgt/c_t_0000077_1_rgb.jpg': 0,\n",
              " '/content/Combine_storage_tank_test/tst_non_tgt/c_t_0011939_1_rgb.jpg': 0,\n",
              " '/content/Combine_storage_tank_test/tst_non_tgt/c_t_0002886_5_rgb.jpg': 0,\n",
              " '/content/Combine_storage_tank_test/tst_non_tgt/c_t_0003129_1_rgb.jpg': 0,\n",
              " '/content/Combine_storage_tank_test/tst_non_tgt/c_t_0007385_5_rgb.jpg': 0,\n",
              " '/content/Combine_storage_tank_test/tst_non_tgt/c_t_0007857_5_rgb.jpg': 0,\n",
              " '/content/Combine_storage_tank_test/tst_non_tgt/c_t_0011684_4_rgb.jpg': 0,\n",
              " '/content/Combine_storage_tank_test/tst_non_tgt/c_t_0002140_3_rgb.jpg': 0,\n",
              " '/content/Combine_storage_tank_test/tst_non_tgt/c_t_0011103_2_rgb.jpg': 0,\n",
              " '/content/Combine_storage_tank_test/tst_non_tgt/c_t_0003079_8_rgb.jpg': 0,\n",
              " '/content/Combine_storage_tank_test/tst_non_tgt/c_t_0002971_8_rgb.jpg': 0,\n",
              " '/content/Combine_storage_tank_test/tst_non_tgt/c_t_0007281_2_rgb.jpg': 0,\n",
              " '/content/Combine_storage_tank_test/tst_non_tgt/c_t_0007697_0_rgb.jpg': 0,\n",
              " '/content/Combine_storage_tank_test/tst_non_tgt/c_t_0009676_3_rgb.jpg': 0,\n",
              " '/content/Combine_storage_tank_test/tst_non_tgt/c_t_0005666_5_rgb.jpg': 0,\n",
              " '/content/Combine_storage_tank_test/tst_non_tgt/c_t_0002846_3_rgb.jpg': 0,\n",
              " '/content/Combine_storage_tank_test/tst_non_tgt/c_t_0007220_0_rgb.jpg': 0,\n",
              " '/content/Combine_storage_tank_test/tst_non_tgt/c_t_0003840_11_rgb.jpg': 0,\n",
              " '/content/Combine_storage_tank_test/tst_non_tgt/c_t_0006857_0_rgb.jpg': 0,\n",
              " '/content/Combine_storage_tank_test/tst_non_tgt/c_t_0001196_4_rgb.jpg': 0,\n",
              " '/content/Combine_storage_tank_test/tst_non_tgt/c_t_0007035_8_rgb.jpg': 0,\n",
              " '/content/Combine_storage_tank_test/tst_non_tgt/c_t_0005173_0_rgb.jpg': 0,\n",
              " '/content/Combine_storage_tank_test/tst_non_tgt/c_t_0006627_0_rgb.jpg': 0,\n",
              " '/content/Combine_storage_tank_test/tst_non_tgt/c_t_0005193_6_rgb.jpg': 0,\n",
              " '/content/Combine_storage_tank_test/tst_non_tgt/c_t_0005871_8_rgb.jpg': 0,\n",
              " '/content/Combine_storage_tank_test/tst_non_tgt/c_t_0000062_1_rgb.jpg': 0,\n",
              " '/content/Combine_storage_tank_test/tst_non_tgt/c_t_0006813_7_rgb.jpg': 0,\n",
              " '/content/Combine_storage_tank_test/tst_non_tgt/c_t_0006426_7_rgb.jpg': 0,\n",
              " '/content/Combine_storage_tank_test/tst_non_tgt/c_t_0005117_4_rgb.jpg': 0,\n",
              " '/content/Combine_storage_tank_test/tst_non_tgt/c_t_0003840_2_rgb.jpg': 0,\n",
              " '/content/Combine_storage_tank_test/tst_non_tgt/c_t_0008263_1_rgb.jpg': 0,\n",
              " '/content/Combine_storage_tank_test/tst_non_tgt/c_t_0000864_2_rgb.jpg': 0,\n",
              " '/content/Combine_storage_tank_test/tst_non_tgt/c_t_0004807_1_rgb.jpg': 0,\n",
              " '/content/Combine_storage_tank_test/tst_non_tgt/c_t_0009104_5_rgb.jpg': 0,\n",
              " '/content/Combine_storage_tank_test/tst_non_tgt/c_t_0006137_3_rgb.jpg': 0,\n",
              " '/content/Combine_storage_tank_test/tst_non_tgt/c_t_0009025_1_rgb.jpg': 0,\n",
              " '/content/Combine_storage_tank_test/tst_non_tgt/c_t_0007745_6_rgb.jpg': 0,\n",
              " '/content/Combine_storage_tank_test/tst_non_tgt/c_t_0001196_6_rgb.jpg': 0,\n",
              " '/content/Combine_storage_tank_test/tst_non_tgt/c_t_0004517_2_rgb.jpg': 0,\n",
              " '/content/Combine_storage_tank_test/tst_non_tgt/c_t_0009634_1_rgb.jpg': 0,\n",
              " '/content/Combine_storage_tank_test/tst_non_tgt/c_t_0007852_2_rgb.jpg': 0,\n",
              " '/content/Combine_storage_tank_test/tst_non_tgt/c_t_0007932_3_rgb.jpg': 0,\n",
              " '/content/Combine_storage_tank_test/tst_non_tgt/c_t_0000864_1_rgb.jpg': 0,\n",
              " '/content/Combine_storage_tank_test/tst_non_tgt/c_t_0007857_3_rgb.jpg': 0,\n",
              " '/content/Combine_storage_tank_test/tst_non_tgt/c_t_0004011_0_rgb.jpg': 0,\n",
              " '/content/Combine_storage_tank_test/tst_non_tgt/c_t_0008996_6_rgb.jpg': 0,\n",
              " '/content/Combine_storage_tank_test/tst_non_tgt/c_t_0010723_0_rgb.jpg': 0,\n",
              " '/content/Combine_storage_tank_test/tst_non_tgt/c_t_0001160_3_rgb.jpg': 0,\n",
              " '/content/Combine_storage_tank_test/tst_non_tgt/c_t_0003085_3_rgb.jpg': 0,\n",
              " '/content/Combine_storage_tank_test/tst_non_tgt/c_t_0000159_2_rgb.jpg': 0,\n",
              " '/content/Combine_storage_tank_test/tst_non_tgt/c_t_0000616_1_rgb.jpg': 0,\n",
              " '/content/Combine_storage_tank_test/tst_non_tgt/c_t_0010415_3_rgb.jpg': 0,\n",
              " '/content/Combine_storage_tank_test/tst_non_tgt/c_t_0000674_1_rgb.jpg': 0,\n",
              " '/content/Combine_storage_tank_test/tst_non_tgt/c_t_0007424_8_rgb.jpg': 0,\n",
              " '/content/Combine_storage_tank_test/tst_non_tgt/c_t_0008391_9_rgb.jpg': 0,\n",
              " '/content/Combine_storage_tank_test/tst_non_tgt/c_t_0000249_19_rgb.jpg': 0,\n",
              " '/content/Combine_storage_tank_test/tst_non_tgt/c_t_0007857_0_rgb.jpg': 0,\n",
              " '/content/Combine_storage_tank_test/tst_non_tgt/c_t_0007932_4_rgb.jpg': 0,\n",
              " '/content/Combine_storage_tank_test/tst_non_tgt/c_t_0009077_9_rgb.jpg': 0,\n",
              " '/content/Combine_storage_tank_test/tst_non_tgt/c_t_0005666_4_rgb.jpg': 0,\n",
              " '/content/Combine_storage_tank_test/tst_non_tgt/c_t_0010771_0_rgb.jpg': 0,\n",
              " '/content/Combine_storage_tank_test/tst_non_tgt/c_t_0002190_0_rgb.jpg': 0,\n",
              " '/content/Combine_storage_tank_test/tst_non_tgt/c_t_0006813_5_rgb.jpg': 0,\n",
              " '/content/Combine_storage_tank_test/tst_non_tgt/c_t_0002971_13_rgb.jpg': 0,\n",
              " '/content/Combine_storage_tank_test/tst_non_tgt/c_t_0000864_3_rgb.jpg': 0,\n",
              " '/content/Combine_storage_tank_test/tst_non_tgt/c_t_0003129_0_rgb.jpg': 0,\n",
              " '/content/Combine_storage_tank_test/tst_non_tgt/c_t_0011780_1_rgb.jpg': 0,\n",
              " '/content/Combine_storage_tank_test/tst_non_tgt/c_t_0003840_9_rgb.jpg': 0,\n",
              " '/content/Combine_storage_tank_test/tst_non_tgt/c_t_0009985_4_rgb.jpg': 0,\n",
              " '/content/Combine_storage_tank_test/tst_non_tgt/c_t_0010483_0_rgb.jpg': 0,\n",
              " '/content/Combine_storage_tank_test/tst_non_tgt/c_t_0005149_2_rgb.jpg': 0,\n",
              " '/content/Combine_storage_tank_test/tst_non_tgt/c_t_0008391_1_rgb.jpg': 0,\n",
              " '/content/Combine_storage_tank_test/tst_non_tgt/c_t_0005193_3_rgb.jpg': 0,\n",
              " '/content/Combine_storage_tank_test/tst_non_tgt/c_t_0004114_1_rgb.jpg': 0,\n",
              " '/content/Combine_storage_tank_test/tst_non_tgt/c_t_0001738_1_rgb.jpg': 0,\n",
              " '/content/Combine_storage_tank_test/tst_non_tgt/c_t_0000249_4_rgb.jpg': 0,\n",
              " '/content/Combine_storage_tank_test/tst_non_tgt/c_t_0003707_5_rgb.jpg': 0,\n",
              " '/content/Combine_storage_tank_test/tst_non_tgt/c_t_0000235_1_rgb.jpg': 0,\n",
              " '/content/Combine_storage_tank_test/tst_non_tgt/c_t_0007934_0_rgb.jpg': 0,\n",
              " '/content/Combine_storage_tank_test/tst_non_tgt/c_t_0010968_9_rgb.jpg': 0,\n",
              " '/content/Combine_storage_tank_test/tst_non_tgt/c_t_0009642_0_rgb.jpg': 0,\n",
              " '/content/Combine_storage_tank_test/tst_non_tgt/c_t_0010030_3_rgb.jpg': 0,\n",
              " '/content/Combine_storage_tank_test/tst_non_tgt/c_t_0008996_4_rgb.jpg': 0,\n",
              " '/content/Combine_storage_tank_test/tst_non_tgt/c_t_0001160_2_rgb.jpg': 0,\n",
              " '/content/Combine_storage_tank_test/tst_non_tgt/c_t_0010024_3_rgb.jpg': 0,\n",
              " '/content/Combine_storage_tank_test/tst_non_tgt/c_t_0003840_8_rgb.jpg': 0,\n",
              " '/content/Combine_storage_tank_test/tst_non_tgt/c_t_0011006_2_rgb.jpg': 0,\n",
              " '/content/Combine_storage_tank_test/tst_non_tgt/c_t_0006137_7_rgb.jpg': 0,\n",
              " '/content/Combine_storage_tank_test/tst_non_tgt/c_t_0008858_1_rgb.jpg': 0,\n",
              " '/content/Combine_storage_tank_test/tst_non_tgt/c_t_0009328_2_rgb.jpg': 0,\n",
              " '/content/Combine_storage_tank_test/tst_non_tgt/c_t_0009741_1_rgb.jpg': 0,\n",
              " '/content/Combine_storage_tank_test/tst_non_tgt/c_t_0011854_1_rgb.jpg': 0,\n",
              " '/content/Combine_storage_tank_test/tst_non_tgt/c_t_0003462_1_rgb.jpg': 0,\n",
              " '/content/Combine_storage_tank_test/tst_non_tgt/c_t_0002846_0_rgb.jpg': 0,\n",
              " '/content/Combine_storage_tank_test/tst_non_tgt/c_t_0005910_1_rgb.jpg': 0,\n",
              " '/content/Combine_storage_tank_test/tst_non_tgt/c_t_0005144_2_rgb.jpg': 0,\n",
              " '/content/Combine_storage_tank_test/tst_non_tgt/c_t_0002296_8_rgb.jpg': 0,\n",
              " '/content/Combine_storage_tank_test/tst_non_tgt/c_t_0009676_4_rgb.jpg': 0,\n",
              " '/content/Combine_storage_tank_test/tst_non_tgt/c_t_0002353_0_rgb.jpg': 0,\n",
              " '/content/Combine_storage_tank_test/tst_non_tgt/c_t_0003840_13_rgb.jpg': 0,\n",
              " '/content/Combine_storage_tank_test/tst_non_tgt/c_t_0007424_5_rgb.jpg': 0,\n",
              " '/content/Combine_storage_tank_test/tst_non_tgt/c_t_0004199_12_rgb.jpg': 0,\n",
              " '/content/Combine_storage_tank_test/tst_non_tgt/c_t_0001925_0_rgb.jpg': 0,\n",
              " '/content/Combine_storage_tank_test/tst_non_tgt/c_t_0009328_4_rgb.jpg': 0,\n",
              " '/content/Combine_storage_tank_test/tst_non_tgt/c_t_0008263_3_rgb.jpg': 0,\n",
              " '/content/Combine_storage_tank_test/tst_non_tgt/c_t_0002140_4_rgb.jpg': 0,\n",
              " '/content/Combine_storage_tank_test/tst_non_tgt/c_t_0006813_9_rgb.jpg': 0,\n",
              " '/content/Combine_storage_tank_test/tst_non_tgt/c_t_0006137_9_rgb.jpg': 0,\n",
              " '/content/Combine_storage_tank_test/tst_non_tgt/c_t_0003840_6_rgb.jpg': 0,\n",
              " '/content/Combine_storage_tank_test/tst_non_tgt/c_t_0007732_2_rgb.jpg': 0,\n",
              " '/content/Combine_storage_tank_test/tst_non_tgt/c_t_0011247_1_rgb.jpg': 0,\n",
              " '/content/Combine_storage_tank_test/tst_non_tgt/c_t_0010949_1_rgb.jpg': 0,\n",
              " '/content/Combine_storage_tank_test/tst_non_tgt/c_t_0003079_14_rgb.jpg': 0,\n",
              " '/content/Combine_storage_tank_test/tst_non_tgt/c_t_0003707_0_rgb.jpg': 0,\n",
              " '/content/Combine_storage_tank_test/tst_non_tgt/c_t_0002846_5_rgb.jpg': 0,\n",
              " '/content/Combine_storage_tank_test/tst_non_tgt/c_t_0005356_10_rgb.jpg': 0,\n",
              " '/content/Combine_storage_tank_test/tst_non_tgt/c_t_0002140_7_rgb.jpg': 0,\n",
              " '/content/Combine_storage_tank_test/tst_non_tgt/c_t_0000277_0_rgb.jpg': 0,\n",
              " '/content/Combine_storage_tank_test/tst_non_tgt/c_t_0003336_0_rgb.jpg': 0,\n",
              " '/content/Combine_storage_tank_test/tst_non_tgt/c_t_0005814_1_rgb.jpg': 0,\n",
              " '/content/Combine_storage_tank_test/tst_non_tgt/c_t_0003840_0_rgb.jpg': 0,\n",
              " '/content/Combine_storage_tank_test/tst_non_tgt/c_t_0009741_2_rgb.jpg': 0,\n",
              " '/content/Combine_storage_tank_test/tst_non_tgt/c_t_0004449_1_rgb.jpg': 0,\n",
              " '/content/Combine_storage_tank_test/tst_non_tgt/c_t_0007732_4_rgb.jpg': 0,\n",
              " '/content/Combine_storage_tank_test/tst_non_tgt/c_t_0000383_6_rgb.jpg': 0,\n",
              " '/content/Combine_storage_tank_test/tst_non_tgt/c_t_0004503_9_rgb.jpg': 0,\n",
              " '/content/Combine_storage_tank_test/tst_non_tgt/c_t_0009448_1_rgb.jpg': 0,\n",
              " '/content/Combine_storage_tank_test/tst_non_tgt/c_t_0005149_3_rgb.jpg': 0,\n",
              " '/content/Combine_storage_tank_test/tst_non_tgt/c_t_0001738_2_rgb.jpg': 0,\n",
              " '/content/Combine_storage_tank_test/tst_non_tgt/c_t_0010132_2_rgb.jpg': 0,\n",
              " '/content/Combine_storage_tank_test/tst_non_tgt/c_t_0006340_8_rgb.jpg': 0,\n",
              " '/content/Combine_storage_tank_test/tst_non_tgt/c_t_0003902_3_rgb.jpg': 0,\n",
              " '/content/Combine_storage_tank_test/tst_non_tgt/c_t_0007008_0_rgb.jpg': 0,\n",
              " '/content/Combine_storage_tank_test/tst_non_tgt/c_t_0007887_2_rgb.jpg': 0,\n",
              " '/content/Combine_storage_tank_test/tst_non_tgt/c_t_0007035_9_rgb.jpg': 0,\n",
              " '/content/Combine_storage_tank_test/tst_non_tgt/c_t_0003352_5_rgb.jpg': 0,\n",
              " '/content/Combine_storage_tank_test/tst_non_tgt/c_t_0009504_0_rgb.jpg': 0,\n",
              " '/content/Combine_storage_tank_test/tst_non_tgt/c_t_0003537_0_rgb.jpg': 0,\n",
              " '/content/Combine_storage_tank_test/tst_non_tgt/c_t_0010119_9_rgb.jpg': 0,\n",
              " '/content/Combine_storage_tank_test/tst_non_tgt/c_t_0007220_2_rgb.jpg': 0,\n",
              " '/content/Combine_storage_tank_test/tst_non_tgt/c_t_0011006_1_rgb.jpg': 0,\n",
              " '/content/Combine_storage_tank_test/tst_non_tgt/c_t_0011006_5_rgb.jpg': 0,\n",
              " '/content/Combine_storage_tank_test/tst_non_tgt/c_t_0009985_7_rgb.jpg': 0,\n",
              " '/content/Combine_storage_tank_test/tst_non_tgt/c_t_0002190_1_rgb.jpg': 0,\n",
              " '/content/Combine_storage_tank_test/tst_non_tgt/c_t_0009708_8_rgb.jpg': 0,\n",
              " '/content/Combine_storage_tank_test/tst_non_tgt/c_t_0001789_1_rgb.jpg': 0,\n",
              " '/content/Combine_storage_tank_test/tst_non_tgt/c_t_0010415_1_rgb.jpg': 0,\n",
              " '/content/Combine_storage_tank_test/tst_non_tgt/c_t_0000383_5_rgb.jpg': 0,\n",
              " '/content/Combine_storage_tank_test/tst_non_tgt/c_t_0008349_9_rgb.jpg': 0,\n",
              " '/content/Combine_storage_tank_test/tst_non_tgt/c_t_0004632_6_rgb.jpg': 0,\n",
              " '/content/Combine_storage_tank_test/tst_non_tgt/c_t_0006426_6_rgb.jpg': 0,\n",
              " '/content/Combine_storage_tank_test/tst_non_tgt/c_t_0001055_0_rgb.jpg': 0,\n",
              " '/content/Combine_storage_tank_test/tst_non_tgt/c_t_0003840_14_rgb.jpg': 0,\n",
              " '/content/Combine_storage_tank_test/tst_non_tgt/c_t_0006137_8_rgb.jpg': 0,\n",
              " '/content/Combine_storage_tank_test/tst_non_tgt/c_t_0005117_2_rgb.jpg': 0,\n",
              " '/content/Combine_storage_tank_test/tst_non_tgt/c_t_0003707_8_rgb.jpg': 0,\n",
              " '/content/Combine_storage_tank_test/tst_non_tgt/c_t_0010119_1_rgb.jpg': 0,\n",
              " '/content/Combine_storage_tank_test/tst_non_tgt/c_t_0002539_1_rgb.jpg': 0,\n",
              " '/content/Combine_storage_tank_test/tst_non_tgt/c_t_0011745_4_rgb.jpg': 0,\n",
              " '/content/Combine_storage_tank_test/tst_non_tgt/c_t_0011547_2_rgb.jpg': 0,\n",
              " '/content/Combine_storage_tank_test/tst_non_tgt/c_t_0005193_4_rgb.jpg': 0,\n",
              " '/content/Combine_storage_tank_test/tst_non_tgt/c_t_0009104_4_rgb.jpg': 0,\n",
              " '/content/Combine_storage_tank_test/tst_storage_tank/c_t_0008221_9_rgb.jpg': 0,\n",
              " '/content/Combine_storage_tank_test/tst_storage_tank/c_t_0000329_0_rgb.jpg': 0,\n",
              " '/content/Combine_storage_tank_test/tst_storage_tank/c_t_0001557_1_rgb.jpg': 0,\n",
              " '/content/Combine_storage_tank_test/tst_storage_tank/c_t_0010860_1_rgb.jpg': 0,\n",
              " '/content/Combine_storage_tank_test/tst_storage_tank/c_t_0000301_6_rgb.jpg': 0,\n",
              " '/content/Combine_storage_tank_test/tst_storage_tank/c_t_0007216_9_rgb.jpg': 0,\n",
              " '/content/Combine_storage_tank_test/tst_storage_tank/c_t_0001797_5_rgb.jpg': 0,\n",
              " '/content/Combine_storage_tank_test/tst_storage_tank/c_t_0004434_0_rgb.jpg': 0,\n",
              " '/content/Combine_storage_tank_test/tst_storage_tank/c_t_0009153_1_rgb.jpg': 0,\n",
              " '/content/Combine_storage_tank_test/tst_storage_tank/c_t_0001042_9_rgb.jpg': 0,\n",
              " '/content/Combine_storage_tank_test/tst_storage_tank/c_t_0010313_1_rgb.jpg': 0,\n",
              " '/content/Combine_storage_tank_test/tst_storage_tank/c_t_0000034_6_rgb.jpg': 0,\n",
              " '/content/Combine_storage_tank_test/tst_storage_tank/c_t_0007923_5_rgb.jpg': 0,\n",
              " '/content/Combine_storage_tank_test/tst_storage_tank/c_t_0010385_4_rgb.jpg': 0,\n",
              " '/content/Combine_storage_tank_test/tst_storage_tank/c_t_0003746_0_rgb.jpg': 0,\n",
              " '/content/Combine_storage_tank_test/tst_storage_tank/c_t_0002617_0_rgb.jpg': 0,\n",
              " '/content/Combine_storage_tank_test/tst_storage_tank/c_t_0001341_1_rgb.jpg': 0,\n",
              " '/content/Combine_storage_tank_test/tst_storage_tank/c_t_0004434_6_rgb.jpg': 0,\n",
              " '/content/Combine_storage_tank_test/tst_storage_tank/c_t_0000034_3_rgb.jpg': 0,\n",
              " '/content/Combine_storage_tank_test/tst_storage_tank/c_t_0006176_0_rgb.jpg': 0,\n",
              " '/content/Combine_storage_tank_test/tst_storage_tank/c_t_0003415_6_rgb.jpg': 0,\n",
              " '/content/Combine_storage_tank_test/tst_storage_tank/c_t_0010385_3_rgb.jpg': 0,\n",
              " '/content/Combine_storage_tank_test/tst_storage_tank/c_t_0010668_8_rgb.jpg': 0,\n",
              " '/content/Combine_storage_tank_test/tst_storage_tank/c_t_0006480_3_rgb.jpg': 0,\n",
              " '/content/Combine_storage_tank_test/tst_storage_tank/c_t_0002480_4_rgb.jpg': 0,\n",
              " '/content/Combine_storage_tank_test/tst_storage_tank/c_t_0004074_2_rgb.jpg': 0,\n",
              " '/content/Combine_storage_tank_test/tst_storage_tank/c_t_0010313_2_rgb.jpg': 0,\n",
              " '/content/Combine_storage_tank_test/tst_storage_tank/c_t_0003744_2_rgb.jpg': 0,\n",
              " '/content/Combine_storage_tank_test/tst_storage_tank/c_t_0007930_3_rgb.jpg': 0,\n",
              " '/content/Combine_storage_tank_test/tst_storage_tank/c_t_0001038_0_rgb.jpg': 0,\n",
              " '/content/Combine_storage_tank_test/tst_storage_tank/c_t_0002924_7_rgb.jpg': 0,\n",
              " '/content/Combine_storage_tank_test/tst_storage_tank/c_t_0004013_0_rgb.jpg': 0,\n",
              " '/content/Combine_storage_tank_test/tst_storage_tank/c_t_0004475_0_rgb.jpg': 0,\n",
              " '/content/Combine_storage_tank_test/tst_storage_tank/c_t_0003310_1_rgb.jpg': 0,\n",
              " '/content/Combine_storage_tank_test/tst_storage_tank/c_t_0010474_0_rgb.jpg': 0,\n",
              " '/content/Combine_storage_tank_test/tst_storage_tank/c_t_0006176_7_rgb.jpg': 0,\n",
              " '/content/Combine_storage_tank_test/tst_storage_tank/c_t_0004344_0_rgb.jpg': 0,\n",
              " '/content/Combine_storage_tank_test/tst_storage_tank/c_t_0000301_3_rgb.jpg': 0,\n",
              " '/content/Combine_storage_tank_test/tst_storage_tank/c_t_0002350_0_rgb.jpg': 0,\n",
              " '/content/Combine_storage_tank_test/tst_storage_tank/c_t_0000365_7_rgb.jpg': 0,\n",
              " '/content/Combine_storage_tank_test/tst_storage_tank/c_t_0011560_1_rgb.jpg': 0,\n",
              " '/content/Combine_storage_tank_test/tst_storage_tank/c_t_0004488_5_rgb.jpg': 0,\n",
              " '/content/Combine_storage_tank_test/tst_storage_tank/c_t_0003415_4_rgb.jpg': 0,\n",
              " '/content/Combine_storage_tank_test/tst_storage_tank/c_t_0003310_0_rgb.jpg': 0,\n",
              " '/content/Combine_storage_tank_test/tst_storage_tank/c_t_0008870_2_rgb.jpg': 0,\n",
              " '/content/Combine_storage_tank_test/tst_storage_tank/c_t_0001899_0_rgb.jpg': 0,\n",
              " '/content/Combine_storage_tank_test/tst_storage_tank/c_t_0009552_4_rgb.jpg': 0,\n",
              " '/content/Combine_storage_tank_test/tst_storage_tank/c_t_0002924_4_rgb.jpg': 0,\n",
              " '/content/Combine_storage_tank_test/tst_storage_tank/c_t_0006112_2_rgb.jpg': 0,\n",
              " '/content/Combine_storage_tank_test/tst_storage_tank/c_t_0009161_0_rgb.jpg': 0,\n",
              " '/content/Combine_storage_tank_test/tst_storage_tank/c_t_0010507_0_rgb.jpg': 0,\n",
              " '/content/Combine_storage_tank_test/tst_storage_tank/c_t_0007923_2_rgb.jpg': 0,\n",
              " '/content/Combine_storage_tank_test/tst_storage_tank/c_t_0002544_5_rgb.jpg': 0,\n",
              " '/content/Combine_storage_tank_test/tst_storage_tank/c_t_0000034_9_rgb.jpg': 0,\n",
              " '/content/Combine_storage_tank_test/tst_storage_tank/c_t_0011517_9_rgb.jpg': 0,\n",
              " '/content/Combine_storage_tank_test/tst_storage_tank/c_t_0003671_2_rgb.jpg': 0,\n",
              " '/content/Combine_storage_tank_test/tst_storage_tank/c_t_0001797_6_rgb.jpg': 0,\n",
              " '/content/Combine_storage_tank_test/tst_storage_tank/c_t_0001557_6_rgb.jpg': 0,\n",
              " '/content/Combine_storage_tank_test/tst_storage_tank/c_t_0011492_6_rgb.jpg': 0,\n",
              " '/content/Combine_storage_tank_test/tst_storage_tank/c_t_0004475_5_rgb.jpg': 0,\n",
              " '/content/Combine_storage_tank_test/tst_storage_tank/c_t_0001042_6_rgb.jpg': 0,\n",
              " '/content/Combine_storage_tank_test/tst_storage_tank/c_t_0011672_3_rgb.jpg': 0,\n",
              " '/content/Combine_storage_tank_test/tst_storage_tank/c_t_0008918_5_rgb.jpg': 0,\n",
              " '/content/Combine_storage_tank_test/tst_storage_tank/c_t_0006540_0_rgb.jpg': 0,\n",
              " '/content/Combine_storage_tank_test/tst_storage_tank/c_t_0000139_9_rgb.jpg': 0,\n",
              " '/content/Combine_storage_tank_test/tst_storage_tank/c_t_0002650_3_rgb.jpg': 0,\n",
              " '/content/Combine_storage_tank_test/tst_storage_tank/c_t_0011672_5_rgb.jpg': 0,\n",
              " '/content/Combine_storage_tank_test/tst_storage_tank/c_t_0007622_0_rgb.jpg': 0,\n",
              " '/content/Combine_storage_tank_test/tst_storage_tank/c_t_0008221_5_rgb.jpg': 0,\n",
              " '/content/Combine_storage_tank_test/tst_storage_tank/c_t_0008221_6_rgb.jpg': 0,\n",
              " '/content/Combine_storage_tank_test/tst_storage_tank/c_t_0003310_6_rgb.jpg': 0,\n",
              " '/content/Combine_storage_tank_test/tst_storage_tank/c_t_0002480_3_rgb.jpg': 0,\n",
              " '/content/Combine_storage_tank_test/tst_storage_tank/c_t_0010696_1_rgb.jpg': 0,\n",
              " '/content/Combine_storage_tank_test/tst_storage_tank/c_t_0002924_5_rgb.jpg': 0,\n",
              " '/content/Combine_storage_tank_test/tst_storage_tank/c_t_0003671_4_rgb.jpg': 0,\n",
              " '/content/Combine_storage_tank_test/tst_storage_tank/c_t_0003005_2_rgb.jpg': 0,\n",
              " '/content/Combine_storage_tank_test/tst_storage_tank/c_t_0000788_9_rgb.jpg': 0,\n",
              " '/content/Combine_storage_tank_test/tst_storage_tank/c_t_0002703_8_rgb.jpg': 0,\n",
              " '/content/Combine_storage_tank_test/tst_storage_tank/c_t_0007229_3_rgb.jpg': 0,\n",
              " '/content/Combine_storage_tank_test/tst_storage_tank/c_t_0006480_9_rgb.jpg': 0,\n",
              " '/content/Combine_storage_tank_test/tst_storage_tank/c_t_0000139_0_rgb.jpg': 0,\n",
              " '/content/Combine_storage_tank_test/tst_storage_tank/c_t_0008261_0_rgb.jpg': 0,\n",
              " '/content/Combine_storage_tank_test/tst_storage_tank/c_t_0007923_6_rgb.jpg': 0,\n",
              " '/content/Combine_storage_tank_test/tst_storage_tank/c_t_0011471_4_rgb.jpg': 0,\n",
              " '/content/Combine_storage_tank_test/tst_storage_tank/c_t_0001038_1_rgb.jpg': 0,\n",
              " '/content/Combine_storage_tank_test/tst_storage_tank/c_t_0003582_4_rgb.jpg': 0,\n",
              " '/content/Combine_storage_tank_test/tst_storage_tank/c_t_0008676_4_rgb.jpg': 0,\n",
              " '/content/Combine_storage_tank_test/tst_storage_tank/c_t_0003719_0_rgb.jpg': 0,\n",
              " '/content/Combine_storage_tank_test/tst_storage_tank/c_t_0006540_2_rgb.jpg': 0,\n",
              " '/content/Combine_storage_tank_test/tst_storage_tank/c_t_0002480_2_rgb.jpg': 0,\n",
              " '/content/Combine_storage_tank_test/tst_storage_tank/c_t_0003415_9_rgb.jpg': 0,\n",
              " '/content/Combine_storage_tank_test/tst_storage_tank/c_t_0004488_2_rgb.jpg': 0,\n",
              " '/content/Combine_storage_tank_test/tst_storage_tank/c_t_0007251_4_rgb.jpg': 0,\n",
              " '/content/Combine_storage_tank_test/tst_storage_tank/c_t_0010668_4_rgb.jpg': 0,\n",
              " '/content/Combine_storage_tank_test/tst_storage_tank/c_t_0010662_3_rgb.jpg': 0,\n",
              " '/content/Combine_storage_tank_test/tst_storage_tank/c_t_0006829_0_rgb.jpg': 0,\n",
              " '/content/Combine_storage_tank_test/tst_storage_tank/c_t_0011560_0_rgb.jpg': 0,\n",
              " '/content/Combine_storage_tank_test/tst_storage_tank/c_t_0011517_4_rgb.jpg': 0,\n",
              " '/content/Combine_storage_tank_test/tst_storage_tank/c_t_0009936_6_rgb.jpg': 1,\n",
              " '/content/Combine_storage_tank_test/tst_storage_tank/c_t_0006371_3_rgb.jpg': 0,\n",
              " '/content/Combine_storage_tank_test/tst_storage_tank/c_t_0009161_2_rgb.jpg': 0,\n",
              " '/content/Combine_storage_tank_test/tst_storage_tank/c_t_0004488_8_rgb.jpg': 0,\n",
              " '/content/Combine_storage_tank_test/tst_storage_tank/c_t_0011200_0_rgb.jpg': 0,\n",
              " '/content/Combine_storage_tank_test/tst_storage_tank/c_t_0006176_1_rgb.jpg': 0,\n",
              " '/content/Combine_storage_tank_test/tst_storage_tank/c_t_0002249_0_rgb.jpg': 0,\n",
              " '/content/Combine_storage_tank_test/tst_storage_tank/c_t_0003415_7_rgb.jpg': 0,\n",
              " '/content/Combine_storage_tank_test/tst_storage_tank/c_t_0001546_3_rgb.jpg': 0,\n",
              " '/content/Combine_storage_tank_test/tst_storage_tank/c_t_0003863_0_rgb.jpg': 0,\n",
              " '/content/Combine_storage_tank_test/tst_storage_tank/c_t_0004013_1_rgb.jpg': 0,\n",
              " '/content/Combine_storage_tank_test/tst_storage_tank/c_t_0005829_2_rgb.jpg': 0,\n",
              " '/content/Combine_storage_tank_test/tst_storage_tank/c_t_0000780_3_rgb.jpg': 0,\n",
              " '/content/Combine_storage_tank_test/tst_storage_tank/c_t_0007216_1_rgb.jpg': 0,\n",
              " '/content/Combine_storage_tank_test/tst_storage_tank/c_t_0011350_2_rgb.jpg': 0,\n",
              " '/content/Combine_storage_tank_test/tst_storage_tank/c_t_0000553_3_rgb.jpg': 0,\n",
              " '/content/Combine_storage_tank_test/tst_storage_tank/c_t_0005829_0_rgb.jpg': 0,\n",
              " '/content/Combine_storage_tank_test/tst_storage_tank/c_t_0002544_2_rgb.jpg': 0,\n",
              " '/content/Combine_storage_tank_test/tst_storage_tank/c_t_0010696_3_rgb.jpg': 0,\n",
              " '/content/Combine_storage_tank_test/tst_storage_tank/c_t_0008985_0_rgb.jpg': 0,\n",
              " '/content/Combine_storage_tank_test/tst_storage_tank/c_t_0000139_7_rgb.jpg': 0,\n",
              " '/content/Combine_storage_tank_test/tst_storage_tank/c_t_0005245_0_rgb.jpg': 0,\n",
              " '/content/Combine_storage_tank_test/tst_storage_tank/c_t_0000365_6_rgb.jpg': 0,\n",
              " '/content/Combine_storage_tank_test/tst_storage_tank/c_t_0002111_0_rgb.jpg': 0,\n",
              " '/content/Combine_storage_tank_test/tst_storage_tank/c_t_0002111_9_rgb.jpg': 0,\n",
              " '/content/Combine_storage_tank_test/tst_storage_tank/c_t_0002270_4_rgb.jpg': 0,\n",
              " '/content/Combine_storage_tank_test/tst_storage_tank/c_t_0004231_0_rgb.jpg': 0,\n",
              " '/content/Combine_storage_tank_test/tst_storage_tank/c_t_0005591_5_rgb.jpg': 0,\n",
              " '/content/Combine_storage_tank_test/tst_storage_tank/c_t_0003360_2_rgb.jpg': 0,\n",
              " '/content/Combine_storage_tank_test/tst_storage_tank/c_t_0010833_2_rgb.jpg': 0,\n",
              " '/content/Combine_storage_tank_test/tst_storage_tank/c_t_0008123_1_rgb.jpg': 0,\n",
              " '/content/Combine_storage_tank_test/tst_storage_tank/c_t_0004488_9_rgb.jpg': 0,\n",
              " '/content/Combine_storage_tank_test/tst_storage_tank/c_t_0004488_1_rgb.jpg': 0,\n",
              " '/content/Combine_storage_tank_test/tst_storage_tank/c_t_0004475_3_rgb.jpg': 0,\n",
              " '/content/Combine_storage_tank_test/tst_storage_tank/c_t_0004434_9_rgb.jpg': 0,\n",
              " '/content/Combine_storage_tank_test/tst_storage_tank/c_t_0005591_3_rgb.jpg': 0,\n",
              " ...}"
            ]
          },
          "metadata": {
            "tags": []
          },
          "execution_count": 44
        }
      ]
    },
    {
      "cell_type": "code",
      "metadata": {
        "id": "vdJgbLScDaQr",
        "colab_type": "code",
        "cellView": "both",
        "colab": {}
      },
      "source": [
        "from keras.preprocessing import image"
      ],
      "execution_count": null,
      "outputs": []
    },
    {
      "cell_type": "code",
      "metadata": {
        "id": "YJ9pVKoI-IYy",
        "colab_type": "code",
        "cellView": "both",
        "colab": {
          "base_uri": "https://localhost:8080/",
          "height": 241
        },
        "outputId": "1204f24d-1e6e-4deb-e4d3-477889383610"
      },
      "source": [
        "test_image = image.load_img(test_files[45], target_size= (IMG_RES, IMG_RES))\n",
        "test_image"
      ],
      "execution_count": null,
      "outputs": [
        {
          "output_type": "execute_result",
          "data": {
            "image/png": "[encoded data removed]",
            "text/plain": [
              "<PIL.Image.Image image mode=RGB size=224x224 at 0x7FDDA57D1860>"
            ]
          },
          "metadata": {
            "tags": []
          },
          "execution_count": 51
        }
      ]
    },
    {
      "cell_type": "code",
      "metadata": {
        "id": "hTcrDQUr-WHs",
        "colab_type": "code",
        "colab": {}
      },
      "source": [
        "test_image = image.img_to_array(test_image)\n",
        "test_image"
      ],
      "execution_count": null,
      "outputs": []
    },
    {
      "cell_type": "code",
      "metadata": {
        "id": "zRGaOEVNEDGR",
        "colab_type": "code",
        "colab": {}
      },
      "source": [
        "test_image = np.expand_dims(test_image, axis = 0)\n",
        "test_image"
      ],
      "execution_count": null,
      "outputs": []
    },
    {
      "cell_type": "code",
      "metadata": {
        "id": "140WDWpF-DO0",
        "colab_type": "code",
        "colab": {
          "base_uri": "https://localhost:8080/",
          "height": 34
        },
        "outputId": "5f268a08-378c-4ec4-d026-ce57d3896d44"
      },
      "source": [
        "result = reloaded.predict(test_image)\n",
        "result"
      ],
      "execution_count": null,
      "outputs": [
        {
          "output_type": "execute_result",
          "data": {
            "text/plain": [
              "array([[0., 1.]], dtype=float32)"
            ]
          },
          "metadata": {
            "tags": []
          },
          "execution_count": 49
        }
      ]
    },
    {
      "cell_type": "code",
      "metadata": {
        "id": "vzhMmuhUJwlN",
        "colab_type": "code",
        "colab": {
          "base_uri": "https://localhost:8080/",
          "height": 34
        },
        "outputId": "2ce41970-2897-482c-feb2-2e9ef17686ad"
      },
      "source": [
        " result1 = tf.squeeze(result).numpy()\n",
        " result1"
      ],
      "execution_count": null,
      "outputs": [
        {
          "output_type": "execute_result",
          "data": {
            "text/plain": [
              "array([0., 1.], dtype=float32)"
            ]
          },
          "metadata": {
            "tags": []
          },
          "execution_count": 93
        }
      ]
    },
    {
      "cell_type": "code",
      "metadata": {
        "id": "QlSxwdhi-gh7",
        "colab_type": "code",
        "colab": {
          "base_uri": "https://localhost:8080/",
          "height": 34
        },
        "outputId": "065d9bd4-45ae-4ae9-bd5e-d94cb8b8740f"
      },
      "source": [
        "result1 = np.argmax(result1, axis=-1)\n",
        "result1"
      ],
      "execution_count": null,
      "outputs": [
        {
          "output_type": "execute_result",
          "data": {
            "text/plain": [
              "1"
            ]
          },
          "metadata": {
            "tags": []
          },
          "execution_count": 94
        }
      ]
    },
    {
      "cell_type": "code",
      "metadata": {
        "id": "Y9su00WU97It",
        "colab_type": "code",
        "colab": {
          "base_uri": "https://localhost:8080/",
          "height": 34
        },
        "outputId": "121326ea-c3d5-42fa-b1a2-8f103896547f"
      },
      "source": [
        "b = np.argmax(([1650.6642, 1146.8196]), axis=-1)\n",
        "b"
      ],
      "execution_count": null,
      "outputs": [
        {
          "output_type": "execute_result",
          "data": {
            "text/plain": [
              "0"
            ]
          },
          "metadata": {
            "tags": []
          },
          "execution_count": 95
        }
      ]
    },
    {
      "cell_type": "code",
      "metadata": {
        "id": "9HrvqSPRcPEB",
        "colab_type": "code",
        "colab": {
          "base_uri": "https://localhost:8080/",
          "height": 34
        },
        "outputId": "c6c68098-debd-4be7-ab64-b5e3de0cd70b"
      },
      "source": [
        "type(out_list)"
      ],
      "execution_count": null,
      "outputs": [
        {
          "output_type": "execute_result",
          "data": {
            "text/plain": [
              "dict"
            ]
          },
          "metadata": {
            "tags": []
          },
          "execution_count": 96
        }
      ]
    },
    {
      "cell_type": "code",
      "metadata": {
        "id": "FyKUTxdi31Mv",
        "colab_type": "code",
        "cellView": "both",
        "colab": {}
      },
      "source": [
        "# Out_list with TF function and softmax activation on output layer\n",
        "out_list"
      ],
      "execution_count": null,
      "outputs": []
    },
    {
      "cell_type": "markdown",
      "metadata": {
        "id": "FZrMUg18bo1R",
        "colab_type": "text"
      },
      "source": [
        "## Pandas DF For Reference\n",
        "\n",
        "---\n",
        "\n",
        "\n",
        "*Thanks to [PurpleDin0](https://github.com/PurpleDin0) and [jeffpier](https://github.com/jeffpier) for the prediction decoder loop to Pandas dataframe below. Thier full code can be found on GitHub [here.](https://github.com/PurpleDin0/CNN-exercise/blob/master/MST698S_BOG_CNN_exercise-execution_notebook.ipynb)*"
      ]
    },
    {
      "cell_type": "code",
      "metadata": {
        "id": "1rDRMrlrV2ER",
        "colab_type": "code",
        "colab": {}
      },
      "source": [
        "import pandas as pd\n",
        "#pd.DataFrame(out_list)\n",
        "out_list_fixed = {}\n",
        "out_list_actual = {}\n",
        "for i, key in enumerate(out_list):\n",
        "    out_list_fixed[key] = int(out_list[key]) #converts the tank predication to an integer\n",
        "    if '/tst_non_tgt/' in key:\n",
        "        out_list_actual[key] = 0\n",
        "    elif '/tst_storage_tank/' in key:\n",
        "        out_list_actual[key] = 1\n",
        "    else:\n",
        "      print('SOMETHING BROKE ... WHAT DID YOU DO!')\n",
        "df_predicted = pd.DataFrame.from_dict(out_list_fixed, orient='index', columns=['predicted'])\n",
        "df_actual = pd.DataFrame.from_dict(out_list_actual, orient='index', columns=['actual'])"
      ],
      "execution_count": 46,
      "outputs": []
    },
    {
      "cell_type": "code",
      "metadata": {
        "id": "D6DyC53XR8AA",
        "colab_type": "code",
        "colab": {
          "base_uri": "https://localhost:8080/",
          "height": 391
        },
        "outputId": "6d4f6f68-77b1-40f2-935c-62080292093a"
      },
      "source": [
        "df_results = pd.concat([df_predicted, df_actual], axis=1)\n",
        "df_results"
      ],
      "execution_count": 49,
      "outputs": [
        {
          "output_type": "execute_result",
          "data": {
            "text/html": [
              "<div>\n",
              "<style scoped>\n",
              "    .dataframe tbody tr th:only-of-type {\n",
              "        vertical-align: middle;\n",
              "    }\n",
              "\n",
              "    .dataframe tbody tr th {\n",
              "        vertical-align: top;\n",
              "    }\n",
              "\n",
              "    .dataframe thead th {\n",
              "        text-align: right;\n",
              "    }\n",
              "</style>\n",
              "<table border=\"1\" class=\"dataframe\">\n",
              "  <thead>\n",
              "    <tr style=\"text-align: right;\">\n",
              "      <th></th>\n",
              "      <th>predicted</th>\n",
              "      <th>actual</th>\n",
              "    </tr>\n",
              "  </thead>\n",
              "  <tbody>\n",
              "    <tr>\n",
              "      <th>/content/Combine_storage_tank_test/tst_non_tgt/c_t_0009676_9_rgb.jpg</th>\n",
              "      <td>0</td>\n",
              "      <td>0</td>\n",
              "    </tr>\n",
              "    <tr>\n",
              "      <th>/content/Combine_storage_tank_test/tst_non_tgt/c_t_0004301_0_rgb.jpg</th>\n",
              "      <td>0</td>\n",
              "      <td>0</td>\n",
              "    </tr>\n",
              "    <tr>\n",
              "      <th>/content/Combine_storage_tank_test/tst_non_tgt/c_t_0002543_0_rgb.jpg</th>\n",
              "      <td>0</td>\n",
              "      <td>0</td>\n",
              "    </tr>\n",
              "    <tr>\n",
              "      <th>/content/Combine_storage_tank_test/tst_non_tgt/c_t_0011684_0_rgb.jpg</th>\n",
              "      <td>0</td>\n",
              "      <td>0</td>\n",
              "    </tr>\n",
              "    <tr>\n",
              "      <th>/content/Combine_storage_tank_test/tst_non_tgt/c_t_0006754_0_rgb.jpg</th>\n",
              "      <td>0</td>\n",
              "      <td>0</td>\n",
              "    </tr>\n",
              "    <tr>\n",
              "      <th>...</th>\n",
              "      <td>...</td>\n",
              "      <td>...</td>\n",
              "    </tr>\n",
              "    <tr>\n",
              "      <th>/content/Combine_storage_tank_test/tst_storage_tank/c_t_0009936_2_rgb.jpg</th>\n",
              "      <td>0</td>\n",
              "      <td>1</td>\n",
              "    </tr>\n",
              "    <tr>\n",
              "      <th>/content/Combine_storage_tank_test/tst_storage_tank/c_t_0002375_0_rgb.jpg</th>\n",
              "      <td>0</td>\n",
              "      <td>1</td>\n",
              "    </tr>\n",
              "    <tr>\n",
              "      <th>/content/Combine_storage_tank_test/tst_storage_tank/c_t_0010668_3_rgb.jpg</th>\n",
              "      <td>0</td>\n",
              "      <td>1</td>\n",
              "    </tr>\n",
              "    <tr>\n",
              "      <th>/content/Combine_storage_tank_test/tst_storage_tank/c_t_0009355_0_rgb.jpg</th>\n",
              "      <td>0</td>\n",
              "      <td>1</td>\n",
              "    </tr>\n",
              "    <tr>\n",
              "      <th>/content/Combine_storage_tank_test/tst_storage_tank/c_t_0008863_3_rgb.jpg</th>\n",
              "      <td>0</td>\n",
              "      <td>1</td>\n",
              "    </tr>\n",
              "  </tbody>\n",
              "</table>\n",
              "<p>1589 rows × 2 columns</p>\n",
              "</div>"
            ],
            "text/plain": [
              "                                                    predicted  actual\n",
              "/content/Combine_storage_tank_test/tst_non_tgt/...          0       0\n",
              "/content/Combine_storage_tank_test/tst_non_tgt/...          0       0\n",
              "/content/Combine_storage_tank_test/tst_non_tgt/...          0       0\n",
              "/content/Combine_storage_tank_test/tst_non_tgt/...          0       0\n",
              "/content/Combine_storage_tank_test/tst_non_tgt/...          0       0\n",
              "...                                                       ...     ...\n",
              "/content/Combine_storage_tank_test/tst_storage_...          0       1\n",
              "/content/Combine_storage_tank_test/tst_storage_...          0       1\n",
              "/content/Combine_storage_tank_test/tst_storage_...          0       1\n",
              "/content/Combine_storage_tank_test/tst_storage_...          0       1\n",
              "/content/Combine_storage_tank_test/tst_storage_...          0       1\n",
              "\n",
              "[1589 rows x 2 columns]"
            ]
          },
          "metadata": {
            "tags": []
          },
          "execution_count": 49
        }
      ]
    },
    {
      "cell_type": "markdown",
      "metadata": {
        "id": "QEHLR2GPbuP4",
        "colab_type": "text"
      },
      "source": [
        "## MCC Calculation"
      ]
    },
    {
      "cell_type": "code",
      "metadata": {
        "id": "5uw1SHtDS8VW",
        "colab_type": "code",
        "colab": {}
      },
      "source": [
        "#Import the required functions\n",
        "from sklearn.metrics import confusion_matrix, matthews_corrcoef\n",
        "import math"
      ],
      "execution_count": 50,
      "outputs": []
    },
    {
      "cell_type": "code",
      "metadata": {
        "id": "OtmwFssJTBxG",
        "colab_type": "code",
        "colab": {
          "base_uri": "https://localhost:8080/",
          "height": 131
        },
        "outputId": "4b434267-b028-467b-8c33-4b5b230255a3"
      },
      "source": [
        "#Build the confusion matrix\n",
        "matrix = confusion_matrix(df_results.actual.values.tolist(), df_results.predicted.values.tolist())\n",
        "print(f'Confustion Matrix\\n {matrix}\\n')\n",
        "\n",
        "# Print MCC\n",
        "MCC = matthews_corrcoef(df_results.actual.values.tolist(), df_results.predicted.values.tolist())\n",
        "print(f'\\nMCC:\\n{MCC}')\n"
      ],
      "execution_count": 51,
      "outputs": [
        {
          "output_type": "stream",
          "text": [
            "Confustion Matrix\n",
            " [[866   0]\n",
            " [720   3]]\n",
            "\n",
            "\n",
            "MCC:\n",
            "0.04759911008744184\n"
          ],
          "name": "stdout"
        }
      ]
    },
    {
      "cell_type": "code",
      "metadata": {
        "id": "HrjLCx1ok9Iu",
        "colab_type": "code",
        "colab": {
          "base_uri": "https://localhost:8080/",
          "height": 87
        },
        "outputId": "194d37ec-c33d-419f-cfb4-1cd0c9707f1b"
      },
      "source": [
        "TP = matrix[0][0]\n",
        "TN = matrix[1][1]\n",
        "FP = matrix[0][1]\n",
        "FN = matrix[1][0]\n",
        "print(f'Not_Tank | Tank')\n",
        "print('='*20)\n",
        "print(f'TP: {TP} | FP: {FP}')\n",
        "print(f'FN: {FN} | TN: {TN}')"
      ],
      "execution_count": null,
      "outputs": [
        {
          "output_type": "stream",
          "text": [
            "Not_Tank | Tank\n",
            "====================\n",
            "TP: 1 | FP: 566\n",
            "FN: 0 | TN: 866\n"
          ],
          "name": "stdout"
        }
      ]
    },
    {
      "cell_type": "markdown",
      "metadata": {
        "id": "jW4Egaeipgi0",
        "colab_type": "text"
      },
      "source": [
        "Calculate MCC by hand"
      ]
    },
    {
      "cell_type": "markdown",
      "metadata": {
        "id": "8wSkyztGl791",
        "colab_type": "text"
      },
      "source": [
        "![alt text](https://miro.medium.com/max/1400/1*8E2rPn_ccOqGuPYj1gBTAg.png\n",
        ")"
      ]
    },
    {
      "cell_type": "code",
      "metadata": {
        "id": "YJo1rd7TnWTw",
        "colab_type": "code",
        "colab": {
          "base_uri": "https://localhost:8080/",
          "height": 34
        },
        "outputId": "a2d8efa2-4a53-4451-8498-3df539b69930"
      },
      "source": [
        "MCC_calc = (TP*TN - FP*FN)/(math.sqrt((TP+FP)*(TP+FN)*(TN+FP)*(TN+FN)))\n",
        "print(f'Difference between Sklearn MCC and manual MCC = {MCC_calc - MCC}')"
      ],
      "execution_count": null,
      "outputs": [
        {
          "output_type": "stream",
          "text": [
            "Difference between Sklearn MCC and manual MCC = 0.0\n"
          ],
          "name": "stdout"
        }
      ]
    },
    {
      "cell_type": "markdown",
      "metadata": {
        "id": "EyeHz3mTFla6",
        "colab_type": "text"
      },
      "source": [
        "# Stats Tracker\n",
        "\n",
        "---\n",
        "\n"
      ]
    },
    {
      "cell_type": "code",
      "metadata": {
        "colab_type": "code",
        "id": "iVGGv-HM7YaI",
        "colab": {
          "base_uri": "https://localhost:8080/",
          "height": 105
        },
        "outputId": "a98a0ac9-b668-418d-f144-3f67c64a8645"
      },
      "source": [
        "tng_stats.drop_duplicates"
      ],
      "execution_count": null,
      "outputs": [
        {
          "output_type": "execute_result",
          "data": {
            "text/plain": [
              "<bound method DataFrame.drop_duplicates of    Unnamed: 0  batch  epochs  ...  tng_acc  val_acc  total_tng_time\n",
              "0           0    100      30  ...   0.2998   0.3327            4:15\n",
              "1           1    100      30  ...   0.2998   0.3327            4:15\n",
              "\n",
              "[2 rows x 8 columns]>"
            ]
          },
          "metadata": {
            "tags": []
          },
          "execution_count": 152
        }
      ]
    },
    {
      "cell_type": "code",
      "metadata": {
        "id": "cdxqEni2D4or",
        "colab_type": "code",
        "colab": {
          "base_uri": "https://localhost:8080/",
          "height": 34
        },
        "outputId": "3368d8ca-f4ee-480d-c7c0-9ffbdad834c5"
      },
      "source": [
        "import math\n",
        "\n",
        "tng_time = [5794, 351, 352, 351, 346, 354, 350, 357, 348, 360, 350, 354, 347, 351, 352, 354, 345, 361, 342, 369, 355, 347, 350, 354, 361, 346, 355,347]\n",
        "t_time = round(sum(tng_time)/60/60, 2)\n",
        "\n",
        "hr = math.floor(t_time)\n",
        "m = round((t_time - hr)*60)\n",
        "m = '%02d' % m\n",
        "\n",
        "train_time = str(hr) + ':' + m\n",
        "print(f'Total Training Time: {train_time}')"
      ],
      "execution_count": null,
      "outputs": [
        {
          "output_type": "stream",
          "text": [
            "Total Training Time: 4:15\n"
          ],
          "name": "stdout"
        }
      ]
    },
    {
      "cell_type": "code",
      "metadata": {
        "id": "F-Qrpw_C-nnC",
        "colab_type": "code",
        "colab": {
          "base_uri": "https://localhost:8080/",
          "height": 87
        },
        "outputId": "1d31d8d5-4dbc-4caa-a6e1-199ee54f4670"
      },
      "source": [
        "tng_loss = round(history.history['loss'][len(history.history)], 4)\n",
        "val_loss = round(history.history['val_loss'][len(history.history)], 4)\n",
        "\n",
        "print(f'Train Loss: {tng_loss}')\n",
        "print(f'Val Loss: {val_loss}')\n",
        "\n",
        "tng_acc = round(history.history['accuracy'][len(history.history)], 4)\n",
        "val_acc = round(history.history['val_accuracy'][len(history.history)], 4)\n",
        "\n",
        "print(f'Train Accuracy: {tng_acc}')\n",
        "print(f'Val Accuracy: {val_acc}')"
      ],
      "execution_count": null,
      "outputs": [
        {
          "output_type": "stream",
          "text": [
            "Train Loss: 0.5878\n",
            "Val Loss: 0.6212\n",
            "Train Accuracy: 0.2998\n",
            "Val Accuracy: 0.3327\n"
          ],
          "name": "stdout"
        }
      ]
    },
    {
      "cell_type": "code",
      "metadata": {
        "id": "S_UEgQeuNmsR",
        "colab_type": "code",
        "colab": {}
      },
      "source": [
        "import pandas as pd\n",
        "import numpy as np"
      ],
      "execution_count": null,
      "outputs": []
    },
    {
      "cell_type": "markdown",
      "metadata": {
        "id": "Ss4K9naZTEtS",
        "colab_type": "text"
      },
      "source": [
        "Export DF to CSV\n",
        "\n",
        "---\n",
        "https://towardsdatascience.com/how-to-export-pandas-dataframe-to-csv-2038e43d9c03\n",
        "\n",
        "`df.to_csv('file_name.csv')`\n",
        "\n",
        "`df.to_csv('file_name.csv', encoding='utf-8')`\n",
        "\n",
        "`df.to_csv('file_name.csv', index=False)` Example: `df.to_csv('C:/Users/abc/Desktop/file_name.csv')`\n"
      ]
    },
    {
      "cell_type": "markdown",
      "metadata": {
        "id": "Nt74CvsnV98p",
        "colab_type": "text"
      },
      "source": [
        "### Create the Training Stats Tracker"
      ]
    },
    {
      "cell_type": "code",
      "metadata": {
        "id": "BhgDdNfnNxrC",
        "colab_type": "code",
        "colab": {
          "base_uri": "https://localhost:8080/",
          "height": 77
        },
        "outputId": "b93ec1b6-37b8-4c91-84d6-1d25eeb30c73"
      },
      "source": [
        "testdf = pd.DataFrame(np.array([[BATCH_SIZE, EPOCHS, tng_loss, val_loss, tng_acc, val_acc, train_time]]), columns=['batch', 'epochs', 'tng_loss', 'test_loss', 'tng_acc', 'val_acc', 'total_tng_time'])\n",
        "testdf"
      ],
      "execution_count": null,
      "outputs": [
        {
          "output_type": "execute_result",
          "data": {
            "text/html": [
              "<div>\n",
              "<style scoped>\n",
              "    .dataframe tbody tr th:only-of-type {\n",
              "        vertical-align: middle;\n",
              "    }\n",
              "\n",
              "    .dataframe tbody tr th {\n",
              "        vertical-align: top;\n",
              "    }\n",
              "\n",
              "    .dataframe thead th {\n",
              "        text-align: right;\n",
              "    }\n",
              "</style>\n",
              "<table border=\"1\" class=\"dataframe\">\n",
              "  <thead>\n",
              "    <tr style=\"text-align: right;\">\n",
              "      <th></th>\n",
              "      <th>batch</th>\n",
              "      <th>epochs</th>\n",
              "      <th>tng_loss</th>\n",
              "      <th>test_loss</th>\n",
              "      <th>tng_acc</th>\n",
              "      <th>val_acc</th>\n",
              "      <th>total_tng_time</th>\n",
              "    </tr>\n",
              "  </thead>\n",
              "  <tbody>\n",
              "    <tr>\n",
              "      <th>0</th>\n",
              "      <td>100</td>\n",
              "      <td>30</td>\n",
              "      <td>0.5878</td>\n",
              "      <td>0.6212</td>\n",
              "      <td>0.2998</td>\n",
              "      <td>0.3327</td>\n",
              "      <td>4:15</td>\n",
              "    </tr>\n",
              "  </tbody>\n",
              "</table>\n",
              "</div>"
            ],
            "text/plain": [
              "  batch epochs tng_loss test_loss tng_acc val_acc total_tng_time\n",
              "0   100     30   0.5878    0.6212  0.2998  0.3327           4:15"
            ]
          },
          "metadata": {
            "tags": []
          },
          "execution_count": 134
        }
      ]
    },
    {
      "cell_type": "markdown",
      "metadata": {
        "id": "b2XTOinrWTEg",
        "colab_type": "text"
      },
      "source": [
        "### Add Stats to Training Tracker\n"
      ]
    },
    {
      "cell_type": "code",
      "metadata": {
        "id": "UjaGJeAFRxxi",
        "colab_type": "code",
        "colab": {
          "base_uri": "https://localhost:8080/",
          "height": 107
        },
        "outputId": "38566674-8930-4efc-eeaf-3208e580c503"
      },
      "source": [
        "testdf.loc[len(testdf)] = [BATCH_SIZE, EPOCHS, tng_loss, val_loss, tng_acc, val_acc, train_time]\n",
        "testdf"
      ],
      "execution_count": null,
      "outputs": [
        {
          "output_type": "execute_result",
          "data": {
            "text/html": [
              "<div>\n",
              "<style scoped>\n",
              "    .dataframe tbody tr th:only-of-type {\n",
              "        vertical-align: middle;\n",
              "    }\n",
              "\n",
              "    .dataframe tbody tr th {\n",
              "        vertical-align: top;\n",
              "    }\n",
              "\n",
              "    .dataframe thead th {\n",
              "        text-align: right;\n",
              "    }\n",
              "</style>\n",
              "<table border=\"1\" class=\"dataframe\">\n",
              "  <thead>\n",
              "    <tr style=\"text-align: right;\">\n",
              "      <th></th>\n",
              "      <th>batch</th>\n",
              "      <th>epochs</th>\n",
              "      <th>tng_loss</th>\n",
              "      <th>test_loss</th>\n",
              "      <th>tng_acc</th>\n",
              "      <th>val_acc</th>\n",
              "      <th>total_tng_time</th>\n",
              "    </tr>\n",
              "  </thead>\n",
              "  <tbody>\n",
              "    <tr>\n",
              "      <th>0</th>\n",
              "      <td>100</td>\n",
              "      <td>30</td>\n",
              "      <td>0.5878</td>\n",
              "      <td>0.6212</td>\n",
              "      <td>0.2998</td>\n",
              "      <td>0.3327</td>\n",
              "      <td>4:15</td>\n",
              "    </tr>\n",
              "    <tr>\n",
              "      <th>1</th>\n",
              "      <td>100</td>\n",
              "      <td>30</td>\n",
              "      <td>0.5878</td>\n",
              "      <td>0.6212</td>\n",
              "      <td>0.2998</td>\n",
              "      <td>0.3327</td>\n",
              "      <td>4:15</td>\n",
              "    </tr>\n",
              "  </tbody>\n",
              "</table>\n",
              "</div>"
            ],
            "text/plain": [
              "  batch epochs tng_loss test_loss tng_acc val_acc total_tng_time\n",
              "0   100     30   0.5878    0.6212  0.2998  0.3327           4:15\n",
              "1   100     30   0.5878    0.6212  0.2998  0.3327           4:15"
            ]
          },
          "metadata": {
            "tags": []
          },
          "execution_count": 135
        }
      ]
    },
    {
      "cell_type": "markdown",
      "metadata": {
        "id": "tY1iKaFtWidc",
        "colab_type": "text"
      },
      "source": [
        "Write Training Stats to Folder"
      ]
    },
    {
      "cell_type": "code",
      "metadata": {
        "id": "Rutl0mxcR-5g",
        "colab_type": "code",
        "colab": {}
      },
      "source": [
        "file_name = r'/content/drive/My Drive/Colab Notebooks/Thesis Resources/training_stats_Actual.csv'\n",
        "testdf.to_csv(file_name)"
      ],
      "execution_count": null,
      "outputs": []
    },
    {
      "cell_type": "markdown",
      "metadata": {
        "id": "E3OvZlYpWNr5",
        "colab_type": "text"
      },
      "source": [
        "Read In Trianing Tracker CSV"
      ]
    },
    {
      "cell_type": "code",
      "metadata": {
        "id": "toEYh21zUUia",
        "colab_type": "code",
        "colab": {
          "base_uri": "https://localhost:8080/",
          "height": 107
        },
        "outputId": "8e7479a3-2edc-49d5-a673-162d14dcd026"
      },
      "source": [
        "tng_stats = pd.read_csv(file_name)\n",
        "tng_stats "
      ],
      "execution_count": null,
      "outputs": [
        {
          "output_type": "execute_result",
          "data": {
            "text/html": [
              "<div>\n",
              "<style scoped>\n",
              "    .dataframe tbody tr th:only-of-type {\n",
              "        vertical-align: middle;\n",
              "    }\n",
              "\n",
              "    .dataframe tbody tr th {\n",
              "        vertical-align: top;\n",
              "    }\n",
              "\n",
              "    .dataframe thead th {\n",
              "        text-align: right;\n",
              "    }\n",
              "</style>\n",
              "<table border=\"1\" class=\"dataframe\">\n",
              "  <thead>\n",
              "    <tr style=\"text-align: right;\">\n",
              "      <th></th>\n",
              "      <th>Unnamed: 0</th>\n",
              "      <th>batch</th>\n",
              "      <th>epochs</th>\n",
              "      <th>tng_loss</th>\n",
              "      <th>test_loss</th>\n",
              "      <th>tng_acc</th>\n",
              "      <th>val_acc</th>\n",
              "      <th>total_tng_time</th>\n",
              "    </tr>\n",
              "  </thead>\n",
              "  <tbody>\n",
              "    <tr>\n",
              "      <th>0</th>\n",
              "      <td>0</td>\n",
              "      <td>100</td>\n",
              "      <td>30</td>\n",
              "      <td>0.5878</td>\n",
              "      <td>0.6212</td>\n",
              "      <td>0.2998</td>\n",
              "      <td>0.3327</td>\n",
              "      <td>4:15</td>\n",
              "    </tr>\n",
              "    <tr>\n",
              "      <th>1</th>\n",
              "      <td>1</td>\n",
              "      <td>100</td>\n",
              "      <td>30</td>\n",
              "      <td>0.5878</td>\n",
              "      <td>0.6212</td>\n",
              "      <td>0.2998</td>\n",
              "      <td>0.3327</td>\n",
              "      <td>4:15</td>\n",
              "    </tr>\n",
              "  </tbody>\n",
              "</table>\n",
              "</div>"
            ],
            "text/plain": [
              "   Unnamed: 0  batch  epochs  ...  tng_acc  val_acc  total_tng_time\n",
              "0           0    100      30  ...   0.2998   0.3327            4:15\n",
              "1           1    100      30  ...   0.2998   0.3327            4:15\n",
              "\n",
              "[2 rows x 8 columns]"
            ]
          },
          "metadata": {
            "tags": []
          },
          "execution_count": 151
        }
      ]
    },
    {
      "cell_type": "markdown",
      "metadata": {
        "id": "JHJP0Q_ROJqb",
        "colab_type": "text"
      },
      "source": [
        "# Creating Checkpoints and Loading the Saved Model\n",
        "\n",
        "---\n",
        "\n",
        "Look at 4th solution from the bottom for the code. Note: I attempted this on Bailey's CNN and it didn't seem to save the file anywhere: https://stackoverflow.com/questions/45393429/keras-how-to-save-model-and-continue-training\n",
        "\n",
        "Also from Udacity Lesson: https://colab.research.google.com/drive/134BrZg43NxOcaqn38RUXwdIuRH7ZAq6R (Search \"checkpoint)"
      ]
    },
    {
      "cell_type": "code",
      "metadata": {
        "id": "dnv7Na_cOJNl",
        "colab_type": "code",
        "cellView": "form",
        "colab": {}
      },
      "source": [
        "#@title May not have time for this - Delete\n",
        "from keras.callbacks import ModelCheckpoint\n",
        "\n",
        "# define the checkpoint\n",
        "filepath = \"Trained_Model.h5\"\n",
        "checkpoint = ModelCheckpoint(filepath, monitor='val_accuracy', verbose=1, save_best_only=True, mode='max')\n",
        "callbacks_list = [checkpoint]\n",
        "\n",
        "classifier.fit_generator(training_set, steps_per_epoch = train_number, epochs = 25, validation_data = test_set, validation_steps = test_number)\n",
        "classes = training_set.class_indices"
      ],
      "execution_count": null,
      "outputs": []
    }
  ]
}