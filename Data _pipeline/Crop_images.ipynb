{
 "cells": [
  {
   "cell_type": "code",
   "execution_count": 2,
   "metadata": {
    "colab": {},
    "colab_type": "code",
    "id": "RpHQJe3ViFKV"
   },
   "outputs": [],
   "source": [
    "import PIL\n",
    "from PIL import Image\n",
    "import PIL.Image as Image\n",
    "import json\n",
    "import glob\n",
    "import os"
   ]
  },
  {
   "cell_type": "code",
   "execution_count": 3,
   "metadata": {},
   "outputs": [],
   "source": [
    "# Increase the max pixel limit to avoid getting a DecompressionBombWarning from\n",
    "# PIL and prevent the warning from interupting the training epochs\n",
    "Image.MAX_IMAGE_PIXELS = 1024 * 1024 * 1024 //5"
   ]
  },
  {
   "cell_type": "markdown",
   "metadata": {
    "colab_type": "text",
    "id": "hIknr-3ls7j7"
   },
   "source": [
    "# Get Image Details\n",
    "\n",
    "---\n",
    "\n"
   ]
  },
  {
   "cell_type": "code",
   "execution_count": 7,
   "metadata": {
    "colab": {},
    "colab_type": "code",
    "collapsed": true,
    "id": "F1Y43JYgoHWB"
   },
   "outputs": [
    {
     "ename": "FileNotFoundError",
     "evalue": "[Errno 2] No such file or directory: 'military_facility_0_9_rgb.jpg'",
     "output_type": "error",
     "traceback": [
      "\u001b[0;31m---------------------------------------------------------------------------\u001b[0m",
      "\u001b[0;31mFileNotFoundError\u001b[0m                         Traceback (most recent call last)",
      "\u001b[0;32m<ipython-input-7-a2874a9b38c8>\u001b[0m in \u001b[0;36m<module>\u001b[0;34m\u001b[0m\n\u001b[0;32m----> 1\u001b[0;31m \u001b[0mim\u001b[0m \u001b[0;34m=\u001b[0m \u001b[0mImage\u001b[0m\u001b[0;34m.\u001b[0m\u001b[0mopen\u001b[0m\u001b[0;34m(\u001b[0m\u001b[0;34m\"military_facility_0_9_rgb.jpg\"\u001b[0m\u001b[0;34m)\u001b[0m\u001b[0;34m\u001b[0m\u001b[0;34m\u001b[0m\u001b[0m\n\u001b[0m\u001b[1;32m      2\u001b[0m \u001b[0;34m\u001b[0m\u001b[0m\n\u001b[1;32m      3\u001b[0m \u001b[0mprint\u001b[0m\u001b[0;34m(\u001b[0m\u001b[0mim\u001b[0m\u001b[0;34m.\u001b[0m\u001b[0msize\u001b[0m\u001b[0;34m,\u001b[0m \u001b[0mim\u001b[0m\u001b[0;34m.\u001b[0m\u001b[0mwidth\u001b[0m\u001b[0;34m,\u001b[0m \u001b[0mim\u001b[0m\u001b[0;34m.\u001b[0m\u001b[0mheight\u001b[0m\u001b[0;34m)\u001b[0m\u001b[0;34m\u001b[0m\u001b[0;34m\u001b[0m\u001b[0m\n\u001b[1;32m      4\u001b[0m \u001b[0mprint\u001b[0m\u001b[0;34m(\u001b[0m\u001b[0mim\u001b[0m\u001b[0;34m.\u001b[0m\u001b[0mformat\u001b[0m\u001b[0;34m,\u001b[0m \u001b[0mim\u001b[0m\u001b[0;34m.\u001b[0m\u001b[0minfo\u001b[0m\u001b[0;34m)\u001b[0m\u001b[0;34m\u001b[0m\u001b[0;34m\u001b[0m\u001b[0m\n\u001b[1;32m      5\u001b[0m \u001b[0mprint\u001b[0m\u001b[0;34m(\u001b[0m\u001b[0mim\u001b[0m\u001b[0;34m.\u001b[0m\u001b[0mmode\u001b[0m\u001b[0;34m)\u001b[0m\u001b[0;34m\u001b[0m\u001b[0;34m\u001b[0m\u001b[0m\n",
      "\u001b[0;32m~/opt/anaconda3/lib/python3.7/site-packages/PIL/Image.py\u001b[0m in \u001b[0;36mopen\u001b[0;34m(fp, mode)\u001b[0m\n\u001b[1;32m   2764\u001b[0m \u001b[0;34m\u001b[0m\u001b[0m\n\u001b[1;32m   2765\u001b[0m     \u001b[0;32mif\u001b[0m \u001b[0mfilename\u001b[0m\u001b[0;34m:\u001b[0m\u001b[0;34m\u001b[0m\u001b[0;34m\u001b[0m\u001b[0m\n\u001b[0;32m-> 2766\u001b[0;31m         \u001b[0mfp\u001b[0m \u001b[0;34m=\u001b[0m \u001b[0mbuiltins\u001b[0m\u001b[0;34m.\u001b[0m\u001b[0mopen\u001b[0m\u001b[0;34m(\u001b[0m\u001b[0mfilename\u001b[0m\u001b[0;34m,\u001b[0m \u001b[0;34m\"rb\"\u001b[0m\u001b[0;34m)\u001b[0m\u001b[0;34m\u001b[0m\u001b[0;34m\u001b[0m\u001b[0m\n\u001b[0m\u001b[1;32m   2767\u001b[0m         \u001b[0mexclusive_fp\u001b[0m \u001b[0;34m=\u001b[0m \u001b[0;32mTrue\u001b[0m\u001b[0;34m\u001b[0m\u001b[0;34m\u001b[0m\u001b[0m\n\u001b[1;32m   2768\u001b[0m \u001b[0;34m\u001b[0m\u001b[0m\n",
      "\u001b[0;31mFileNotFoundError\u001b[0m: [Errno 2] No such file or directory: 'military_facility_0_9_rgb.jpg'"
     ]
    }
   ],
   "source": [
    "im = Image.open(\"military_facility_0_9_rgb.jpg\")\n",
    "\n",
    "print(im.size, im.width, im.height)\n",
    "print(im.format, im.info)\n",
    "print(im.mode)"
   ]
  },
  {
   "cell_type": "markdown",
   "metadata": {
    "colab_type": "text",
    "id": "_uas8gQFwEhM"
   },
   "source": [
    "# Unzip Image Files\n",
    "\n",
    "---\n",
    "\n"
   ]
  },
  {
   "cell_type": "code",
   "execution_count": null,
   "metadata": {
    "colab": {},
    "colab_type": "code",
    "id": "_wEVvejiOqbt"
   },
   "outputs": [],
   "source": [
    "# unzip files to a specific folder\n",
    "\n",
    "helo = '/content/helo/helo.zip'\n",
    "non_tgt = '/content/non-tgt/mil_fac.zip'\n",
    "\n",
    "!unzip -d '/content/helo/' {helo}\n",
    "!unzip -d '/content/non-tgt/' {non_tgt}"
   ]
  },
  {
   "cell_type": "markdown",
   "metadata": {
    "colab_type": "text",
    "id": "WbG3N5yqNlw2"
   },
   "source": [
    "Find JPEGs, Extract bounding boxes from corresponding JSON files, Crop images and save them in a new folder. "
   ]
  },
  {
   "cell_type": "markdown",
   "metadata": {
    "colab_type": "text",
    "id": "QRkSAVm8McQJ"
   },
   "source": [
    "# <font color='orange'> Crop Images and Save them in different folder </font>\n",
    "\n",
    "\n",
    "---\n",
    "\n",
    "\n",
    "This function works, just need to separate target files and non target files into separate folders\n",
    "\n"
   ]
  },
  {
   "cell_type": "code",
   "execution_count": 8,
   "metadata": {
    "colab": {},
    "colab_type": "code",
    "id": "x9aTGwq6JfyF"
   },
   "outputs": [],
   "source": [
    "def crop_images(img_path, cropped_path): \n",
    "  # Search directory for image files names\n",
    "  # Create list of image file names\n",
    "    #img_path = '/content'\n",
    "    img_files = glob.glob(img_path + '/*/*_rgb.jpg')\n",
    "    json_files = []\n",
    "    # Create corresponding lists of json file names\n",
    "    for img_file in img_files:\n",
    "      json_file = img_file.split('.')[0] + '.json'\n",
    "      # Extract bounding box from JSON file\n",
    "      with open(json_file) as jf:\n",
    "        data = json.load(jf)\n",
    "        box = data['bounding_boxes'][-1]['box'] # slice last box in jsons with multiple boxes \n",
    "        #box = data['bounding_boxes'][0]['box'] # change this to some other parameter for the test images\n",
    "        box[2], box[3] = box[0] + box[2], box[1] + box[3]\n",
    "        x1, y1, x2, y2 = box\n",
    "        # Crop image and save in new folder\n",
    "        im = Image.open(img_file)\n",
    "        cropped = im.crop((box)) # pass bounding box list (UL, LR corners) through .crop\n",
    "        #cropped_file_name = 'c_' + img_file.split('/')[-1] #use this for the tng images\n",
    "        cropped_file_name = 'c_val_' + img_file.split('/')[-1] #use this for the val images\n",
    "        #cropped_file_name = 'c_t_' + img_file.split('/')[-1] #use this for the test images\n",
    "        cropped_file = os.path.join(cropped_path, cropped_file_name)\n",
    "        cropped.save(cropped_file)\n",
    "      json_files.append(json_file)\n",
    "    print(f'{len(json_files)} files cropped, and saved here: {cropped_path}')"
   ]
  },
  {
   "cell_type": "code",
   "execution_count": 11,
   "metadata": {
    "colab": {
     "base_uri": "https://localhost:8080/",
     "height": 34
    },
    "colab_type": "code",
    "id": "CxIKq7rVQ44K",
    "outputId": "3b5001a4-2700-4b83-d6d1-291f1a97d262"
   },
   "outputs": [
    {
     "name": "stdout",
     "output_type": "stream",
     "text": [
      "720 files cropped, and saved here: /Users/johndurkee/Training_data/new_cropped_images/train/helipad\n"
     ]
    }
   ],
   "source": [
    "# train folders \n",
    "#img_path = '/Users/johndurkee/Training_data/original_train_data/helipad'\n",
    "#cropped_path = '/Users/johndurkee/Training_data/new_cropped_images/helipad'\n",
    "#img_path = '/Users/johndurkee/Training_data/original_train_data/oil_or_gas_facility'\n",
    "#cropped_path = '/Users/johndurkee/Training_data/cropped_images/train/oil_gas_fac'\n",
    "#img_path = '/Users/johndurkee/Training_data/original_train_data/storage_tank'\n",
    "#cropped_path = '/Users/johndurkee/Training_data/cropped_images/train/storage_tank'\n",
    "#img_path = '/Users/johndurkee/Training_data/original_train_data/Tunnel'\n",
    "#cropped_path = '/Users/johndurkee/Training_data/cropped_images/train/tunnel'\n",
    "#img_path = '/Users/johndurkee/Training_data/original_train_data/helipad'\n",
    "#cropped_path = '/Users/johndurkee/Training_data/cropped_images/train/helipad'\n",
    "\n",
    "#Validation images\n",
    "img_path = '/Users/johndurkee/Training_data/original_val_data/val_helipad'\n",
    "cropped_path = '/Users/johndurkee/Training_data/new_cropped_images/train/helipad'\n",
    "#Don't forget to change file prefix to c_val_ in the function above\n",
    "#img_path = '/Users/johndurkee/Training_data/original_val_data/val_oil_or_gas_facility'\n",
    "#cropped_path = '/Users/johndurkee/Training_data/cropped_images/train/oil_gas_fac'\n",
    "#img_path = '/Users/johndurkee/Training_data/original_val_data/val_storage_tank'\n",
    "#cropped_path = '/Users/johndurkee/Training_data/cropped_images/train/storage_tank'\n",
    "#img_path = '/Users/johndurkee/Training_data/original_val_data/val_tunnel_opening'\n",
    "#cropped_path = '/Users/johndurkee/Training_data/cropped_images/train/tunnel'\n",
    "#img_path = '/Users/johndurkee/Training_data/original_val_data/val_helipad'\n",
    "#cropped_path = '/Users/johndurkee/Training_data/cropped_images/train/helipad'\n",
    "\n",
    "#Test Images\n",
    "#Don't forget to change file prefix to c_t_\n",
    "#img_path = '/Users/johndurkee/Training_data/original_test_data'\n",
    "#cropped_path = '/Users/johndurkee/Training_data/cropped_images/test/test_all'\n",
    "\n",
    "# run crop images function\n",
    "crop_images(img_path, cropped_path)"
   ]
  },
  {
   "cell_type": "code",
   "execution_count": null,
   "metadata": {},
   "outputs": [],
   "source": []
  }
 ],
 "metadata": {
  "colab": {
   "collapsed_sections": [
    "hIknr-3ls7j7"
   ],
   "name": "PIL.ipynb",
   "provenance": []
  },
  "kernelspec": {
   "display_name": "Python 3",
   "language": "python",
   "name": "python3"
  },
  "language_info": {
   "codemirror_mode": {
    "name": "ipython",
    "version": 3
   },
   "file_extension": ".py",
   "mimetype": "text/x-python",
   "name": "python",
   "nbconvert_exporter": "python",
   "pygments_lexer": "ipython3",
   "version": "3.7.4"
  }
 },
 "nbformat": 4,
 "nbformat_minor": 1
}
