{
  "nbformat": 4,
  "nbformat_minor": 0,
  "metadata": {
    "colab": {
      "name": "model_trainer.ipynb",
      "provenance": [],
      "collapsed_sections": [
        "aP7gEV84aHdv",
        "nnXfr5UgtaB5",
        "NUGIJm4pMkAv",
        "EyeHz3mTFla6",
        "Nt74CvsnV98p",
        "b2XTOinrWTEg"
      ],
      "toc_visible": true,
      "machine_shape": "hm",
      "mount_file_id": "17OO5X1r-Xv8KJ5LY8qISLYFFktvg7JPE",
      "authorship_tag": "ABX9TyNNRoOba8IIUVatZGSSan/s",
      "include_colab_link": true
    },
    "kernelspec": {
      "name": "python3",
      "display_name": "Python 3"
    },
    "accelerator": "GPU"
  },
  "cells": [
    {
      "cell_type": "markdown",
      "metadata": {
        "id": "view-in-github",
        "colab_type": "text"
      },
      "source": [
        "<a href=\"https://colab.research.google.com/github/este7734/in_domain_transfer_learning/blob/master/model_trainer.ipynb\" target=\"_parent\"><img src=\"https://colab.research.google.com/assets/colab-badge.svg\" alt=\"Open In Colab\"/></a>"
      ]
    },
    {
      "cell_type": "markdown",
      "metadata": {
        "id": "xmL08Z4HDoss",
        "colab_type": "text"
      },
      "source": [
        "### Import Dependencies"
      ]
    },
    {
      "cell_type": "code",
      "metadata": {
        "colab_type": "code",
        "id": "WZnAHGETHu7e",
        "colab": {
          "base_uri": "https://localhost:8080/",
          "height": 33
        },
        "outputId": "f8a8f979-35d1-47a9-ea55-0e174e2d234b"
      },
      "source": [
        "import tensorflow as tf\n",
        "import matplotlib.pylab as plt\n",
        "\n",
        "import tensorflow_hub as hub\n",
        "#import tensorflow_datasets as tfds\n",
        "\n",
        "from tensorflow.keras import layers\n",
        "import numpy as np\n",
        "\n",
        "from keras.preprocessing.image import ImageDataGenerator\n",
        "\n",
        "# To parse file names for tensor generations\n",
        "# and help count files in each directory\n",
        "import glob\n",
        "# To move files into new folder structure\n",
        "import shutil\n",
        "# For manipulating file paths\n",
        "import os\n",
        "\n",
        "# To add colored text to your print outs\n",
        "from termcolor import colored\n",
        "\n",
        "# To get python version number that you're running\n",
        "from platform import python_version\n",
        "\n",
        "# To save the final model with a time stamp\n",
        "import time\n",
        "\n",
        "import logging\n",
        "logger = tf.get_logger()\n",
        "logger.setLevel(logging.ERROR)\n",
        "\n",
        "from PIL import Image\n",
        "# Increase the max pixel limit to avoid getting a DecompressionBombWarning from\n",
        "# PIL and prevent the warning from interupting the training epochs\n",
        "Image.MAX_IMAGE_PIXELS = 1024 * 1024 * 1024 //5"
      ],
      "execution_count": null,
      "outputs": [
        {
          "output_type": "stream",
          "text": [
            "Using TensorFlow backend.\n"
          ],
          "name": "stderr"
        }
      ]
    },
    {
      "cell_type": "code",
      "metadata": {
        "id": "O3PC4rqxjnBU",
        "colab_type": "code",
        "colab": {
          "base_uri": "https://localhost:8080/",
          "height": 118
        },
        "outputId": "0fe26e08-baf7-4a7a-d0dd-5f3aa5afb9ae"
      },
      "source": [
        "# Mount Google Drive to save trained models to Google Drive\n",
        "from google.colab import drive\n",
        "drive.mount('/content/drive')"
      ],
      "execution_count": null,
      "outputs": [
        {
          "output_type": "stream",
          "text": [
            "Go to this URL in a browser: https://accounts.google.com/o/oauth2/auth?client_id=947318989803-6bn6qk8qdgf4n4g3pfee6491hc0brc4i.apps.googleusercontent.com&redirect_uri=urn%3aietf%3awg%3aoauth%3a2.0%3aoob&response_type=code&scope=email%20https%3a%2f%2fwww.googleapis.com%2fauth%2fdocs.test%20https%3a%2f%2fwww.googleapis.com%2fauth%2fdrive%20https%3a%2f%2fwww.googleapis.com%2fauth%2fdrive.photos.readonly%20https%3a%2f%2fwww.googleapis.com%2fauth%2fpeopleapi.readonly\n",
            "\n",
            "Enter your authorization code:\n",
            "··········\n",
            "Mounted at /content/drive\n"
          ],
          "name": "stdout"
        }
      ]
    },
    {
      "cell_type": "markdown",
      "metadata": {
        "id": "aP7gEV84aHdv",
        "colab_type": "text"
      },
      "source": [
        "## Query System Specs\n",
        "\n",
        "---\n",
        "\n"
      ]
    },
    {
      "cell_type": "code",
      "metadata": {
        "id": "VOdoG7MFhUGX",
        "colab_type": "code",
        "cellView": "form",
        "colab": {}
      },
      "source": [
        "#@title Retrieve Hardware, OS, and Software Specs\n",
        "\n",
        "print(\"\\n--------Software---------\")\n",
        "print('Python', python_version())\n",
        "print(\"\\n--------Libraries---------\")\n",
        "print('TensorFlow' , tf.__version__)\n",
        "print('TensorFlow Hub' , hub.__version__)\n",
        "# print('Keras v' , layers.__version__)\n",
        "#print('Glob', glob.__version__)\n",
        "#print('Shutil', shutil.__version__)\n",
        "print('matplotlib.pylab', plt.__version__)\n",
        "print('Numpy', np.__version__)\n",
        "print('PIL', PIL.__version__)\n",
        "\n",
        "print(\"\\n--------Operating System------------------------\")\n",
        "!cat /etc/os-release\n",
        "print(\"\\n--------CPU Specs------------------------\")\n",
        "!lscpu\n",
        "\n",
        "print(\"\\n--------GPU Specs------------------------\")\n",
        "gpu_info = !nvidia-smi\n",
        "gpu_info = '\\n'.join(gpu_info)\n",
        "if gpu_info.find('failed') >= 0:\n",
        "  print('Select the Runtime → \"Change runtime type\" menu to enable a GPU accelerator, ')\n",
        "  print('and then re-execute this cell.')\n",
        "else:\n",
        "  print(gpu_info)\n",
        "\n",
        "from psutil import virtual_memory\n",
        "ram_gb = virtual_memory().total / 1e9\n",
        "print('\\nYour runtime has {:.1f} gigabytes of available RAM\\n'.format(ram_gb))\n"
      ],
      "execution_count": null,
      "outputs": []
    },
    {
      "cell_type": "markdown",
      "metadata": {
        "id": "dMZUqBVPyckY",
        "colab_type": "text"
      },
      "source": [
        "## Copy data sets from Google Drive to the local instance\n",
        "Need to Import PyDrive to authorize Colab to your Google Drive Folder\n",
        "\n",
        "---\n",
        "\n",
        "\n",
        "*PyDrive is a wrapper library of google-api-python-client that simplifies many common Google Drive API tasks. For this exercise, this allows you to authorize (allows Google Cloud SDK to edit/modify files in your Google Drive) COLAB to access your Google Drive and makes some common tasks such as content fetching very easy.*"
      ]
    },
    {
      "cell_type": "markdown",
      "metadata": {
        "colab_type": "text",
        "id": "1xH-W7HhBI7E"
      },
      "source": [
        "Note: This The solution utilizes Google Drive API (official doc) for proper authorization.\n",
        "\n",
        "\n",
        "---\n",
        "\n",
        "\n",
        "**Steps:**\n",
        "1.   Save your `image data zip file` to Google Drive - you should have that since you're already using Colab\n",
        "2.   Right click on it, \"Get shareable link\", copy the part between `/d/` and `/view?...` - the file id assigned by Google Drive.\n",
        "    *   In this example: `https://drive.google.com/file/d/1U3owkzT6AvLewTaOWfgwV__BXHDxehDS/view?usp=sharing` \n",
        "    *   your file ID is: `1U3owkzT6AvLewTaOWfgwV__BXHDxehDS`\n",
        "\n",
        "3.   Navigate to the training data link: and download the training data to the local instance\n",
        "4.   Add and run the following code snippets to your Colab notebook:\n",
        "\n",
        "---\n",
        "\n",
        "\n",
        "\n",
        "\n",
        "\n"
      ]
    },
    {
      "cell_type": "code",
      "metadata": {
        "colab_type": "code",
        "id": "m5d5udV0BI7E",
        "colab": {}
      },
      "source": [
        "# Import package to use Google SDK API - not installed in Colab VM by default\n",
        "from pydrive.auth import GoogleAuth\n",
        "from pydrive.auth import GoogleAuth\n",
        "from pydrive.drive import GoogleDrive\n",
        "# Other necessary packages\n",
        "from google.colab import auth\n",
        "from oauth2client.client import GoogleCredentials\n",
        "from tensorflow.keras.callbacks import ModelCheckpoint"
      ],
      "execution_count": null,
      "outputs": []
    },
    {
      "cell_type": "code",
      "metadata": {
        "colab_type": "code",
        "id": "zEMf1KB0BI7G",
        "colab": {}
      },
      "source": [
        "# Follow prompt to authorize SDK access to your Google Drive\n",
        "\n",
        "auth.authenticate_user()\n",
        "gauth = GoogleAuth()\n",
        "gauth.credentials = GoogleCredentials.get_application_default()\n",
        "drive = GoogleDrive(gauth)"
      ],
      "execution_count": null,
      "outputs": []
    },
    {
      "cell_type": "markdown",
      "metadata": {
        "id": "cOh9CopK9amR",
        "colab_type": "text"
      },
      "source": [
        "## Load Training Data"
      ]
    },
    {
      "cell_type": "code",
      "metadata": {
        "colab_type": "code",
        "id": "HsfJtkYIBI7K",
        "colab": {}
      },
      "source": [
        "# load training data set to your local intance by pulling it from your Google Drive\n",
        "# to get your file ID from the shareable link in Google Drive, see notes above\n",
        "\n",
        "#file_id =  '1QUX8zZmCOFTH5X2cZX6sHs1gJJi-OfsX'  \n",
        "#file_name = 'storage_tank_vs_helo.zip'  # Change this to your file\n",
        "\n",
        "#file_id =  '1G064PUIaElOpoDQQ_H0ta24tyIVKndbE'  \n",
        "#file_name = 'Combine_tunnel.zip'  # Change this to your file  \n",
        "\n",
        "#file_id =  '1Pg-mK7AY3dATEgfpFcFNXHS9uPus6m9o'  \n",
        "#file_name = 'Combine_storage_tank.zip'  # Change this to your file  \n",
        "\n",
        "#file_id =  '1gz54DDhTUH0fGbSgU3v5BGdFkz3-dzro'  \n",
        "#file_name = 'Combine_oil_gas_fac.zip'  # Change this to your file       \n",
        "\n",
        "#file_id =  '1o2QB2ylUzzI0k_BdUzr3k_emE3vCl_RI'  \n",
        "#file_name = 'Combined_helo.zip'  # Change this to your file                               \n",
        "                                                    \n",
        "your_file = drive.CreateFile({\"id\": file_id})\n",
        "your_file.GetContentFile(file_name)          # Save the file to Colab VM\n",
        "\n",
        "# Unzip Training, Validation, and Test files\n",
        "!unzip {file_name}\n",
        "print(f'\\n---- {file_name} unzipped ----\\n')\n",
        "#Verify that all the necessary python files and training data files are in your local instance\n",
        "%ls"
      ],
      "execution_count": null,
      "outputs": []
    },
    {
      "cell_type": "markdown",
      "metadata": {
        "id": "c1WSLdnvs2rx",
        "colab_type": "text"
      },
      "source": [
        "##<font color=\"cyan\"> Establish Data Pipeline </font>\n",
        "\n",
        "\n",
        "---\n",
        "\n",
        "\n",
        "\n",
        "Got this from Medium article:\n",
        "https://towardsdatascience.com/tf-data-creating-data-input-pipelines-2913461078e2\n",
        "\n",
        "Stanford Tutorial:\n",
        "https://cs230.stanford.edu/blog/datapipeline/#building-an-image-data-pipeline\n",
        "\n",
        "---\n",
        "\n",
        "\n"
      ]
    },
    {
      "cell_type": "code",
      "metadata": {
        "id": "K7vP3DM3ZpkP",
        "colab_type": "code",
        "colab": {}
      },
      "source": [
        "# Set image rescaling factor on training and validation data using ImageDataGenerator\n",
        "# ImageDataGenerator generates image batches in the form of tensors\n",
        "# You need your image data in tensors to run the .fit_generator method (to train the model) \n",
        "# this is without data augmentation\n",
        "\n",
        "train_datagen = ImageDataGenerator( \n",
        "        rescale=1./255)\n",
        "\n",
        "val_datagen = ImageDataGenerator( \n",
        "        rescale=1./255)"
      ],
      "execution_count": null,
      "outputs": []
    },
    {
      "cell_type": "code",
      "metadata": {
        "id": "Ih53sDIwRT8G",
        "colab_type": "code",
        "colab": {
          "base_uri": "https://localhost:8080/",
          "height": 50
        },
        "outputId": "b39c8283-7826-4b5b-c6ad-4c820e6cd90b"
      },
      "source": [
        "# Instantiate training and validation file paths\n",
        "base = '/content'\n",
        "\n",
        "train_path = os.path.join(base, file_name.split('.')[0] + '/train')\n",
        "val_path = os.path.join(base, file_name.split('.')[0] + '/val')\n",
        "\n",
        "# Generate list of images files and count them\n",
        "# Image totals are used in setting steps per epoch\n",
        "train_files = glob.glob(train_path + '/*/*.jpg')\n",
        "train_image_count = len(train_files)\n",
        "print(f'Total training images: {train_image_count}')\n",
        "\n",
        "val_files = glob.glob(val_path + '/*/*.jpg')\n",
        "val_image_count = len(val_files)\n",
        "print(f'Total validation images: {val_image_count}')"
      ],
      "execution_count": null,
      "outputs": [
        {
          "output_type": "stream",
          "text": [
            "Total training images: 9948\n",
            "Total validation images: 2487\n"
          ],
          "name": "stdout"
        }
      ]
    },
    {
      "cell_type": "code",
      "metadata": {
        "id": "4TaIaRaeaoVN",
        "colab_type": "code",
        "colab": {
          "base_uri": "https://localhost:8080/",
          "height": 82
        },
        "outputId": "ef2b738d-a541-4954-94d0-1186dfd650ae"
      },
      "source": [
        "IMG_RES = 224\n",
        "BATCH_SIZE = 32\n",
        "\n",
        "print('Training Set:')\n",
        "train_set = train_datagen.flow_from_directory(\n",
        "         train_path,\n",
        "         shuffle=True,\n",
        "         target_size=(IMG_RES,IMG_RES),\n",
        "         batch_size=BATCH_SIZE,\n",
        "         class_mode='binary')  \n",
        "         #class_mode='categorical') \n",
        "\n",
        "classes = train_set.class_indices # captures class indicies in a dictionary. For example: {'non_tgt': 0, 'oil_or_gas_fac': 1}\n",
        "\n",
        "print('Validation Set:')\n",
        "val_set = val_datagen.flow_from_directory(\n",
        "         val_path,\n",
        "         target_size=(IMG_RES,IMG_RES),\n",
        "         batch_size=BATCH_SIZE,\n",
        "         class_mode='binary')   \n",
        "         #class_mode='categorical')        "
      ],
      "execution_count": null,
      "outputs": [
        {
          "output_type": "stream",
          "text": [
            "Training Set:\n",
            "Found 9948 images belonging to 2 classes.\n",
            "Validation Set:\n",
            "Found 2487 images belonging to 2 classes.\n"
          ],
          "name": "stdout"
        }
      ]
    },
    {
      "cell_type": "markdown",
      "metadata": {
        "id": "nnXfr5UgtaB5",
        "colab_type": "text"
      },
      "source": [
        "## Plot Sample Images to verify status of Data Pipeline"
      ]
    },
    {
      "cell_type": "code",
      "metadata": {
        "id": "2gBoVfgTrENw",
        "colab_type": "code",
        "colab": {
          "base_uri": "https://localhost:8080/",
          "height": 268
        },
        "outputId": "621f530a-cfb3-48c2-9ebd-19305b8ace44"
      },
      "source": [
        "# create a grid of 3*3 images to visualize some of the imgaes in dataset\n",
        "for i in range(0, 9):\n",
        "    plt.subplot(330 + 1+ i)\n",
        "    img = train_set[0][0][i]\n",
        "    plt.imshow(img)\n",
        "    \n",
        "# show the plot\n",
        "plt.show()"
      ],
      "execution_count": null,
      "outputs": [
        {
          "output_type": "display_data",
          "data": {
            "image/png": "[encoded data removed]",
            "text/plain": [
              "<Figure size 432x288 with 9 Axes>"
            ]
          },
          "metadata": {
            "tags": [],
            "needs_background": "light"
          }
        }
      ]
    },
    {
      "cell_type": "code",
      "metadata": {
        "colab_type": "code",
        "id": "GBYLOFgOXPJ9",
        "cellView": "form",
        "colab": {}
      },
      "source": [
        "#@title Use this only for agumentation\n",
        "# This function will plot images in the form of a grid with 1 row and 5 columns where images are placed in each column.\n",
        "def plotImages(images_arr):\n",
        "    fig, axes = plt.subplots(1, 5, figsize=(20,20))\n",
        "    axes = axes.flatten()\n",
        "    for img, ax in zip(images_arr, axes):\n",
        "        ax.imshow(img)\n",
        "    plt.tight_layout()\n",
        "    plt.show()"
      ],
      "execution_count": null,
      "outputs": []
    },
    {
      "cell_type": "code",
      "metadata": {
        "id": "vG8LV0Kabjxt",
        "colab_type": "code",
        "cellView": "form",
        "colab": {}
      },
      "source": [
        "#@title Use this only for agumentation\n",
        "# Use this to generate sample images to check agumentation (only if you're using image augmentation)\n",
        "\n",
        "augmented_images = [train_set[0][0][0] for i in range(5)]\n",
        "plotImages(augmented_images)"
      ],
      "execution_count": null,
      "outputs": []
    },
    {
      "cell_type": "markdown",
      "metadata": {
        "id": "yeSgrZWKLAHl",
        "colab_type": "text"
      },
      "source": [
        "# <font color='lightblue'> EuroSat Feature Extractor </font>"
      ]
    },
    {
      "cell_type": "markdown",
      "metadata": {
        "id": "vW3Qp-abL2jp",
        "colab_type": "text"
      },
      "source": [
        "Pull in Feature Extractor from TensorFlow Hub"
      ]
    },
    {
      "cell_type": "code",
      "metadata": {
        "colab_type": "code",
        "id": "xVs-yzXPD0gr",
        "colab": {}
      },
      "source": [
        "URL = \"https://tfhub.dev/google/remote_sensing/uc_merced-resnet50/1\"\n",
        "feature_extractor = hub.KerasLayer(URL,\n",
        "                                   input_shape=(IMG_RES, IMG_RES,3))\n",
        "\n",
        "# Freeze Variables in feature extractor layer so that only training \n",
        "# only modifies the final classification layer.\n",
        "feature_extractor.trainable = False"
      ],
      "execution_count": null,
      "outputs": []
    },
    {
      "cell_type": "markdown",
      "metadata": {
        "id": "l_SpxZQEtGls",
        "colab_type": "text"
      },
      "source": [
        "### <font color='orange'> Double Object Training - Binary Classifier </font>\n",
        "\n",
        "\n",
        "\n"
      ]
    },
    {
      "cell_type": "markdown",
      "metadata": {
        "id": "oWmzdzBDLX2A",
        "colab_type": "text"
      },
      "source": [
        "Attach Classification Head\n",
        "Source: l06c01_tensorflow_hub_and_transfer_learning (2 x Classes: cats|dogs)\n",
        "\n",
        "https://colab.research.google.com/drive/1hPyFkWXN6hd_DIjG83b2Vfxfwua9Imho#scrollTo=mGcY27fY1q3Q\n",
        "\n",
        "<font color='skyblue'> **SparseCategoricalCrossentropy** </font>\n",
        "\n",
        "---\n"
      ]
    },
    {
      "cell_type": "code",
      "metadata": {
        "id": "0WCbSuSFLVUH",
        "colab_type": "code",
        "colab": {
          "base_uri": "https://localhost:8080/",
          "height": 212
        },
        "outputId": "933462de-67c5-491c-f334-a5633eaa4b09"
      },
      "source": [
        "model = tf.keras.Sequential([\n",
        "  feature_extractor,\n",
        "  layers.Dense(2, activation='softmax') ### added Softmax activation here in attempt get usable outputs for prediction below\n",
        "  #layers.Dense(2) \n",
        "])\n",
        "\n",
        "model.summary()"
      ],
      "execution_count": null,
      "outputs": [
        {
          "output_type": "stream",
          "text": [
            "Model: \"sequential\"\n",
            "_________________________________________________________________\n",
            "Layer (type)                 Output Shape              Param #   \n",
            "=================================================================\n",
            "keras_layer (KerasLayer)     (None, 2048)              23588821  \n",
            "_________________________________________________________________\n",
            "dense (Dense)                (None, 2)                 4098      \n",
            "=================================================================\n",
            "Total params: 23,592,919\n",
            "Trainable params: 4,098\n",
            "Non-trainable params: 23,588,821\n",
            "_________________________________________________________________\n"
          ],
          "name": "stdout"
        }
      ]
    },
    {
      "cell_type": "markdown",
      "metadata": {
        "id": "NAVL8LB2LSgp",
        "colab_type": "text"
      },
      "source": [
        "Compile the Model\n"
      ]
    },
    {
      "cell_type": "code",
      "metadata": {
        "colab_type": "code",
        "id": "7Ac32HrJdzCW",
        "colab": {}
      },
      "source": [
        "model.compile(\n",
        "  optimizer='adam',\n",
        "  #loss='categorical_crossentropy',\n",
        "  loss=tf.keras.losses.SparseCategoricalCrossentropy(from_logits=True), \n",
        "  metrics=['accuracy'])"
      ],
      "execution_count": null,
      "outputs": []
    },
    {
      "cell_type": "markdown",
      "metadata": {
        "colab_type": "text",
        "id": "wyy_sc-GiUsL"
      },
      "source": [
        "Train the Model\n"
      ]
    },
    {
      "cell_type": "code",
      "metadata": {
        "colab_type": "code",
        "id": "HjAHpyBPVlow",
        "colab": {}
      },
      "source": [
        "# Run training session on the model\n",
        "\n",
        "EPOCHS = 30\n",
        "\n",
        "history = model.fit_generator(\n",
        "          train_set, \n",
        "          steps_per_epoch=int(np.ceil(train_image_count / float(BATCH_SIZE))),\n",
        "          epochs=EPOCHS,\n",
        "          validation_data=val_set,\n",
        "          validation_steps=int(np.ceil(val_image_count / float(BATCH_SIZE)))\n",
        ")         "
      ],
      "execution_count": null,
      "outputs": []
    },
    {
      "cell_type": "code",
      "metadata": {
        "id": "NaMPWERntyzs",
        "colab_type": "code",
        "colab": {}
      },
      "source": [
        "# Plotting the Loss and Classification Accuracy\n",
        "model.metrics_names\n",
        "print(history.history.keys())\n",
        "#  \"Accuracy\"\n",
        "plt.plot(history.history['accuracy'])\n",
        "plt.plot(history.history['val_accuracy'])\n",
        "plt.title('Model Accuracy')\n",
        "plt.ylabel('Accuracy')\n",
        "plt.xlabel('Epoch')\n",
        "plt.legend(['train', 'val'], loc='upper left')\n",
        "plt.show()\n",
        "\n",
        "# \"Loss\"\n",
        "plt.plot(history.history['loss'])\n",
        "plt.plot(history.history['val_loss'])\n",
        "plt.title('Model loss')\n",
        "plt.ylabel('Loss')\n",
        "plt.xlabel('Epoch')\n",
        "plt.legend(['train', 'val'], loc='upper left')\n",
        "plt.show()"
      ],
      "execution_count": null,
      "outputs": []
    },
    {
      "cell_type": "markdown",
      "metadata": {
        "colab_type": "text",
        "id": "BqXs2mjnUF8_"
      },
      "source": [
        "# Save Trained Model\n",
        "\n",
        "---\n",
        "\n",
        "\n"
      ]
    },
    {
      "cell_type": "markdown",
      "metadata": {
        "colab_type": "text",
        "id": "mmPQYQLx3cYq"
      },
      "source": [
        "Save as Keras `.h5` model\n",
        "\n",
        "Now that we've trained the model,  we can save it as an HDF5 file, which is the format used by Keras. Our HDF5 file will have the extension '.h5', and it's name will correspond to the current time stamp."
      ]
    },
    {
      "cell_type": "code",
      "metadata": {
        "colab_type": "code",
        "id": "tCnNWTkZ3Ckz",
        "cellView": "both",
        "colab": {}
      },
      "source": [
        "t = time.time()\n",
        "model_name = input('Enter model name: ')\n",
        "# Extract name of original dataset from the training file path \n",
        "# to use in naming the saved model\n",
        "model_path = train_path.split('/')[-2]\n",
        "\n",
        "# Export the trained model and save it to local instance\n",
        "export_path_keras = f'{int(t)}_{model_path}_{model_name}_h5_model_.h5'\n",
        "#export_path_keras = \"{}_h5_model{}_{}.h5\".format(model_name, int(t), model_path) \n",
        "print(f'Model saved to local instance here: {export_path_keras}')\n",
        "# Save model\n",
        "model.save(export_path_keras)\n",
        "\n",
        "# Export the trained model and save it to Google Drive\n",
        "google_drive_path = '/content/drive/My Drive/Colab Notebooks/Thesis Resources/Training_Sessions/trained_models/' \n",
        "export_path_keras = f'{google_drive_path}{int(t)}_{model_path}{model_name}_h5_model.h5'\n",
        "print(f'Model saved to Google Drive here: {export_path_keras}')\n",
        "# Save model\n",
        "model.save(export_path_keras)\n",
        "print(f'Model saved here: {export_path_keras}')\n",
        "\n",
        "!ls"
      ],
      "execution_count": null,
      "outputs": []
    }
  ]
}